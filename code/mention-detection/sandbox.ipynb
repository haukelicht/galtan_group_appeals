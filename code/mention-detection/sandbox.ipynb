{
 "cells": [
  {
   "cell_type": "code",
   "execution_count": 7,
   "metadata": {},
   "outputs": [],
   "source": [
    "import os\n",
    "\n",
    "base_path = os.path.join('..', '..')\n",
    "data_path = os.path.join(base_path, 'data', 'annotations')"
   ]
  },
  {
   "cell_type": "code",
   "execution_count": 12,
   "metadata": {},
   "outputs": [
    {
     "name": "stdout",
     "output_type": "stream",
     "text": [
      "group-mention-annotation-batch-01 ['annotations.jsonl', '.DS_Store', 'review_annotations.jsonl', 'reviewed.jsonl', 'annotations', 'e34e6c94-0d40-47d7-8993-ef3abf27ecc2.zip', 'sample.tsv', 'sample.manifest', 'annotations.zip', 'review_cases.jsonl']\n",
      "group-mention-annotation-batch-02 ['annotations.jsonl', '.DS_Store', 'review_annotations.jsonl', 'sample.jsonl', '326d68e0-b620-4ea7-8ef4-bfdbba9275c1.zip', '35dc19b0-d92c-4698-8057-e3a87514511b.zip', 'reviewed.jsonl', 'annotations', 'sample.tsv', 'review', 'sample.manifest', 'review_cases.jsonl']\n",
      "group-mention-annotation-batch-03 ['.DS_Store', 'review_annotations.jsonl', 'reviewed.jsonl', 'annotations', 'sample.tsv', 'sample.manifest', 'review_cases.jsonl', 'c72fb31d-3809-4f0c-919b-76b329ec475a.zip']\n"
     ]
    }
   ],
   "source": [
    "jobs = [nm for nm in os.listdir(data_path) if nm.startswith('group-mention-annotation-batch-')]\n",
    "\n",
    "for job in jobs:\n",
    "    loc = os.path.join(data_path, job)\n",
    "    print(job, os.listdir(loc))"
   ]
  },
  {
   "cell_type": "code",
   "execution_count": 29,
   "metadata": {},
   "outputs": [],
   "source": [
    "from utils.io import read_jsonlines\n",
    "\n",
    "\n",
    "fps = [os.path.join(data_path, job, 'review_annotations.jsonl') for job in jobs]\n",
    "\n",
    "parse_entry = lambda x: {k: x[k] for k in ['id', 'text', 'label']}\n",
    "data = [parse_entry(line) for fp in fps for line in read_jsonlines(fp)]"
   ]
  },
  {
   "cell_type": "code",
   "execution_count": 33,
   "metadata": {},
   "outputs": [],
   "source": [
    "def parse_annotation(text, annotation, keep_text: bool):\n",
    "    out = {\n",
    "        'start': annotation[0],\n",
    "        'end': annotation[1],\n",
    "        'type': annotation[2],\n",
    "        'mention': text[annotation[0]:annotation[1]]\n",
    "    }\n",
    "    if keep_text:\n",
    "        out['text'] = text\n",
    "    return out\n",
    "    \n",
    "\n",
    "def unnest_sequence_annotations(data, **kwargs):\n",
    "    return [\n",
    "        {'text_id': line['id'], 'mention_nr': i+1} | parse_annotation(line['text'], lab, **kwargs)\n",
    "        for line in data \n",
    "        for i, lab in enumerate(line['label'])\n",
    "    ]"
   ]
  },
  {
   "cell_type": "code",
   "execution_count": 35,
   "metadata": {},
   "outputs": [
    {
     "data": {
      "text/html": [
       "<div>\n",
       "<style scoped>\n",
       "    .dataframe tbody tr th:only-of-type {\n",
       "        vertical-align: middle;\n",
       "    }\n",
       "\n",
       "    .dataframe tbody tr th {\n",
       "        vertical-align: top;\n",
       "    }\n",
       "\n",
       "    .dataframe thead th {\n",
       "        text-align: right;\n",
       "    }\n",
       "</style>\n",
       "<table border=\"1\" class=\"dataframe\">\n",
       "  <thead>\n",
       "    <tr style=\"text-align: right;\">\n",
       "      <th></th>\n",
       "      <th>text_id</th>\n",
       "      <th>mention_nr</th>\n",
       "      <th>start</th>\n",
       "      <th>end</th>\n",
       "      <th>type</th>\n",
       "      <th>mention</th>\n",
       "      <th>text</th>\n",
       "    </tr>\n",
       "  </thead>\n",
       "  <tbody>\n",
       "    <tr>\n",
       "      <th>0</th>\n",
       "      <td>11110_198809-390636</td>\n",
       "      <td>1</td>\n",
       "      <td>5</td>\n",
       "      <td>12</td>\n",
       "      <td>social group</td>\n",
       "      <td>parents</td>\n",
       "      <td>Give parents the right to become municipal day...</td>\n",
       "    </tr>\n",
       "    <tr>\n",
       "      <th>1</th>\n",
       "      <td>11110_199109-390960</td>\n",
       "      <td>1</td>\n",
       "      <td>44</td>\n",
       "      <td>51</td>\n",
       "      <td>social group</td>\n",
       "      <td>society</td>\n",
       "      <td>Therefore, we oppose the despolitisation of so...</td>\n",
       "    </tr>\n",
       "    <tr>\n",
       "      <th>2</th>\n",
       "      <td>11110_199109-390960</td>\n",
       "      <td>2</td>\n",
       "      <td>55</td>\n",
       "      <td>81</td>\n",
       "      <td>organizational group</td>\n",
       "      <td>multinational corporations</td>\n",
       "      <td>Therefore, we oppose the despolitisation of so...</td>\n",
       "    </tr>\n",
       "    <tr>\n",
       "      <th>3</th>\n",
       "      <td>11110_199109-390960</td>\n",
       "      <td>3</td>\n",
       "      <td>200</td>\n",
       "      <td>238</td>\n",
       "      <td>social group</td>\n",
       "      <td>party leaders or officials in Brussels</td>\n",
       "      <td>Therefore, we oppose the despolitisation of so...</td>\n",
       "    </tr>\n",
       "    <tr>\n",
       "      <th>4</th>\n",
       "      <td>11110_199109-390940</td>\n",
       "      <td>1</td>\n",
       "      <td>62</td>\n",
       "      <td>113</td>\n",
       "      <td>social group</td>\n",
       "      <td>a society for survival in prosperity and well-...</td>\n",
       "      <td>It is only within the ecological framework tha...</td>\n",
       "    </tr>\n",
       "    <tr>\n",
       "      <th>...</th>\n",
       "      <td>...</td>\n",
       "      <td>...</td>\n",
       "      <td>...</td>\n",
       "      <td>...</td>\n",
       "      <td>...</td>\n",
       "      <td>...</td>\n",
       "      <td>...</td>\n",
       "    </tr>\n",
       "    <tr>\n",
       "      <th>6468</th>\n",
       "      <td>13230_199409-186966</td>\n",
       "      <td>1</td>\n",
       "      <td>0</td>\n",
       "      <td>10</td>\n",
       "      <td>organizational group</td>\n",
       "      <td>Businesses</td>\n",
       "      <td>Businesses also need good conditions.</td>\n",
       "    </tr>\n",
       "    <tr>\n",
       "      <th>6469</th>\n",
       "      <td>51320_197006-218939</td>\n",
       "      <td>1</td>\n",
       "      <td>0</td>\n",
       "      <td>89</td>\n",
       "      <td>organizational group</td>\n",
       "      <td>Firms wishing to build new factories and offic...</td>\n",
       "      <td>Firms wishing to build new factories and offic...</td>\n",
       "    </tr>\n",
       "    <tr>\n",
       "      <th>6470</th>\n",
       "      <td>42110_199010-05630</td>\n",
       "      <td>1</td>\n",
       "      <td>28</td>\n",
       "      <td>121</td>\n",
       "      <td>organizational group</td>\n",
       "      <td>those interest organizations that have the rig...</td>\n",
       "      <td>This is especially true for those interest org...</td>\n",
       "    </tr>\n",
       "    <tr>\n",
       "      <th>6471</th>\n",
       "      <td>12951_199709-333505</td>\n",
       "      <td>1</td>\n",
       "      <td>74</td>\n",
       "      <td>108</td>\n",
       "      <td>organizational group</td>\n",
       "      <td>small and medium-sized enterprises</td>\n",
       "      <td>The Progress Party will make it easier to star...</td>\n",
       "    </tr>\n",
       "    <tr>\n",
       "      <th>6472</th>\n",
       "      <td>80110_199412-92618</td>\n",
       "      <td>1</td>\n",
       "      <td>87</td>\n",
       "      <td>110</td>\n",
       "      <td>organizational group</td>\n",
       "      <td>the underlying entities</td>\n",
       "      <td>The liberal illusions of a self-regulating mar...</td>\n",
       "    </tr>\n",
       "  </tbody>\n",
       "</table>\n",
       "<p>6473 rows × 7 columns</p>\n",
       "</div>"
      ],
      "text/plain": [
       "                  text_id  mention_nr  start  end                  type  \\\n",
       "0     11110_198809-390636           1      5   12          social group   \n",
       "1     11110_199109-390960           1     44   51          social group   \n",
       "2     11110_199109-390960           2     55   81  organizational group   \n",
       "3     11110_199109-390960           3    200  238          social group   \n",
       "4     11110_199109-390940           1     62  113          social group   \n",
       "...                   ...         ...    ...  ...                   ...   \n",
       "6468  13230_199409-186966           1      0   10  organizational group   \n",
       "6469  51320_197006-218939           1      0   89  organizational group   \n",
       "6470   42110_199010-05630           1     28  121  organizational group   \n",
       "6471  12951_199709-333505           1     74  108  organizational group   \n",
       "6472   80110_199412-92618           1     87  110  organizational group   \n",
       "\n",
       "                                                mention  \\\n",
       "0                                               parents   \n",
       "1                                               society   \n",
       "2                            multinational corporations   \n",
       "3                party leaders or officials in Brussels   \n",
       "4     a society for survival in prosperity and well-...   \n",
       "...                                                 ...   \n",
       "6468                                         Businesses   \n",
       "6469  Firms wishing to build new factories and offic...   \n",
       "6470  those interest organizations that have the rig...   \n",
       "6471                 small and medium-sized enterprises   \n",
       "6472                            the underlying entities   \n",
       "\n",
       "                                                   text  \n",
       "0     Give parents the right to become municipal day...  \n",
       "1     Therefore, we oppose the despolitisation of so...  \n",
       "2     Therefore, we oppose the despolitisation of so...  \n",
       "3     Therefore, we oppose the despolitisation of so...  \n",
       "4     It is only within the ecological framework tha...  \n",
       "...                                                 ...  \n",
       "6468              Businesses also need good conditions.  \n",
       "6469  Firms wishing to build new factories and offic...  \n",
       "6470  This is especially true for those interest org...  \n",
       "6471  The Progress Party will make it easier to star...  \n",
       "6472  The liberal illusions of a self-regulating mar...  \n",
       "\n",
       "[6473 rows x 7 columns]"
      ]
     },
     "execution_count": 35,
     "metadata": {},
     "output_type": "execute_result"
    }
   ],
   "source": [
    "import pandas as pd\n",
    "df = pd.DataFrame(unnest_sequence_annotations(data, keep_text=True))\n",
    "df"
   ]
  },
  {
   "cell_type": "code",
   "execution_count": 38,
   "metadata": {},
   "outputs": [
    {
     "data": {
      "text/plain": [
       "\"Name a social group mentioned in the following sentence '''Hello'''. Answer: '''H'''\""
      ]
     },
     "execution_count": 38,
     "metadata": {},
     "output_type": "execute_result"
    }
   ],
   "source": [
    "\"Name a social group mentioned in the following sentence '''%s'''. Answer: '''%s'''\" % ('Hello', 'H')"
   ]
  },
  {
   "cell_type": "code",
   "execution_count": 1,
   "metadata": {},
   "outputs": [],
   "source": [
    "ON_COLAB = False\n",
    "from types import SimpleNamespace\n",
    "\n",
    "args = SimpleNamespace()\n",
    "args.model_path = './../../results/classifiers/group-mention-detection_batch-01/best_model'\n",
    "args.seed = 1234"
   ]
  },
  {
   "cell_type": "code",
   "execution_count": 3,
   "metadata": {},
   "outputs": [],
   "source": [
    "texts = [\n",
    "    \"Youth unemployment will also influence their parents, teachers, the poor.\",\n",
    "    \"We are fighting for the rights of the people.\",\n",
    "    \"Too much weight is esting on those who have the least.\",\n",
    "    \"Very short sentence.\"\n",
    "]"
   ]
  },
  {
   "cell_type": "code",
   "execution_count": 5,
   "metadata": {},
   "outputs": [
    {
     "data": {
      "text/plain": [
       "[[], [], [], []]"
      ]
     },
     "execution_count": 5,
     "metadata": {},
     "output_type": "execute_result"
    }
   ],
   "source": [
    "# from transformers import pipeline\n",
    "# \n",
    "# classifier = pipeline(task='ner', model=args.model_path, aggregation_strategy='simple', device_map='cpu')\n",
    "# \n",
    "# preds = classifier(texts)\n",
    "# \n",
    "# mentions = [[span['word'].strip() for span in spans] for spans in preds]\n",
    "# mentions"
   ]
  },
  {
   "cell_type": "code",
   "execution_count": 3,
   "metadata": {},
   "outputs": [],
   "source": [
    "import torch\n",
    "from datasets import Dataset\n",
    "from transformers import set_seed, AutoTokenizer, AutoModelForTokenClassification, DataCollatorForTokenClassification\n",
    "set_seed(args.seed)"
   ]
  },
  {
   "cell_type": "code",
   "execution_count": 4,
   "metadata": {},
   "outputs": [],
   "source": [
    "import numpy as np\n",
    "from scipy.stats import entropy\n",
    "from scipy.special import softmax\n",
    "\n",
    "def _compute_prediction_entropy(predictions, dataset):\n",
    "    \"\"\"\n",
    "    Compute the entropy of the predictions for each example in the dataset.\n",
    "\n",
    "    inspired by small-text's PredictionEntropy confidence-based active learning query startegy \n",
    "     see https://github.com/webis-de/small-text/blob/c78459e1b60269da1aeaa270e954961cc36d77cb/small_text/query_strategies/strategies.py#L180\n",
    "    \"\"\"\n",
    "    entropies = []\n",
    "    lengths = dataset['attention_mask'].sum(dim=1)\n",
    "    for p, l in zip(predictions, lengths):\n",
    "        logits = p[:l].numpy()\n",
    "        e = entropy(softmax(logits, axis=0), axis=None)\n",
    "        entropies.append(e)\n",
    "    return np.array(entropies)"
   ]
  },
  {
   "cell_type": "code",
   "execution_count": 5,
   "metadata": {},
   "outputs": [],
   "source": [
    "model = AutoModelForTokenClassification.from_pretrained(args.model_path)\n",
    "tokenizer = AutoTokenizer.from_pretrained(args.model_path, use_fasr=True)"
   ]
  },
  {
   "cell_type": "code",
   "execution_count": 6,
   "metadata": {},
   "outputs": [
    {
     "data": {
      "application/vnd.jupyter.widget-view+json": {
       "model_id": "6269c3c3f9b144709f6c68a5e3ba64ea",
       "version_major": 2,
       "version_minor": 0
      },
      "text/plain": [
       "Map:   0%|          | 0/4 [00:00<?, ? examples/s]"
      ]
     },
     "metadata": {},
     "output_type": "display_data"
    }
   ],
   "source": [
    "dataset = Dataset.from_dict({'text': texts})\n",
    "tokenize = lambda examples: tokenizer(examples['text'], padding=False, truncation=True)\n",
    "dataset = dataset.map(tokenize, batched=True)\n",
    "dataset = dataset.remove_columns(['text'])\n",
    "dataset.set_format(type='torch')"
   ]
  },
  {
   "cell_type": "code",
   "execution_count": 9,
   "metadata": {},
   "outputs": [],
   "source": [
    "from tqdm.auto import tqdm\n",
    "\n",
    "def compute_prediction_entropies(\n",
    "    dataset: Dataset,\n",
    "    model: AutoModelForTokenClassification,\n",
    "    tokenizer: AutoTokenizer,\n",
    "    batch_size: int = 32\n",
    ") -> np.ndarray:\n",
    "    data_collator = DataCollatorForTokenClassification(tokenizer)   \n",
    "    entropies = []\n",
    "    for batch in tqdm(torch.utils.data.DataLoader(dataset, batch_size=batch_size, collate_fn=data_collator)):\n",
    "        with torch.no_grad():\n",
    "                outputs = model(**batch)\n",
    "        entropies.append(_compute_prediction_entropy(outputs.logits, batch))\n",
    "    entropies = np.concatenate(entropies)\n",
    "    return entropies"
   ]
  },
  {
   "cell_type": "code",
   "execution_count": 10,
   "metadata": {},
   "outputs": [
    {
     "data": {
      "application/vnd.jupyter.widget-view+json": {
       "model_id": "c743bdaf7e644cd389fddee5e89ee252",
       "version_major": 2,
       "version_minor": 0
      },
      "text/plain": [
       "  0%|          | 0/2 [00:00<?, ?it/s]"
      ]
     },
     "metadata": {},
     "output_type": "display_data"
    },
    {
     "data": {
      "text/plain": [
       "array([3.1428676, 2.8410678, 3.1937726, 3.0467315], dtype=float32)"
      ]
     },
     "execution_count": 10,
     "metadata": {},
     "output_type": "execute_result"
    }
   ],
   "source": [
    "compute_prediction_entropies(dataset, model, tokenizer, batch_size=2)"
   ]
  },
  {
   "cell_type": "code",
   "execution_count": 110,
   "metadata": {},
   "outputs": [
    {
     "data": {
      "text/plain": [
       "(1.0182301539513936, 1.366158847569202)"
      ]
     },
     "execution_count": 110,
     "metadata": {},
     "output_type": "execute_result"
    }
   ],
   "source": [
    "a = np.array([[0.1, 0.9], [0.9, 0.1]])\n",
    "b = np.array([[0.4, 0.6], [0.6, 0.4]])\n",
    "\n",
    "entropy(a, axis=None), entropy(b, axis=None)"
   ]
  }
 ],
 "metadata": {
  "kernelspec": {
   "display_name": "parl_speech_actors",
   "language": "python",
   "name": "python3"
  },
  "language_info": {
   "codemirror_mode": {
    "name": "ipython",
    "version": 3
   },
   "file_extension": ".py",
   "mimetype": "text/x-python",
   "name": "python",
   "nbconvert_exporter": "python",
   "pygments_lexer": "ipython3",
   "version": "3.10.13"
  }
 },
 "nbformat": 4,
 "nbformat_minor": 2
}
