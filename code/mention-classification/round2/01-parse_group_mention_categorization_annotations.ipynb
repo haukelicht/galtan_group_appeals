{
 "cells": [
  {
   "cell_type": "code",
   "execution_count": 130,
   "metadata": {},
   "outputs": [],
   "source": [
    "from types import SimpleNamespace\n",
    "\n",
    "args = SimpleNamespace()\n",
    "\n",
    "args.data_path = '../../../data/annotations/group_mention_categorization/social-group-mention-categorization-round02'\n",
    "\n",
    "args.text_data_file = '../../../data/intermediate/social_group_mentions_ranked.tsv'\n",
    "args.text_col = 'text'\n",
    "args.text_id_col = 'text_id'\n",
    "args.mention_col = 'mention'\n",
    "args.mention_id_col = 'mention_nr'\n",
    "args.mention_id_format = '{text_id}-{mention_id}'\n",
    "\n",
    "args.attributes_file = '../../../data/annotations/group_mention_categorization/group_attributes_v2.yaml'"
   ]
  },
  {
   "cell_type": "code",
   "execution_count": 8,
   "metadata": {},
   "outputs": [],
   "source": [
    "import os\n",
    "import yaml\n",
    "import pandas as pd\n",
    "import numpy as np\n",
    "from collections import Counter"
   ]
  },
  {
   "cell_type": "code",
   "execution_count": 9,
   "metadata": {},
   "outputs": [],
   "source": [
    "texts = pd.read_csv(args.text_data_file, sep='\\t')\n",
    "texts['mention_id'] = texts.apply(lambda r: args.mention_id_format.format(text_id=r[args.text_id_col], mention_id=r[args.mention_id_col]), axis=1)"
   ]
  },
  {
   "cell_type": "code",
   "execution_count": 22,
   "metadata": {},
   "outputs": [],
   "source": [
    "# TODO:\n",
    "#  - wrap reading and parsing logic in a function "
   ]
  },
  {
   "cell_type": "code",
   "execution_count": 10,
   "metadata": {},
   "outputs": [],
   "source": [
    "with open(args.attributes_file, 'r') as f:\n",
    "    ontology = yaml.load(f, Loader=yaml.FullLoader)\n",
    "\n",
    "attributes = pd.DataFrame([\n",
    "    {\n",
    "        'q_id': a,\n",
    "        'q_category': i,\n",
    "        'label': v,\n",
    "    }\n",
    "    for a, d in ontology['social_group'].items()\n",
    "    for i, v in enumerate(d['attributes'].keys(), start=1)\n",
    "])\n",
    "attributes.q_id = attributes.q_id.str.replace('non_', 'non-')\n",
    "attributes.label = attributes.label.str.replace('<i>Other attribute</i>', 'other')\n",
    "\n",
    "attributes.q_category = attributes.q_category.astype(str)"
   ]
  },
  {
   "cell_type": "markdown",
   "metadata": {},
   "source": [
    "## Clean the responses data"
   ]
  },
  {
   "cell_type": "code",
   "execution_count": 131,
   "metadata": {},
   "outputs": [],
   "source": [
    "# read the annotations data\n",
    "fp = os.path.join(args.data_path, 'qualtrix_responses.tsv')\n",
    "df = pd.read_csv(fp, sep='\\t', encoding='UTF-16')"
   ]
  },
  {
   "cell_type": "code",
   "execution_count": 132,
   "metadata": {},
   "outputs": [],
   "source": [
    "data_cols = df.columns.str.match('^\\d+_\\d{6}')\n",
    "metadata_cols = np.where(~data_cols)[0]\n",
    "data_cols = np.where(data_cols)[0]"
   ]
  },
  {
   "cell_type": "code",
   "execution_count": 133,
   "metadata": {},
   "outputs": [
    {
     "data": {
      "text/plain": [
       "Index(['data_quality_1', 'data_quality_2', 'universal_attributes',\n",
       "       'economic_attributes_1', 'economic_attributes_2',\n",
       "       'economic_attributes_3', 'economic_attributes_4',\n",
       "       'economic_attributes_5', 'economic_attributes_6',\n",
       "       'economic_attributes_7', 'non-economic_attributes_1',\n",
       "       'non-economic_attributes_2', 'non-economic_attributes_3',\n",
       "       'non-economic_attributes_4', 'non-economic_attributes_5',\n",
       "       'non-economic_attributes_6', 'non-economic_attributes_7',\n",
       "       'non-economic_attributes_8', 'non-economic_attributes_9',\n",
       "       'non-economic_attributes_10', 'non-economic_attributes_11', 'stance',\n",
       "       'comments'],\n",
       "      dtype='object')"
      ]
     },
     "execution_count": 133,
     "metadata": {},
     "output_type": "execute_result"
    }
   ],
   "source": [
    "df.columns[data_cols].str.split('__').str[-1].unique()"
   ]
  },
  {
   "cell_type": "code",
   "execution_count": 134,
   "metadata": {},
   "outputs": [
    {
     "data": {
      "text/plain": [
       "RecipientLastName\n",
       "Recipient Last Name                 1\n",
       "{\"ImportId\":\"recipientLastName\"}    1\n",
       "Licht                               1\n",
       "Röth                                1\n",
       "Eichholz                            1\n",
       "Ford                                1\n",
       "Name: count, dtype: int64"
      ]
     },
     "execution_count": 134,
     "metadata": {},
     "output_type": "execute_result"
    }
   ],
   "source": [
    "df.RecipientLastName.value_counts()"
   ]
  },
  {
   "cell_type": "code",
   "execution_count": 135,
   "metadata": {},
   "outputs": [],
   "source": [
    "annotators = ['Eichholz', 'Ford']\n",
    "\n",
    "ridxs = np.where(df.RecipientLastName.isin(annotators))[0]\n",
    "\n",
    "data = df.iloc[ridxs, data_cols]\n",
    "metadata = df.iloc[ridxs, metadata_cols]"
   ]
  },
  {
   "cell_type": "code",
   "execution_count": 136,
   "metadata": {},
   "outputs": [
    {
     "data": {
      "text/plain": [
       "{'Eichholz': 4, 'Ford': 5}"
      ]
     },
     "execution_count": 136,
     "metadata": {},
     "output_type": "execute_result"
    }
   ],
   "source": [
    "id2annotator = dict(metadata.RecipientLastName)\n",
    "annotator2id = {v: k for k, v in id2annotator.items()}\n",
    "annotator2id"
   ]
  },
  {
   "cell_type": "markdown",
   "metadata": {},
   "source": [
    "##"
   ]
  },
  {
   "cell_type": "code",
   "execution_count": 137,
   "metadata": {},
   "outputs": [],
   "source": [
    "tmp = data.T\n",
    "tmp.reset_index(inplace=True)\n",
    "tmp[['mention_id', 'q_id']] = tmp['index'].str.split('__', expand=True)\n",
    "tmp.drop(columns=['index'], inplace=True)\n",
    "# pivot longer: values from first two columns to rows\n",
    "tmp = tmp.melt(id_vars=['mention_id', 'q_id'], value_name='value', var_name='annotator')"
   ]
  },
  {
   "cell_type": "code",
   "execution_count": 138,
   "metadata": {},
   "outputs": [],
   "source": [
    "texts = texts.loc[texts.mention_id.isin(tmp.mention_id), ['mention_id', 'text', 'mention']]"
   ]
  },
  {
   "cell_type": "code",
   "execution_count": 139,
   "metadata": {},
   "outputs": [],
   "source": [
    "tmp[['q_id', 'q_category']] = tmp.q_id.str.split(r'[_-](?=\\d+$)', regex=True, expand=True)"
   ]
  },
  {
   "cell_type": "code",
   "execution_count": 140,
   "metadata": {},
   "outputs": [
    {
     "data": {
      "text/plain": [
       "q_id\n",
       "comments                    300\n",
       "data_quality                600\n",
       "economic_attributes        2100\n",
       "non-economic_attributes    3300\n",
       "stance                      300\n",
       "universal_attributes        300\n",
       "Name: count, dtype: int64"
      ]
     },
     "execution_count": 140,
     "metadata": {},
     "output_type": "execute_result"
    }
   ],
   "source": [
    "tmp.q_id.value_counts().sort_index()"
   ]
  },
  {
   "cell_type": "code",
   "execution_count": 141,
   "metadata": {},
   "outputs": [
    {
     "data": {
      "text/plain": [
       "value\n",
       "NaN       593\n",
       "Yes         6\n",
       "Unsure      1\n",
       "Name: count, dtype: int64"
      ]
     },
     "execution_count": 141,
     "metadata": {},
     "output_type": "execute_result"
    }
   ],
   "source": [
    "tmp[tmp.q_id == 'data_quality'].value.value_counts(dropna=False)"
   ]
  },
  {
   "cell_type": "code",
   "execution_count": 142,
   "metadata": {},
   "outputs": [],
   "source": [
    "tmp.loc[tmp.q_id == 'data_quality', 'value'] = tmp[tmp.q_id == 'data_quality'].value.replace({np.nan: 'No'})"
   ]
  },
  {
   "cell_type": "code",
   "execution_count": 143,
   "metadata": {},
   "outputs": [
    {
     "data": {
      "text/plain": [
       "value   q_category\n",
       "NaN     NaN           270\n",
       "Yes     NaN            26\n",
       "Unsure  NaN             4\n",
       "Name: count, dtype: int64"
      ]
     },
     "execution_count": 143,
     "metadata": {},
     "output_type": "execute_result"
    }
   ],
   "source": [
    "tmp[tmp.q_id == 'universal_attributes'][['value', 'q_category']].value_counts(dropna=False)"
   ]
  },
  {
   "cell_type": "code",
   "execution_count": 144,
   "metadata": {},
   "outputs": [],
   "source": [
    "tmp.loc[tmp.q_id == 'universal_attributes', 'value'] = tmp[tmp.q_id == 'universal_attributes'].value.replace({np.nan: 'No'})"
   ]
  },
  {
   "cell_type": "code",
   "execution_count": 145,
   "metadata": {},
   "outputs": [
    {
     "data": {
      "text/plain": [
       "value\n",
       "NaN       1894\n",
       "Yes        186\n",
       "Unsure      20\n",
       "Name: count, dtype: int64"
      ]
     },
     "execution_count": 145,
     "metadata": {},
     "output_type": "execute_result"
    }
   ],
   "source": [
    "tmp[tmp.q_id == 'economic_attributes'].value.value_counts(dropna=False)"
   ]
  },
  {
   "cell_type": "code",
   "execution_count": 146,
   "metadata": {},
   "outputs": [],
   "source": [
    "tmp.loc[tmp.q_id == 'economic_attributes', 'value'] = tmp[tmp.q_id == 'economic_attributes'].value.replace({np.nan: 'No'})"
   ]
  },
  {
   "cell_type": "code",
   "execution_count": 147,
   "metadata": {},
   "outputs": [
    {
     "data": {
      "text/plain": [
       "value\n",
       "NaN           3073\n",
       "Yes            216\n",
       "Unsure          10\n",
       "Yes,Unsure       1\n",
       "Name: count, dtype: int64"
      ]
     },
     "execution_count": 147,
     "metadata": {},
     "output_type": "execute_result"
    }
   ],
   "source": [
    "tmp[tmp.q_id == 'non-economic_attributes'].value.value_counts(dropna=False)"
   ]
  },
  {
   "cell_type": "code",
   "execution_count": 148,
   "metadata": {},
   "outputs": [],
   "source": [
    "tmp.loc[tmp.q_id == 'non-economic_attributes', 'value'] = tmp[tmp.q_id == 'non-economic_attributes'].value.replace({np.nan: 'No', 'Yes,Unsure': 'Unsure'})"
   ]
  },
  {
   "cell_type": "code",
   "execution_count": 149,
   "metadata": {},
   "outputs": [
    {
     "data": {
      "text/plain": [
       "value\n",
       "Positive    225\n",
       "Negative     58\n",
       "Neutral       8\n",
       "Unsure        5\n",
       "NaN           4\n",
       "Name: count, dtype: int64"
      ]
     },
     "execution_count": 149,
     "metadata": {},
     "output_type": "execute_result"
    }
   ],
   "source": [
    "tmp[tmp.q_id == 'stance'].value.value_counts(dropna=False)"
   ]
  },
  {
   "cell_type": "code",
   "execution_count": 150,
   "metadata": {},
   "outputs": [
    {
     "data": {
      "text/html": [
       "<div>\n",
       "<style scoped>\n",
       "    .dataframe tbody tr th:only-of-type {\n",
       "        vertical-align: middle;\n",
       "    }\n",
       "\n",
       "    .dataframe tbody tr th {\n",
       "        vertical-align: top;\n",
       "    }\n",
       "\n",
       "    .dataframe thead th {\n",
       "        text-align: right;\n",
       "    }\n",
       "</style>\n",
       "<table border=\"1\" class=\"dataframe\">\n",
       "  <thead>\n",
       "    <tr style=\"text-align: right;\">\n",
       "      <th>annotator</th>\n",
       "      <th>mention_id</th>\n",
       "      <th>q_id</th>\n",
       "      <th>q_category</th>\n",
       "      <th>4</th>\n",
       "      <th>5</th>\n",
       "    </tr>\n",
       "  </thead>\n",
       "  <tbody>\n",
       "    <tr>\n",
       "      <th>0</th>\n",
       "      <td>41112_199012-127111-2</td>\n",
       "      <td>comments</td>\n",
       "      <td>NaN</td>\n",
       "      <td>Unsure what all walks of life refers to</td>\n",
       "      <td>NaN</td>\n",
       "    </tr>\n",
       "    <tr>\n",
       "      <th>1</th>\n",
       "      <td>41112_199012-127111-2</td>\n",
       "      <td>data_quality</td>\n",
       "      <td>1</td>\n",
       "      <td>No</td>\n",
       "      <td>No</td>\n",
       "    </tr>\n",
       "    <tr>\n",
       "      <th>2</th>\n",
       "      <td>41112_199012-127111-2</td>\n",
       "      <td>data_quality</td>\n",
       "      <td>2</td>\n",
       "      <td>No</td>\n",
       "      <td>No</td>\n",
       "    </tr>\n",
       "    <tr>\n",
       "      <th>3</th>\n",
       "      <td>41112_199012-127111-2</td>\n",
       "      <td>economic_attributes</td>\n",
       "      <td>1</td>\n",
       "      <td>Unsure</td>\n",
       "      <td>No</td>\n",
       "    </tr>\n",
       "    <tr>\n",
       "      <th>4</th>\n",
       "      <td>41112_199012-127111-2</td>\n",
       "      <td>economic_attributes</td>\n",
       "      <td>2</td>\n",
       "      <td>No</td>\n",
       "      <td>No</td>\n",
       "    </tr>\n",
       "    <tr>\n",
       "      <th>5</th>\n",
       "      <td>41112_199012-127111-2</td>\n",
       "      <td>economic_attributes</td>\n",
       "      <td>3</td>\n",
       "      <td>No</td>\n",
       "      <td>No</td>\n",
       "    </tr>\n",
       "    <tr>\n",
       "      <th>6</th>\n",
       "      <td>41112_199012-127111-2</td>\n",
       "      <td>economic_attributes</td>\n",
       "      <td>4</td>\n",
       "      <td>No</td>\n",
       "      <td>No</td>\n",
       "    </tr>\n",
       "    <tr>\n",
       "      <th>7</th>\n",
       "      <td>41112_199012-127111-2</td>\n",
       "      <td>economic_attributes</td>\n",
       "      <td>5</td>\n",
       "      <td>Yes</td>\n",
       "      <td>Yes</td>\n",
       "    </tr>\n",
       "    <tr>\n",
       "      <th>8</th>\n",
       "      <td>41112_199012-127111-2</td>\n",
       "      <td>economic_attributes</td>\n",
       "      <td>6</td>\n",
       "      <td>No</td>\n",
       "      <td>No</td>\n",
       "    </tr>\n",
       "    <tr>\n",
       "      <th>9</th>\n",
       "      <td>41112_199012-127111-2</td>\n",
       "      <td>economic_attributes</td>\n",
       "      <td>7</td>\n",
       "      <td>No</td>\n",
       "      <td>No</td>\n",
       "    </tr>\n",
       "    <tr>\n",
       "      <th>10</th>\n",
       "      <td>41112_199012-127111-2</td>\n",
       "      <td>non-economic_attributes</td>\n",
       "      <td>1</td>\n",
       "      <td>Unsure</td>\n",
       "      <td>No</td>\n",
       "    </tr>\n",
       "    <tr>\n",
       "      <th>11</th>\n",
       "      <td>41112_199012-127111-2</td>\n",
       "      <td>non-economic_attributes</td>\n",
       "      <td>10</td>\n",
       "      <td>No</td>\n",
       "      <td>No</td>\n",
       "    </tr>\n",
       "    <tr>\n",
       "      <th>12</th>\n",
       "      <td>41112_199012-127111-2</td>\n",
       "      <td>non-economic_attributes</td>\n",
       "      <td>11</td>\n",
       "      <td>No</td>\n",
       "      <td>No</td>\n",
       "    </tr>\n",
       "    <tr>\n",
       "      <th>13</th>\n",
       "      <td>41112_199012-127111-2</td>\n",
       "      <td>non-economic_attributes</td>\n",
       "      <td>2</td>\n",
       "      <td>No</td>\n",
       "      <td>No</td>\n",
       "    </tr>\n",
       "    <tr>\n",
       "      <th>14</th>\n",
       "      <td>41112_199012-127111-2</td>\n",
       "      <td>non-economic_attributes</td>\n",
       "      <td>3</td>\n",
       "      <td>No</td>\n",
       "      <td>Yes</td>\n",
       "    </tr>\n",
       "    <tr>\n",
       "      <th>15</th>\n",
       "      <td>41112_199012-127111-2</td>\n",
       "      <td>non-economic_attributes</td>\n",
       "      <td>4</td>\n",
       "      <td>No</td>\n",
       "      <td>No</td>\n",
       "    </tr>\n",
       "    <tr>\n",
       "      <th>16</th>\n",
       "      <td>41112_199012-127111-2</td>\n",
       "      <td>non-economic_attributes</td>\n",
       "      <td>5</td>\n",
       "      <td>No</td>\n",
       "      <td>No</td>\n",
       "    </tr>\n",
       "    <tr>\n",
       "      <th>17</th>\n",
       "      <td>41112_199012-127111-2</td>\n",
       "      <td>non-economic_attributes</td>\n",
       "      <td>6</td>\n",
       "      <td>No</td>\n",
       "      <td>No</td>\n",
       "    </tr>\n",
       "    <tr>\n",
       "      <th>18</th>\n",
       "      <td>41112_199012-127111-2</td>\n",
       "      <td>non-economic_attributes</td>\n",
       "      <td>7</td>\n",
       "      <td>No</td>\n",
       "      <td>No</td>\n",
       "    </tr>\n",
       "    <tr>\n",
       "      <th>19</th>\n",
       "      <td>41112_199012-127111-2</td>\n",
       "      <td>non-economic_attributes</td>\n",
       "      <td>8</td>\n",
       "      <td>No</td>\n",
       "      <td>No</td>\n",
       "    </tr>\n",
       "    <tr>\n",
       "      <th>20</th>\n",
       "      <td>41112_199012-127111-2</td>\n",
       "      <td>non-economic_attributes</td>\n",
       "      <td>9</td>\n",
       "      <td>No</td>\n",
       "      <td>No</td>\n",
       "    </tr>\n",
       "    <tr>\n",
       "      <th>21</th>\n",
       "      <td>41112_199012-127111-2</td>\n",
       "      <td>stance</td>\n",
       "      <td>NaN</td>\n",
       "      <td>Positive</td>\n",
       "      <td>Positive</td>\n",
       "    </tr>\n",
       "    <tr>\n",
       "      <th>22</th>\n",
       "      <td>41112_199012-127111-2</td>\n",
       "      <td>universal_attributes</td>\n",
       "      <td>NaN</td>\n",
       "      <td>No</td>\n",
       "      <td>No</td>\n",
       "    </tr>\n",
       "  </tbody>\n",
       "</table>\n",
       "</div>"
      ],
      "text/plain": [
       "annotator             mention_id                     q_id q_category  \\\n",
       "0          41112_199012-127111-2                 comments        NaN   \n",
       "1          41112_199012-127111-2             data_quality          1   \n",
       "2          41112_199012-127111-2             data_quality          2   \n",
       "3          41112_199012-127111-2      economic_attributes          1   \n",
       "4          41112_199012-127111-2      economic_attributes          2   \n",
       "5          41112_199012-127111-2      economic_attributes          3   \n",
       "6          41112_199012-127111-2      economic_attributes          4   \n",
       "7          41112_199012-127111-2      economic_attributes          5   \n",
       "8          41112_199012-127111-2      economic_attributes          6   \n",
       "9          41112_199012-127111-2      economic_attributes          7   \n",
       "10         41112_199012-127111-2  non-economic_attributes          1   \n",
       "11         41112_199012-127111-2  non-economic_attributes         10   \n",
       "12         41112_199012-127111-2  non-economic_attributes         11   \n",
       "13         41112_199012-127111-2  non-economic_attributes          2   \n",
       "14         41112_199012-127111-2  non-economic_attributes          3   \n",
       "15         41112_199012-127111-2  non-economic_attributes          4   \n",
       "16         41112_199012-127111-2  non-economic_attributes          5   \n",
       "17         41112_199012-127111-2  non-economic_attributes          6   \n",
       "18         41112_199012-127111-2  non-economic_attributes          7   \n",
       "19         41112_199012-127111-2  non-economic_attributes          8   \n",
       "20         41112_199012-127111-2  non-economic_attributes          9   \n",
       "21         41112_199012-127111-2                   stance        NaN   \n",
       "22         41112_199012-127111-2     universal_attributes        NaN   \n",
       "\n",
       "annotator                                        4         5  \n",
       "0          Unsure what all walks of life refers to       NaN  \n",
       "1                                               No        No  \n",
       "2                                               No        No  \n",
       "3                                           Unsure        No  \n",
       "4                                               No        No  \n",
       "5                                               No        No  \n",
       "6                                               No        No  \n",
       "7                                              Yes       Yes  \n",
       "8                                               No        No  \n",
       "9                                               No        No  \n",
       "10                                          Unsure        No  \n",
       "11                                              No        No  \n",
       "12                                              No        No  \n",
       "13                                              No        No  \n",
       "14                                              No       Yes  \n",
       "15                                              No        No  \n",
       "16                                              No        No  \n",
       "17                                              No        No  \n",
       "18                                              No        No  \n",
       "19                                              No        No  \n",
       "20                                              No        No  \n",
       "21                                        Positive  Positive  \n",
       "22                                              No        No  "
      ]
     },
     "execution_count": 150,
     "metadata": {},
     "output_type": "execute_result"
    }
   ],
   "source": [
    "mid = '41112_199012-127111-2'\n",
    "foo = tmp[tmp.mention_id==mid]\n",
    "# pivot wider: values in 'annotator' column to columns usin values in 'value' as values\n",
    "foo.pivot(index=['mention_id', 'q_id', 'q_category'], columns='annotator', values='value').reset_index()"
   ]
  },
  {
   "cell_type": "markdown",
   "metadata": {},
   "source": [
    "## Write in usuful format to disk\n",
    "\n"
   ]
  },
  {
   "cell_type": "code",
   "execution_count": 151,
   "metadata": {},
   "outputs": [
    {
     "name": "stdout",
     "output_type": "stream",
     "text": [
      "{'1': 'class membership', '2': 'employment status', '3': 'education level', '4': 'income/wealth/economic status', '5': 'occupation/profession', '6': 'ecology of group', '7': 'other'}\n",
      "{'1': 'age', '2': 'family', '3': 'gender/sexuality', '4': 'place/location', '5': 'nationality', '6': 'ethnicity', '7': 'religion', '8': 'health', '9': 'crime', '10': 'shared values/mentalities', '11': 'other'}\n"
     ]
    }
   ],
   "source": [
    "import re\n",
    "\n",
    "econ_attributes_map = {c: l for _, c, l in attributes.loc[attributes.q_id == 'economic_attributes', ['q_category', 'label']].itertuples()}\n",
    "nonecon_attributes_map = {c: l for _, c, l in attributes.loc[attributes.q_id == 'non-economic_attributes', ['q_category', 'label']].itertuples()}\n",
    "\n",
    "data_quality_map = {'1': 'has_formatting_issue', '2': 'has_translation_issue'}\n",
    "\n",
    "print(econ_attributes_map)\n",
    "print(nonecon_attributes_map)"
   ]
  },
  {
   "cell_type": "code",
   "execution_count": 152,
   "metadata": {},
   "outputs": [],
   "source": [
    "annotations = tmp.copy(deep=True)\n",
    "\n",
    "annotations.annotator = annotations.annotator.map(id2annotator)\n",
    "\n",
    "annotations.loc[annotations.q_id == 'economic_attributes', 'category'] = annotations.loc[annotations.q_id == 'economic_attributes', 'q_category'].map(econ_attributes_map)\n",
    "annotations.loc[annotations.q_id == 'non-economic_attributes', 'category'] = annotations.loc[annotations.q_id == 'non-economic_attributes', 'q_category'].map(nonecon_attributes_map)\n",
    "annotations.loc[annotations.q_id == 'data_quality', 'category'] = annotations.loc[annotations.q_id == 'data_quality', 'q_category'].map(data_quality_map)\n",
    "\n",
    "annotations = annotations.merge(texts, on='mention_id', how='left')\n",
    "\n",
    "cols = ['mention_id', 'text', 'mention', 'q_id', 'q_category', 'category', 'annotator', 'value']\n",
    "annotations = annotations[cols]\n",
    "annotations.rename(columns={'value': 'response'}, inplace=True)\n",
    "\n",
    "dest = os.path.join(args.data_path, 'parsed')\n",
    "os.makedirs(dest, exist_ok=True)\n",
    "fp = os.path.join(dest, 'annotations.tsv')\n",
    "annotations.to_csv(fp, sep='\\t', index=False)"
   ]
  },
  {
   "cell_type": "markdown",
   "metadata": {},
   "source": [
    "## Evaluate ICA"
   ]
  },
  {
   "cell_type": "code",
   "execution_count": 154,
   "metadata": {},
   "outputs": [],
   "source": [
    "from sklearn.metrics import cohen_kappa_score, f1_score\n",
    "import krippendorff\n",
    "from typing import List, Dict\n",
    "def compute_metrics(\n",
    "        a: pd.Series, \n",
    "        b: pd.Series, \n",
    "        labels: List[str] = ['Yes', 'No'],\n",
    "        pos_label: str = 'Yes',\n",
    "    ) -> Dict:\n",
    "    \n",
    "    out = {\n",
    "        'n': len(a),\n",
    "        f'prop_{pos_label.lower()}': np.logical_or(a == pos_label, b == pos_label).mean(),\n",
    "    }\n",
    "    if len(labels) == 2:\n",
    "        out['f1_score'] = f1_score(a, b, average='binary', pos_label=pos_label)\n",
    "    else:\n",
    "        f1s = f1_score(a, b, average=None, labels=labels)\n",
    "        out.update({f'f1_score_{l.lower()}': f1s[i] for i, l in enumerate(labels)})\n",
    "    out['cohens_kappa'] = cohen_kappa_score(a, b)\n",
    "    a = a.astype('category').cat.codes\n",
    "    b = b.astype('category').cat.codes\n",
    "    out['krippendorff_alpha'] = krippendorff.alpha(reliability_data=np.array([a, b]), level_of_measurement='nominal')\n",
    "\n",
    "    return out"
   ]
  },
  {
   "cell_type": "code",
   "execution_count": 155,
   "metadata": {},
   "outputs": [],
   "source": [
    "ica = {}"
   ]
  },
  {
   "cell_type": "code",
   "execution_count": 156,
   "metadata": {},
   "outputs": [],
   "source": [
    "q = 'data_quality'\n",
    "for i, label in data_quality_map.items():\n",
    "    foo = tmp[np.logical_and(tmp.q_id==q, tmp.q_category==str(i))]\n",
    "    # pivot wider: values in 'annotator' column to columns usin values in 'value' as values\n",
    "    foo = foo.pivot(index=['mention_id', 'q_id', 'q_category'], columns='annotator', values='value').reset_index()\n",
    "    foo = foo[~np.logical_or(foo[annotator2id[annotators[0]]] == 'Unsure', foo[annotator2id[annotators[1]]] == 'Unsure')]\n",
    "    \n",
    "    ica[(q, i, label)] = compute_metrics(foo[annotator2id[annotators[0]]], foo[annotator2id[annotators[1]]])"
   ]
  },
  {
   "cell_type": "code",
   "execution_count": 157,
   "metadata": {},
   "outputs": [],
   "source": [
    "foo = tmp[tmp.q_id=='universal_attributes']\n",
    "\n",
    "# pivot wider: values in 'annotator' column to columns usin values in 'value' as values\n",
    "foo = foo.pivot(index=['mention_id', 'q_id', 'q_category'], columns='annotator', values='value').reset_index()\n",
    "foo = foo[~np.logical_or(foo[annotator2id[annotators[0]]] == 'Unsure', foo[annotator2id[annotators[1]]] == 'Unsure')]\n",
    "\n",
    "ica[('universal_attributes', None)] = compute_metrics(foo[annotator2id[annotators[0]]], foo[annotator2id[annotators[1]]])"
   ]
  },
  {
   "cell_type": "code",
   "execution_count": 158,
   "metadata": {},
   "outputs": [],
   "source": [
    "# econ/non-econ attributes\n",
    "for d in attributes.itertuples():\n",
    "     \n",
    "    foo = tmp[np.logical_and(tmp.q_id==d.q_id, tmp.q_category==str(d.q_category))]\n",
    "    if len(foo) == 0:\n",
    "        continue\n",
    "    # pivot wider: values in 'annotator' column to columns usin values in 'value' as values\n",
    "    foo = foo.pivot(index=['mention_id', 'q_id', 'q_category'], columns='annotator', values='value').reset_index()\n",
    "    foo = foo[~np.logical_or(foo[annotator2id[annotators[0]]] == 'Unsure', foo[annotator2id[annotators[1]]] == 'Unsure')]\n",
    "    \n",
    "    ica[(d.q_id, d.q_category, d.label)] = compute_metrics(foo[annotator2id[annotators[0]]], foo[annotator2id[annotators[1]]])"
   ]
  },
  {
   "cell_type": "code",
   "execution_count": 159,
   "metadata": {},
   "outputs": [],
   "source": [
    "foo = tmp[tmp.q_id=='economic_attributes']\n",
    "foo = foo.groupby(['mention_id', 'annotator']).agg({'value': lambda v: (v != 'No').any()}).reset_index()\n",
    "foo.value = foo.value.map({True: 'Yes', False: 'No'})\n",
    "foo = foo.pivot(index=['mention_id'], columns='annotator', values='value').reset_index()\n",
    "\n",
    "ica[('economic_attributes', 'overall')] = compute_metrics(foo[annotator2id[annotators[0]]], foo[annotator2id[annotators[1]]])"
   ]
  },
  {
   "cell_type": "code",
   "execution_count": 160,
   "metadata": {},
   "outputs": [],
   "source": [
    "foo = tmp[tmp.q_id=='non-economic_attributes']\n",
    "foo = foo.groupby(['mention_id', 'annotator']).agg({'value': lambda v: (v != 'No').any()}).reset_index()\n",
    "foo.value = foo.value.map({True: 'Yes', False: 'No'})\n",
    "foo = foo.pivot(index=['mention_id'], columns='annotator', values='value').reset_index()\n",
    "\n",
    "ica[('non-economic_attributes', 'overall')] = compute_metrics(foo[annotator2id[annotators[0]]], foo[annotator2id[annotators[1]]])"
   ]
  },
  {
   "cell_type": "code",
   "execution_count": 161,
   "metadata": {},
   "outputs": [],
   "source": [
    "cats = ['Positive', 'Neutral', 'Negative']\n",
    "foo = tmp[np.logical_and(tmp.q_id=='stance', tmp.q_category.isna())]\n",
    "foo = foo[~foo.value.isna()]\n",
    "foo.value.value_counts(dropna=False)\n",
    "foo = foo.pivot(index=['mention_id', 'q_id', 'q_category'], columns='annotator', values='value').reset_index()\n",
    "foo = foo[np.logical_and(foo[annotator2id[annotators[0]]].isin(cats), foo[annotator2id[annotators[1]]].isin(cats))]\n",
    "\n",
    "ica[('stance', None)] = compute_metrics(foo[annotator2id[annotators[0]]], foo[annotator2id[annotators[1]]], labels=cats)"
   ]
  },
  {
   "cell_type": "code",
   "execution_count": 162,
   "metadata": {},
   "outputs": [
    {
     "data": {
      "text/html": [
       "<div>\n",
       "<style scoped>\n",
       "    .dataframe tbody tr th:only-of-type {\n",
       "        vertical-align: middle;\n",
       "    }\n",
       "\n",
       "    .dataframe tbody tr th {\n",
       "        vertical-align: top;\n",
       "    }\n",
       "\n",
       "    .dataframe thead th {\n",
       "        text-align: right;\n",
       "    }\n",
       "</style>\n",
       "<table border=\"1\" class=\"dataframe\">\n",
       "  <thead>\n",
       "    <tr style=\"text-align: right;\">\n",
       "      <th></th>\n",
       "      <th>q_id</th>\n",
       "      <th>q_category</th>\n",
       "      <th>label</th>\n",
       "      <th>n</th>\n",
       "      <th>prop_yes</th>\n",
       "      <th>f1_score</th>\n",
       "      <th>cohens_kappa</th>\n",
       "      <th>krippendorff_alpha</th>\n",
       "      <th>f1_score_positive</th>\n",
       "      <th>f1_score_neutral</th>\n",
       "      <th>f1_score_negative</th>\n",
       "    </tr>\n",
       "  </thead>\n",
       "  <tbody>\n",
       "    <tr>\n",
       "      <th>0</th>\n",
       "      <td>data_quality</td>\n",
       "      <td>1</td>\n",
       "      <td>has_formatting_issue</td>\n",
       "      <td>149.0</td>\n",
       "      <td>0.026846</td>\n",
       "      <td>0.000000</td>\n",
       "      <td>0.000000</td>\n",
       "      <td>-0.010204</td>\n",
       "      <td>NaN</td>\n",
       "      <td>NaN</td>\n",
       "      <td>NaN</td>\n",
       "    </tr>\n",
       "    <tr>\n",
       "      <th>1</th>\n",
       "      <td>data_quality</td>\n",
       "      <td>2</td>\n",
       "      <td>has_translation_issue</td>\n",
       "      <td>150.0</td>\n",
       "      <td>0.006667</td>\n",
       "      <td>0.000000</td>\n",
       "      <td>0.000000</td>\n",
       "      <td>0.000000</td>\n",
       "      <td>NaN</td>\n",
       "      <td>NaN</td>\n",
       "      <td>NaN</td>\n",
       "    </tr>\n",
       "    <tr>\n",
       "      <th>2</th>\n",
       "      <td>universal_attributes</td>\n",
       "      <td>NaN</td>\n",
       "      <td>NaN</td>\n",
       "      <td>146.0</td>\n",
       "      <td>0.143836</td>\n",
       "      <td>0.320000</td>\n",
       "      <td>0.259104</td>\n",
       "      <td>0.258876</td>\n",
       "      <td>NaN</td>\n",
       "      <td>NaN</td>\n",
       "      <td>NaN</td>\n",
       "    </tr>\n",
       "    <tr>\n",
       "      <th>3</th>\n",
       "      <td>economic_attributes</td>\n",
       "      <td>1</td>\n",
       "      <td>class membership</td>\n",
       "      <td>144.0</td>\n",
       "      <td>0.048611</td>\n",
       "      <td>0.000000</td>\n",
       "      <td>-0.024390</td>\n",
       "      <td>-0.021352</td>\n",
       "      <td>NaN</td>\n",
       "      <td>NaN</td>\n",
       "      <td>NaN</td>\n",
       "    </tr>\n",
       "    <tr>\n",
       "      <th>4</th>\n",
       "      <td>economic_attributes</td>\n",
       "      <td>2</td>\n",
       "      <td>employment status</td>\n",
       "      <td>148.0</td>\n",
       "      <td>0.128378</td>\n",
       "      <td>0.642857</td>\n",
       "      <td>0.608879</td>\n",
       "      <td>0.606876</td>\n",
       "      <td>NaN</td>\n",
       "      <td>NaN</td>\n",
       "      <td>NaN</td>\n",
       "    </tr>\n",
       "    <tr>\n",
       "      <th>5</th>\n",
       "      <td>economic_attributes</td>\n",
       "      <td>3</td>\n",
       "      <td>education level</td>\n",
       "      <td>150.0</td>\n",
       "      <td>0.080000</td>\n",
       "      <td>0.857143</td>\n",
       "      <td>0.846626</td>\n",
       "      <td>0.846902</td>\n",
       "      <td>NaN</td>\n",
       "      <td>NaN</td>\n",
       "      <td>NaN</td>\n",
       "    </tr>\n",
       "    <tr>\n",
       "      <th>6</th>\n",
       "      <td>economic_attributes</td>\n",
       "      <td>4</td>\n",
       "      <td>income/wealth/economic status</td>\n",
       "      <td>146.0</td>\n",
       "      <td>0.130137</td>\n",
       "      <td>0.914286</td>\n",
       "      <td>0.902710</td>\n",
       "      <td>0.902946</td>\n",
       "      <td>NaN</td>\n",
       "      <td>NaN</td>\n",
       "      <td>NaN</td>\n",
       "    </tr>\n",
       "    <tr>\n",
       "      <th>7</th>\n",
       "      <td>economic_attributes</td>\n",
       "      <td>5</td>\n",
       "      <td>occupation/profession</td>\n",
       "      <td>146.0</td>\n",
       "      <td>0.287671</td>\n",
       "      <td>0.764706</td>\n",
       "      <td>0.695278</td>\n",
       "      <td>0.694328</td>\n",
       "      <td>NaN</td>\n",
       "      <td>NaN</td>\n",
       "      <td>NaN</td>\n",
       "    </tr>\n",
       "    <tr>\n",
       "      <th>8</th>\n",
       "      <td>economic_attributes</td>\n",
       "      <td>6</td>\n",
       "      <td>ecology of group</td>\n",
       "      <td>150.0</td>\n",
       "      <td>0.066667</td>\n",
       "      <td>0.666667</td>\n",
       "      <td>0.649860</td>\n",
       "      <td>0.650292</td>\n",
       "      <td>NaN</td>\n",
       "      <td>NaN</td>\n",
       "      <td>NaN</td>\n",
       "    </tr>\n",
       "    <tr>\n",
       "      <th>9</th>\n",
       "      <td>economic_attributes</td>\n",
       "      <td>7</td>\n",
       "      <td>other</td>\n",
       "      <td>146.0</td>\n",
       "      <td>0.034247</td>\n",
       "      <td>0.000000</td>\n",
       "      <td>-0.011080</td>\n",
       "      <td>-0.013937</td>\n",
       "      <td>NaN</td>\n",
       "      <td>NaN</td>\n",
       "      <td>NaN</td>\n",
       "    </tr>\n",
       "    <tr>\n",
       "      <th>10</th>\n",
       "      <td>non-economic_attributes</td>\n",
       "      <td>1</td>\n",
       "      <td>age</td>\n",
       "      <td>149.0</td>\n",
       "      <td>0.127517</td>\n",
       "      <td>0.733333</td>\n",
       "      <td>0.704071</td>\n",
       "      <td>0.704478</td>\n",
       "      <td>NaN</td>\n",
       "      <td>NaN</td>\n",
       "      <td>NaN</td>\n",
       "    </tr>\n",
       "    <tr>\n",
       "      <th>11</th>\n",
       "      <td>non-economic_attributes</td>\n",
       "      <td>2</td>\n",
       "      <td>family</td>\n",
       "      <td>149.0</td>\n",
       "      <td>0.067114</td>\n",
       "      <td>0.666667</td>\n",
       "      <td>0.651054</td>\n",
       "      <td>0.650177</td>\n",
       "      <td>NaN</td>\n",
       "      <td>NaN</td>\n",
       "      <td>NaN</td>\n",
       "    </tr>\n",
       "    <tr>\n",
       "      <th>12</th>\n",
       "      <td>non-economic_attributes</td>\n",
       "      <td>3</td>\n",
       "      <td>gender/sexuality</td>\n",
       "      <td>149.0</td>\n",
       "      <td>0.046980</td>\n",
       "      <td>0.000000</td>\n",
       "      <td>-0.011639</td>\n",
       "      <td>-0.020619</td>\n",
       "      <td>NaN</td>\n",
       "      <td>NaN</td>\n",
       "      <td>NaN</td>\n",
       "    </tr>\n",
       "    <tr>\n",
       "      <th>13</th>\n",
       "      <td>non-economic_attributes</td>\n",
       "      <td>4</td>\n",
       "      <td>place/location</td>\n",
       "      <td>149.0</td>\n",
       "      <td>0.026846</td>\n",
       "      <td>0.857143</td>\n",
       "      <td>0.853778</td>\n",
       "      <td>0.854197</td>\n",
       "      <td>NaN</td>\n",
       "      <td>NaN</td>\n",
       "      <td>NaN</td>\n",
       "    </tr>\n",
       "    <tr>\n",
       "      <th>14</th>\n",
       "      <td>non-economic_attributes</td>\n",
       "      <td>5</td>\n",
       "      <td>nationality</td>\n",
       "      <td>150.0</td>\n",
       "      <td>0.160000</td>\n",
       "      <td>0.628571</td>\n",
       "      <td>0.581725</td>\n",
       "      <td>0.580916</td>\n",
       "      <td>NaN</td>\n",
       "      <td>NaN</td>\n",
       "      <td>NaN</td>\n",
       "    </tr>\n",
       "    <tr>\n",
       "      <th>15</th>\n",
       "      <td>non-economic_attributes</td>\n",
       "      <td>6</td>\n",
       "      <td>ethnicity</td>\n",
       "      <td>150.0</td>\n",
       "      <td>0.040000</td>\n",
       "      <td>0.666667</td>\n",
       "      <td>0.656489</td>\n",
       "      <td>0.657503</td>\n",
       "      <td>NaN</td>\n",
       "      <td>NaN</td>\n",
       "      <td>NaN</td>\n",
       "    </tr>\n",
       "    <tr>\n",
       "      <th>16</th>\n",
       "      <td>non-economic_attributes</td>\n",
       "      <td>7</td>\n",
       "      <td>religion</td>\n",
       "      <td>150.0</td>\n",
       "      <td>0.033333</td>\n",
       "      <td>0.333333</td>\n",
       "      <td>0.321267</td>\n",
       "      <td>0.321995</td>\n",
       "      <td>NaN</td>\n",
       "      <td>NaN</td>\n",
       "      <td>NaN</td>\n",
       "    </tr>\n",
       "    <tr>\n",
       "      <th>17</th>\n",
       "      <td>non-economic_attributes</td>\n",
       "      <td>8</td>\n",
       "      <td>health</td>\n",
       "      <td>149.0</td>\n",
       "      <td>0.107383</td>\n",
       "      <td>0.400000</td>\n",
       "      <td>0.373072</td>\n",
       "      <td>0.358993</td>\n",
       "      <td>NaN</td>\n",
       "      <td>NaN</td>\n",
       "      <td>NaN</td>\n",
       "    </tr>\n",
       "    <tr>\n",
       "      <th>18</th>\n",
       "      <td>non-economic_attributes</td>\n",
       "      <td>9</td>\n",
       "      <td>crime</td>\n",
       "      <td>150.0</td>\n",
       "      <td>0.080000</td>\n",
       "      <td>0.857143</td>\n",
       "      <td>0.846626</td>\n",
       "      <td>0.846902</td>\n",
       "      <td>NaN</td>\n",
       "      <td>NaN</td>\n",
       "      <td>NaN</td>\n",
       "    </tr>\n",
       "    <tr>\n",
       "      <th>19</th>\n",
       "      <td>non-economic_attributes</td>\n",
       "      <td>10</td>\n",
       "      <td>shared values/mentalities</td>\n",
       "      <td>145.0</td>\n",
       "      <td>0.234483</td>\n",
       "      <td>0.640000</td>\n",
       "      <td>0.565579</td>\n",
       "      <td>0.566500</td>\n",
       "      <td>NaN</td>\n",
       "      <td>NaN</td>\n",
       "      <td>NaN</td>\n",
       "    </tr>\n",
       "    <tr>\n",
       "      <th>20</th>\n",
       "      <td>non-economic_attributes</td>\n",
       "      <td>11</td>\n",
       "      <td>other</td>\n",
       "      <td>149.0</td>\n",
       "      <td>0.067114</td>\n",
       "      <td>0.000000</td>\n",
       "      <td>-0.012228</td>\n",
       "      <td>-0.031250</td>\n",
       "      <td>NaN</td>\n",
       "      <td>NaN</td>\n",
       "      <td>NaN</td>\n",
       "    </tr>\n",
       "    <tr>\n",
       "      <th>21</th>\n",
       "      <td>economic_attributes</td>\n",
       "      <td>overall</td>\n",
       "      <td>NaN</td>\n",
       "      <td>150.0</td>\n",
       "      <td>0.686667</td>\n",
       "      <td>0.898396</td>\n",
       "      <td>0.730573</td>\n",
       "      <td>0.731153</td>\n",
       "      <td>NaN</td>\n",
       "      <td>NaN</td>\n",
       "      <td>NaN</td>\n",
       "    </tr>\n",
       "    <tr>\n",
       "      <th>22</th>\n",
       "      <td>non-economic_attributes</td>\n",
       "      <td>overall</td>\n",
       "      <td>NaN</td>\n",
       "      <td>150.0</td>\n",
       "      <td>0.726667</td>\n",
       "      <td>0.788889</td>\n",
       "      <td>0.475717</td>\n",
       "      <td>0.473981</td>\n",
       "      <td>NaN</td>\n",
       "      <td>NaN</td>\n",
       "      <td>NaN</td>\n",
       "    </tr>\n",
       "    <tr>\n",
       "      <th>23</th>\n",
       "      <td>stance</td>\n",
       "      <td>NaN</td>\n",
       "      <td>NaN</td>\n",
       "      <td>142.0</td>\n",
       "      <td>0.000000</td>\n",
       "      <td>NaN</td>\n",
       "      <td>0.845232</td>\n",
       "      <td>0.845366</td>\n",
       "      <td>0.968037</td>\n",
       "      <td>0.285714</td>\n",
       "      <td>0.931034</td>\n",
       "    </tr>\n",
       "  </tbody>\n",
       "</table>\n",
       "</div>"
      ],
      "text/plain": [
       "                       q_id q_category                          label      n  \\\n",
       "0              data_quality          1           has_formatting_issue  149.0   \n",
       "1              data_quality          2          has_translation_issue  150.0   \n",
       "2      universal_attributes        NaN                            NaN  146.0   \n",
       "3       economic_attributes          1               class membership  144.0   \n",
       "4       economic_attributes          2              employment status  148.0   \n",
       "5       economic_attributes          3                education level  150.0   \n",
       "6       economic_attributes          4  income/wealth/economic status  146.0   \n",
       "7       economic_attributes          5          occupation/profession  146.0   \n",
       "8       economic_attributes          6               ecology of group  150.0   \n",
       "9       economic_attributes          7                          other  146.0   \n",
       "10  non-economic_attributes          1                            age  149.0   \n",
       "11  non-economic_attributes          2                         family  149.0   \n",
       "12  non-economic_attributes          3               gender/sexuality  149.0   \n",
       "13  non-economic_attributes          4                 place/location  149.0   \n",
       "14  non-economic_attributes          5                    nationality  150.0   \n",
       "15  non-economic_attributes          6                      ethnicity  150.0   \n",
       "16  non-economic_attributes          7                       religion  150.0   \n",
       "17  non-economic_attributes          8                         health  149.0   \n",
       "18  non-economic_attributes          9                          crime  150.0   \n",
       "19  non-economic_attributes         10      shared values/mentalities  145.0   \n",
       "20  non-economic_attributes         11                          other  149.0   \n",
       "21      economic_attributes    overall                            NaN  150.0   \n",
       "22  non-economic_attributes    overall                            NaN  150.0   \n",
       "23                   stance        NaN                            NaN  142.0   \n",
       "\n",
       "    prop_yes  f1_score  cohens_kappa  krippendorff_alpha  f1_score_positive  \\\n",
       "0   0.026846  0.000000      0.000000           -0.010204                NaN   \n",
       "1   0.006667  0.000000      0.000000            0.000000                NaN   \n",
       "2   0.143836  0.320000      0.259104            0.258876                NaN   \n",
       "3   0.048611  0.000000     -0.024390           -0.021352                NaN   \n",
       "4   0.128378  0.642857      0.608879            0.606876                NaN   \n",
       "5   0.080000  0.857143      0.846626            0.846902                NaN   \n",
       "6   0.130137  0.914286      0.902710            0.902946                NaN   \n",
       "7   0.287671  0.764706      0.695278            0.694328                NaN   \n",
       "8   0.066667  0.666667      0.649860            0.650292                NaN   \n",
       "9   0.034247  0.000000     -0.011080           -0.013937                NaN   \n",
       "10  0.127517  0.733333      0.704071            0.704478                NaN   \n",
       "11  0.067114  0.666667      0.651054            0.650177                NaN   \n",
       "12  0.046980  0.000000     -0.011639           -0.020619                NaN   \n",
       "13  0.026846  0.857143      0.853778            0.854197                NaN   \n",
       "14  0.160000  0.628571      0.581725            0.580916                NaN   \n",
       "15  0.040000  0.666667      0.656489            0.657503                NaN   \n",
       "16  0.033333  0.333333      0.321267            0.321995                NaN   \n",
       "17  0.107383  0.400000      0.373072            0.358993                NaN   \n",
       "18  0.080000  0.857143      0.846626            0.846902                NaN   \n",
       "19  0.234483  0.640000      0.565579            0.566500                NaN   \n",
       "20  0.067114  0.000000     -0.012228           -0.031250                NaN   \n",
       "21  0.686667  0.898396      0.730573            0.731153                NaN   \n",
       "22  0.726667  0.788889      0.475717            0.473981                NaN   \n",
       "23  0.000000       NaN      0.845232            0.845366           0.968037   \n",
       "\n",
       "    f1_score_neutral  f1_score_negative  \n",
       "0                NaN                NaN  \n",
       "1                NaN                NaN  \n",
       "2                NaN                NaN  \n",
       "3                NaN                NaN  \n",
       "4                NaN                NaN  \n",
       "5                NaN                NaN  \n",
       "6                NaN                NaN  \n",
       "7                NaN                NaN  \n",
       "8                NaN                NaN  \n",
       "9                NaN                NaN  \n",
       "10               NaN                NaN  \n",
       "11               NaN                NaN  \n",
       "12               NaN                NaN  \n",
       "13               NaN                NaN  \n",
       "14               NaN                NaN  \n",
       "15               NaN                NaN  \n",
       "16               NaN                NaN  \n",
       "17               NaN                NaN  \n",
       "18               NaN                NaN  \n",
       "19               NaN                NaN  \n",
       "20               NaN                NaN  \n",
       "21               NaN                NaN  \n",
       "22               NaN                NaN  \n",
       "23          0.285714           0.931034  "
      ]
     },
     "execution_count": 162,
     "metadata": {},
     "output_type": "execute_result"
    }
   ],
   "source": [
    "pd.DataFrame(ica).T.reset_index().rename(columns={'level_0': 'q_id', 'level_1': 'q_category', 'level_2': 'label'})"
   ]
  },
  {
   "cell_type": "markdown",
   "metadata": {},
   "source": [
    "## Export for consolidation"
   ]
  },
  {
   "cell_type": "code",
   "execution_count": 163,
   "metadata": {},
   "outputs": [],
   "source": [
    "annotations.loc[annotations.q_category.isna(), 'q_category'] = -1\n",
    "annotations.loc[annotations.category.isna(), 'category'] = ''"
   ]
  },
  {
   "cell_type": "code",
   "execution_count": 164,
   "metadata": {},
   "outputs": [],
   "source": [
    "comments = annotations[annotations.q_id=='comments'].groupby('mention_id').response.apply(lambda x: x[x.notna()].str.cat(sep='; ')).reset_index()\n",
    "comments.rename(columns={'response': 'coder_comments'}, inplace=True)\n",
    "\n",
    "out = annotations[annotations.q_id.isin(['universal_attributes', 'economic_attributes', 'non-economic_attributes'])]\n",
    "\n",
    "cols = out.columns[:-2].tolist()\n",
    "out = out.groupby(cols)[out.columns].agg({'response': lambda x: '; '.join(x[x.notna()].unique().tolist())}).reset_index()\n",
    "out['coder_disagreement'] = out.response.str.contains('; ')\n",
    "\n",
    "out['q_vals'] = out.q_id.map({'universal_attributes': 1, 'economic_attributes': 2, 'non-economic_attributes': 3})\n",
    "out.sort_values(by=['mention_id', 'q_vals', 'q_category'], inplace=True, ascending=True)\n",
    "del out['q_vals']"
   ]
  },
  {
   "cell_type": "code",
   "execution_count": 165,
   "metadata": {},
   "outputs": [],
   "source": [
    "out = out.merge(comments, on='mention_id', how='left')"
   ]
  },
  {
   "cell_type": "code",
   "execution_count": 166,
   "metadata": {},
   "outputs": [],
   "source": [
    "disagreement_cases = out.groupby('mention_id').filter(lambda x: x.coder_disagreement.any())"
   ]
  },
  {
   "cell_type": "code",
   "execution_count": 168,
   "metadata": {},
   "outputs": [],
   "source": [
    "fp = os.path.join(dest, 'disagreement_cases.tsv')\n",
    "disagreement_cases.to_csv(fp, sep='\\t', index=False)"
   ]
  }
 ],
 "metadata": {
  "kernelspec": {
   "display_name": "galtan_group_appeals",
   "language": "python",
   "name": "python3"
  },
  "language_info": {
   "codemirror_mode": {
    "name": "ipython",
    "version": 3
   },
   "file_extension": ".py",
   "mimetype": "text/x-python",
   "name": "python",
   "nbconvert_exporter": "python",
   "pygments_lexer": "ipython3",
   "version": "3.11.10"
  }
 },
 "nbformat": 4,
 "nbformat_minor": 2
}
