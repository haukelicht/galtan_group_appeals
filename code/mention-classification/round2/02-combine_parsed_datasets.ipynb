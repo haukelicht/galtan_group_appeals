{
 "cells": [
  {
   "cell_type": "code",
   "execution_count": 1,
   "metadata": {},
   "outputs": [],
   "source": [
    "from types import SimpleNamespace\n",
    "\n",
    "args = SimpleNamespace()\n",
    "\n",
    "args.data_path = '../../../data/annotations/group_mention_categorization/social-group-mention-categorization-round02'\n",
    "\n",
    "args.text_data_file = '../../../data/intermediate/social_group_mentions_ranked.tsv'\n",
    "# args.text_col = 'text'\n",
    "# args.text_id_col = 'text_id'\n",
    "# args.mention_col = 'mention'\n",
    "# args.mention_id_col = 'mention_nr'\n",
    "# args.mention_id_format = '{text_id}-{mention_id}'\n",
    "\n",
    "args.attributes_file = '../../../data/annotations/group_mention_categorization/group_attributes_v2.yaml'"
   ]
  },
  {
   "cell_type": "code",
   "execution_count": 2,
   "metadata": {},
   "outputs": [],
   "source": [
    "import os\n",
    "import yaml\n",
    "import pandas as pd"
   ]
  },
  {
   "cell_type": "code",
   "execution_count": 3,
   "metadata": {},
   "outputs": [],
   "source": [
    "with open(args.attributes_file, 'r') as f:\n",
    "    ontology = yaml.load(f, Loader=yaml.FullLoader)\n",
    "\n",
    "attributes = pd.DataFrame([\n",
    "    {\n",
    "        'q_id': a,\n",
    "        'q_category': i,\n",
    "        'label': v,\n",
    "    }\n",
    "    for a, d in ontology['social_group'].items()\n",
    "    for i, v in enumerate(d['attributes'].keys(), start=1)\n",
    "])\n",
    "attributes.q_id = attributes.q_id.str.replace('non_', 'non-')\n",
    "attributes.label = attributes.label.str.replace('<i>Other attribute</i>', 'other')\n",
    "\n",
    "attributes.q_category = attributes.q_category.astype(str)\n",
    "\n",
    "econ_attributes_map = {c: l for _, c, l in attributes.loc[attributes.q_id == 'economic_attributes', ['q_category', 'label']].itertuples()}\n",
    "nonecon_attributes_map = {c: l for _, c, l in attributes.loc[attributes.q_id == 'non-economic_attributes', ['q_category', 'label']].itertuples()}\n",
    "data_quality_map = {'1': 'has_formatting_issue', '2': 'has_translation_issue'}"
   ]
  },
  {
   "cell_type": "code",
   "execution_count": 4,
   "metadata": {},
   "outputs": [],
   "source": [
    "fp = os.path.join(args.data_path, 'parsed', 'reviewed_examples.tsv')\n",
    "consolidated = pd.read_csv(fp, sep='\\t')\n",
    "\n",
    "# apply expert decision to disagreement cases\n",
    "consolidated.loc[consolidated.decision.notna(), 'response'] = consolidated.loc[consolidated.decision.notna(), 'decision']\n",
    "consolidated['response'] = consolidated.response.str.title()\n",
    "\n",
    "consolidated.loc[consolidated.category.isna(), 'category'] = ''"
   ]
  },
  {
   "cell_type": "code",
   "execution_count": 5,
   "metadata": {},
   "outputs": [],
   "source": [
    "fp = os.path.join(args.data_path, 'parsed', 'annotations.tsv')\n",
    "annotations = pd.read_csv(fp, sep='\\t')\n",
    "\n",
    "annotations.loc[annotations.q_category.isna(), 'q_category'] = -1\n",
    "annotations['q_category'] = annotations.q_category.astype(int)\n",
    "annotations.loc[annotations.category.isna(), 'category'] = ''\n",
    "\n",
    "out = annotations[annotations.q_id.isin(['universal_attributes', 'economic_attributes', 'non-economic_attributes'])]\n",
    "\n",
    "cols = out.columns[:-2].tolist()\n",
    "out = out.groupby(cols)[out.columns].agg({'response': lambda x: '; '.join(x[x.notna()].unique().tolist())}).reset_index()\n",
    "out['coder_disagreement'] = out.response.str.contains('; ')\n",
    "\n",
    "out['q_vals'] = out.q_id.map({'universal_attributes': 1, 'economic_attributes': 2, 'non-economic_attributes': 3})\n",
    "out.sort_values(by=['mention_id', 'q_vals', 'q_category'], inplace=True, ascending=True)\n",
    "del out['q_vals']\n",
    "\n",
    "aggreement_cases = out.groupby('mention_id').filter(lambda x: ~x.coder_disagreement.any())\n",
    "del aggreement_cases['coder_disagreement']"
   ]
  },
  {
   "cell_type": "code",
   "execution_count": 7,
   "metadata": {},
   "outputs": [
    {
     "data": {
      "text/plain": [
       "(150, 55, 95)"
      ]
     },
     "execution_count": 7,
     "metadata": {},
     "output_type": "execute_result"
    }
   ],
   "source": [
    "annotations.mention_id.nunique(), aggreement_cases.mention_id.nunique(), consolidated.mention_id.nunique()"
   ]
  },
  {
   "cell_type": "code",
   "execution_count": 8,
   "metadata": {},
   "outputs": [],
   "source": [
    "out = pd.concat([aggreement_cases, consolidated[aggreement_cases.columns]], axis=0, ignore_index=True)"
   ]
  },
  {
   "cell_type": "code",
   "execution_count": 9,
   "metadata": {},
   "outputs": [
    {
     "data": {
      "text/plain": [
       "150"
      ]
     },
     "execution_count": 9,
     "metadata": {},
     "output_type": "execute_result"
    }
   ],
   "source": [
    "out.mention_id.nunique()"
   ]
  },
  {
   "cell_type": "code",
   "execution_count": 10,
   "metadata": {},
   "outputs": [
    {
     "data": {
      "text/plain": [
       "q_id\n",
       "non-economic_attributes    1650\n",
       "economic_attributes        1050\n",
       "universal_attributes        150\n",
       "Name: count, dtype: int64"
      ]
     },
     "execution_count": 10,
     "metadata": {},
     "output_type": "execute_result"
    }
   ],
   "source": [
    "out['q_id'].value_counts()"
   ]
  },
  {
   "cell_type": "code",
   "execution_count": 12,
   "metadata": {},
   "outputs": [
    {
     "data": {
      "text/plain": [
       "response\n",
       "No     134\n",
       "Yes     16\n",
       "Name: count, dtype: int64"
      ]
     },
     "execution_count": 12,
     "metadata": {},
     "output_type": "execute_result"
    }
   ],
   "source": [
    "out.loc[out['q_id']=='universal_attributes', 'response'].value_counts()"
   ]
  },
  {
   "cell_type": "code",
   "execution_count": 13,
   "metadata": {},
   "outputs": [
    {
     "data": {
      "text/html": [
       "<div>\n",
       "<style scoped>\n",
       "    .dataframe tbody tr th:only-of-type {\n",
       "        vertical-align: middle;\n",
       "    }\n",
       "\n",
       "    .dataframe tbody tr th {\n",
       "        vertical-align: top;\n",
       "    }\n",
       "\n",
       "    .dataframe thead th {\n",
       "        text-align: right;\n",
       "    }\n",
       "</style>\n",
       "<table border=\"1\" class=\"dataframe\">\n",
       "  <thead>\n",
       "    <tr style=\"text-align: right;\">\n",
       "      <th>response</th>\n",
       "      <th>No</th>\n",
       "      <th>Yes</th>\n",
       "    </tr>\n",
       "    <tr>\n",
       "      <th>category</th>\n",
       "      <th></th>\n",
       "      <th></th>\n",
       "    </tr>\n",
       "  </thead>\n",
       "  <tbody>\n",
       "    <tr>\n",
       "      <th>class membership</th>\n",
       "      <td>140.0</td>\n",
       "      <td>10.0</td>\n",
       "    </tr>\n",
       "    <tr>\n",
       "      <th>ecology of group</th>\n",
       "      <td>144.0</td>\n",
       "      <td>6.0</td>\n",
       "    </tr>\n",
       "    <tr>\n",
       "      <th>education level</th>\n",
       "      <td>141.0</td>\n",
       "      <td>9.0</td>\n",
       "    </tr>\n",
       "    <tr>\n",
       "      <th>employment status</th>\n",
       "      <td>132.0</td>\n",
       "      <td>18.0</td>\n",
       "    </tr>\n",
       "    <tr>\n",
       "      <th>income/wealth/economic status</th>\n",
       "      <td>129.0</td>\n",
       "      <td>21.0</td>\n",
       "    </tr>\n",
       "    <tr>\n",
       "      <th>occupation/profession</th>\n",
       "      <td>114.0</td>\n",
       "      <td>36.0</td>\n",
       "    </tr>\n",
       "    <tr>\n",
       "      <th>other</th>\n",
       "      <td>150.0</td>\n",
       "      <td>NaN</td>\n",
       "    </tr>\n",
       "  </tbody>\n",
       "</table>\n",
       "</div>"
      ],
      "text/plain": [
       "response                          No   Yes\n",
       "category                                  \n",
       "class membership               140.0  10.0\n",
       "ecology of group               144.0   6.0\n",
       "education level                141.0   9.0\n",
       "employment status              132.0  18.0\n",
       "income/wealth/economic status  129.0  21.0\n",
       "occupation/profession          114.0  36.0\n",
       "other                          150.0   NaN"
      ]
     },
     "execution_count": 13,
     "metadata": {},
     "output_type": "execute_result"
    }
   ],
   "source": [
    "out.loc[out['q_id']=='economic_attributes', ['category', 'response']].value_counts(sort=False).unstack()"
   ]
  },
  {
   "cell_type": "code",
   "execution_count": 14,
   "metadata": {},
   "outputs": [
    {
     "data": {
      "text/html": [
       "<div>\n",
       "<style scoped>\n",
       "    .dataframe tbody tr th:only-of-type {\n",
       "        vertical-align: middle;\n",
       "    }\n",
       "\n",
       "    .dataframe tbody tr th {\n",
       "        vertical-align: top;\n",
       "    }\n",
       "\n",
       "    .dataframe thead th {\n",
       "        text-align: right;\n",
       "    }\n",
       "</style>\n",
       "<table border=\"1\" class=\"dataframe\">\n",
       "  <thead>\n",
       "    <tr style=\"text-align: right;\">\n",
       "      <th>response</th>\n",
       "      <th>No</th>\n",
       "      <th>Yes</th>\n",
       "    </tr>\n",
       "    <tr>\n",
       "      <th>category</th>\n",
       "      <th></th>\n",
       "      <th></th>\n",
       "    </tr>\n",
       "  </thead>\n",
       "  <tbody>\n",
       "    <tr>\n",
       "      <th>age</th>\n",
       "      <td>138</td>\n",
       "      <td>12</td>\n",
       "    </tr>\n",
       "    <tr>\n",
       "      <th>crime</th>\n",
       "      <td>141</td>\n",
       "      <td>9</td>\n",
       "    </tr>\n",
       "    <tr>\n",
       "      <th>ethnicity</th>\n",
       "      <td>146</td>\n",
       "      <td>4</td>\n",
       "    </tr>\n",
       "    <tr>\n",
       "      <th>family</th>\n",
       "      <td>144</td>\n",
       "      <td>6</td>\n",
       "    </tr>\n",
       "    <tr>\n",
       "      <th>gender/sexuality</th>\n",
       "      <td>147</td>\n",
       "      <td>3</td>\n",
       "    </tr>\n",
       "    <tr>\n",
       "      <th>health</th>\n",
       "      <td>139</td>\n",
       "      <td>11</td>\n",
       "    </tr>\n",
       "    <tr>\n",
       "      <th>nationality</th>\n",
       "      <td>135</td>\n",
       "      <td>15</td>\n",
       "    </tr>\n",
       "    <tr>\n",
       "      <th>other</th>\n",
       "      <td>145</td>\n",
       "      <td>5</td>\n",
       "    </tr>\n",
       "    <tr>\n",
       "      <th>place/location</th>\n",
       "      <td>146</td>\n",
       "      <td>4</td>\n",
       "    </tr>\n",
       "    <tr>\n",
       "      <th>religion</th>\n",
       "      <td>147</td>\n",
       "      <td>3</td>\n",
       "    </tr>\n",
       "    <tr>\n",
       "      <th>shared values/mentalities</th>\n",
       "      <td>117</td>\n",
       "      <td>33</td>\n",
       "    </tr>\n",
       "  </tbody>\n",
       "</table>\n",
       "</div>"
      ],
      "text/plain": [
       "response                    No  Yes\n",
       "category                           \n",
       "age                        138   12\n",
       "crime                      141    9\n",
       "ethnicity                  146    4\n",
       "family                     144    6\n",
       "gender/sexuality           147    3\n",
       "health                     139   11\n",
       "nationality                135   15\n",
       "other                      145    5\n",
       "place/location             146    4\n",
       "religion                   147    3\n",
       "shared values/mentalities  117   33"
      ]
     },
     "execution_count": 14,
     "metadata": {},
     "output_type": "execute_result"
    }
   ],
   "source": [
    "out.loc[out['q_id']=='non-economic_attributes', ['category', 'response']].value_counts(sort=False).unstack()"
   ]
  },
  {
   "cell_type": "code",
   "execution_count": 15,
   "metadata": {},
   "outputs": [
    {
     "data": {
      "text/plain": [
       "0"
      ]
     },
     "execution_count": 15,
     "metadata": {},
     "output_type": "execute_result"
    }
   ],
   "source": [
    "# # sanity check\n",
    "# out.apply(lambda r: r.mention not in r.text, axis=1).sum()"
   ]
  },
  {
   "cell_type": "code",
   "execution_count": 16,
   "metadata": {},
   "outputs": [],
   "source": [
    "texts = pd.read_csv(args.text_data_file, sep='\\t')\n",
    "texts['mention_id'] = texts.text_id.astype(str) + '-' + texts.mention_nr.astype(str)\n",
    "texts = texts[['mention_id', 'prev_texts', 'next_texts']]"
   ]
  },
  {
   "cell_type": "code",
   "execution_count": 17,
   "metadata": {},
   "outputs": [],
   "source": [
    "df = out.merge(texts, how='left', indicator=True)\n",
    "assert all(df._merge == 'both')"
   ]
  },
  {
   "cell_type": "code",
   "execution_count": 18,
   "metadata": {},
   "outputs": [],
   "source": [
    "df.rename(columns={'response': 'label'}, inplace=True)"
   ]
  },
  {
   "cell_type": "code",
   "execution_count": 19,
   "metadata": {},
   "outputs": [],
   "source": [
    "cols = ['mention_id', 'text', 'mention', 'prev_texts', 'next_texts', 'q_id', 'q_category', 'category', 'label']\n",
    "df = df[cols]"
   ]
  },
  {
   "cell_type": "code",
   "execution_count": 20,
   "metadata": {},
   "outputs": [
    {
     "data": {
      "text/html": [
       "<div>\n",
       "<style scoped>\n",
       "    .dataframe tbody tr th:only-of-type {\n",
       "        vertical-align: middle;\n",
       "    }\n",
       "\n",
       "    .dataframe tbody tr th {\n",
       "        vertical-align: top;\n",
       "    }\n",
       "\n",
       "    .dataframe thead th {\n",
       "        text-align: right;\n",
       "    }\n",
       "</style>\n",
       "<table border=\"1\" class=\"dataframe\">\n",
       "  <thead>\n",
       "    <tr style=\"text-align: right;\">\n",
       "      <th></th>\n",
       "      <th>mention_id</th>\n",
       "      <th>text</th>\n",
       "      <th>mention</th>\n",
       "      <th>prev_texts</th>\n",
       "      <th>next_texts</th>\n",
       "      <th>q_id</th>\n",
       "      <th>q_category</th>\n",
       "      <th>category</th>\n",
       "      <th>label</th>\n",
       "    </tr>\n",
       "  </thead>\n",
       "  <tbody>\n",
       "    <tr>\n",
       "      <th>0</th>\n",
       "      <td>11110_200209-393006-1</td>\n",
       "      <td>Students with children have great difficulties...</td>\n",
       "      <td>Students with children</td>\n",
       "      <td>The school should have the resources to carry ...</td>\n",
       "      <td>We want to reintroduce a child allowance.\\nAs ...</td>\n",
       "      <td>universal_attributes</td>\n",
       "      <td>-1</td>\n",
       "      <td></td>\n",
       "      <td>No</td>\n",
       "    </tr>\n",
       "    <tr>\n",
       "      <th>1</th>\n",
       "      <td>11110_200209-393006-1</td>\n",
       "      <td>Students with children have great difficulties...</td>\n",
       "      <td>Students with children</td>\n",
       "      <td>The school should have the resources to carry ...</td>\n",
       "      <td>We want to reintroduce a child allowance.\\nAs ...</td>\n",
       "      <td>economic_attributes</td>\n",
       "      <td>1</td>\n",
       "      <td>class membership</td>\n",
       "      <td>No</td>\n",
       "    </tr>\n",
       "    <tr>\n",
       "      <th>2</th>\n",
       "      <td>11110_200209-393006-1</td>\n",
       "      <td>Students with children have great difficulties...</td>\n",
       "      <td>Students with children</td>\n",
       "      <td>The school should have the resources to carry ...</td>\n",
       "      <td>We want to reintroduce a child allowance.\\nAs ...</td>\n",
       "      <td>economic_attributes</td>\n",
       "      <td>2</td>\n",
       "      <td>employment status</td>\n",
       "      <td>No</td>\n",
       "    </tr>\n",
       "    <tr>\n",
       "      <th>3</th>\n",
       "      <td>11110_200209-393006-1</td>\n",
       "      <td>Students with children have great difficulties...</td>\n",
       "      <td>Students with children</td>\n",
       "      <td>The school should have the resources to carry ...</td>\n",
       "      <td>We want to reintroduce a child allowance.\\nAs ...</td>\n",
       "      <td>economic_attributes</td>\n",
       "      <td>3</td>\n",
       "      <td>education level</td>\n",
       "      <td>Yes</td>\n",
       "    </tr>\n",
       "    <tr>\n",
       "      <th>4</th>\n",
       "      <td>11110_200209-393006-1</td>\n",
       "      <td>Students with children have great difficulties...</td>\n",
       "      <td>Students with children</td>\n",
       "      <td>The school should have the resources to carry ...</td>\n",
       "      <td>We want to reintroduce a child allowance.\\nAs ...</td>\n",
       "      <td>economic_attributes</td>\n",
       "      <td>4</td>\n",
       "      <td>income/wealth/economic status</td>\n",
       "      <td>No</td>\n",
       "    </tr>\n",
       "    <tr>\n",
       "      <th>...</th>\n",
       "      <td>...</td>\n",
       "      <td>...</td>\n",
       "      <td>...</td>\n",
       "      <td>...</td>\n",
       "      <td>...</td>\n",
       "      <td>...</td>\n",
       "      <td>...</td>\n",
       "      <td>...</td>\n",
       "      <td>...</td>\n",
       "    </tr>\n",
       "    <tr>\n",
       "      <th>2845</th>\n",
       "      <td>97710_200809-386883-4</td>\n",
       "      <td>new employment opportunities according to the ...</td>\n",
       "      <td>foreign workforce</td>\n",
       "      <td>We advocate for:\\nElimination of all new busin...</td>\n",
       "      <td>Childcare, Education, Culture and Sport\\nWe ad...</td>\n",
       "      <td>non-economic_attributes</td>\n",
       "      <td>5</td>\n",
       "      <td>nationality</td>\n",
       "      <td>Yes</td>\n",
       "    </tr>\n",
       "    <tr>\n",
       "      <th>2846</th>\n",
       "      <td>97710_200809-386883-4</td>\n",
       "      <td>new employment opportunities according to the ...</td>\n",
       "      <td>foreign workforce</td>\n",
       "      <td>We advocate for:\\nElimination of all new busin...</td>\n",
       "      <td>Childcare, Education, Culture and Sport\\nWe ad...</td>\n",
       "      <td>non-economic_attributes</td>\n",
       "      <td>6</td>\n",
       "      <td>ethnicity</td>\n",
       "      <td>No</td>\n",
       "    </tr>\n",
       "    <tr>\n",
       "      <th>2847</th>\n",
       "      <td>97710_200809-386883-4</td>\n",
       "      <td>new employment opportunities according to the ...</td>\n",
       "      <td>foreign workforce</td>\n",
       "      <td>We advocate for:\\nElimination of all new busin...</td>\n",
       "      <td>Childcare, Education, Culture and Sport\\nWe ad...</td>\n",
       "      <td>non-economic_attributes</td>\n",
       "      <td>7</td>\n",
       "      <td>religion</td>\n",
       "      <td>No</td>\n",
       "    </tr>\n",
       "    <tr>\n",
       "      <th>2848</th>\n",
       "      <td>97710_200809-386883-4</td>\n",
       "      <td>new employment opportunities according to the ...</td>\n",
       "      <td>foreign workforce</td>\n",
       "      <td>We advocate for:\\nElimination of all new busin...</td>\n",
       "      <td>Childcare, Education, Culture and Sport\\nWe ad...</td>\n",
       "      <td>non-economic_attributes</td>\n",
       "      <td>8</td>\n",
       "      <td>health</td>\n",
       "      <td>No</td>\n",
       "    </tr>\n",
       "    <tr>\n",
       "      <th>2849</th>\n",
       "      <td>97710_200809-386883-4</td>\n",
       "      <td>new employment opportunities according to the ...</td>\n",
       "      <td>foreign workforce</td>\n",
       "      <td>We advocate for:\\nElimination of all new busin...</td>\n",
       "      <td>Childcare, Education, Culture and Sport\\nWe ad...</td>\n",
       "      <td>non-economic_attributes</td>\n",
       "      <td>9</td>\n",
       "      <td>crime</td>\n",
       "      <td>No</td>\n",
       "    </tr>\n",
       "  </tbody>\n",
       "</table>\n",
       "<p>2850 rows × 9 columns</p>\n",
       "</div>"
      ],
      "text/plain": [
       "                 mention_id  \\\n",
       "0     11110_200209-393006-1   \n",
       "1     11110_200209-393006-1   \n",
       "2     11110_200209-393006-1   \n",
       "3     11110_200209-393006-1   \n",
       "4     11110_200209-393006-1   \n",
       "...                     ...   \n",
       "2845  97710_200809-386883-4   \n",
       "2846  97710_200809-386883-4   \n",
       "2847  97710_200809-386883-4   \n",
       "2848  97710_200809-386883-4   \n",
       "2849  97710_200809-386883-4   \n",
       "\n",
       "                                                   text  \\\n",
       "0     Students with children have great difficulties...   \n",
       "1     Students with children have great difficulties...   \n",
       "2     Students with children have great difficulties...   \n",
       "3     Students with children have great difficulties...   \n",
       "4     Students with children have great difficulties...   \n",
       "...                                                 ...   \n",
       "2845  new employment opportunities according to the ...   \n",
       "2846  new employment opportunities according to the ...   \n",
       "2847  new employment opportunities according to the ...   \n",
       "2848  new employment opportunities according to the ...   \n",
       "2849  new employment opportunities according to the ...   \n",
       "\n",
       "                     mention  \\\n",
       "0     Students with children   \n",
       "1     Students with children   \n",
       "2     Students with children   \n",
       "3     Students with children   \n",
       "4     Students with children   \n",
       "...                      ...   \n",
       "2845       foreign workforce   \n",
       "2846       foreign workforce   \n",
       "2847       foreign workforce   \n",
       "2848       foreign workforce   \n",
       "2849       foreign workforce   \n",
       "\n",
       "                                             prev_texts  \\\n",
       "0     The school should have the resources to carry ...   \n",
       "1     The school should have the resources to carry ...   \n",
       "2     The school should have the resources to carry ...   \n",
       "3     The school should have the resources to carry ...   \n",
       "4     The school should have the resources to carry ...   \n",
       "...                                                 ...   \n",
       "2845  We advocate for:\\nElimination of all new busin...   \n",
       "2846  We advocate for:\\nElimination of all new busin...   \n",
       "2847  We advocate for:\\nElimination of all new busin...   \n",
       "2848  We advocate for:\\nElimination of all new busin...   \n",
       "2849  We advocate for:\\nElimination of all new busin...   \n",
       "\n",
       "                                             next_texts  \\\n",
       "0     We want to reintroduce a child allowance.\\nAs ...   \n",
       "1     We want to reintroduce a child allowance.\\nAs ...   \n",
       "2     We want to reintroduce a child allowance.\\nAs ...   \n",
       "3     We want to reintroduce a child allowance.\\nAs ...   \n",
       "4     We want to reintroduce a child allowance.\\nAs ...   \n",
       "...                                                 ...   \n",
       "2845  Childcare, Education, Culture and Sport\\nWe ad...   \n",
       "2846  Childcare, Education, Culture and Sport\\nWe ad...   \n",
       "2847  Childcare, Education, Culture and Sport\\nWe ad...   \n",
       "2848  Childcare, Education, Culture and Sport\\nWe ad...   \n",
       "2849  Childcare, Education, Culture and Sport\\nWe ad...   \n",
       "\n",
       "                         q_id  q_category                       category label  \n",
       "0        universal_attributes          -1                                   No  \n",
       "1         economic_attributes           1               class membership    No  \n",
       "2         economic_attributes           2              employment status    No  \n",
       "3         economic_attributes           3                education level   Yes  \n",
       "4         economic_attributes           4  income/wealth/economic status    No  \n",
       "...                       ...         ...                            ...   ...  \n",
       "2845  non-economic_attributes           5                    nationality   Yes  \n",
       "2846  non-economic_attributes           6                      ethnicity    No  \n",
       "2847  non-economic_attributes           7                       religion    No  \n",
       "2848  non-economic_attributes           8                         health    No  \n",
       "2849  non-economic_attributes           9                          crime    No  \n",
       "\n",
       "[2850 rows x 9 columns]"
      ]
     },
     "execution_count": 20,
     "metadata": {},
     "output_type": "execute_result"
    }
   ],
   "source": [
    "df"
   ]
  },
  {
   "cell_type": "code",
   "execution_count": 21,
   "metadata": {},
   "outputs": [],
   "source": [
    "fp = os.path.join(args.data_path, 'parsed', 'consolidated_annotations.tsv')\n",
    "df.to_csv(fp, sep='\\t', index=False)"
   ]
  }
 ],
 "metadata": {
  "kernelspec": {
   "display_name": "galtan_group_appeals",
   "language": "python",
   "name": "python3"
  },
  "language_info": {
   "codemirror_mode": {
    "name": "ipython",
    "version": 3
   },
   "file_extension": ".py",
   "mimetype": "text/x-python",
   "name": "python",
   "nbconvert_exporter": "python",
   "pygments_lexer": "ipython3",
   "version": "3.11.10"
  }
 },
 "nbformat": 4,
 "nbformat_minor": 2
}
