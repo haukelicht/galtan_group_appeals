{
 "cells": [
  {
   "cell_type": "markdown",
   "metadata": {},
   "source": [
    "This notebook focuses on the **goal of assigning verbatim group mentions into higerh-level categories that reflects the actual groups that are being mentioned**. \n",
    "There are several different ways to refer to the same group.\n",
    "For example, one can say \"people with children,\" \"people with kids\", or \"fathers and mothers\" to refer the group *parents* (sorry for the heteronormative example).\n",
    "These three different ways of referring to parents are essentially paraphrases which we want to map to the (latent) group \"entity\" *parents*.\n",
    "\n",
    "The problem is that we only have the text of the verbatim group mentions and **no complete knowledge of the full list of group categories** these mentions belong to.\n",
    "\n",
    "We thus take an **inductive approach** and cluster the observed mentions to arrive at a mapping of verbatim group mentions to the group entities they represent.\n",
    "\n",
    "In particular, we use a pre-trained text embedding model to generate embeddings for the (predicted) verbatim group mentions in our dataset.\n",
    "We then explore two different clustering approaches to organize the mentions into entity groups:\n",
    "\n",
    "1. Density-based hierarchical clustering: This approach uses (lower-dimensional representations of) verbatim mentions' text embeddings, starts with a clustering solution that treats each mention as its own cluster, and then merges clusters based on a density criterion.\n",
    "2. Graph-based community detection: This approach uses a graph representation of the mentions, where the mentions are the nodes and edges indicate pair-wise similaritiy relations between verbatim mentions  (using cosine similarity scores of mentions' embeddings as weights), and applies community detection algorithms to identify groups of mentions that are semantically relatively similarto each other than to other mentions."
   ]
  },
  {
   "cell_type": "markdown",
   "metadata": {},
   "source": [
    "## load and prepare the data"
   ]
  },
  {
   "cell_type": "code",
   "execution_count": 1,
   "metadata": {},
   "outputs": [],
   "source": [
    "import os\n",
    "\n",
    "data_path = os.path.join('..', '..', 'data')"
   ]
  },
  {
   "cell_type": "code",
   "execution_count": 2,
   "metadata": {},
   "outputs": [],
   "source": [
    "import pandas as pd\n",
    "\n",
    "fp = os.path.join(data_path, 'labeled', 'manifesto_sentences_predicted_group_mentions_spans.tsv')\n",
    "# NOTE: you could also load the file with mention's predicted attribute dimension classifications\n",
    "\n",
    "df = pd.read_csv(fp, sep='\\t', usecols=['sentence_id', 'span_nr', 'text', 'label'])"
   ]
  },
  {
   "cell_type": "code",
   "execution_count": 3,
   "metadata": {},
   "outputs": [],
   "source": [
    "max_spans = df['span_nr'].max()\n",
    "df['mention_id'] = df['sentence_id'].astype(str) + '-' + df['span_nr'].astype(str).str.zfill(len(str(max_spans)))\n",
    "del df['sentence_id']\n",
    "del df['span_nr']"
   ]
  },
  {
   "cell_type": "code",
   "execution_count": 4,
   "metadata": {},
   "outputs": [],
   "source": [
    "# subset to social group mentions\n",
    "df = df[df.label == 'social group']"
   ]
  },
  {
   "cell_type": "code",
   "execution_count": 5,
   "metadata": {},
   "outputs": [],
   "source": [
    "# remove group type labels (not needed)\n",
    "del df['label']"
   ]
  },
  {
   "cell_type": "code",
   "execution_count": 6,
   "metadata": {},
   "outputs": [],
   "source": [
    "# drop verbatim duplicates\n",
    "df = df.groupby('text').agg({'mention_id': ('count', list)}).reset_index()\n",
    "df.columns = ['text', 'n', 'mention_ids']"
   ]
  },
  {
   "cell_type": "code",
   "execution_count": 7,
   "metadata": {},
   "outputs": [],
   "source": [
    "import regex\n",
    "valid = df['text'].apply(lambda x: bool(regex.search(r'\\p{L}', x)))\n",
    "df = df[valid]"
   ]
  },
  {
   "cell_type": "code",
   "execution_count": 8,
   "metadata": {},
   "outputs": [
    {
     "name": "stderr",
     "output_type": "stream",
     "text": [
      "stdbuf was not found; communication with perl may hang due to stdio buffering.\n"
     ]
    }
   ],
   "source": [
    "from mosestokenizer import MosesPunctuationNormalizer\n",
    "\n",
    "normalizer = MosesPunctuationNormalizer('en')\n",
    "\n",
    "df['text'] = df.text.map(normalizer).str.replace(r'[\"\\']', '', regex=True).str.strip()"
   ]
  },
  {
   "cell_type": "code",
   "execution_count": 9,
   "metadata": {},
   "outputs": [
    {
     "data": {
      "text/plain": [
       "68316"
      ]
     },
     "execution_count": 9,
     "metadata": {},
     "output_type": "execute_result"
    }
   ],
   "source": [
    "len(df)"
   ]
  },
  {
   "cell_type": "code",
   "execution_count": 10,
   "metadata": {},
   "outputs": [],
   "source": [
    "# NOTE: we sample for testing purposes\n",
    "df_sample = df.sample(10_000, random_state=42).reset_index(drop=True)"
   ]
  },
  {
   "cell_type": "markdown",
   "metadata": {},
   "source": [
    "## Evaluation"
   ]
  },
  {
   "cell_type": "markdown",
   "metadata": {},
   "source": [
    "We define a bunch of utility functions that will help us to quantitatively compare different clustering solutions.\n",
    "This will allow us to evaluate the quality of the clustering solutions and to compare the two clustering approaches across and within."
   ]
  },
  {
   "cell_type": "markdown",
   "metadata": {},
   "source": [
    "### Descriptives"
   ]
  },
  {
   "cell_type": "code",
   "execution_count": 12,
   "metadata": {},
   "outputs": [],
   "source": [
    "import numpy as np\n",
    "from collections import Counter\n",
    "from typing import List, Dict, Union\n",
    "from numpy._typing import NDArray\n",
    "\n",
    "def compute_cluster_descriptives(labels: Union[List, NDArray]) -> Dict:\n",
    "    stats = {}\n",
    "    # N\n",
    "    stats['n_samples'] = len(labels)\n",
    "    # N clusters\n",
    "    stats['n_cluster'] = len(set(labels))\n",
    "    # percentiles of cluster sizes\n",
    "    cnts = Counter(labels)\n",
    "    cluster_sizes = list(cnts.values())\n",
    "    qs = [0.01, 0.05, 0.1, 0.25, 0.5, 0.75, 0.9, 0.95, 0.99]\n",
    "    stats['size_quantiles'] = dict(zip(qs, np.quantile(np.array(cluster_sizes), qs)))\n",
    "    return stats\n",
    "# # test\n",
    "# import random\n",
    "# tmp = [1,2,3,4,5]\n",
    "# labels = random.choices(tmp, k=500)\n",
    "# compute_cluster_descriptives(labels)"
   ]
  },
  {
   "cell_type": "markdown",
   "metadata": {},
   "source": [
    "### Unsupervised metrics"
   ]
  },
  {
   "cell_type": "code",
   "execution_count": 13,
   "metadata": {},
   "outputs": [],
   "source": [
    "# compute unsuperivsed cluster eval metrics\n",
    "from sklearn.metrics import silhouette_score, calinski_harabasz_score, davies_bouldin_score\n",
    "from typing import List, Dict, Union, Optional\n",
    "from numpy._typing import NDArray\n",
    "\n",
    "\n",
    "def compute_unsupervised_metrics(\n",
    "        labels: Union[List, NDArray], \n",
    "        features: NDArray, \n",
    "        indexes: Optional[List] = None\n",
    "    ) -> Dict:\n",
    "    if isinstance(labels, np.ndarray):\n",
    "        assert labels.ndim == 1, 'labels must be a list or 1D array'\n",
    "    assert isinstance(features, np.ndarray), 'features must be a numpy array'\n",
    "    assert features.ndim == 2, 'features must be a 2D array'\n",
    "    if indexes is None:\n",
    "        indexes = list(range(features.shape[0]))\n",
    "    m = {\n",
    "        'silhouette_score': silhouette_score(features[indexes], labels), # ranges from -1 to 1, higher is better\n",
    "        'calinski_harabasz_score': calinski_harabasz_score(features[indexes], labels), # ranges from 0 to inf, higher is better\n",
    "        'davies_bouldin_score': davies_bouldin_score(features[indexes], labels), # ranges from 0 to inf, lower is better\n",
    "    }\n",
    "    return m"
   ]
  },
  {
   "cell_type": "markdown",
   "metadata": {},
   "source": [
    "### DEPRECATED: Supervised metrics\n",
    "\n",
    "Because we do not have ground truth class labels that indicate group entity identities, we use pairwise must-link and cannot-link classifications for supervised evaluation."
   ]
  },
  {
   "cell_type": "code",
   "execution_count": null,
   "metadata": {},
   "outputs": [],
   "source": [
    "# fp = os.path.join(data_path, 'annotations', 'group_mention_categorization', 'social-group-mentions-pair-classification/llm_annotations.tsv')\n",
    "# labeled = pd.read_csv(fp, sep='\\t', usecols=['mention_a', 'mention_b', 'classification'])\n",
    "# \n",
    "# # add data indexes for item one in pair\n",
    "# labeled = pd.merge(\n",
    "#     labeled,\n",
    "#     df[['text']].reset_index(),\n",
    "#     left_on='mention_a',\n",
    "#     right_on='text',\n",
    "#     how='inner',\n",
    "# ).rename(columns={'index': 'index_a'}).drop(columns='text')\n",
    "# \n",
    "# # add data indexes for item two in pair\n",
    "# labeled = pd.merge(\n",
    "#     labeled,\n",
    "#     df[['text']].reset_index(),\n",
    "#     left_on='mention_b',\n",
    "#     right_on='text',\n",
    "#     how='inner',\n",
    "# ).rename(columns={'index': 'index_b'}).drop(columns='text')"
   ]
  },
  {
   "cell_type": "code",
   "execution_count": null,
   "metadata": {},
   "outputs": [],
   "source": [
    "# label2id = {'yes': 1, 'no': 0}\n",
    "# labeled['label'] = labeled['classification'].map(label2id)"
   ]
  },
  {
   "cell_type": "code",
   "execution_count": 12,
   "metadata": {},
   "outputs": [],
   "source": [
    "# from sklearn.metrics import adjusted_rand_score\n",
    "# from typing import List, Dict, Union, Tuple, Literal\n",
    "\n",
    "# def compute_supervised_metrics(\n",
    "#         labels: Union[List, NDArray], \n",
    "#         pairwise_constraints: List[Tuple[int, int, Literal[0, 1]]]\n",
    "#     ) -> Dict:\n",
    "#     \"\"\"\n",
    "#     Evaluates clustering performance based on pairwise must-link and cannot-link constraints.\n",
    "\n",
    "#     Parameters:\n",
    "#     - labels: A list or array of cluster assignments for each item.\n",
    "#     - pairwise_constraints: A list of tuples [(idx1, idx2, label)], where\n",
    "#         idx1, idx2 are indices of items, and label is 1 (must-link) or 0 (cannot-link).\n",
    "\n",
    "#     Returns:\n",
    "#     - A dictionary of evaluation metrics.\n",
    "#     \"\"\"\n",
    "#     true_must_links = 0\n",
    "#     true_cannot_links = 0\n",
    "#     predicted_must_links = 0\n",
    "#     predicted_cannot_links = 0\n",
    "#     must_link_violations = 0\n",
    "#     cannot_link_violations = 0\n",
    "#     total_constraints = len(pairwise_constraints)\n",
    "\n",
    "#     for idx1, idx2, label in pairwise_constraints:\n",
    "#         same_cluster = labels[idx1] == labels[idx2]\n",
    "#         if label == 1:  # Must-link constraint\n",
    "#             if same_cluster:\n",
    "#                 true_must_links += 1\n",
    "#             else:\n",
    "#                 must_link_violations += 1\n",
    "#             predicted_must_links += 1\n",
    "#         elif label == 0:  # Cannot-link constraint\n",
    "#             if not same_cluster:\n",
    "#                 true_cannot_links += 1\n",
    "#             else:\n",
    "#                 cannot_link_violations += 1\n",
    "#             predicted_cannot_links += 1\n",
    "\n",
    "#     # Metrics\n",
    "#     must_link_precision = true_must_links / predicted_must_links if predicted_must_links > 0 else 0\n",
    "#     must_link_recall = true_must_links / (true_must_links + must_link_violations) if true_must_links + must_link_violations > 0 else 0\n",
    "#     cannot_link_precision = true_cannot_links / predicted_cannot_links if predicted_cannot_links > 0 else 0\n",
    "#     cannot_link_recall = true_cannot_links / (true_cannot_links + cannot_link_violations) if true_cannot_links + cannot_link_violations > 0 else 0\n",
    "\n",
    "#     # Pairwise F1 Scores\n",
    "#     must_link_f1 = (\n",
    "#         2 * must_link_precision * must_link_recall / (must_link_precision + must_link_recall)\n",
    "#         if must_link_precision + must_link_recall > 0 else 0\n",
    "#     )\n",
    "#     cannot_link_f1 = (\n",
    "#         2 * cannot_link_precision * cannot_link_recall / (cannot_link_precision + cannot_link_recall)\n",
    "#         if cannot_link_precision + cannot_link_recall > 0 else 0\n",
    "#     )\n",
    "\n",
    "#     # Accuracy\n",
    "#     pairwise_accuracy = (true_must_links + true_cannot_links) / total_constraints if total_constraints > 0 else 0\n",
    "\n",
    "#     # Adjusted Rand Index (uses full pairwise info)\n",
    "#     true_labels = []\n",
    "#     predicted_labels = []\n",
    "#     for idx1, idx2, label in pairwise_constraints:\n",
    "#         true_labels.append(label)\n",
    "#         predicted_labels.append(1 if labels[idx1] == labels[idx2] else 0)\n",
    "#     adjusted_rand_idx = adjusted_rand_score(true_labels, predicted_labels)\n",
    "\n",
    "#     # Constraint Violation Score\n",
    "#     constraint_violation_score = (must_link_violations + cannot_link_violations) / total_constraints if total_constraints > 0 else 0\n",
    "\n",
    "#     return {\n",
    "#         \"macro_f1\": (must_link_f1 + cannot_link_f1) / 2,\n",
    "#         \"must_link_precision\": must_link_precision,\n",
    "#         \"must_link_recall\": must_link_recall,\n",
    "#         \"must_link_f1\": must_link_f1,\n",
    "#         \"cannot_link_precision\": cannot_link_precision,\n",
    "#         \"cannot_link_recall\": cannot_link_recall,\n",
    "#         \"cannot_link_f1\": cannot_link_f1,\n",
    "#         \"pairwise_accuracy\": pairwise_accuracy,\n",
    "#         \"adjusted_rand_index\": adjusted_rand_idx,\n",
    "#         \"constraint_violation_score\": constraint_violation_score\n",
    "#     }\n",
    "# # test\n",
    "# # pairwise_constraints = [\n",
    "# #     (0, 1, 1),  # Must-link between item 0 and 1\n",
    "# #     (1, 2, 0),  # Cannot-link between item 1 and 2\n",
    "# #     (0, 2, 1)   # Must-link between item 0 and 2\n",
    "# # ]\n",
    "# # cluster_assignments = [0, 0, 1]  # Cluster labels for items 0, 1, and 2\n",
    "# # \n",
    "# # compute_supervised_metrics(cluster_assignments, pairwise_constraints)"
   ]
  },
  {
   "cell_type": "markdown",
   "metadata": {},
   "source": [
    "## Embed the mentions"
   ]
  },
  {
   "cell_type": "code",
   "execution_count": null,
   "metadata": {},
   "outputs": [
    {
     "data": {
      "application/vnd.jupyter.widget-view+json": {
       "model_id": "2023ae298df543128e31c5ee99d68df5",
       "version_major": 2,
       "version_minor": 0
      },
      "text/plain": [
       "Batches:   0%|          | 0/313 [00:00<?, ?it/s]"
      ]
     },
     "metadata": {},
     "output_type": "display_data"
    }
   ],
   "source": [
    "import torch\n",
    "from sentence_transformers import SentenceTransformer\n",
    "import torch.backends\n",
    "import torch.backends.mps\n",
    "\n",
    "device = 'cuda' if torch.cuda.is_available() else 'mps' if torch.backends.mps.is_available() else 'cpu'\n",
    "\n",
    "embedding_model_id = \"all-MiniLM-L6-v2\"\n",
    "embedder = SentenceTransformer(embedding_model_id, device=device)\n",
    "\n",
    "embeddings = embedder.encode(\n",
    "    df_sample.text.to_list(), \n",
    "    normalize_embeddings=True, \n",
    "    convert_to_numpy=True,\n",
    "    show_progress_bar=True,\n",
    ")"
   ]
  },
  {
   "cell_type": "markdown",
   "metadata": {},
   "source": [
    "## Agglomerative Clustering"
   ]
  },
  {
   "cell_type": "markdown",
   "metadata": {},
   "source": [
    "### DEPRECATED: Reduce embeddings to dimensions using UMAP\n",
    "\n",
    "`deprecation note:` dim. reduction does not maintain distances, deteriorating informativeness of embeddings similarity\n",
    "\n",
    "The mention embeddings are a huge matrix of real-valued values with shape `embeddings.shape`.\n",
    "If we apply the clustering algorithms directly to this matrix, the algorithms will have to work with a high-dimensional space, which can be computationally expensive and may not be the most effective way to cluster the data.\n",
    "So we first reduce the dimensionality of the embeddings using UMAP."
   ]
  },
  {
   "cell_type": "code",
   "execution_count": 14,
   "metadata": {},
   "outputs": [],
   "source": [
    "#  from sklearn.decomposition import PCA\n",
    "#  \n",
    "#  reducer = PCA(n_components = 'mle')\n",
    "#  reducer.fit(embeddings)\n",
    "#  reducer.n_components_, reducer.explained_variance_.sum()"
   ]
  },
  {
   "cell_type": "code",
   "execution_count": 15,
   "metadata": {},
   "outputs": [],
   "source": [
    "# import umap\n",
    "\n",
    "# # NOTE: dim. reduction will focus embeddings on relevant signal and speed up clustering\n",
    "# # NOTE: this will take ages for the whole corpus of mentions, consider r\n",
    "# # TODO: use algorithm that preserves distances between points (e.g., cosine similarity), such as \n",
    "# reducer = umap.UMAP(\n",
    "#     n_components=50,\n",
    "#     metric='cosine',\n",
    "#     # enable determinism for reproducibility\n",
    "#     random_state=42,\n",
    "#     n_jobs=1,\n",
    "#     verbose=True\n",
    "# )\n",
    "# # TODO: make this part of a custom clustering class object so it can be used in fit_transform when input is raw embedding\n",
    "# reduced_embeddings = reducer.fit_transform(embeddings)"
   ]
  },
  {
   "cell_type": "code",
   "execution_count": 16,
   "metadata": {},
   "outputs": [],
   "source": [
    "# # NOTE: Normalizing the data before clustering can help ensure that each feature contributes equally to the distance computation. \n",
    "# from sklearn.preprocessing import StandardScaler\n",
    "\n",
    "# # normalize\n",
    "# scaler = StandardScaler()\n",
    "# # TODO: make this part of a custom clustering class object so it can be used in fit_transform when input is raw embedding\n",
    "# reduced_embeddings_normalized = scaler.fit_transform(reduced_embeddings)"
   ]
  },
  {
   "cell_type": "code",
   "execution_count": 17,
   "metadata": {},
   "outputs": [],
   "source": [
    "# # NOTE: we don't need the low-d embeddings anymore \n",
    "# import gc\n",
    "# del reduced_embeddings\n",
    "# gc.collect()"
   ]
  },
  {
   "cell_type": "markdown",
   "metadata": {},
   "source": [
    "### DEPRECATED: Create the connectivity graph metric"
   ]
  },
  {
   "cell_type": "code",
   "execution_count": 21,
   "metadata": {},
   "outputs": [
    {
     "data": {
      "image/png": "[encoded data removed]",
      "text/plain": [
       "<Figure size 1200x600 with 2 Axes>"
      ]
     },
     "metadata": {},
     "output_type": "display_data"
    }
   ],
   "source": [
    "# let's first inspect the distributions of similarities\n",
    "from sklearn.metrics.pairwise import cosine_similarity\n",
    "import matplotlib.pyplot as plt\n",
    "\n",
    "idxs = np.random.choice(embeddings.shape[0], int(embeddings.shape[0]/10), replace=False)\n",
    "\n",
    "sims = cosine_similarity(embeddings[idxs,:], embeddings)\n",
    "# plot histogram of upper triangular values\n",
    "sim_scores = sims[np.triu_indices(sims.shape[0], k=1)]\n",
    "# plot histogram and histogram with log-transformed y-axis side by side \n",
    "plt.figure(figsize=(12, 6))\n",
    "plt.subplot(1, 2, 1)\n",
    "plt.hist(sim_scores, bins=100)\n",
    "plt.xlabel('cosine similarity')\n",
    "plt.ylabel('count')\n",
    "plt.subplot(1, 2, 2)\n",
    "plt.hist(sim_scores, bins=100)\n",
    "plt.yscale('log')\n",
    "plt.xlabel('cosine similarity (log scale)')\n",
    "plt.ylabel('count')\n",
    "plt.show()"
   ]
  },
  {
   "cell_type": "code",
   "execution_count": 22,
   "metadata": {},
   "outputs": [
    {
     "data": {
      "text/plain": [
       "{'00.01%': -0.121,\n",
       " '00.10%': -0.078,\n",
       " '01.00%': -0.024,\n",
       " '10.00%': 0.057,\n",
       " '25.00%': 0.109,\n",
       " '50.00%': 0.173,\n",
       " '75.00%': 0.247,\n",
       " '90.00%': 0.323,\n",
       " '99.00%': 0.493,\n",
       " '99.90%': 0.667,\n",
       " '99.99%': 0.953}"
      ]
     },
     "execution_count": 22,
     "metadata": {},
     "output_type": "execute_result"
    }
   ],
   "source": [
    "# plot quantiles \n",
    "qs = np.array([1/100, 1/10, 1, 10, 25, 50, 75, 90, 99, 99+9/10, 99+99/100])\n",
    "vals = np.quantile(sim_scores, qs/100)\n",
    "dict(zip([f'{q:0.2f}%'.zfill(6) for q in qs], vals.round(3)))"
   ]
  },
  {
   "cell_type": "code",
   "execution_count": 17,
   "metadata": {},
   "outputs": [],
   "source": [
    "# # NOTE: same as `radius_neighbors_graph` but more memory efficient due to batching\n",
    "# import numpy as np\n",
    "# from sklearn.metrics.pairwise import cosine_similarity\n",
    "# from scipy.sparse import csr_matrix, vstack\n",
    "# from tqdm import tqdm\n",
    "# import gc\n",
    "\n",
    "# # n_ = reduced_embeddings_normalized.shape[0]\n",
    "# n_ = embeddings.shape[0]\n",
    "# threshold = 0.90\n",
    "# neighbors_graph = []\n",
    "# batch_size = 5_000\n",
    "# pairs = []\n",
    "# for i in tqdm(range(0, n_, batch_size)):\n",
    "#     # sims = cosine_similarity(reduced_embeddings_normalized[i:i+batch_size], reduced_embeddings_normalized)\n",
    "#     sims = cosine_similarity(embeddings[i:i+batch_size], embeddings)\n",
    "#     # set diagonal to 0\n",
    "#     np.fill_diagonal(sims, 0)\n",
    "    \n",
    "#     # get pairs with above-threshold similarity\n",
    "#     r, c = np.where(sims >= threshold)\n",
    "#     r += i\n",
    "#     pairs.extend(list(zip(r, c)))\n",
    "\n",
    "#     # get for each items most similar pair (to fully connect grap)\n",
    "#     c = sims.argmax(axis=1)\n",
    "#     r = np.arange(sims.shape[0])+i\n",
    "#     pairs.extend(list(zip(r, c)))\n"
   ]
  },
  {
   "cell_type": "code",
   "execution_count": null,
   "metadata": {},
   "outputs": [],
   "source": [
    "# import networkx as nx\n",
    "# # Create an undirected graph\n",
    "# G = nx.Graph()\n",
    "# G.add_edges_from(pairs)\n",
    "# conn = nx.to_scipy_sparse_array(G, format=\"csr\")"
   ]
  },
  {
   "cell_type": "code",
   "execution_count": null,
   "metadata": {},
   "outputs": [],
   "source": [
    "# nns = csr_matrix(neighbors).tolil().rows\n",
    "# for i in range(5):\n",
    "#     print('mention:', df.text.iloc[i])\n",
    "#     print('neighbors:', df.text.iloc[nns[i]].to_list())\n",
    "#     print()"
   ]
  },
  {
   "cell_type": "code",
   "execution_count": 23,
   "metadata": {},
   "outputs": [
    {
     "name": "stderr",
     "output_type": "stream",
     "text": [
      "100%|██████████| 15/15 [07:15<00:00, 29.04s/it]\n"
     ]
    }
   ],
   "source": [
    "from sklearn.cluster import AgglomerativeClustering\n",
    "# import pbar\n",
    "from tqdm import tqdm\n",
    "\n",
    "linkages = ['single', 'average', 'complete']\n",
    "# distance_thresholds = [0.001, 0.005, 0.01, 0.05, 0.1, 0.5, 1.0] # use with UMAP embeddings\n",
    "distance_thresholds = [0.3, 0.4, 0.5, 0.6, 0.7]\n",
    "\n",
    "eval_scores = {}\n",
    "\n",
    "with tqdm(total=len(linkages) * len(distance_thresholds)) as pbar:\n",
    "    for l in linkages:\n",
    "        for t in distance_thresholds:\n",
    "            # step pbar\n",
    "            pbar.update(1)\n",
    "\n",
    "            if (l, t) in eval_scores:\n",
    "                continue\n",
    "            \n",
    "            # Perform agglomerative clustering\n",
    "            clustering_model = AgglomerativeClustering(\n",
    "                n_clusters=None, \n",
    "                linkage=l, # NOTE: average linkage considers all the distances between two clusters' data points, hence slower than single linkage\n",
    "                metric='cosine', \n",
    "                # TODO: make this work: `connectivity=neighbors_graph[:n_, :n_]` to use connectivity as constraint and info to speed up the process\n",
    "                distance_threshold=t, # NOTE: the lower, the more clusters (because only very similar mentions will be grouped together)\n",
    "            )\n",
    "            # NOTE: I changed th es parameters and now the model runs for quite some time\n",
    "            # TODO: check the docu to select better arguments https://scikit-learn.org/dev/modules/generated/sklearn.cluster.AgglomerativeClustering.html\n",
    "            # NOTE: consider tuning arguments with a training set of pairwise annotations using appropriate eval metrics \n",
    "            #       (see https://scikit-learn.org/1.5/api/sklearn.metrics.html#module-sklearn.metrics.cluster)\n",
    "            clustering_model.fit(embeddings) \n",
    "\n",
    "            res = {}\n",
    "            desc = compute_cluster_descriptives(clustering_model.labels_)\n",
    "            res.update(desc)\n",
    "            try:\n",
    "                unsup = compute_unsupervised_metrics(clustering_model.labels_, embeddings)\n",
    "                res.update(unsup)\n",
    "            except:\n",
    "                pass\n",
    "            \n",
    "            # try:\n",
    "            #     sup = compute_supervised_metrics(clustering_model.labels_, labeled[['index_a', 'index_b', 'label']].values)\n",
    "            #     res.update(sup)\n",
    "            # except:\n",
    "            #     pass\n",
    "\n",
    "            eval_scores[(l, t)] = res"
   ]
  },
  {
   "cell_type": "code",
   "execution_count": 24,
   "metadata": {},
   "outputs": [
    {
     "data": {
      "text/plain": [
       "Index(['linkage', 'distance_threshold', 'n_samples', 'n_cluster',\n",
       "       'size_quantiles', 'silhouette_score', 'calinski_harabasz_score',\n",
       "       'davies_bouldin_score'],\n",
       "      dtype='object')"
      ]
     },
     "execution_count": 24,
     "metadata": {},
     "output_type": "execute_result"
    }
   ],
   "source": [
    "eval_scores_df = pd.DataFrame(eval_scores).T.reset_index()\n",
    "eval_scores_df.rename({'level_0': 'linkage', 'level_1': 'distance_threshold'}, axis=1, inplace=True)\n",
    "eval_scores_df.columns"
   ]
  },
  {
   "cell_type": "code",
   "execution_count": 25,
   "metadata": {},
   "outputs": [],
   "source": [
    "# turn to cateogircal\n",
    "eval_scores_df.distance_threshold = pd.Categorical(eval_scores_df.distance_threshold, categories=distance_thresholds)"
   ]
  },
  {
   "cell_type": "code",
   "execution_count": 26,
   "metadata": {},
   "outputs": [
    {
     "data": {
      "image/png": "[encoded data removed]",
      "text/plain": [
       "<Figure size 640x480 with 1 Axes>"
      ]
     },
     "metadata": {},
     "output_type": "display_data"
    }
   ],
   "source": [
    "# plot values in column 'n_clusters' (y-axis) against 'distance_threshold' (x-axis) by 'linkage' (hue)\n",
    "import seaborn as sns\n",
    "import matplotlib.pyplot as plt\n",
    "\n",
    "sns.lineplot(data=eval_scores_df, x='distance_threshold', y='n_cluster', hue='linkage')\n",
    "#plt.yscale('log')\n",
    "plt.xscale('log')\n",
    "plt.xticks(distance_thresholds, distance_thresholds)\n",
    "plt.show()"
   ]
  },
  {
   "cell_type": "code",
   "execution_count": 27,
   "metadata": {},
   "outputs": [
    {
     "data": {
      "image/png": "[encoded data removed]",
      "text/plain": [
       "<Figure size 640x480 with 1 Axes>"
      ]
     },
     "metadata": {},
     "output_type": "display_data"
    }
   ],
   "source": [
    "# plot values in column 'n_clusters' (y-axis) against 'distance_threshold' (x-axis) by 'linkage' (hue)\n",
    "import seaborn as sns\n",
    "import matplotlib.pyplot as plt\n",
    "\n",
    "sns.lineplot(data=eval_scores_df, x='distance_threshold', y='silhouette_score', hue='linkage')\n",
    "plt.ylim(-1, 1)\n",
    "plt.xscale('log')\n",
    "plt.xticks(distance_thresholds, distance_thresholds)\n",
    "plt.show()\n",
    "# NOTE: the closer to 1 the silhouette_score, the better"
   ]
  },
  {
   "cell_type": "code",
   "execution_count": 28,
   "metadata": {},
   "outputs": [
    {
     "data": {
      "image/png": "[encoded data removed]",
      "text/plain": [
       "<Figure size 640x480 with 1 Axes>"
      ]
     },
     "metadata": {},
     "output_type": "display_data"
    }
   ],
   "source": [
    "# plot values in column 'n_clusters' (y-axis) against 'distance_threshold' (x-axis) by 'linkage' (hue)\n",
    "import seaborn as sns\n",
    "import matplotlib.pyplot as plt\n",
    "\n",
    "sns.lineplot(data=eval_scores_df, x='distance_threshold', y='calinski_harabasz_score', hue='linkage')\n",
    "plt.xscale('log')\n",
    "plt.xticks(distance_thresholds, distance_thresholds)\n",
    "plt.show()\n",
    "# NOTE: the higerh the calinski_harabasz_score, the better"
   ]
  },
  {
   "cell_type": "code",
   "execution_count": 29,
   "metadata": {},
   "outputs": [
    {
     "data": {
      "image/png": "[encoded data removed]",
      "text/plain": [
       "<Figure size 640x480 with 1 Axes>"
      ]
     },
     "metadata": {},
     "output_type": "display_data"
    }
   ],
   "source": [
    "# plot values in column 'n_clusters' (y-axis) against 'distance_threshold' (x-axis) by 'linkage' (hue)\n",
    "import seaborn as sns\n",
    "import matplotlib.pyplot as plt\n",
    "\n",
    "sns.lineplot(data=eval_scores_df, x='distance_threshold', y='davies_bouldin_score', hue='linkage')\n",
    "# NOTE: the lower the davies_bouldin_score, the better\n",
    "plt.ylim(0, 3)\n",
    "plt.xscale('log')\n",
    "plt.xticks(distance_thresholds, distance_thresholds)\n",
    "plt.show()"
   ]
  },
  {
   "cell_type": "code",
   "execution_count": 30,
   "metadata": {},
   "outputs": [],
   "source": [
    "# # plot values in column 'n_clusters' (y-axis) against 'distance_threshold' (x-axis) by 'linkage' (hue)\n",
    "# import seaborn as sns\n",
    "# import matplotlib.pyplot as plt\n",
    "\n",
    "# sns.lineplot(data=eval_scores_df, x='distance_threshold', y='macro_f1', hue='linkage')\n",
    "# plt.ylim(0, 1)\n",
    "# plt.xscale('log')\n",
    "# plt.xticks(distance_thresholds, distance_thresholds)\n",
    "# plt.show()"
   ]
  },
  {
   "cell_type": "markdown",
   "metadata": {},
   "source": [
    "### Fit final model"
   ]
  },
  {
   "cell_type": "code",
   "execution_count": null,
   "metadata": {},
   "outputs": [
    {
     "data": {
      "application/vnd.jupyter.widget-view+json": {
       "model_id": "174f271f0a68485bbd93abc032d88191",
       "version_major": 2,
       "version_minor": 0
      },
      "text/plain": [
       "Batches:   0%|          | 0/2135 [00:00<?, ?it/s]"
      ]
     },
     "metadata": {},
     "output_type": "display_data"
    }
   ],
   "source": [
    "embeddings = embedder.encode(\n",
    "    df.text.to_list(), \n",
    "    normalize_embeddings=True, \n",
    "    convert_to_numpy=True,\n",
    "    show_progress_bar=True,\n",
    ")"
   ]
  },
  {
   "cell_type": "code",
   "execution_count": 32,
   "metadata": {},
   "outputs": [
    {
     "data": {
      "text/html": [
       "<style>#sk-container-id-1 {\n",
       "  /* Definition of color scheme common for light and dark mode */\n",
       "  --sklearn-color-text: black;\n",
       "  --sklearn-color-line: gray;\n",
       "  /* Definition of color scheme for unfitted estimators */\n",
       "  --sklearn-color-unfitted-level-0: #fff5e6;\n",
       "  --sklearn-color-unfitted-level-1: #f6e4d2;\n",
       "  --sklearn-color-unfitted-level-2: #ffe0b3;\n",
       "  --sklearn-color-unfitted-level-3: chocolate;\n",
       "  /* Definition of color scheme for fitted estimators */\n",
       "  --sklearn-color-fitted-level-0: #f0f8ff;\n",
       "  --sklearn-color-fitted-level-1: #d4ebff;\n",
       "  --sklearn-color-fitted-level-2: #b3dbfd;\n",
       "  --sklearn-color-fitted-level-3: cornflowerblue;\n",
       "\n",
       "  /* Specific color for light theme */\n",
       "  --sklearn-color-text-on-default-background: var(--sg-text-color, var(--theme-code-foreground, var(--jp-content-font-color1, black)));\n",
       "  --sklearn-color-background: var(--sg-background-color, var(--theme-background, var(--jp-layout-color0, white)));\n",
       "  --sklearn-color-border-box: var(--sg-text-color, var(--theme-code-foreground, var(--jp-content-font-color1, black)));\n",
       "  --sklearn-color-icon: #696969;\n",
       "\n",
       "  @media (prefers-color-scheme: dark) {\n",
       "    /* Redefinition of color scheme for dark theme */\n",
       "    --sklearn-color-text-on-default-background: var(--sg-text-color, var(--theme-code-foreground, var(--jp-content-font-color1, white)));\n",
       "    --sklearn-color-background: var(--sg-background-color, var(--theme-background, var(--jp-layout-color0, #111)));\n",
       "    --sklearn-color-border-box: var(--sg-text-color, var(--theme-code-foreground, var(--jp-content-font-color1, white)));\n",
       "    --sklearn-color-icon: #878787;\n",
       "  }\n",
       "}\n",
       "\n",
       "#sk-container-id-1 {\n",
       "  color: var(--sklearn-color-text);\n",
       "}\n",
       "\n",
       "#sk-container-id-1 pre {\n",
       "  padding: 0;\n",
       "}\n",
       "\n",
       "#sk-container-id-1 input.sk-hidden--visually {\n",
       "  border: 0;\n",
       "  clip: rect(1px 1px 1px 1px);\n",
       "  clip: rect(1px, 1px, 1px, 1px);\n",
       "  height: 1px;\n",
       "  margin: -1px;\n",
       "  overflow: hidden;\n",
       "  padding: 0;\n",
       "  position: absolute;\n",
       "  width: 1px;\n",
       "}\n",
       "\n",
       "#sk-container-id-1 div.sk-dashed-wrapped {\n",
       "  border: 1px dashed var(--sklearn-color-line);\n",
       "  margin: 0 0.4em 0.5em 0.4em;\n",
       "  box-sizing: border-box;\n",
       "  padding-bottom: 0.4em;\n",
       "  background-color: var(--sklearn-color-background);\n",
       "}\n",
       "\n",
       "#sk-container-id-1 div.sk-container {\n",
       "  /* jupyter's `normalize.less` sets `[hidden] { display: none; }`\n",
       "     but bootstrap.min.css set `[hidden] { display: none !important; }`\n",
       "     so we also need the `!important` here to be able to override the\n",
       "     default hidden behavior on the sphinx rendered scikit-learn.org.\n",
       "     See: https://github.com/scikit-learn/scikit-learn/issues/21755 */\n",
       "  display: inline-block !important;\n",
       "  position: relative;\n",
       "}\n",
       "\n",
       "#sk-container-id-1 div.sk-text-repr-fallback {\n",
       "  display: none;\n",
       "}\n",
       "\n",
       "div.sk-parallel-item,\n",
       "div.sk-serial,\n",
       "div.sk-item {\n",
       "  /* draw centered vertical line to link estimators */\n",
       "  background-image: linear-gradient(var(--sklearn-color-text-on-default-background), var(--sklearn-color-text-on-default-background));\n",
       "  background-size: 2px 100%;\n",
       "  background-repeat: no-repeat;\n",
       "  background-position: center center;\n",
       "}\n",
       "\n",
       "/* Parallel-specific style estimator block */\n",
       "\n",
       "#sk-container-id-1 div.sk-parallel-item::after {\n",
       "  content: \"\";\n",
       "  width: 100%;\n",
       "  border-bottom: 2px solid var(--sklearn-color-text-on-default-background);\n",
       "  flex-grow: 1;\n",
       "}\n",
       "\n",
       "#sk-container-id-1 div.sk-parallel {\n",
       "  display: flex;\n",
       "  align-items: stretch;\n",
       "  justify-content: center;\n",
       "  background-color: var(--sklearn-color-background);\n",
       "  position: relative;\n",
       "}\n",
       "\n",
       "#sk-container-id-1 div.sk-parallel-item {\n",
       "  display: flex;\n",
       "  flex-direction: column;\n",
       "}\n",
       "\n",
       "#sk-container-id-1 div.sk-parallel-item:first-child::after {\n",
       "  align-self: flex-end;\n",
       "  width: 50%;\n",
       "}\n",
       "\n",
       "#sk-container-id-1 div.sk-parallel-item:last-child::after {\n",
       "  align-self: flex-start;\n",
       "  width: 50%;\n",
       "}\n",
       "\n",
       "#sk-container-id-1 div.sk-parallel-item:only-child::after {\n",
       "  width: 0;\n",
       "}\n",
       "\n",
       "/* Serial-specific style estimator block */\n",
       "\n",
       "#sk-container-id-1 div.sk-serial {\n",
       "  display: flex;\n",
       "  flex-direction: column;\n",
       "  align-items: center;\n",
       "  background-color: var(--sklearn-color-background);\n",
       "  padding-right: 1em;\n",
       "  padding-left: 1em;\n",
       "}\n",
       "\n",
       "\n",
       "/* Toggleable style: style used for estimator/Pipeline/ColumnTransformer box that is\n",
       "clickable and can be expanded/collapsed.\n",
       "- Pipeline and ColumnTransformer use this feature and define the default style\n",
       "- Estimators will overwrite some part of the style using the `sk-estimator` class\n",
       "*/\n",
       "\n",
       "/* Pipeline and ColumnTransformer style (default) */\n",
       "\n",
       "#sk-container-id-1 div.sk-toggleable {\n",
       "  /* Default theme specific background. It is overwritten whether we have a\n",
       "  specific estimator or a Pipeline/ColumnTransformer */\n",
       "  background-color: var(--sklearn-color-background);\n",
       "}\n",
       "\n",
       "/* Toggleable label */\n",
       "#sk-container-id-1 label.sk-toggleable__label {\n",
       "  cursor: pointer;\n",
       "  display: block;\n",
       "  width: 100%;\n",
       "  margin-bottom: 0;\n",
       "  padding: 0.5em;\n",
       "  box-sizing: border-box;\n",
       "  text-align: center;\n",
       "}\n",
       "\n",
       "#sk-container-id-1 label.sk-toggleable__label-arrow:before {\n",
       "  /* Arrow on the left of the label */\n",
       "  content: \"▸\";\n",
       "  float: left;\n",
       "  margin-right: 0.25em;\n",
       "  color: var(--sklearn-color-icon);\n",
       "}\n",
       "\n",
       "#sk-container-id-1 label.sk-toggleable__label-arrow:hover:before {\n",
       "  color: var(--sklearn-color-text);\n",
       "}\n",
       "\n",
       "/* Toggleable content - dropdown */\n",
       "\n",
       "#sk-container-id-1 div.sk-toggleable__content {\n",
       "  max-height: 0;\n",
       "  max-width: 0;\n",
       "  overflow: hidden;\n",
       "  text-align: left;\n",
       "  /* unfitted */\n",
       "  background-color: var(--sklearn-color-unfitted-level-0);\n",
       "}\n",
       "\n",
       "#sk-container-id-1 div.sk-toggleable__content.fitted {\n",
       "  /* fitted */\n",
       "  background-color: var(--sklearn-color-fitted-level-0);\n",
       "}\n",
       "\n",
       "#sk-container-id-1 div.sk-toggleable__content pre {\n",
       "  margin: 0.2em;\n",
       "  border-radius: 0.25em;\n",
       "  color: var(--sklearn-color-text);\n",
       "  /* unfitted */\n",
       "  background-color: var(--sklearn-color-unfitted-level-0);\n",
       "}\n",
       "\n",
       "#sk-container-id-1 div.sk-toggleable__content.fitted pre {\n",
       "  /* unfitted */\n",
       "  background-color: var(--sklearn-color-fitted-level-0);\n",
       "}\n",
       "\n",
       "#sk-container-id-1 input.sk-toggleable__control:checked~div.sk-toggleable__content {\n",
       "  /* Expand drop-down */\n",
       "  max-height: 200px;\n",
       "  max-width: 100%;\n",
       "  overflow: auto;\n",
       "}\n",
       "\n",
       "#sk-container-id-1 input.sk-toggleable__control:checked~label.sk-toggleable__label-arrow:before {\n",
       "  content: \"▾\";\n",
       "}\n",
       "\n",
       "/* Pipeline/ColumnTransformer-specific style */\n",
       "\n",
       "#sk-container-id-1 div.sk-label input.sk-toggleable__control:checked~label.sk-toggleable__label {\n",
       "  color: var(--sklearn-color-text);\n",
       "  background-color: var(--sklearn-color-unfitted-level-2);\n",
       "}\n",
       "\n",
       "#sk-container-id-1 div.sk-label.fitted input.sk-toggleable__control:checked~label.sk-toggleable__label {\n",
       "  background-color: var(--sklearn-color-fitted-level-2);\n",
       "}\n",
       "\n",
       "/* Estimator-specific style */\n",
       "\n",
       "/* Colorize estimator box */\n",
       "#sk-container-id-1 div.sk-estimator input.sk-toggleable__control:checked~label.sk-toggleable__label {\n",
       "  /* unfitted */\n",
       "  background-color: var(--sklearn-color-unfitted-level-2);\n",
       "}\n",
       "\n",
       "#sk-container-id-1 div.sk-estimator.fitted input.sk-toggleable__control:checked~label.sk-toggleable__label {\n",
       "  /* fitted */\n",
       "  background-color: var(--sklearn-color-fitted-level-2);\n",
       "}\n",
       "\n",
       "#sk-container-id-1 div.sk-label label.sk-toggleable__label,\n",
       "#sk-container-id-1 div.sk-label label {\n",
       "  /* The background is the default theme color */\n",
       "  color: var(--sklearn-color-text-on-default-background);\n",
       "}\n",
       "\n",
       "/* On hover, darken the color of the background */\n",
       "#sk-container-id-1 div.sk-label:hover label.sk-toggleable__label {\n",
       "  color: var(--sklearn-color-text);\n",
       "  background-color: var(--sklearn-color-unfitted-level-2);\n",
       "}\n",
       "\n",
       "/* Label box, darken color on hover, fitted */\n",
       "#sk-container-id-1 div.sk-label.fitted:hover label.sk-toggleable__label.fitted {\n",
       "  color: var(--sklearn-color-text);\n",
       "  background-color: var(--sklearn-color-fitted-level-2);\n",
       "}\n",
       "\n",
       "/* Estimator label */\n",
       "\n",
       "#sk-container-id-1 div.sk-label label {\n",
       "  font-family: monospace;\n",
       "  font-weight: bold;\n",
       "  display: inline-block;\n",
       "  line-height: 1.2em;\n",
       "}\n",
       "\n",
       "#sk-container-id-1 div.sk-label-container {\n",
       "  text-align: center;\n",
       "}\n",
       "\n",
       "/* Estimator-specific */\n",
       "#sk-container-id-1 div.sk-estimator {\n",
       "  font-family: monospace;\n",
       "  border: 1px dotted var(--sklearn-color-border-box);\n",
       "  border-radius: 0.25em;\n",
       "  box-sizing: border-box;\n",
       "  margin-bottom: 0.5em;\n",
       "  /* unfitted */\n",
       "  background-color: var(--sklearn-color-unfitted-level-0);\n",
       "}\n",
       "\n",
       "#sk-container-id-1 div.sk-estimator.fitted {\n",
       "  /* fitted */\n",
       "  background-color: var(--sklearn-color-fitted-level-0);\n",
       "}\n",
       "\n",
       "/* on hover */\n",
       "#sk-container-id-1 div.sk-estimator:hover {\n",
       "  /* unfitted */\n",
       "  background-color: var(--sklearn-color-unfitted-level-2);\n",
       "}\n",
       "\n",
       "#sk-container-id-1 div.sk-estimator.fitted:hover {\n",
       "  /* fitted */\n",
       "  background-color: var(--sklearn-color-fitted-level-2);\n",
       "}\n",
       "\n",
       "/* Specification for estimator info (e.g. \"i\" and \"?\") */\n",
       "\n",
       "/* Common style for \"i\" and \"?\" */\n",
       "\n",
       ".sk-estimator-doc-link,\n",
       "a:link.sk-estimator-doc-link,\n",
       "a:visited.sk-estimator-doc-link {\n",
       "  float: right;\n",
       "  font-size: smaller;\n",
       "  line-height: 1em;\n",
       "  font-family: monospace;\n",
       "  background-color: var(--sklearn-color-background);\n",
       "  border-radius: 1em;\n",
       "  height: 1em;\n",
       "  width: 1em;\n",
       "  text-decoration: none !important;\n",
       "  margin-left: 1ex;\n",
       "  /* unfitted */\n",
       "  border: var(--sklearn-color-unfitted-level-1) 1pt solid;\n",
       "  color: var(--sklearn-color-unfitted-level-1);\n",
       "}\n",
       "\n",
       ".sk-estimator-doc-link.fitted,\n",
       "a:link.sk-estimator-doc-link.fitted,\n",
       "a:visited.sk-estimator-doc-link.fitted {\n",
       "  /* fitted */\n",
       "  border: var(--sklearn-color-fitted-level-1) 1pt solid;\n",
       "  color: var(--sklearn-color-fitted-level-1);\n",
       "}\n",
       "\n",
       "/* On hover */\n",
       "div.sk-estimator:hover .sk-estimator-doc-link:hover,\n",
       ".sk-estimator-doc-link:hover,\n",
       "div.sk-label-container:hover .sk-estimator-doc-link:hover,\n",
       ".sk-estimator-doc-link:hover {\n",
       "  /* unfitted */\n",
       "  background-color: var(--sklearn-color-unfitted-level-3);\n",
       "  color: var(--sklearn-color-background);\n",
       "  text-decoration: none;\n",
       "}\n",
       "\n",
       "div.sk-estimator.fitted:hover .sk-estimator-doc-link.fitted:hover,\n",
       ".sk-estimator-doc-link.fitted:hover,\n",
       "div.sk-label-container:hover .sk-estimator-doc-link.fitted:hover,\n",
       ".sk-estimator-doc-link.fitted:hover {\n",
       "  /* fitted */\n",
       "  background-color: var(--sklearn-color-fitted-level-3);\n",
       "  color: var(--sklearn-color-background);\n",
       "  text-decoration: none;\n",
       "}\n",
       "\n",
       "/* Span, style for the box shown on hovering the info icon */\n",
       ".sk-estimator-doc-link span {\n",
       "  display: none;\n",
       "  z-index: 9999;\n",
       "  position: relative;\n",
       "  font-weight: normal;\n",
       "  right: .2ex;\n",
       "  padding: .5ex;\n",
       "  margin: .5ex;\n",
       "  width: min-content;\n",
       "  min-width: 20ex;\n",
       "  max-width: 50ex;\n",
       "  color: var(--sklearn-color-text);\n",
       "  box-shadow: 2pt 2pt 4pt #999;\n",
       "  /* unfitted */\n",
       "  background: var(--sklearn-color-unfitted-level-0);\n",
       "  border: .5pt solid var(--sklearn-color-unfitted-level-3);\n",
       "}\n",
       "\n",
       ".sk-estimator-doc-link.fitted span {\n",
       "  /* fitted */\n",
       "  background: var(--sklearn-color-fitted-level-0);\n",
       "  border: var(--sklearn-color-fitted-level-3);\n",
       "}\n",
       "\n",
       ".sk-estimator-doc-link:hover span {\n",
       "  display: block;\n",
       "}\n",
       "\n",
       "/* \"?\"-specific style due to the `<a>` HTML tag */\n",
       "\n",
       "#sk-container-id-1 a.estimator_doc_link {\n",
       "  float: right;\n",
       "  font-size: 1rem;\n",
       "  line-height: 1em;\n",
       "  font-family: monospace;\n",
       "  background-color: var(--sklearn-color-background);\n",
       "  border-radius: 1rem;\n",
       "  height: 1rem;\n",
       "  width: 1rem;\n",
       "  text-decoration: none;\n",
       "  /* unfitted */\n",
       "  color: var(--sklearn-color-unfitted-level-1);\n",
       "  border: var(--sklearn-color-unfitted-level-1) 1pt solid;\n",
       "}\n",
       "\n",
       "#sk-container-id-1 a.estimator_doc_link.fitted {\n",
       "  /* fitted */\n",
       "  border: var(--sklearn-color-fitted-level-1) 1pt solid;\n",
       "  color: var(--sklearn-color-fitted-level-1);\n",
       "}\n",
       "\n",
       "/* On hover */\n",
       "#sk-container-id-1 a.estimator_doc_link:hover {\n",
       "  /* unfitted */\n",
       "  background-color: var(--sklearn-color-unfitted-level-3);\n",
       "  color: var(--sklearn-color-background);\n",
       "  text-decoration: none;\n",
       "}\n",
       "\n",
       "#sk-container-id-1 a.estimator_doc_link.fitted:hover {\n",
       "  /* fitted */\n",
       "  background-color: var(--sklearn-color-fitted-level-3);\n",
       "}\n",
       "</style><div id=\"sk-container-id-1\" class=\"sk-top-container\"><div class=\"sk-text-repr-fallback\"><pre>AgglomerativeClustering(distance_threshold=0.5, linkage=&#x27;average&#x27;,\n",
       "                        metric=&#x27;cosine&#x27;, n_clusters=None)</pre><b>In a Jupyter environment, please rerun this cell to show the HTML representation or trust the notebook. <br />On GitHub, the HTML representation is unable to render, please try loading this page with nbviewer.org.</b></div><div class=\"sk-container\" hidden><div class=\"sk-item\"><div class=\"sk-estimator fitted sk-toggleable\"><input class=\"sk-toggleable__control sk-hidden--visually\" id=\"sk-estimator-id-1\" type=\"checkbox\" checked><label for=\"sk-estimator-id-1\" class=\"sk-toggleable__label fitted sk-toggleable__label-arrow fitted\">&nbsp;&nbsp;AgglomerativeClustering<a class=\"sk-estimator-doc-link fitted\" rel=\"noreferrer\" target=\"_blank\" href=\"https://scikit-learn.org/1.4/modules/generated/sklearn.cluster.AgglomerativeClustering.html\">?<span>Documentation for AgglomerativeClustering</span></a><span class=\"sk-estimator-doc-link fitted\">i<span>Fitted</span></span></label><div class=\"sk-toggleable__content fitted\"><pre>AgglomerativeClustering(distance_threshold=0.5, linkage=&#x27;average&#x27;,\n",
       "                        metric=&#x27;cosine&#x27;, n_clusters=None)</pre></div> </div></div></div></div>"
      ],
      "text/plain": [
       "AgglomerativeClustering(distance_threshold=0.5, linkage='average',\n",
       "                        metric='cosine', n_clusters=None)"
      ]
     },
     "execution_count": 32,
     "metadata": {},
     "output_type": "execute_result"
    }
   ],
   "source": [
    "clustering_model = AgglomerativeClustering(\n",
    "    n_clusters=None, \n",
    "    linkage='average', # NOTE: average linkage considers all the distances between two clusters' data points, hence slower than single linkage\n",
    "    metric='cosine', \n",
    "    distance_threshold=0.5 # NOTE: the lower, the more clusters (because only very similar mentions will be grouped together)\n",
    ")\n",
    "# NOTE: I changed th es parameters and now the model runs for quite some time\n",
    "# TODO: check the docu to select better arguments https://scikit-learn.org/dev/modules/generated/sklearn.cluster.AgglomerativeClustering.html\n",
    "# NOTE: consider tuning arguments with a training set of pairwise annotations using appropriate eval metrics \n",
    "#       (see https://scikit-learn.org/1.5/api/sklearn.metrics.html#module-sklearn.metrics.cluster)\n",
    "clustering_model.fit(embeddings) # ~9.5 minutes (single linkage) / ~10 minutes (average linkage) / ~10 minutes (complete linkage)"
   ]
  },
  {
   "cell_type": "code",
   "execution_count": 34,
   "metadata": {},
   "outputs": [
    {
     "name": "stdout",
     "output_type": "stream",
     "text": [
      "{'n_samples': 68316, 'n_cluster': 5789, 'size_quantiles': {0.01: 1.0, 0.05: 1.0, 0.1: 1.0, 0.25: 1.0, 0.5: 3.0, 0.75: 7.0, 0.9: 21.0, 0.95: 42.599999999999454, 0.99: 175.1199999999999}}\n",
      "{'silhouette_score': 0.07390831, 'calinski_harabasz_score': 13.97089301275628, 'davies_bouldin_score': 1.4201202267881108}\n"
     ]
    }
   ],
   "source": [
    "print(compute_cluster_descriptives(clustering_model.labels_))\n",
    "print(compute_unsupervised_metrics(clustering_model.labels_, embeddings))"
   ]
  },
  {
   "cell_type": "code",
   "execution_count": null,
   "metadata": {},
   "outputs": [],
   "source": [
    "# save the model\n",
    "import os\n",
    "import json\n",
    "import joblib\n",
    "\n",
    "models_path = '../../models/mention_clustering_model/'\n",
    "os.makedirs(models_path, exist_ok=True)\n",
    "\n",
    "joblib.dump(clustering_model, os.path.join(models_path, 'model.joblib'))\n",
    "\n",
    "\n",
    "params = clustering_model.get_params()\n",
    "embedding_model_id = \"all-MiniLM-L6-v2\"\n",
    "params['embedding_model'] = embedding_model_id\n",
    "params['embedding_model_backend'] = 'sentence_transformers'\n",
    "\n",
    "with open(os.path.join(models_path, 'params.json'), 'w') as f:\n",
    "    json.dump(params, f)"
   ]
  },
  {
   "cell_type": "code",
   "execution_count": null,
   "metadata": {},
   "outputs": [],
   "source": []
  },
  {
   "cell_type": "markdown",
   "metadata": {},
   "source": [
    "#### inspect the clusters"
   ]
  },
  {
   "cell_type": "code",
   "execution_count": 36,
   "metadata": {},
   "outputs": [
    {
     "data": {
      "text/plain": [
       "5789"
      ]
     },
     "execution_count": 36,
     "metadata": {},
     "output_type": "execute_result"
    }
   ],
   "source": [
    "len(set(clustering_model.labels_))"
   ]
  },
  {
   "cell_type": "code",
   "execution_count": 452,
   "metadata": {},
   "outputs": [
    {
     "name": "stdout",
     "output_type": "stream",
     "text": [
      "3687\n"
     ]
    },
    {
     "data": {
      "text/plain": [
       "21"
      ]
     },
     "execution_count": 452,
     "metadata": {},
     "output_type": "execute_result"
    }
   ],
   "source": [
    "i = 398\n",
    "cidxs = np.where(labels == i)[0]\n",
    "cluster = X[cidxs]\n",
    "dists = cdist(cluster, cluster, metric='cosine')\n",
    "c = np.argmin(dists.sum(axis=0))\n",
    "print(cidxs[c])\n",
    "medoid = cluster[c]\n",
    "\n",
    "cluster.shape\n",
    "dists.shape\n",
    "np.argmin(dists.sum(axis=0))# \n",
    "c"
   ]
  },
  {
   "cell_type": "code",
   "execution_count": 453,
   "metadata": {},
   "outputs": [
    {
     "data": {
      "text/plain": [
       "'Employees'"
      ]
     },
     "execution_count": 453,
     "metadata": {},
     "output_type": "execute_result"
    }
   ],
   "source": [
    "df.text.iloc[3687]"
   ]
  },
  {
   "cell_type": "code",
   "execution_count": 455,
   "metadata": {},
   "outputs": [
    {
     "data": {
      "text/plain": [
       "['employees',\n",
       " 'Employees',\n",
       " 'individual workers',\n",
       " 'workers in companies',\n",
       " 'the individual workers']"
      ]
     },
     "execution_count": 455,
     "metadata": {},
     "output_type": "execute_result"
    }
   ],
   "source": [
    "cluster_representatives[398]"
   ]
  },
  {
   "cell_type": "code",
   "execution_count": null,
   "metadata": {},
   "outputs": [],
   "source": [
    "# compute mediods for each cluster\n",
    "from scipy.spatial.distance import cdist\n",
    "from tqdm import tqdm\n",
    "def compute_medoids(X, labels):\n",
    "    medoids = []\n",
    "    for i in tqdm(sorted(set(labels))):\n",
    "        cluster = X[labels == i]\n",
    "        dists = cdist(cluster, cluster, metric='cosine')\n",
    "        medoid = cluster[np.argmin(dists.sum(axis=0))]\n",
    "        medoids.append(medoid)\n",
    "    return np.array(medoids)\n",
    "\n",
    "# compute mediods for each cluster\n",
    "def get_cluster_representatives(X, labels, texts: pd.Series, n: int=1):\n",
    "    representatives = []\n",
    "    for i in tqdm(sorted(set(labels))):\n",
    "        cidxs = np.where(labels == i)[0]\n",
    "        cluster = X[cidxs,: ]\n",
    "        dists = cdist(cluster, cluster, metric='cosine')\n",
    "        sdists = dists.sum(axis=0)\n",
    "        idxs = np.argsort(sdists)[:min(n, len(sdists))]\n",
    "        reps = texts.iloc[cidxs[idxs]].tolist()\n",
    "        representatives.append(reps)\n",
    "    return representatives"
   ]
  },
  {
   "cell_type": "code",
   "execution_count": 401,
   "metadata": {},
   "outputs": [
    {
     "name": "stderr",
     "output_type": "stream",
     "text": [
      "100%|██████████| 5789/5789 [00:05<00:00, 973.64it/s] \n"
     ]
    }
   ],
   "source": [
    "cluster_representatives = get_cluster_representatives(embeddings, clustering_model.labels_, df.text, n=5)\n"
   ]
  },
  {
   "cell_type": "code",
   "execution_count": 402,
   "metadata": {},
   "outputs": [],
   "source": [
    "fp = os.path.join(models_path, 'representatives.json')\n",
    "\n",
    "with open(fp, 'w') as f:\n",
    "    json.dump(cluster_representatives, f)"
   ]
  },
  {
   "cell_type": "code",
   "execution_count": null,
   "metadata": {},
   "outputs": [
    {
     "name": "stderr",
     "output_type": "stream",
     "text": [
      "100%|██████████| 5789/5789 [00:06<00:00, 839.80it/s] \n"
     ]
    }
   ],
   "source": [
    "medoids = compute_medoids(embeddings, clustering_model.labels_)"
   ]
  },
  {
   "cell_type": "code",
   "execution_count": 431,
   "metadata": {},
   "outputs": [
    {
     "data": {
      "text/plain": [
       "68316"
      ]
     },
     "execution_count": 431,
     "metadata": {},
     "output_type": "execute_result"
    }
   ],
   "source": [
    "len(clustering_model.labels_)"
   ]
  },
  {
   "cell_type": "code",
   "execution_count": 260,
   "metadata": {},
   "outputs": [],
   "source": [
    "fp = os.path.join(models_path, 'cluster_medoids.bin')\n",
    "with open(fp, 'wb') as f:\n",
    "    np.save(f, medoids, allow_pickle=True)"
   ]
  },
  {
   "cell_type": "code",
   "execution_count": 38,
   "metadata": {},
   "outputs": [],
   "source": [
    "import umap\n",
    "# reduce mediods to 2D\n",
    "mediods2d = umap.UMAP(\n",
    "    n_components=2,\n",
    "    metric='cosine',\n",
    "    random_state=42,\n",
    "    n_jobs=1,\n",
    "    verbose=False\n",
    ").fit_transform(medoids)"
   ]
  },
  {
   "cell_type": "code",
   "execution_count": 39,
   "metadata": {},
   "outputs": [
    {
     "data": {
      "image/png": "[encoded data removed]",
      "text/plain": [
       "<Figure size 600x600 with 1 Axes>"
      ]
     },
     "metadata": {},
     "output_type": "display_data"
    }
   ],
   "source": [
    "# plot in 2D using labels as colors\n",
    "import seaborn as sns\n",
    "import matplotlib.pyplot as plt\n",
    "\n",
    "plt.figure(figsize=(6, 6))\n",
    "sns.scatterplot(x=mediods2d[:,0], y=mediods2d[:,1], s=1) #, hue=sorted(set(clustering_model.labels_)), palette='tab20')\n",
    "plt.show()"
   ]
  },
  {
   "cell_type": "code",
   "execution_count": 40,
   "metadata": {},
   "outputs": [],
   "source": [
    "# assign cluster IDs to data frame\n",
    "df['cluster_id'] = clustering_model.labels_"
   ]
  },
  {
   "cell_type": "code",
   "execution_count": null,
   "metadata": {},
   "outputs": [],
   "source": [
    "fp = os.path.join(data_path, 'intermediate', 'predicted_mentions_clustered.pkl')\n",
    "df.reset_index(drop=True).to_pickle(fp)"
   ]
  },
  {
   "cell_type": "code",
   "execution_count": 41,
   "metadata": {},
   "outputs": [
    {
     "data": {
      "text/plain": [
       "cluster_id\n",
       "417     845\n",
       "225     796\n",
       "158     710\n",
       "565     685\n",
       "591     684\n",
       "       ... \n",
       "5536      1\n",
       "2639      1\n",
       "5014      1\n",
       "3093      1\n",
       "5028      1\n",
       "Name: count, Length: 5789, dtype: int64"
      ]
     },
     "execution_count": 41,
     "metadata": {},
     "output_type": "execute_result"
    }
   ],
   "source": [
    "# number of mentions per cluster\n",
    "df.cluster_id.value_counts()"
   ]
  },
  {
   "cell_type": "code",
   "execution_count": 195,
   "metadata": {},
   "outputs": [
    {
     "name": "stdout",
     "output_type": "stream",
     "text": [
      "≥  5 mentions: 0.344 1993\n",
      "≥ 10 mentions: 0.185 1072\n",
      "≥ 25 mentions: 0.088 510\n",
      "≥ 50 mentions: 0.045 259\n"
     ]
    }
   ],
   "source": [
    "# how many have 5 or fewer mentions\n",
    "for t in [5, 10, 25, 50]:\n",
    "    print(f'≥ {str(t).rjust(2)} mentions:', (these:= df.cluster_id.value_counts() >= t).mean().round(3), these.sum()) # meeeh\n",
    "# NOTE: this could be fixed by increasing the distance threshold, but at cost of scores"
   ]
  },
  {
   "cell_type": "code",
   "execution_count": 44,
   "metadata": {},
   "outputs": [
    {
     "data": {
      "image/png": "[encoded data removed]",
      "text/plain": [
       "<Figure size 640x480 with 1 Axes>"
      ]
     },
     "metadata": {},
     "output_type": "display_data"
    }
   ],
   "source": [
    "df.groupby('cluster_id').size().hist(bins=100).set_yscale('log')\n",
    "# NOTE: underlines how very many clusters have few mentions"
   ]
  },
  {
   "cell_type": "markdown",
   "metadata": {},
   "source": [
    "#### just look at the content of the biggest clusters"
   ]
  },
  {
   "cell_type": "markdown",
   "metadata": {},
   "source": [
    "##### high-prevalence clustets"
   ]
  },
  {
   "cell_type": "code",
   "execution_count": 45,
   "metadata": {},
   "outputs": [
    {
     "data": {
      "text/plain": [
       "852                A Just Society\n",
       "860          A Society of Respect\n",
       "870              A caring society\n",
       "878      A child-friendly society\n",
       "895       A compassionate society\n",
       "                   ...           \n",
       "65736            whatever society\n",
       "65932               whole society\n",
       "65957               wider society\n",
       "65960        widespread societies\n",
       "68327        society of long life\n",
       "Name: text, Length: 845, dtype: object"
      ]
     },
     "execution_count": 45,
     "metadata": {},
     "output_type": "execute_result"
    }
   ],
   "source": [
    "cid = df.cluster_id.value_counts().index[0]\n",
    "df.query(f'cluster_id=={cid}')['text']"
   ]
  },
  {
   "cell_type": "code",
   "execution_count": 46,
   "metadata": {},
   "outputs": [
    {
     "data": {
      "text/plain": [
       "42                            poor workers\n",
       "280      -educated or disadvantaged groups\n",
       "305      -employed people with low incomes\n",
       "360                      -income Americans\n",
       "367       -income and middle-income people\n",
       "                       ...                \n",
       "68302                                 poor\n",
       "68303                          poor groups\n",
       "68304                                 poor\n",
       "68341                         working poor\n",
       "68342                         working poor\n",
       "Name: text, Length: 796, dtype: object"
      ]
     },
     "execution_count": 46,
     "metadata": {},
     "output_type": "execute_result"
    }
   ],
   "source": [
    "cid = df.cluster_id.value_counts().index[1]\n",
    "df.query(f'cluster_id=={cid}')['text']"
   ]
  },
  {
   "cell_type": "code",
   "execution_count": 47,
   "metadata": {},
   "outputs": [
    {
     "data": {
      "text/plain": [
       "2                                              COMMUNITIES\n",
       "14                                        care communities\n",
       "56                                       urban communities\n",
       "124                                    , local communities\n",
       "363                   -income and marginalized communities\n",
       "                               ...                        \n",
       "65782    white national, ethnic, religious and regional...\n",
       "65925                                    whole communities\n",
       "65926                    whole communities across the land\n",
       "68100                                       your community\n",
       "68110                                 your local community\n",
       "Name: text, Length: 710, dtype: object"
      ]
     },
     "execution_count": 47,
     "metadata": {},
     "output_type": "execute_result"
    }
   ],
   "source": [
    "cid = df.cluster_id.value_counts().index[2]\n",
    "df.query(f'cluster_id=={cid}')['text']"
   ]
  },
  {
   "cell_type": "code",
   "execution_count": 48,
   "metadata": {},
   "outputs": [
    {
     "data": {
      "text/plain": [
       "176          -abiding families who are here\n",
       "344                      -friendly families\n",
       "412                    -integrated families\n",
       "413      -integrated families with children\n",
       "448                           -off families\n",
       "                        ...                \n",
       "68090     youngsters from troubled families\n",
       "68102                         your families\n",
       "68103                           your family\n",
       "68122                        your relatives\n",
       "68347                         of the family\n",
       "Name: text, Length: 685, dtype: object"
      ]
     },
     "execution_count": 48,
     "metadata": {},
     "output_type": "execute_result"
    }
   ],
   "source": [
    "cid = df.cluster_id.value_counts().index[3]\n",
    "df.query(f'cluster_id=={cid}')['text']"
   ]
  },
  {
   "cell_type": "code",
   "execution_count": 49,
   "metadata": {},
   "outputs": [
    {
     "data": {
      "text/plain": [
       "213                      -called civilian disabled persons\n",
       "270                                      -disabled persons\n",
       "322             -employed persons with social disabilities\n",
       "580                         -term sick and disabled people\n",
       "595             -term unemployed with special disabilities\n",
       "                               ...                        \n",
       "67922    young people with social and emotional disabil...\n",
       "67934    young people without a basic university qualif...\n",
       "67963    young people, with and without disabilities, a...\n",
       "68194                              youth with disabilities\n",
       "68250    abnormal children who are likely to be born wi...\n",
       "Name: text, Length: 684, dtype: object"
      ]
     },
     "execution_count": 49,
     "metadata": {},
     "output_type": "execute_result"
    }
   ],
   "source": [
    "cid = df.cluster_id.value_counts().index[4]\n",
    "df.query(f'cluster_id=={cid}')['text']"
   ]
  },
  {
   "cell_type": "markdown",
   "metadata": {},
   "source": [
    "#### at-threshold clusters"
   ]
  },
  {
   "cell_type": "code",
   "execution_count": 72,
   "metadata": {},
   "outputs": [
    {
     "data": {
      "text/plain": [
       "['a few at the top',\n",
       " 'those already at the very top',\n",
       " 'those at the top',\n",
       " 'those directly on the scene',\n",
       " 'those in it',\n",
       " 'those in the panel',\n",
       " 'those on the bottom',\n",
       " 'those on the frontline',\n",
       " 'those on the home front',\n",
       " 'those right at the bottom']"
      ]
     },
     "execution_count": 72,
     "metadata": {},
     "output_type": "execute_result"
    }
   ],
   "source": [
    "tmp = df.cluster_id.value_counts()\n",
    "cid = tmp[tmp == 10].index[0]\n",
    "df.query(f'cluster_id=={cid}')['text'].to_list()"
   ]
  },
  {
   "cell_type": "code",
   "execution_count": 73,
   "metadata": {},
   "outputs": [
    {
     "data": {
      "text/plain": [
       "['Our countrymen',\n",
       " 'all of our countrymen',\n",
       " 'our countrymen',\n",
       " 'our exile countrymen',\n",
       " 'the countrymen',\n",
       " 'their (white) American countrymen.',\n",
       " 'their countrymen',\n",
       " 'these countrymen',\n",
       " 'who comes to our country',\n",
       " 'who is coming in and out of our country']"
      ]
     },
     "execution_count": 73,
     "metadata": {},
     "output_type": "execute_result"
    }
   ],
   "source": [
    "tmp = df.cluster_id.value_counts()\n",
    "cid = tmp[tmp == 10].index[1]\n",
    "df.query(f'cluster_id=={cid}')['text'].to_list()"
   ]
  },
  {
   "cell_type": "code",
   "execution_count": null,
   "metadata": {},
   "outputs": [
    {
     "name": "stdout",
     "output_type": "stream",
     "text": [
      "3124\n"
     ]
    },
    {
     "data": {
      "text/plain": [
       "['Mexicans over 18 with credentials to vote in houses in the Federal District',\n",
       " 'all citizens after the age of 65',\n",
       " 'citizens at the age of 18',\n",
       " 'citizens of all ages',\n",
       " 'citizens over 18 years of age who are supposed to take five steps toward more democracy with us',\n",
       " 'citizens over the age of 16',\n",
       " 'every citizen in old age',\n",
       " 'fellow citizens between 20 and 40 years of age',\n",
       " 'literate citizens who can exercise their right to vote responsibly from 16',\n",
       " 'persons of voting age']"
      ]
     },
     "execution_count": 75,
     "metadata": {},
     "output_type": "execute_result"
    }
   ],
   "source": [
    "tmp = df.cluster_id.value_counts()\n",
    "cid = tmp[tmp == 10].index[2]\n",
    "df.query(f'cluster_id=={cid}')['text'].to_list()"
   ]
  },
  {
   "cell_type": "markdown",
   "metadata": {},
   "source": [
    "##### low-prevalence clusters"
   ]
  },
  {
   "cell_type": "code",
   "execution_count": 71,
   "metadata": {},
   "outputs": [
    {
     "data": {
      "text/plain": [
       "['a few at the top',\n",
       " 'those already at the very top',\n",
       " 'those at the top',\n",
       " 'those directly on the scene',\n",
       " 'those in it',\n",
       " 'those in the panel',\n",
       " 'those on the bottom',\n",
       " 'those on the frontline',\n",
       " 'those on the home front',\n",
       " 'those right at the bottom']"
      ]
     },
     "execution_count": 71,
     "metadata": {},
     "output_type": "execute_result"
    }
   ],
   "source": [
    "tmp = df.cluster_id.value_counts()\n",
    "cid = tmp[tmp == 10].index[0]\n",
    "df.query(f'cluster_id=={cid}')['text'].to_list()"
   ]
  },
  {
   "cell_type": "code",
   "execution_count": 50,
   "metadata": {},
   "outputs": [
    {
     "data": {
      "text/plain": [
       "['small EVA subjects']"
      ]
     },
     "execution_count": 50,
     "metadata": {},
     "output_type": "execute_result"
    }
   ],
   "source": [
    "cid = df.cluster_id.value_counts().index[-1]\n",
    "df.query(f'cluster_id=={cid}')['text'].to_list()"
   ]
  },
  {
   "cell_type": "code",
   "execution_count": 51,
   "metadata": {},
   "outputs": [
    {
     "data": {
      "text/plain": [
       "['highly qualified specialists at the Institute of Mineral Resources']"
      ]
     },
     "execution_count": 51,
     "metadata": {},
     "output_type": "execute_result"
    }
   ],
   "source": [
    "cid = df.cluster_id.value_counts().index[-2]\n",
    "df.query(f'cluster_id=={cid}')['text'].to_list()"
   ]
  },
  {
   "cell_type": "code",
   "execution_count": 52,
   "metadata": {},
   "outputs": [
    {
     "data": {
      "text/plain": [
       "['him who bore the battle']"
      ]
     },
     "execution_count": 52,
     "metadata": {},
     "output_type": "execute_result"
    }
   ],
   "source": [
    "cid = df.cluster_id.value_counts().index[-3]\n",
    "df.query(f'cluster_id=={cid}')['text'].to_list()"
   ]
  },
  {
   "cell_type": "markdown",
   "metadata": {},
   "source": [
    "#### getting key terms from clusters\n",
    "\n",
    "Given all mentions in a cluster, we can contrast their bag-of-words token frequencies with all other clusters to find distinctive/key terms for a cluster (would need to iterate over all clusters thoug)."
   ]
  },
  {
   "cell_type": "code",
   "execution_count": 196,
   "metadata": {},
   "outputs": [],
   "source": [
    "from utils.fighting_words import bayes_compare_language # source https://github.com/jmhessel/FightingWords/blob/master/fighting_words_py3.py\n",
    "from sklearn.feature_extraction.text import CountVectorizer\n",
    "from nltk.corpus import stopwords\n",
    "\n",
    "vectorizer = CountVectorizer(\n",
    "    stop_words=stopwords.words('english'),\n",
    "    ngram_range=(1, 3), \n",
    "    max_df = 0.5\n",
    ")"
   ]
  },
  {
   "cell_type": "code",
   "execution_count": null,
   "metadata": {},
   "outputs": [],
   "source": [
    "# import pandas as pd\n",
    "# import numpy as np\n",
    "\n",
    "# from sklearn.feature_extraction.text import CountVectorizer\n",
    "# from nltk.corpus import stopwords\n",
    "\n",
    "# vectorizer = CountVectorizer(\n",
    "#     stop_words=stopwords.words('english'),\n",
    "#     ngram_range=(1, 3), \n",
    "#     max_df = 0.5\n",
    "# )\n",
    "\n",
    "# def compute_c_tf_idf(df, vectorizer, text_col: str='text', cluster_id_col: str='cluster_id', threshold=0.0):\n",
    "    \n",
    "#     # Step 1: Aggregate texts per cluster\n",
    "#     grouped_texts = df.groupby(cluster_id_col)[text_col].apply(lambda x: \" \".join(x))\n",
    "#     idx2cluster = {i: c for i, c in enumerate(grouped_texts.index)}\n",
    "\n",
    "#     # Step 2: Compute term-document matrix (TF)\n",
    "#     X = vectorizer.fit_transform(grouped_texts)  # Shape: (num_clusters, num_terms)\n",
    "\n",
    "#     # Step 3: Compute IDF\n",
    "#     N = len(grouped_texts)  # Number of clusters\n",
    "#     term_occurrences = np.array((X > 0).sum(axis=0)).flatten()  # Count clusters per term\n",
    "#     idf = np.log(N / (1 + term_occurrences))  # Add 1 to avoid division by zero\n",
    "\n",
    "#     # Step 4: Normalize TF values per topic\n",
    "#     tf = X.toarray()  # Convert to dense array\n",
    "#     topic_lengths = tf.sum(axis=1, keepdims=True)  # Sum of words per topic\n",
    "#     tf_normalized = np.divide(tf, topic_lengths, where=topic_lengths != 0)  # Avoid div by 0\n",
    "\n",
    "#     # Step 5: Compute c-TF-IDF\n",
    "#     c_tf_idf = tf_normalized * idf  # Element-wise multiplication\n",
    "\n",
    "#     # Step 6: Convert to long-format DataFrame\n",
    "#     r, feats = np.where(c_tf_idf>0.0)\n",
    "#     feature_names = vectorizer.get_feature_names_out()\n",
    "#     c_tf_idf_long = pd.DataFrame({cluster_id_col: pd.Series(r).map(idx2cluster), 'term': feature_names[feats], 'occurences': tf[r, feats], 'score': c_tf_idf[r, feats]})\n",
    "    \n",
    "\n",
    "#     # Step 7: Filter out low-score terms\n",
    "#     c_tf_idf_long = c_tf_idf_long[c_tf_idf_long[\"score\"] >= threshold]\n",
    "\n",
    "#     # Step 8: Rank terms within each topic\n",
    "#     c_tf_idf_long = c_tf_idf_long.sort_values(by=[\"cluster_id\", \"score\"], ascending=[True, False])\n",
    "\n",
    "#     return c_tf_idf_long\n",
    "\n",
    "# scores = compute_c_tf_idf(df=df[df.cluster_id.isin(these_clusters)], vectorizer=vectorizer)"
   ]
  },
  {
   "cell_type": "code",
   "execution_count": 197,
   "metadata": {},
   "outputs": [
    {
     "name": "stdout",
     "output_type": "stream",
     "text": [
      "Vocab size is 183330\n",
      "Comparing language...\n"
     ]
    },
    {
     "data": {
      "text/html": [
       "<div>\n",
       "<style scoped>\n",
       "    .dataframe tbody tr th:only-of-type {\n",
       "        vertical-align: middle;\n",
       "    }\n",
       "\n",
       "    .dataframe tbody tr th {\n",
       "        vertical-align: top;\n",
       "    }\n",
       "\n",
       "    .dataframe thead th {\n",
       "        text-align: right;\n",
       "    }\n",
       "</style>\n",
       "<table border=\"1\" class=\"dataframe\">\n",
       "  <thead>\n",
       "    <tr style=\"text-align: right;\">\n",
       "      <th></th>\n",
       "      <th>word</th>\n",
       "      <th>score</th>\n",
       "    </tr>\n",
       "  </thead>\n",
       "  <tbody>\n",
       "    <tr>\n",
       "      <th>183329</th>\n",
       "      <td>society</td>\n",
       "      <td>75.799834</td>\n",
       "    </tr>\n",
       "    <tr>\n",
       "      <th>183328</th>\n",
       "      <td>societies</td>\n",
       "      <td>27.138250</td>\n",
       "    </tr>\n",
       "    <tr>\n",
       "      <th>183327</th>\n",
       "      <td>equal</td>\n",
       "      <td>14.930287</td>\n",
       "    </tr>\n",
       "    <tr>\n",
       "      <th>183326</th>\n",
       "      <td>solidary</td>\n",
       "      <td>13.777264</td>\n",
       "    </tr>\n",
       "    <tr>\n",
       "      <th>183325</th>\n",
       "      <td>society everyone</td>\n",
       "      <td>13.029377</td>\n",
       "    </tr>\n",
       "    <tr>\n",
       "      <th>...</th>\n",
       "      <td>...</td>\n",
       "      <td>...</td>\n",
       "    </tr>\n",
       "    <tr>\n",
       "      <th>182722</th>\n",
       "      <td>takes care</td>\n",
       "      <td>2.018961</td>\n",
       "    </tr>\n",
       "    <tr>\n",
       "      <th>182710</th>\n",
       "      <td>conditions</td>\n",
       "      <td>1.996760</td>\n",
       "    </tr>\n",
       "    <tr>\n",
       "      <th>182708</th>\n",
       "      <td>grow</td>\n",
       "      <td>1.988247</td>\n",
       "    </tr>\n",
       "    <tr>\n",
       "      <th>182709</th>\n",
       "      <td>offer</td>\n",
       "      <td>1.988247</td>\n",
       "    </tr>\n",
       "    <tr>\n",
       "      <th>182707</th>\n",
       "      <td>every</td>\n",
       "      <td>1.985443</td>\n",
       "    </tr>\n",
       "  </tbody>\n",
       "</table>\n",
       "<p>623 rows × 2 columns</p>\n",
       "</div>"
      ],
      "text/plain": [
       "                    word      score\n",
       "183329           society  75.799834\n",
       "183328         societies  27.138250\n",
       "183327             equal  14.930287\n",
       "183326          solidary  13.777264\n",
       "183325  society everyone  13.029377\n",
       "...                  ...        ...\n",
       "182722        takes care   2.018961\n",
       "182710        conditions   1.996760\n",
       "182708              grow   1.988247\n",
       "182709             offer   1.988247\n",
       "182707             every   1.985443\n",
       "\n",
       "[623 rows x 2 columns]"
      ]
     },
     "execution_count": 197,
     "metadata": {},
     "output_type": "execute_result"
    }
   ],
   "source": [
    "c_id = example_id = df.cluster_id.value_counts().index[0]\n",
    "\n",
    "fw = bayes_compare_language(\n",
    "    l1=df.loc[np.logical_and(df.cluster_id.notnull(), df.cluster_id==c_id), 'text'].to_list(),\n",
    "    l2=df.loc[np.logical_and(df.cluster_id.notnull(), df.cluster_id!=c_id), 'text'].to_list(),\n",
    "    cv=vectorizer,\n",
    ")\n",
    "fw = pd.DataFrame(fw, columns=['word', 'score']).sort_values('score', ascending=False)\n",
    "\n",
    "fw[fw.score >= 1.96] # NOTE: `score` is a z-score and hence we can only use as \"significantly\" distinct terms"
   ]
  },
  {
   "cell_type": "code",
   "execution_count": 209,
   "metadata": {},
   "outputs": [
    {
     "data": {
      "text/plain": [
       "510"
      ]
     },
     "execution_count": 209,
     "metadata": {},
     "output_type": "execute_result"
    }
   ],
   "source": [
    "# NOTE: given how long this takes, iterating over all clusters is not feasible \n",
    "#  but could be done for relatively large clusters, e.g.\n",
    "(these:= df.cluster_id.value_counts() >= 25).sum()"
   ]
  },
  {
   "cell_type": "code",
   "execution_count": 210,
   "metadata": {},
   "outputs": [
    {
     "data": {
      "text/plain": [
       "[417, 225, 158, 565, 591]"
      ]
     },
     "execution_count": 210,
     "metadata": {},
     "output_type": "execute_result"
    }
   ],
   "source": [
    "these_clusters = these[these].index.to_list()\n",
    "these_clusters[:5]"
   ]
  },
  {
   "cell_type": "code",
   "execution_count": 213,
   "metadata": {},
   "outputs": [
    {
     "name": "stderr",
     "output_type": "stream",
     "text": [
      "  0%|          | 0/510 [00:00<?, ?it/s]"
     ]
    },
    {
     "name": "stderr",
     "output_type": "stream",
     "text": [
      "100%|██████████| 510/510 [3:01:43<00:00, 21.38s/it]  \n"
     ]
    }
   ],
   "source": [
    "fighting_words = {}\n",
    "\n",
    "for cid in tqdm(these_clusters):\n",
    "    fw = bayes_compare_language(\n",
    "        l1=df.loc[np.logical_and(df.cluster_id.notnull(), df.cluster_id==cid), 'text'].to_list(),\n",
    "        l2=df.loc[np.logical_and(df.cluster_id.notnull(), df.cluster_id!=cid), 'text'].to_list(),\n",
    "        cv=vectorizer,\n",
    "    )\n",
    "    fw = pd.DataFrame(fw, columns=['word', 'score']).sort_values('score', ascending=False)\n",
    "    fighting_words[cid] = fw[fw.score >= 1.96]"
   ]
  },
  {
   "cell_type": "markdown",
   "metadata": {},
   "source": [
    "`@Leonce`: these keyword summaries are already very helpful in my opinion.\n",
    "\n",
    "- they are good, statistically-informed bag-of-word summaries\n",
    "- they enable keyword-based search with a very limited risk for bycatch (e.g., by focusing on n-grams with z-scores ≥ 1.96 or even higher, e.g., 2.576 for 99% confidence)\n",
    "\n",
    "Woudl _not_ solve the issue of multimembership assignment of mentions that should belong to more than one group category (e.g. \"unemployed people in rural areas\")"
   ]
  },
  {
   "cell_type": "code",
   "execution_count": 222,
   "metadata": {},
   "outputs": [],
   "source": [
    "cluster_fighting_words = pd.concat(fighting_words).reset_index(level=0, names='cluster_id').reset_index(drop=True)"
   ]
  },
  {
   "cell_type": "code",
   "execution_count": 235,
   "metadata": {},
   "outputs": [],
   "source": [
    "fp = os.path.join(models_path, 'cluster_keywords.pkl')\n",
    "cluster_fighting_words.to_pickle(fp)"
   ]
  },
  {
   "cell_type": "code",
   "execution_count": 115,
   "metadata": {},
   "outputs": [
    {
     "data": {
      "text/plain": [
       "4.891638475671085"
      ]
     },
     "execution_count": 115,
     "metadata": {},
     "output_type": "execute_result"
    }
   ],
   "source": [
    "from scipy.stats import norm\n",
    "norm.ppf((1 + 99.9999/100) / 2)"
   ]
  },
  {
   "cell_type": "code",
   "execution_count": 403,
   "metadata": {},
   "outputs": [
    {
     "data": {
      "text/plain": [
       "ClusteredMentions(n_clusters=5789)"
      ]
     },
     "execution_count": 403,
     "metadata": {},
     "output_type": "execute_result"
    }
   ],
   "source": [
    "import os\n",
    "from pathlib import Path\n",
    "import joblib\n",
    "import json\n",
    "from sentence_transformers import SentenceTransformer\n",
    "\n",
    "from dataclasses import dataclass\n",
    "from typing import Union, List\n",
    "from pandas import DataFrame\n",
    "from numpy.typing import NDArray\n",
    "\n",
    "@dataclass\n",
    "class ClusteredMentions:\n",
    "    model: \"AgglomerativeClustering\"\n",
    "    embedder: \"SentenceTransformer\"\n",
    "    representatives: List[List[str]]\n",
    "    mediods: \"NDArray\"\n",
    "    keywords: \"DataFrame\"\n",
    "\n",
    "    def __post_init__(self):\n",
    "        self.n_clusters = self.mediods.shape[0]\n",
    "        self.embedding_dimension = self.mediods.shape[1]\n",
    "    \n",
    "    @classmethod\n",
    "    def from_fitted(cls, model_path: Union[str, Path]):\n",
    "        if isinstance(model_path, str):\n",
    "            model_path = Path(model_path)\n",
    "        if not model_path.exists(): raise FileNotFoundError(f\"model_path '{str(model_path)}' does not exist\")\n",
    "        if not model_path.is_dir(): raise NotADirectoryError(f\"model_path '{str(model_path)}' is not a directory\")\n",
    "        req_files = ['model.joblib', 'params.json', 'representatives.json', 'cluster_medoids.bin', 'cluster_keywords.pkl']\n",
    "        files = [f.name  for f in Path(model_path).glob('*')]\n",
    "        missing = [f for f in req_files if f not in files]\n",
    "        if len(missing) > 0:\n",
    "            raise FileNotFoundError(f\"model_path '{str(model_path)}' does not contain required files {missing}\")\n",
    "        \n",
    "        model = joblib.load(os.path.join(model_path, 'model.joblib'))\n",
    "        \n",
    "        with open(os.path.join(model_path, 'params.json'), 'r') as f:\n",
    "            params = json.load(f)\n",
    "        \n",
    "        if 'embedding_model_backend' not in params or params['embedding_model_backend'] != 'sentence_transformers':\n",
    "            raise ValueError('')\n",
    "        embedder = SentenceTransformer(params['embedding_model'])\n",
    "        \n",
    "        with open(os.path.join(model_path, 'representatives.json'), 'r') as f:\n",
    "            representatives = json.load(f)\n",
    "\n",
    "        with open(os.path.join(model_path, 'cluster_medoids.bin'), 'rb') as f:\n",
    "            medoids = np.load(f)\n",
    "        \n",
    "        keywords = pd.read_pickle(os.path.join(models_path, 'cluster_keywords.pkl'))\n",
    "\n",
    "        return cls(model, embedder, representatives, medoids, keywords)\n",
    "\n",
    "    def __repr__(self):\n",
    "        return f\"ClusteredMentions(n_clusters={self.n_clusters})\"\n",
    "\n",
    "clustered_mentions = ClusteredMentions.from_fitted(models_path)\n",
    "clustered_mentions"
   ]
  },
  {
   "cell_type": "code",
   "execution_count": 404,
   "metadata": {},
   "outputs": [],
   "source": [
    "def search_clusters(\n",
    "    query: Union[str, List[str]],\n",
    "    threshold: float=0.5\n",
    "):\n",
    "    if isinstance(query, str): \n",
    "        query = [query]\n",
    "    embs = clustered_mentions.embedder.encode(query, normalize_embeddings=True, convert_to_numpy=True)\n",
    "    emb = embs.mean(axis=0)\n",
    "    sims = clustered_mentions.embedder.similarity_pairwise(clustered_mentions.mediods, emb.reshape((1, -1)))\n",
    "    ranked = sims.argsort(descending=True).numpy()\n",
    "    idxs = ranked[np.where(sims[ranked]>threshold)]\n",
    "    return ranked[idxs], sims[idxs].numpy()"
   ]
  },
  {
   "cell_type": "code",
   "execution_count": null,
   "metadata": {},
   "outputs": [
    {
     "data": {
      "text/plain": [
       "tensor([0.8456])"
      ]
     },
     "execution_count": 424,
     "metadata": {},
     "output_type": "execute_result"
    }
   ],
   "source": [
    "query = ['workers', 'employees']\n"
   ]
  },
  {
   "cell_type": "code",
   "execution_count": 465,
   "metadata": {},
   "outputs": [
    {
     "data": {
      "text/plain": [
       "{(380, 0.8019204): ['Volunteers in blue light organizations',\n",
       "  'Volunteers at blue light organizations',\n",
       "  'blue light personnel',\n",
       "  'people in the blue',\n",
       "  'those active with blue light organisations on public transportation or on entrance to sports, educational or cultural institutions'],\n",
       " (1530, 0.798354): ['the man living on wages and wages',\n",
       "  'A man who receives a gross monthly salary of 5,000 F,',\n",
       "  'a worker with a monthly gross wage of 250 thousand forints',\n",
       "  'man employed'],\n",
       " (723, 0.779836): ['Residents',\n",
       "  'residents',\n",
       "  'local residents',\n",
       "  'Local residents',\n",
       "  'The residents'],\n",
       " (95, 0.77234554): ['layer of society',\n",
       "  'the layers of the population',\n",
       "  'layers of the population',\n",
       "  'all layers of society',\n",
       "  'the layers'],\n",
       " (4441,\n",
       "  0.765492): ['those affected by bindingly established noise emission limits to protect health'],\n",
       " (5479,\n",
       "  0.76358163): ['A member of parliament who is a district chief of profession and criticizes his land chief'],\n",
       " (762, 0.73508424): ['competent personnel',\n",
       "  'competent',\n",
       "  'competent officials',\n",
       "  'competent officers',\n",
       "  'competent staff'],\n",
       " (4102, 0.73467636): ['close people', 'close assistants', 'citizen-close'],\n",
       " (817, 0.73443675): ['people from their homes',\n",
       "  'those who remain at home',\n",
       "  'people in their home',\n",
       "  'people at home',\n",
       "  'people who are no longer really home'],\n",
       " (312, 0.7289337): ['those who are most in need of help',\n",
       "  'Those who need individual help',\n",
       "  'those who do not need help',\n",
       "  'those who need help the most',\n",
       "  'Those who really need help by circumstances'],\n",
       " (2732, 0.7281841): ['modest people',\n",
       "  'people with modest means',\n",
       "  'the most modest',\n",
       "  'the most modest families',\n",
       "  'the most modest of our fellow citizens'],\n",
       " (1154, 0.7243866): ['workers in the telecommunications industry',\n",
       "  'telecommuting workers',\n",
       "  'telephone workers',\n",
       "  'telecom-muting employees',\n",
       "  'all workers in existing broadband infrastructure and retail broadband work'],\n",
       " (4792, 0.72263414): ['pests', 'the natural enemies of pests ('],\n",
       " (2238, 0.72110724): ['Daymates', 'daymates', 'daymothers'],\n",
       " (3099, 0.7161011): ['the members of the coalition',\n",
       "  'coalition',\n",
       "  'members of our coalition',\n",
       "  'former members of the coalition',\n",
       "  'individual members of the future coalition'],\n",
       " (5100,\n",
       "  0.70918334): ['communities who wish to use restorative justice and community healing'],\n",
       " (4526, 0.70163834): ['Criminologists',\n",
       "  'criminologists',\n",
       "  'American criminologists',\n",
       "  'consulting criminologists',\n",
       "  'leftist criminologists'],\n",
       " (613, 0.6989486): ['the occupants',\n",
       "  'occupants',\n",
       "  'their occupants',\n",
       "  'occupants in a state of need',\n",
       "  'occupants of shops, commercial premises, houses and flats'],\n",
       " (4187, 0.6982453): ['DREAMers',\n",
       "  'Dreamers',\n",
       "  'dreamers',\n",
       "  'every dreamer',\n",
       "  'noble dreamers'],\n",
       " (5578, 0.688754): ['anyone who turns a foot',\n",
       "  'anyone who breaks a foot',\n",
       "  'someone who is well-footed'],\n",
       " (187, 0.6854086): ['a sustainable society',\n",
       "  'a Sustainable Society',\n",
       "  'A sustainable society',\n",
       "  'the sustainable society',\n",
       "  'sustainable society'],\n",
       " (1063, 0.68539995): ['those who use firearms in a crime',\n",
       "  'criminals who use guns',\n",
       "  'legal gun owners',\n",
       "  'lawabiding gun owners',\n",
       "  'criminals with guns'],\n",
       " (4727, 0.68530595): ['who are allowed to shorten the death process'],\n",
       " (143, 0.685166): ['assistant',\n",
       "  'Assistants',\n",
       "  'assistants',\n",
       "  'medical assistants',\n",
       "  'educational assistants'],\n",
       " (879, 0.6834413): ['Brave men and women',\n",
       "  'courageous people',\n",
       "  'Our brave men and women',\n",
       "  'brave Americans',\n",
       "  'the courageous men and women who have risked their lives in defense of our country'],\n",
       " (987, 0.68180823): ['the caregivers',\n",
       "  'The caregivers',\n",
       "  'caregivers',\n",
       "  'Caregivers',\n",
       "  'caregivers'],\n",
       " (263, 0.679085): ['the people of Mexico and Colombia',\n",
       "  'the people of Mexico and Colombia, who',\n",
       "  'the people of Central America',\n",
       "  'the Nicaraguan people',\n",
       "  'the people of Central America and the Caribbean'],\n",
       " (383, 0.67283195): ['the linguistic minorities',\n",
       "  'linguistic minorities',\n",
       "  'the linguistic and cultural groups',\n",
       "  'ethnic or linguistic group',\n",
       "  'each linguistic community'],\n",
       " (4951,\n",
       "  0.67248935): ['the opportunists who consider the change on the occasion of corsaries'],\n",
       " (3198,\n",
       "  0.6720904): ['employees who seem to be accountable to no one for the way they treat travelers', 'freight forwarders who mismanage themselves'],\n",
       " (4955, 0.6659063): ['minimum wage tape workers'],\n",
       " (5265,\n",
       "  0.6655871): ['the carpenter who loses his job to a underpaid colleague'],\n",
       " (3952, 0.6632556): ['Newcomers',\n",
       "  'newcomers',\n",
       "  'other newcomers',\n",
       "  'the newcomers',\n",
       "  'these newcomers'],\n",
       " (797, 0.66126764): ['detainees from the prison in',\n",
       "  'detainees',\n",
       "  'detainees at the end of their detention',\n",
       "  'other detainees',\n",
       "  'the detainees'],\n",
       " (1344, 0.65137714): ['Bureaucrats',\n",
       "  'bureaucrats',\n",
       "  'the bureaucrats',\n",
       "  'The bureaucrats',\n",
       "  'government bureaucrats'],\n",
       " (5355, 0.65024686): ['logopedists'],\n",
       " (248, 0.6445254): ['responsible individuals',\n",
       "  'responsible people',\n",
       "  'Responsible people',\n",
       "  'the responsible people',\n",
       "  'the responsible persons'],\n",
       " (5636, 0.6419588): ['tailor'],\n",
       " (1104, 0.6399324): ['the corps',\n",
       "  'the Corps',\n",
       "  'The Marines',\n",
       "  'the Marines',\n",
       "  'the command corps'],\n",
       " (945, 0.63954943): ['Those who want new things',\n",
       "  'Those who want to do something new',\n",
       "  'those who need new things, houses, furniture',\n",
       "  'Those who want to cope with the new challenges',\n",
       "  'young, courageous, ambitious people who need a new house, a new car, toys for their families and children'],\n",
       " (4531,\n",
       "  0.6379838): ['those determined to have suffered from such exposure or service', 'Exposure citizens'],\n",
       " (1172, 0.63725495): ['the various actors of society',\n",
       "  'these actors of our society',\n",
       "  'individual actors in society',\n",
       "  'the main protagonists of society',\n",
       "  'people at the bottom of society'],\n",
       " (2025, 0.63397956): ['those who pay at the end',\n",
       "  'those who at the end of their',\n",
       "  'those whose credits'],\n",
       " (622, 0.63392454): ['consultants',\n",
       "  'the consultants',\n",
       "  'professional consultants',\n",
       "  'consultants working for the applicant',\n",
       "  'employment consultants'],\n",
       " (5383, 0.6335653): ['bickering'],\n",
       " (3204, 0.6329986): ['cruel people',\n",
       "  'people in deliberately cruel and torturous conditions'],\n",
       " (4877, 0.6300404): ['the Raglan community'],\n",
       " (4965, 0.62759334): ['coal communities',\n",
       "  'the coal communities',\n",
       "  'currently coal dependent communities',\n",
       "  'Coalfield communities',\n",
       "  'affected communities in the transition from dependence on coal mining and coal-fired power stations'],\n",
       " (4196, 0.6246141): ['the gangsters of VIS and SIK'],\n",
       " (878, 0.62346673): ['victims of illegal advertising calls with the',\n",
       "  'those who are overwhelmed by unauthorized advertising calls on the phone',\n",
       "  'fraudulent telemarketers who target the elderly'],\n",
       " (3181, 0.62221575): ['our communities from methane pollution'],\n",
       " (667, 0.6220636): ['The creditors',\n",
       "  'the creditors',\n",
       "  'creditors',\n",
       "  'public creditors',\n",
       "  'the creditors representatives'],\n",
       " (3585, 0.61906123): ['workers of the cable factory in Ozharov'],\n",
       " (322, 0.6190356): ['retirees',\n",
       "  'Retirees',\n",
       "  'older people in retirement',\n",
       "  'People over the retirement age',\n",
       "  'old-age retirees'],\n",
       " (3626, 0.6190144): ['freedom-loving people everywhere',\n",
       "  'freedom-loving people around the globe',\n",
       "  '-loving people everywhere',\n",
       "  'the people and places that you love'],\n",
       " (487, 0.61784536): ['accompanying person',\n",
       "  'accompanying persons',\n",
       "  'accompanyers',\n",
       "  'accompanying',\n",
       "  'the persons assisted'],\n",
       " (2886, 0.6170264): ['Family for security, security and education',\n",
       "  'police families',\n",
       "  'families in the minimum security',\n",
       "  'criminal family members',\n",
       "  'secure families in a secure America in a secure world'],\n",
       " (1320, 0.6150219): ['those who want to',\n",
       "  'those who want it',\n",
       "  'people who want to',\n",
       "  'those who desire it',\n",
       "  'those who wish'],\n",
       " (1413, 0.6121474): ['Psychologists',\n",
       "  'psychologists',\n",
       "  'Psychologist',\n",
       "  'clinical psychologists',\n",
       "  'certain so-called psychologists'],\n",
       " (2677, 0.61152434): ['people who go for recreation',\n",
       "  'recreation seekers',\n",
       "  'those who use them for recreation',\n",
       "  'those who seek recreation and rejuvenation in the wilderness',\n",
       "  'the recreational users'],\n",
       " (5025, 0.61044717): ['right'],\n",
       " (1924, 0.6085345): ['al Qaedas key leaders',\n",
       "  'The al Qaeda leadership',\n",
       "  'the leader of Al Qaeda',\n",
       "  'other senior al-Qaeda leaders',\n",
       "  'first-tier leaders of the al Qaeda organization in Saudi Arabia'],\n",
       " (5273, 0.6041914): ['prescrib'],\n",
       " (300, 0.6037526): ['the people who come to us',\n",
       "  'those who come to us',\n",
       "  'Those who come to us',\n",
       "  'the people who come here',\n",
       "  'people who have come to us'],\n",
       " (1260, 0.60341734): ['forward', 'forward-looking', 'advance'],\n",
       " (538, 0.6030045): ['Those who act on time',\n",
       "  'Those who do not work around the clock for a lifetime',\n",
       "  'people who know and can keep up with time',\n",
       "  'people taking their time rights',\n",
       "  'those who are stuck in the so-called rush hour of life and who'],\n",
       " (1140, 0.6022835): ['poor and middle-income families',\n",
       "  'Families with low incomes',\n",
       "  'families with low incomes',\n",
       "  'children from families with the lowest incomes',\n",
       "  'low-income families'],\n",
       " (4319, 0.5995956): ['deep-'],\n",
       " (1805, 0.5993107): ['acceptors', 'these rejectors'],\n",
       " (4284, 0.5982237): ['the last generation to turn the wheel', 'wheel'],\n",
       " (1087, 0.59780085): ['permitted cumuls', 'allowants'],\n",
       " (996, 0.597509): ['children with serious diseases',\n",
       "  'children with serious diseases',\n",
       "  'children who suffer from ill health',\n",
       "  'chronically ill children',\n",
       "  'children with serious conditions'],\n",
       " (5676, 0.5960762): ['each of whom spends an average of $50 per day'],\n",
       " (1552,\n",
       "  0.59589213): ['Clinton staffers who were known to be recent users of illegal narcotics', 'the Clinton tax addicts'],\n",
       " (328, 0.5957492): ['insured persons',\n",
       "  'Insured persons',\n",
       "  'the insured persons',\n",
       "  'the health insured persons',\n",
       "  'health insured persons'],\n",
       " (1445, 0.5943466): ['professors',\n",
       "  'the professional professors',\n",
       "  'university professors',\n",
       "  'the professors',\n",
       "  'academics'],\n",
       " (1902, 0.5931058): ['the food family',\n",
       "  'the food family',\n",
       "  'the food',\n",
       "  'the restaurant moms'],\n",
       " (4954, 0.592846): ['charterers'],\n",
       " (2932, 0.59140563): ['party-protected employees',\n",
       "  'employees across all traditional parties'],\n",
       " (4054,\n",
       "  0.5912102): ['every Frenchman who calls on his relatives for small work'],\n",
       " (2000, 0.5910424): ['seniors who use them',\n",
       "  'seniors who like the coverage they have today',\n",
       "  'seniors in the media',\n",
       "  'every senior who needs them',\n",
       "  'those seniors who do not depreciate'],\n",
       " (743, 0.59093535): ['victims of discrimination',\n",
       "  'Victims of discrimination',\n",
       "  'Individuals - victims of discrimination',\n",
       "  'people from discrimination',\n",
       "  'people affected by discrimination'],\n",
       " (4265,\n",
       "  0.5895416): ['police officers who made mistakes in the Dutroux and Loubna cases', 'the responsible persons in the Dutroux case'],\n",
       " (2588, 0.58918357): ['those performing this useful work',\n",
       "  'others with training to handle this work',\n",
       "  'those working on the programme'],\n",
       " (4911, 0.58884555): ['the E/Cs'],\n",
       " (4819, 0.58835226): ['has spawned'],\n",
       " (2270, 0.587242): ['The perpetrator',\n",
       "  'the perpetrator',\n",
       "  'a perpetrator',\n",
       "  'the individual perpetrator',\n",
       "  'the perpetrator of one'],\n",
       " (592, 0.58650374): ['EU politicians',\n",
       "  'representatives of the European Union',\n",
       "  'the European Parliament',\n",
       "  'Members of the European Commission',\n",
       "  'European officials'],\n",
       " (367, 0.5859769): ['Dealers',\n",
       "  'dealers',\n",
       "  'the dealers',\n",
       "  'the dealer',\n",
       "  'real dealers'],\n",
       " (3126, 0.5851771): ['those excluded from full participation in the economy',\n",
       "  'those left out of their countrys energetic economy'],\n",
       " (5029, 0.58445144): ['Thinkers',\n",
       "  'thinkers',\n",
       "  'the best thinkers',\n",
       "  'thinkers in the nation',\n",
       "  'thinkers in secondary schools'],\n",
       " (2845, 0.58144593): ['employees in structural change',\n",
       "  'those who are significantly adversely affected by the structural changes'],\n",
       " (2539, 0.57764554): ['a class society',\n",
       "  'classes of society',\n",
       "  'the class',\n",
       "  'a different kind of class society',\n",
       "  'classes'],\n",
       " (3516, 0.5775283): ['example'],\n",
       " (2271, 0.57689077): ['-notch professionals', 'notch teachers'],\n",
       " (1683, 0.57664347): ['people with activities related to flood protection',\n",
       "  'Families who infiltrate rainwater'],\n",
       " (2864, 0.5762457): ['the owners of capital',\n",
       "  'Capital owners',\n",
       "  'capital owners',\n",
       "  'the holders of the capital',\n",
       "  'private capital owners'],\n",
       " (1159, 0.5757006): ['infringers',\n",
       "  'the infringer',\n",
       "  'all infringers',\n",
       "  'the inflexible'],\n",
       " (2704, 0.5756934): ['a neutral mediator', 'a neutral person'],\n",
       " (4030,\n",
       "  0.5745574): ['judges residing for a number of years in the alpine paddock regions'],\n",
       " (4334, 0.5742248): ['The latter from elementary school'],\n",
       " (2667, 0.57384604): ['Domestic Workers',\n",
       "  'domestic workers',\n",
       "  'the Domestic Workers',\n",
       "  'domestic professionals',\n",
       "  'domestic workers for domestic purposes'],\n",
       " (5292, 0.57225484): ['gardeners',\n",
       "  'gardener',\n",
       "  'The gardener',\n",
       "  'small gardeners',\n",
       "  'a gardener'],\n",
       " (254, 0.5721898): ['workers from our former overseas possessions',\n",
       "  'they are from the metropolis or our former overseas possessions',\n",
       "  'Americans earning possession of their homes through'],\n",
       " (1852, 0.57218695): ['Kosovos drug bosses', 'drug users in Hungary'],\n",
       " (273, 0.5672796): ['non-adaptive citizens',\n",
       "  '-adaptive citizens',\n",
       "  'the non-adaptive citizen',\n",
       "  'a group of so-called non-adaptive citizens',\n",
       "  'adapted citizens'],\n",
       " (438, 0.56665534): ['wind turbine builders',\n",
       "  'building wind turbines',\n",
       "  'the owners of properties adjacent to wind turbines',\n",
       "  'the majority of Polish villagers who oppose the location of wind turbines near human buildings',\n",
       "  'villagers protesting against the construction of wind turbines'],\n",
       " (2565, 0.56663173): ['Organizers',\n",
       "  'organizers',\n",
       "  'the organizers',\n",
       "  'organisers of,',\n",
       "  'local organizers'],\n",
       " (4234, 0.5650528): ['The local cohorts', 'the respective cohorts'],\n",
       " (220, 0.56236404): ['librarians',\n",
       "  'library staff',\n",
       "  'library visitors',\n",
       "  'libraries users',\n",
       "  'the millions who use our libraries'],\n",
       " (1120, 0.560627): ['doctors of mutually beneficial trade in patient health',\n",
       "  'the physicians with fixed euro prices'],\n",
       " (2254, 0.55879945): ['men at birth of their child',\n",
       "  'a man born at birth',\n",
       "  'men to be born',\n",
       "  'the man who was equally involved in the onset of pregnancy'],\n",
       " (2264, 0.55806446): ['those forced out', 'forced', 'forced out of business'],\n",
       " (483, 0.5576077): ['residents in book collectives',\n",
       "  'us who didnt come from booklike homes'],\n",
       " (5755, 0.5569189): ['green optimists', 'optimists'],\n",
       " (265, 0.5566174): ['those who speak different languages',\n",
       "  'those who have successfully integrated and mastered a national language',\n",
       "  'foreign language students',\n",
       "  'those whose first language is not English',\n",
       "  'non-native speakers of English'],\n",
       " (4179, 0.5564531): ['Overlappers'],\n",
       " (399, 0.5543518): ['the former opponents of free education',\n",
       "  'the guards of the freedom of education',\n",
       "  'the individual student with full freedom of choice of education',\n",
       "  'advocates of academic freedom',\n",
       "  'the interns of the free schools'],\n",
       " (4937,\n",
       "  0.554173): ['Those who experience deposits, polluted green plants or façade lubrication'],\n",
       " (2645, 0.5522515): ['fur', 'existing fur farmers'],\n",
       " (4549, 0.5510569): ['fraudsters who robbed the Polish village'],\n",
       " (5, 0.5493705): ['victims of a crime',\n",
       "  'victims of the crime',\n",
       "  'Victims of crimes',\n",
       "  'victims of crimes',\n",
       "  'victims of violent crimes'],\n",
       " (5196, 0.5471871): ['1617 year olds'],\n",
       " (2376, 0.54628617): ['the owners of gas power plants',\n",
       "  'sellers of natural gas',\n",
       "  'industrial users of natural gas and imported oil',\n",
       "  'domestic gas users'],\n",
       " (4426, 0.5452301): ['federal dependents abroad',\n",
       "  'other dependents of the Federal Government'],\n",
       " (496, 0.5445102): ['Teams that write textbooks',\n",
       "  'of textbooks',\n",
       "  'biblio-teachers'],\n",
       " (585, 0.5438254): ['everyone on accessible terms', 'full access to'],\n",
       " (5343,\n",
       "  0.54327166): ['unadapting citizens who are parasitizing a generous and unemployed social system', 'unemployed people who voluntarily join the voluntary service of real ASBLs'],\n",
       " (355, 0.5426035): ['reformists',\n",
       "  'reformists',\n",
       "  'the reformist',\n",
       "  'modern reformists',\n",
       "  'political reformers'],\n",
       " (4731,\n",
       "  0.5421604): ['Belgian researchers who do so before even being published in paper journals'],\n",
       " (5660, 0.54068506): ['book'],\n",
       " (2598, 0.53979814): ['citizens, generally unarmed',\n",
       "  'unarmed soldiers',\n",
       "  'those who choose, for religious or other reasons, the unarmed service',\n",
       "  'unarmed communities',\n",
       "  'an unarmed but well-prepared population'],\n",
       " (587, 0.53974694): ['flamingos',\n",
       "  'the most rabiate Flamingenhaters',\n",
       "  'the flamingos',\n",
       "  'The average Flaming',\n",
       "  'the most rabiate Flamingenhaters in Brussels'],\n",
       " (2873, 0.5388507): ['the one who learns best in theory',\n",
       "  'the one who learns best through practical practice',\n",
       "  'Anyone who is technically knowledgeable',\n",
       "  'Anyone who learns a lifetime',\n",
       "  'one who understands anything about it'],\n",
       " (2377, 0.5368592): ['breadwinners', 'the breadwinner', 'bread-seekers'],\n",
       " (1665, 0.5353116): ['public procurement experts',\n",
       "  'individuals responsible for the lawful execution of public procurement',\n",
       "  'external experts at every stage of the procurement process',\n",
       "  'Persons involved in the federal government procurement process',\n",
       "  'external observers of the entire procurement process'],\n",
       " (624, 0.5345087): ['of the work and',\n",
       "  'the expense',\n",
       "  'the expense of the',\n",
       "  'of work',\n",
       "  'of responsibilities'],\n",
       " (733, 0.5337341): ['low-paid workers',\n",
       "  'low- paid workers',\n",
       "  'low-paying workers',\n",
       "  'People with low wages',\n",
       "  'people on the lowest wages'],\n",
       " (3132,\n",
       "  0.53372574): ['those people who are seriously considering giving the power to Helle & Villy'],\n",
       " (1949,\n",
       "  0.5336333): ['those who cannot or cannot fully use the child allowance', 'child allowance recipients', 'those in need of additional family allowance', 'a family of three with a child receiving the allowance', 'persons entitled to family allowance'],\n",
       " (4303, 0.5333598): ['entrepreneurialprojectsconsumers'],\n",
       " (1369, 0.53184336): ['those in small towns',\n",
       "  'those in the South West',\n",
       "  'those in the cities and suburbs as',\n",
       "  'those in the industrial and agricultural heartland',\n",
       "  'those in agriculture'],\n",
       " (1820, 0.530998): ['terrorists equipped with weapons of mass destruction',\n",
       "  'terrorists armed with weapons of mass destruction',\n",
       "  'terrorists acquiring nuclear weapons or the materials to make them',\n",
       "  'proliferators of weapons of mass destruction'],\n",
       " (2524, 0.5305935): ['those who swear according to the church ceremony',\n",
       "  'those who want to remove the symbols of our Christian tradition, to'],\n",
       " (3199, 0.5302647): ['the deputy chief charged with serious official charges'],\n",
       " (1018, 0.528066): ['the people of Ireland',\n",
       "  'the Irish citizens',\n",
       "  'Irelands people',\n",
       "  'the Northern Ireland people',\n",
       "  'The people of Northern Ireland'],\n",
       " (3610, 0.526259): ['workers in companies without a collective agreement',\n",
       "  'workers guaranteed by the Collective Agreement',\n",
       "  'employees who do not have a collective agreement',\n",
       "  'employees benefiting from collective agreements',\n",
       "  'workers who would no longer be entitled to a collective agreement providing for prepension'],\n",
       " (4178, 0.52534914): ['those who send their dirt directly into a river'],\n",
       " (3006,\n",
       "  0.5253197): ['police Police officers away behind the desk and on the street'],\n",
       " (1553, 0.5252427): ['diabetes',\n",
       "  'people stricken with diabetes',\n",
       "  'diabetics',\n",
       "  'the population with diabetes',\n",
       "  'the diabetic who forgets to refill an insulin prescription'],\n",
       " (1695, 0.52518535): ['Sailors',\n",
       "  'sailors',\n",
       "  'seamen',\n",
       "  'American seamen',\n",
       "  'sailor'],\n",
       " (5365, 0.52439576): ['the political pretorian guards',\n",
       "  'the pretorians',\n",
       "  'the pretorians in the social security that'],\n",
       " (5539, 0.5243622): ['the Buddhists',\n",
       "  'Buddhists',\n",
       "  'the Buddhist community in Budapest',\n",
       "  'the Buddhist monks who are being persecuted there'],\n",
       " (4211,\n",
       "  0.52388424): ['a relatively new group that uses generating substances such as cocaine, LSD, speed and XTC in and around megadancings'],\n",
       " (1038, 0.52379835): ['persons who are not able to',\n",
       "  'able-bodied people',\n",
       "  'People who do not have the ability or ability to',\n",
       "  'able-bodied persons',\n",
       "  'People whose physical or mental abilities are limited'],\n",
       " (5489,\n",
       "  0.5237454): ['the American soldiers of this traditional ultra-conservative society'],\n",
       " (3840, 0.52163893): ['comrades', 'my comrades', 'their active comrades'],\n",
       " (3834, 0.520221): ['workers living in boom towns, where'],\n",
       " (2543, 0.52018696): ['travel agency employee',\n",
       "  'travel agency',\n",
       "  'travel agency customers',\n",
       "  'travel agent worker'],\n",
       " (2262, 0.51791173): ['the negotiators',\n",
       "  'negotiators',\n",
       "  'our negotiators',\n",
       "  'American negotiators',\n",
       "  'negotiators seeking peace'],\n",
       " (1583,\n",
       "  0.51766956): ['various social groups that have gradually seen their social prerogatives diminished', 'degraded social groups', 'declining social groups in Hungary', 'those social groups whose interests determined the direction of change after 1989'],\n",
       " (751, 0.5174453): ['searchers',\n",
       "  'active searchers',\n",
       "  'volunteer search crews',\n",
       "  'Discoverers'],\n",
       " (3237,\n",
       "  0.5171841): ['Australian citizens subjected to mistreatment by foreign powers', 'persons detrimentally affected by the operations of Australian corporations overseas'],\n",
       " (2337, 0.5169419): ['the supporters of disoriented liberalism',\n",
       "  'supporters of a liberal approach to crime and social pathologies'],\n",
       " (3185, 0.51691324): ['those who have never known either',\n",
       "  'those who should have known better'],\n",
       " (1703, 0.5169056): ['those who bear the burden too heavily',\n",
       "  'Those who want to relieve the burden',\n",
       "  'Anyone who wants the burden to be fairly distributed',\n",
       "  'those who bear great burdens',\n",
       "  'those who have so far pushed for a fair burden-sharing'],\n",
       " (966, 0.5137174): ['those looking for them',\n",
       "  'all those seeking them',\n",
       "  'those seeking entry',\n",
       "  'those seeking to recover',\n",
       "  'those seeking sanctuary'],\n",
       " (2334, 0.51298404): ['private individuals',\n",
       "  'private persons',\n",
       "  'Private persons',\n",
       "  'the private',\n",
       "  'the Private'],\n",
       " (3576, 0.51258624): ['Franks', 'the Franks'],\n",
       " (2472, 0.5116176): ['livestock',\n",
       "  'livestock farmers',\n",
       "  'the various livestock',\n",
       "  'the livestock farmers',\n",
       "  'livestock owners'],\n",
       " (1775, 0.51106656): ['shooters',\n",
       "  'the shooters',\n",
       "  'sports shooters',\n",
       "  'The 5 shooters',\n",
       "  'open-air shooters'],\n",
       " (5043, 0.5106081): ['leine'],\n",
       " (2780, 0.5093607): ['people served by waste water treatment systems',\n",
       "  'people working in the drinking water supply and water treatment sector',\n",
       "  'Those who settle outside the designated water purification zones'],\n",
       " (479, 0.5093476): ['individual pensioners',\n",
       "  'pension payers',\n",
       "  'pensioners in need',\n",
       "  'pensioners',\n",
       "  'Pensioners'],\n",
       " (3985,\n",
       "  0.5085486): ['workers declared technological surplus, until finding a new job'],\n",
       " (218, 0.5082223): ['students who have passed exams',\n",
       "  '-working students who have passed the exam',\n",
       "  'students at state exams and examinations',\n",
       "  'those who wish to take these exams',\n",
       "  'students arriving on time for the exam'],\n",
       " (2782, 0.5082083): ['those who use it',\n",
       "  'those who use them',\n",
       "  'the people who use them',\n",
       "  'those who make use of it',\n",
       "  'Those who use it best'],\n",
       " (3514,\n",
       "  0.50802): ['a human and just society based on the love of one another and on helping one another', 'a people united in helping one another'],\n",
       " (3463,\n",
       "  0.5070944): ['groups that are largely or entirely excluded from social decision-making processes', 'individuals belonging to groups traditionally excluded from policy-making processes', 'a small group of high-income people who make decisions primarily driven by their own interests and thus often ignore'],\n",
       " (3217, 0.5068703): ['our indisputable'],\n",
       " (3563, 0.5065861): ['lder'],\n",
       " (3974, 0.50473595): ['the homebound'],\n",
       " (1298,\n",
       "  0.5046014): ['who see learning and decent work as the only possible path to individual and community prosperity', 'who see learning and decent work as the only possible path to individual-community-social prosperity', 'strong local communities rich in sustainable work, that judge success by the measure of human happiness and the quality of their environment'],\n",
       " (1578, 0.5040679): ['the educational communities',\n",
       "  'educational communities',\n",
       "  'Educational communities',\n",
       "  'school communities',\n",
       "  'the educational community'],\n",
       " (1880, 0.5029498): ['engaged people',\n",
       "  'fiances',\n",
       "  'Engaged parents',\n",
       "  'male fiancés',\n",
       "  'engaged artists'],\n",
       " (2452, 0.5023788): ['people who need to access several types of service',\n",
       "  'students who can access these services',\n",
       "  'people with access to these supports'],\n",
       " (4415, 0.5018752): ['people from Hartz IV'],\n",
       " (45, 0.5009581): ['Buyers', 'buyers', 'the buyers', 'the buyer', 'The buyer'],\n",
       " (831, 0.5004525): ['grown-ups',\n",
       "  'upbringing',\n",
       "  'the grown up',\n",
       "  'the well-grown people',\n",
       "  'a person involved in his upbringing'],\n",
       " (4837, 0.5000529): ['key people', 'key', 'key players', 'a key participant'],\n",
       " (3000,\n",
       "  0.50000715): ['everyone, regardless of their bank balance or postcode']}"
      ]
     },
     "execution_count": 465,
     "metadata": {},
     "output_type": "execute_result"
    }
   ],
   "source": [
    "queries = [\n",
    "    'workers', \n",
    "    'working class', \n",
    "    'working people', \n",
    "    'those working in industry',\n",
    "    'those working in factories',\n",
    "    'blue collar workers',\n",
    "]\n",
    "idxs, sims = search_clusters(queries, threshold=0.5)\n",
    "\n",
    "{(i, s): clustered_mentions.representatives[i] for i, s in zip(idxs, sims)}\n",
    "# clustered_mentions.keywords[clustered_mentions.keywords.cluster_id.isin(idxs.tolist())]"
   ]
  },
  {
   "cell_type": "code",
   "execution_count": 466,
   "metadata": {},
   "outputs": [
    {
     "data": {
      "text/plain": [
       "{(544, 0.7914879): ['Service Members',\n",
       "  'service members',\n",
       "  'those who operate the service',\n",
       "  'the service users',\n",
       "  'service users'],\n",
       " (4454, 0.5712752): ['begg'],\n",
       " (3096, 0.56076217): ['custodial managers working in England and Wales'],\n",
       " (1156, 0.54527575): ['parking guards',\n",
       "  'parking',\n",
       "  'park guards',\n",
       "  'those who need to park at work',\n",
       "  'park-keepers'],\n",
       " (2626, 0.535623): ['others paying for visits',\n",
       "  'the recipients of fees for public benefit activities'],\n",
       " (3632, 0.53095126): ['patients without a referral letter'],\n",
       " (2918, 0.51604044): ['all clotto'],\n",
       " (4162,\n",
       "  0.51534843): ['people who need to be physically present at work, such as a seller or nurse'],\n",
       " (2811, 0.50912654): ['custodians',\n",
       "  'custodian',\n",
       "  'Custodians of the land we',\n",
       "  'Custodians of the Prison',\n",
       "  'a qualified custodian assistant'],\n",
       " (905,\n",
       "  0.50581086): ['a person who previously worked for one of the top business representatives and who is also in a state of conflict of interest as the head of ABW', 'a man connected with both big business and the ruling party'],\n",
       " (3901, 0.504983): ['the French Muslims, Harkis',\n",
       "  'Muslims in France',\n",
       "  'Children of Harkis who acquired French citizenship by bloodshed']}"
      ]
     },
     "execution_count": 466,
     "metadata": {},
     "output_type": "execute_result"
    }
   ],
   "source": [
    "queries = [\n",
    "    'dentists', \n",
    "]\n",
    "idxs, sims = search_clusters(queries, threshold=0.5)\n",
    "\n",
    "{(i, s): clustered_mentions.representatives[i] for i, s in zip(idxs, sims)}\n",
    "# clustered_mentions.keywords[clustered_mentions.keywords.cluster_id.isin(idxs.tolist())]"
   ]
  },
  {
   "cell_type": "code",
   "execution_count": 476,
   "metadata": {},
   "outputs": [
    {
     "data": {
      "text/html": [
       "<div>\n",
       "<style scoped>\n",
       "    .dataframe tbody tr th:only-of-type {\n",
       "        vertical-align: middle;\n",
       "    }\n",
       "\n",
       "    .dataframe tbody tr th {\n",
       "        vertical-align: top;\n",
       "    }\n",
       "\n",
       "    .dataframe thead th {\n",
       "        text-align: right;\n",
       "    }\n",
       "</style>\n",
       "<table border=\"1\" class=\"dataframe\">\n",
       "  <thead>\n",
       "    <tr style=\"text-align: right;\">\n",
       "      <th></th>\n",
       "      <th>cluster_id</th>\n",
       "      <th>word</th>\n",
       "      <th>score</th>\n",
       "    </tr>\n",
       "  </thead>\n",
       "  <tbody>\n",
       "    <tr>\n",
       "      <th>26120</th>\n",
       "      <td>1212</td>\n",
       "      <td>dentists</td>\n",
       "      <td>2.508622</td>\n",
       "    </tr>\n",
       "    <tr>\n",
       "      <th>35730</th>\n",
       "      <td>229</td>\n",
       "      <td>dentists</td>\n",
       "      <td>7.721016</td>\n",
       "    </tr>\n",
       "  </tbody>\n",
       "</table>\n",
       "</div>"
      ],
      "text/plain": [
       "       cluster_id      word     score\n",
       "26120        1212  dentists  2.508622\n",
       "35730         229  dentists  7.721016"
      ]
     },
     "execution_count": 476,
     "metadata": {},
     "output_type": "execute_result"
    }
   ],
   "source": [
    "clustered_mentions.keywords.query(\"word=='dentists'\")# [clustered_mentions.keywords.word.isin(queries)].sort_values('score', ascending=False)"
   ]
  },
  {
   "cell_type": "code",
   "execution_count": 484,
   "metadata": {},
   "outputs": [
    {
     "data": {
      "text/html": [
       "<div>\n",
       "<style scoped>\n",
       "    .dataframe tbody tr th:only-of-type {\n",
       "        vertical-align: middle;\n",
       "    }\n",
       "\n",
       "    .dataframe tbody tr th {\n",
       "        vertical-align: top;\n",
       "    }\n",
       "\n",
       "    .dataframe thead th {\n",
       "        text-align: right;\n",
       "    }\n",
       "</style>\n",
       "<table border=\"1\" class=\"dataframe\">\n",
       "  <thead>\n",
       "    <tr style=\"text-align: right;\">\n",
       "      <th></th>\n",
       "      <th>cluster_id</th>\n",
       "      <th>word</th>\n",
       "      <th>score</th>\n",
       "    </tr>\n",
       "  </thead>\n",
       "  <tbody>\n",
       "    <tr>\n",
       "      <th>26120</th>\n",
       "      <td>1212</td>\n",
       "      <td>dentists</td>\n",
       "      <td>2.508622</td>\n",
       "    </tr>\n",
       "  </tbody>\n",
       "</table>\n",
       "</div>"
      ],
      "text/plain": [
       "       cluster_id      word     score\n",
       "26120        1212  dentists  2.508622"
      ]
     },
     "execution_count": 484,
     "metadata": {},
     "output_type": "execute_result"
    }
   ],
   "source": [
    "expls = clustered_mentions.keywords.query('cluster_id==1212')\n",
    "expls[expls.word.str.contains('dentist')]"
   ]
  },
  {
   "cell_type": "code",
   "execution_count": 485,
   "metadata": {},
   "outputs": [
    {
     "data": {
      "text/plain": [
       "['dental health professionals',\n",
       " 'dental professionals',\n",
       " 'Dentists',\n",
       " 'dentists',\n",
       " 'the dentists']"
      ]
     },
     "execution_count": 485,
     "metadata": {},
     "output_type": "execute_result"
    }
   ],
   "source": [
    "clustered_mentions.representatives[229]\n",
    "# clustered_mentions.representatives[1212]"
   ]
  },
  {
   "cell_type": "code",
   "execution_count": null,
   "metadata": {},
   "outputs": [
    {
     "data": {
      "text/plain": [
       "tensor([0.1209, 0.2503, 0.3468,  ..., 0.1102, 0.0973, 0.2358])"
      ]
     },
     "execution_count": 288,
     "metadata": {},
     "output_type": "execute_result"
    }
   ],
   "source": []
  },
  {
   "cell_type": "code",
   "execution_count": 261,
   "metadata": {},
   "outputs": [
    {
     "data": {
      "text/plain": [
       "(5789, 384)"
      ]
     },
     "execution_count": 261,
     "metadata": {},
     "output_type": "execute_result"
    }
   ],
   "source": [
    "edim = embedder.get_sentence_embedding_dimension()\n",
    "\n",
    "with open(os.path.join(models_path, 'cluster_medoids.bin'), 'rb') as f:\n",
    "    meds = np.load(f)\n",
    "\n",
    "meds.shape"
   ]
  },
  {
   "cell_type": "markdown",
   "metadata": {},
   "source": [
    "## Community detection"
   ]
  },
  {
   "cell_type": "code",
   "execution_count": null,
   "metadata": {},
   "outputs": [
    {
     "name": "stderr",
     "output_type": "stream",
     "text": [
      "huggingface/tokenizers: The current process just got forked, after parallelism has already been used. Disabling parallelism to avoid deadlocks...\n",
      "To disable this warning, you can either:\n",
      "\t- Avoid using `tokenizers` before the fork if possible\n",
      "\t- Explicitly set the environment variable TOKENIZERS_PARALLELISM=(true | false)\n"
     ]
    },
    {
     "name": "stdout",
     "output_type": "stream",
     "text": [
      "Collecting pycombo\n",
      "  Downloading pycombo-0.1.8-cp311-cp311-macosx_14_0_arm64.whl.metadata (5.9 kB)\n",
      "Downloading pycombo-0.1.8-cp311-cp311-macosx_14_0_arm64.whl (209 kB)\n",
      "Installing collected packages: pycombo\n",
      "Successfully installed pycombo-0.1.8\n"
     ]
    }
   ],
   "source": [
    "# !pip install cdlib=0.4.0\n",
    "# !pip install igraph==0.11.8 leidenalg==0.10.2\n",
    "# !pip install pycombo==0.1.8"
   ]
  },
  {
   "cell_type": "markdown",
   "metadata": {},
   "source": [
    "### construct weighted graph"
   ]
  },
  {
   "cell_type": "markdown",
   "metadata": {},
   "source": [
    "remember this 👇"
   ]
  },
  {
   "cell_type": "code",
   "execution_count": 137,
   "metadata": {},
   "outputs": [
    {
     "data": {
      "image/png": "[encoded data removed]",
      "text/plain": [
       "<Figure size 800x300 with 2 Axes>"
      ]
     },
     "metadata": {},
     "output_type": "display_data"
    },
    {
     "data": {
      "text/plain": [
       "{'00.01%': -0.12211504470035434,\n",
       " '00.10%': -0.08137406273186207,\n",
       " '01.00%': -0.027428350411355495,\n",
       " '10.00%': 0.053512196987867355,\n",
       " '25.00%': 0.10590158216655254,\n",
       " '50.00%': 0.16982804238796234,\n",
       " '75.00%': 0.24237775057554245,\n",
       " '90.00%': 0.31891465485095977,\n",
       " '99.00%': 0.49078577756881714,\n",
       " '99.90%': 0.6595805083513275,\n",
       " '99.99%': 0.873419501203214}"
      ]
     },
     "execution_count": 137,
     "metadata": {},
     "output_type": "execute_result"
    }
   ],
   "source": [
    "# plot histogram and histogram with log-transformed y-axis side by side \n",
    "plt.figure(figsize=(8, 3))\n",
    "plt.subplot(1, 2, 1)\n",
    "plt.hist(sim_scores, bins=100)\n",
    "plt.xlabel('cosine similarity')\n",
    "plt.ylabel('count')\n",
    "plt.subplot(1, 2, 2)\n",
    "plt.hist(sim_scores, bins=100)\n",
    "plt.yscale('log')\n",
    "plt.xlabel('cosine similarity')\n",
    "plt.ylabel('count')\n",
    "plt.show()\n",
    "\n",
    "# plot quantiles \n",
    "\n",
    "qs = np.array([1/100, 1/10, 1, 10, 25, 50, 75, 90, 99, 99+9/10, 99+99/100])\n",
    "dict(zip([f'{q:0.2f}%'.zfill(6) for q in qs], np.quantile(sim_scores, qs/100)))"
   ]
  },
  {
   "cell_type": "code",
   "execution_count": 160,
   "metadata": {},
   "outputs": [
    {
     "name": "stdout",
     "output_type": "stream",
     "text": [
      "22.980% (N~=3446) of pairs have simalirity >= 0.25\n",
      "8.664% (N~=1299) of pairs have simalirity >= 0.33\n",
      "0.884% (N~=132) of pairs have simalirity >= 0.5\n",
      "0.032% (N~=4) of pairs have simalirity >= 0.75\n",
      "2.517% (N~=377) of pairs have simalirity <= 0\n",
      "0.041% (N~=6) of pairs have simalirity <= -0.1\n",
      "0.000% (N~=0) of pairs have simalirity <= -0.25\n"
     ]
    }
   ],
   "source": [
    "for s in [0.25, 0.33, 0.5, 0.75]:\n",
    "    print(f'{(sim_scores >= s).mean()*100:0.3f}% (N~={int((sim_scores >= s).mean()*embeddings.shape[0])}) of pairs have simalirity >= {s}')\n",
    "for s in [0, -0.1, -0.25]:\n",
    "    print(f'{(sim_scores <= s).mean()*100:0.3f}% (N~={int((sim_scores <= s).mean()*embeddings.shape[0])}) of pairs have simalirity <= {s}')"
   ]
  },
  {
   "cell_type": "code",
   "execution_count": 187,
   "metadata": {},
   "outputs": [
    {
     "name": "stderr",
     "output_type": "stream",
     "text": [
      "100%|██████████| 6/6 [00:04<00:00,  1.39it/s]\n"
     ]
    }
   ],
   "source": [
    "import networkx as nx\n",
    "\n",
    "# NOTE: same as `radius_neighbors_graph` but more memory efficient due to batching\n",
    "import numpy as np\n",
    "from sklearn.metrics.pairwise import cosine_similarity\n",
    "from scipy.sparse import csr_matrix, vstack\n",
    "from tqdm import tqdm\n",
    "import gc\n",
    "\n",
    "# init a networkx graph\n",
    "G = nx.Graph()\n",
    "# init nodes\n",
    "G.add_nodes_from(range(embeddings.shape[0]))\n",
    "\n",
    "pos_threshold = 0.50\n",
    "neg_threshold = 0.00\n",
    "\n",
    "batch_size = 2_500\n",
    "for i in tqdm(range(0, embeddings.shape[0], batch_size)):\n",
    "    sims = cosine_similarity(embeddings[i:i+batch_size], embeddings)\n",
    "    # set diagonal and lower triangle to 0\n",
    "    np.fill_diagonal(sims, 0)\n",
    "    sims = np.triu(sims)\n",
    "    # must-link constraints \n",
    "    p, q = np.where(sims >= pos_threshold)\n",
    "    w = sims[p, q]\n",
    "    p += i\n",
    "    G.add_weighted_edges_from(zip(p, q, w))\n",
    "    # # cannot-link constraints\n",
    "    # p, q = np.where(sims <= neg_threshold)\n",
    "    # w = sims[p, q]\n",
    "    # p += i\n",
    "    # G.add_weighted_edges_from(zip(p, q, w))"
   ]
  },
  {
   "cell_type": "code",
   "execution_count": 188,
   "metadata": {},
   "outputs": [
    {
     "data": {
      "text/plain": [
       "(15000, 1018958)"
      ]
     },
     "execution_count": 188,
     "metadata": {},
     "output_type": "execute_result"
    }
   ],
   "source": [
    "# get graph size\n",
    "len(G), len(G.edges)"
   ]
  },
  {
   "cell_type": "code",
   "execution_count": 203,
   "metadata": {},
   "outputs": [
    {
     "name": "stdout",
     "output_type": "stream",
     "text": [
      "0.710: \"the competent staff in public authorities\"\t\"employees in the public administration\"\n",
      "0.744: \"the competent staff in public authorities\"\t\"heads of public authorities and public services\"\n",
      "0.705: \"the competent staff in public authorities\"\t\"The employees of the public service\"\n",
      "0.705: \"the competent staff in public authorities\"\t\"the staff councils\"\n",
      "0.733: \"the competent staff in public authorities\"\t\"the public sector staff\"\n",
      "0.726: \"the competent staff in public authorities\"\t\"The employees of the public administration\"\n",
      "0.713: \"the competent staff in public authorities\"\t\"the government staff\"\n",
      "0.766: \"judicial magistrates\"\t\"court officers\"\n",
      "0.809: \"judicial magistrates\"\t\"the top magistrates\"\n",
      "0.721: \"judicial magistrates\"\t\"The holders of the highest magistrates\"\n",
      "0.771: \"judicial magistrates\"\t\"the magistrate\"\n",
      "0.901: \"judicial magistrates\"\t\"magistrates\"\n",
      "0.819: \"judicial magistrates\"\t\"individual magistrates\"\n",
      "0.725: \"judicial magistrates\"\t\"tax magistrates\"\n",
      "0.813: \"judicial magistrates\"\t\"federal magistrates\"\n"
     ]
    }
   ],
   "source": [
    "for p, q  in [e for i, e in enumerate(G.edges) if i < 400]:\n",
    "    w = G.edges[p, q][\"weight\"]\n",
    "    if w > 0.7:\n",
    "        print(f'{w:0.3f}: \"{df.text.iloc[p]}\"\\t\"{df.text.iloc[q]}\"')"
   ]
  },
  {
   "cell_type": "code",
   "execution_count": 252,
   "metadata": {},
   "outputs": [
    {
     "ename": "KeyboardInterrupt",
     "evalue": "",
     "output_type": "error",
     "traceback": [
      "\u001b[0;31m---------------------------------------------------------------------------\u001b[0m",
      "\u001b[0;31mKeyboardInterrupt\u001b[0m                         Traceback (most recent call last)",
      "Cell \u001b[0;32mIn[252], line 11\u001b[0m\n\u001b[1;32m      4\u001b[0m \u001b[38;5;28;01mfrom\u001b[39;00m \u001b[38;5;21;01mcdlib\u001b[39;00m\u001b[38;5;21;01m.\u001b[39;00m\u001b[38;5;21;01malgorithms\u001b[39;00m \u001b[38;5;28;01mimport\u001b[39;00m dpclus, graph_entropy\n\u001b[1;32m      5\u001b[0m \u001b[38;5;66;03m# coms = leiden(G, weights='weight') # some very large components\u001b[39;00m\n\u001b[1;32m      6\u001b[0m \u001b[38;5;66;03m# coms = greedy_modularity(G, weight='weight') # runs too long\u001b[39;00m\n\u001b[1;32m      7\u001b[0m \u001b[38;5;66;03m# coms = lswl_plus(G, merge_outliers=False)\u001b[39;00m\n\u001b[1;32m      8\u001b[0m \u001b[38;5;66;03m# coms = surprise_communities(G, weights='weight') # doesnt run\u001b[39;00m\n\u001b[1;32m      9\u001b[0m \u001b[38;5;66;03m# coms = infomap(G, flags='edge_weights=\"weight\"') # okayish\u001b[39;00m\n\u001b[1;32m     10\u001b[0m \u001b[38;5;66;03m#coms = dpclus(G, weights='weight') #runs too long\u001b[39;00m\n\u001b[0;32m---> 11\u001b[0m coms \u001b[38;5;241m=\u001b[39m \u001b[43mgraph_entropy\u001b[49m\u001b[43m(\u001b[49m\u001b[43mG\u001b[49m\u001b[43m,\u001b[49m\u001b[43m \u001b[49m\u001b[43mweights\u001b[49m\u001b[38;5;241;43m=\u001b[39;49m\u001b[38;5;124;43m'\u001b[39;49m\u001b[38;5;124;43mweight\u001b[39;49m\u001b[38;5;124;43m'\u001b[39;49m\u001b[43m)\u001b[49m \u001b[38;5;66;03m#runs too long\u001b[39;00m\n",
      "File \u001b[0;32m~/miniforge3/envs/galtan_group_appeals/lib/python3.11/site-packages/cdlib/algorithms/overlapping_partition.py:2036\u001b[0m, in \u001b[0;36mgraph_entropy\u001b[0;34m(g_original, weights)\u001b[0m\n\u001b[1;32m   1993\u001b[0m \u001b[38;5;250m\u001b[39m\u001b[38;5;124;03m\"\"\"\u001b[39;00m\n\u001b[1;32m   1994\u001b[0m \u001b[38;5;124;03mThis method takes advantage of the use of entropy with regard to information theory.\u001b[39;00m\n\u001b[1;32m   1995\u001b[0m \u001b[38;5;124;03mEntropy is a measure of uncertainty involved in a random variable.\u001b[39;00m\n\u001b[0;32m   (...)\u001b[0m\n\u001b[1;32m   2032\u001b[0m \u001b[38;5;124;03m.. note:: Reference Implementation: https://github.com/trueprice/python-graph-clustering\u001b[39;00m\n\u001b[1;32m   2033\u001b[0m \u001b[38;5;124;03m\"\"\"\u001b[39;00m\n\u001b[1;32m   2035\u001b[0m g \u001b[38;5;241m=\u001b[39m convert_graph_formats(g_original, nx\u001b[38;5;241m.\u001b[39mGraph)\n\u001b[0;32m-> 2036\u001b[0m clustering \u001b[38;5;241m=\u001b[39m \u001b[43mgraphentropy\u001b[49m\u001b[43m(\u001b[49m\u001b[43mg\u001b[49m\u001b[43m,\u001b[49m\u001b[43m \u001b[49m\u001b[43mweight\u001b[49m\u001b[38;5;241;43m=\u001b[39;49m\u001b[43mweights\u001b[49m\u001b[43m)\u001b[49m\n\u001b[1;32m   2038\u001b[0m \u001b[38;5;28;01mreturn\u001b[39;00m NodeClustering(\n\u001b[1;32m   2039\u001b[0m     clustering, g_original, \u001b[38;5;124m\"\u001b[39m\u001b[38;5;124mgraph_entropy\u001b[39m\u001b[38;5;124m\"\u001b[39m, method_parameters\u001b[38;5;241m=\u001b[39m{}, overlap\u001b[38;5;241m=\u001b[39m\u001b[38;5;28;01mTrue\u001b[39;00m\n\u001b[1;32m   2040\u001b[0m )\n",
      "File \u001b[0;32m~/miniforge3/envs/galtan_group_appeals/lib/python3.11/site-packages/cdlib/algorithms/internal/graph_entropy.py:12\u001b[0m, in \u001b[0;36mgraphentropy\u001b[0;34m(g, weight)\u001b[0m\n\u001b[1;32m     10\u001b[0m     \u001b[38;5;28;01mreturn\u001b[39;00m __graph_entropy(g)\n\u001b[1;32m     11\u001b[0m \u001b[38;5;28;01melse\u001b[39;00m:\n\u001b[0;32m---> 12\u001b[0m     \u001b[38;5;28;01mreturn\u001b[39;00m \u001b[43m__graph_entropy_w\u001b[49m\u001b[43m(\u001b[49m\u001b[43mg\u001b[49m\u001b[43m,\u001b[49m\u001b[43m \u001b[49m\u001b[43mweight\u001b[49m\u001b[43m)\u001b[49m\n",
      "File \u001b[0;32m~/miniforge3/envs/galtan_group_appeals/lib/python3.11/site-packages/cdlib/algorithms/internal/graph_entropy.py:131\u001b[0m, in \u001b[0;36m__graph_entropy_w\u001b[0;34m(g, wlabel)\u001b[0m\n\u001b[1;32m    129\u001b[0m new_c \u001b[38;5;241m=\u001b[39m cluster\u001b[38;5;241m.\u001b[39mcopy()\n\u001b[1;32m    130\u001b[0m new_c\u001b[38;5;241m.\u001b[39madd(n)\n\u001b[0;32m--> 131\u001b[0m new_e \u001b[38;5;241m=\u001b[39m \u001b[38;5;28mdict\u001b[39m((x, __entropy_w(new_c, x, degree, data)) \u001b[38;5;28;01mfor\u001b[39;00m x \u001b[38;5;129;01min\u001b[39;00m data[n])\n\u001b[1;32m    132\u001b[0m \u001b[38;5;28;01mif\u001b[39;00m \u001b[38;5;28msum\u001b[39m(new_e\u001b[38;5;241m.\u001b[39mvalues()) \u001b[38;5;241m<\u001b[39m \u001b[38;5;28msum\u001b[39m(entropies[x] \u001b[38;5;28;01mfor\u001b[39;00m x \u001b[38;5;129;01min\u001b[39;00m data[n]):\n\u001b[1;32m    133\u001b[0m     cluster \u001b[38;5;241m=\u001b[39m new_c\n",
      "File \u001b[0;32m~/miniforge3/envs/galtan_group_appeals/lib/python3.11/site-packages/cdlib/algorithms/internal/graph_entropy.py:131\u001b[0m, in \u001b[0;36m<genexpr>\u001b[0;34m(.0)\u001b[0m\n\u001b[1;32m    129\u001b[0m new_c \u001b[38;5;241m=\u001b[39m cluster\u001b[38;5;241m.\u001b[39mcopy()\n\u001b[1;32m    130\u001b[0m new_c\u001b[38;5;241m.\u001b[39madd(n)\n\u001b[0;32m--> 131\u001b[0m new_e \u001b[38;5;241m=\u001b[39m \u001b[38;5;28mdict\u001b[39m((x, \u001b[43m__entropy_w\u001b[49m\u001b[43m(\u001b[49m\u001b[43mnew_c\u001b[49m\u001b[43m,\u001b[49m\u001b[43m \u001b[49m\u001b[43mx\u001b[49m\u001b[43m,\u001b[49m\u001b[43m \u001b[49m\u001b[43mdegree\u001b[49m\u001b[43m,\u001b[49m\u001b[43m \u001b[49m\u001b[43mdata\u001b[49m\u001b[43m)\u001b[49m) \u001b[38;5;28;01mfor\u001b[39;00m x \u001b[38;5;129;01min\u001b[39;00m data[n])\n\u001b[1;32m    132\u001b[0m \u001b[38;5;28;01mif\u001b[39;00m \u001b[38;5;28msum\u001b[39m(new_e\u001b[38;5;241m.\u001b[39mvalues()) \u001b[38;5;241m<\u001b[39m \u001b[38;5;28msum\u001b[39m(entropies[x] \u001b[38;5;28;01mfor\u001b[39;00m x \u001b[38;5;129;01min\u001b[39;00m data[n]):\n\u001b[1;32m    133\u001b[0m     cluster \u001b[38;5;241m=\u001b[39m new_c\n",
      "File \u001b[0;32m~/miniforge3/envs/galtan_group_appeals/lib/python3.11/site-packages/cdlib/algorithms/internal/graph_entropy.py:33\u001b[0m, in \u001b[0;36m__entropy_w\u001b[0;34m(c, v, degree, data)\u001b[0m\n\u001b[1;32m     31\u001b[0m neighbors \u001b[38;5;241m=\u001b[39m data[v]\n\u001b[1;32m     32\u001b[0m \u001b[38;5;66;03m# calculate p(inner links)\u001b[39;00m\n\u001b[0;32m---> 33\u001b[0m inner \u001b[38;5;241m=\u001b[39m \u001b[38;5;28msum\u001b[39m(w \u001b[38;5;28;01mfor\u001b[39;00m n, w \u001b[38;5;129;01min\u001b[39;00m neighbors\u001b[38;5;241m.\u001b[39mitems() \u001b[38;5;28;01mif\u001b[39;00m n \u001b[38;5;129;01min\u001b[39;00m c) \u001b[38;5;241m/\u001b[39m deg\n\u001b[1;32m     34\u001b[0m \u001b[38;5;28;01mreturn\u001b[39;00m (\n\u001b[1;32m     35\u001b[0m     \u001b[38;5;241m0\u001b[39m\n\u001b[1;32m     36\u001b[0m     \u001b[38;5;28;01mif\u001b[39;00m inner \u001b[38;5;241m<\u001b[39m\u001b[38;5;241m=\u001b[39m \u001b[38;5;241m0.0\u001b[39m \u001b[38;5;129;01mor\u001b[39;00m inner \u001b[38;5;241m>\u001b[39m\u001b[38;5;241m=\u001b[39m \u001b[38;5;241m1.0\u001b[39m\n\u001b[1;32m     37\u001b[0m     \u001b[38;5;28;01melse\u001b[39;00m \u001b[38;5;241m-\u001b[39minner \u001b[38;5;241m*\u001b[39m log(inner, \u001b[38;5;241m2\u001b[39m) \u001b[38;5;241m-\u001b[39m (\u001b[38;5;241m1\u001b[39m \u001b[38;5;241m-\u001b[39m inner) \u001b[38;5;241m*\u001b[39m log(\u001b[38;5;241m1\u001b[39m \u001b[38;5;241m-\u001b[39m inner, \u001b[38;5;241m2\u001b[39m)\n\u001b[1;32m     38\u001b[0m )\n",
      "File \u001b[0;32m~/miniforge3/envs/galtan_group_appeals/lib/python3.11/site-packages/cdlib/algorithms/internal/graph_entropy.py:33\u001b[0m, in \u001b[0;36m<genexpr>\u001b[0;34m(.0)\u001b[0m\n\u001b[1;32m     31\u001b[0m neighbors \u001b[38;5;241m=\u001b[39m data[v]\n\u001b[1;32m     32\u001b[0m \u001b[38;5;66;03m# calculate p(inner links)\u001b[39;00m\n\u001b[0;32m---> 33\u001b[0m inner \u001b[38;5;241m=\u001b[39m \u001b[38;5;28msum\u001b[39m(w \u001b[38;5;28;01mfor\u001b[39;00m n, w \u001b[38;5;129;01min\u001b[39;00m neighbors\u001b[38;5;241m.\u001b[39mitems() \u001b[38;5;28;01mif\u001b[39;00m n \u001b[38;5;129;01min\u001b[39;00m c) \u001b[38;5;241m/\u001b[39m deg\n\u001b[1;32m     34\u001b[0m \u001b[38;5;28;01mreturn\u001b[39;00m (\n\u001b[1;32m     35\u001b[0m     \u001b[38;5;241m0\u001b[39m\n\u001b[1;32m     36\u001b[0m     \u001b[38;5;28;01mif\u001b[39;00m inner \u001b[38;5;241m<\u001b[39m\u001b[38;5;241m=\u001b[39m \u001b[38;5;241m0.0\u001b[39m \u001b[38;5;129;01mor\u001b[39;00m inner \u001b[38;5;241m>\u001b[39m\u001b[38;5;241m=\u001b[39m \u001b[38;5;241m1.0\u001b[39m\n\u001b[1;32m     37\u001b[0m     \u001b[38;5;28;01melse\u001b[39;00m \u001b[38;5;241m-\u001b[39minner \u001b[38;5;241m*\u001b[39m log(inner, \u001b[38;5;241m2\u001b[39m) \u001b[38;5;241m-\u001b[39m (\u001b[38;5;241m1\u001b[39m \u001b[38;5;241m-\u001b[39m inner) \u001b[38;5;241m*\u001b[39m log(\u001b[38;5;241m1\u001b[39m \u001b[38;5;241m-\u001b[39m inner, \u001b[38;5;241m2\u001b[39m)\n\u001b[1;32m     38\u001b[0m )\n",
      "\u001b[0;31mKeyboardInterrupt\u001b[0m: "
     ]
    }
   ],
   "source": [
    "# crisp\n",
    "from cdlib.algorithms import leiden, greedy_modularity, lswl_plus, surprise_communities, pycombo, infomap\n",
    "# overlapping \n",
    "from cdlib.algorithms import dpclus, graph_entropy\n",
    "# coms = leiden(G, weights='weight') # some very large components\n",
    "# coms = greedy_modularity(G, weight='weight') # runs too long\n",
    "# coms = lswl_plus(G, merge_outliers=False)\n",
    "# coms = surprise_communities(G, weights='weight') # doesnt run\n",
    "# coms = infomap(G, flags='edge_weights=\"weight\"') # okayish\n",
    "#coms = dpclus(G, weights='weight') #runs too long\n",
    "coms = graph_entropy(G, weights='weight') #runs too long"
   ]
  },
  {
   "cell_type": "code",
   "execution_count": 245,
   "metadata": {},
   "outputs": [
    {
     "data": {
      "text/plain": [
       "FitnessResult(min=None, max=None, score=0.5841919767114447, std=None)"
      ]
     },
     "execution_count": 245,
     "metadata": {},
     "output_type": "execute_result"
    }
   ],
   "source": [
    "coms.newman_girvan_modularity()\n",
    "# NOTE: the higher the better"
   ]
  },
  {
   "cell_type": "code",
   "execution_count": 246,
   "metadata": {},
   "outputs": [],
   "source": [
    "labels_mapping = {i: c[0] for i, c in coms.to_node_community_map().items()}\n",
    "labels = list(labels_mapping.values())"
   ]
  },
  {
   "cell_type": "code",
   "execution_count": 247,
   "metadata": {},
   "outputs": [
    {
     "data": {
      "text/plain": [
       "{'n_samples': 15000,\n",
       " 'n_cluster': 517,\n",
       " 'size_quantiles': {0.01: 1.0,\n",
       "  0.05: 1.0,\n",
       "  0.1: 1.0,\n",
       "  0.25: 1.0,\n",
       "  0.5: 2.0,\n",
       "  0.75: 9.0,\n",
       "  0.9: 44.20000000000027,\n",
       "  0.95: 124.0,\n",
       "  0.99: 595.7599999999977}}"
      ]
     },
     "execution_count": 247,
     "metadata": {},
     "output_type": "execute_result"
    }
   ],
   "source": [
    "compute_cluster_descriptives(labels)"
   ]
  },
  {
   "cell_type": "code",
   "execution_count": 248,
   "metadata": {},
   "outputs": [
    {
     "data": {
      "text/plain": [
       "{'silhouette_score': 0.028178975,\n",
       " 'calinski_harabasz_score': 12.894427799259299,\n",
       " 'davies_bouldin_score': 1.5745794113810636}"
      ]
     },
     "execution_count": 248,
     "metadata": {},
     "output_type": "execute_result"
    }
   ],
   "source": [
    "compute_unsupervised_metrics(labels, embeddings, indexes=list(labels_mapping.keys()))"
   ]
  },
  {
   "cell_type": "code",
   "execution_count": null,
   "metadata": {},
   "outputs": [
    {
     "data": {
      "text/plain": [
       "{'silhouette_score': 0.50098974, 'davies_bouldin_score': 0.46287228342886194}"
      ]
     },
     "execution_count": 109,
     "metadata": {},
     "output_type": "execute_result"
    }
   ],
   "source": [
    "eval(clustering_model.labels_, reduced_embeddings_normalized[:n_])"
   ]
  },
  {
   "cell_type": "code",
   "execution_count": 250,
   "metadata": {},
   "outputs": [
    {
     "data": {
      "text/plain": [
       "26                           ill and unemployed workers\n",
       "30                                  Those working in it\n",
       "38                               discouraged unemployed\n",
       "47                           the most skilled employees\n",
       "59                            hard-to-employable people\n",
       "                              ...                      \n",
       "14908                       the American worker at home\n",
       "14924                     People who now work part-time\n",
       "14930                              a permanent employee\n",
       "14957                          Those who work regularly\n",
       "14984    groups of employees in the healthcare sector (\n",
       "Name: text, Length: 1013, dtype: object"
      ]
     },
     "execution_count": 250,
     "metadata": {},
     "output_type": "execute_result"
    }
   ],
   "source": [
    "df.iloc[coms.communities[1]].text"
   ]
  },
  {
   "cell_type": "code",
   "execution_count": 47,
   "metadata": {},
   "outputs": [],
   "source": [
    "# get upper diagonal indexes\n",
    "i = 0\n",
    "sims = cosine_similarity(reduced_embeddings_normalized[i:i+batch_size], reduced_embeddings_normalized)\n",
    "# set diagonal and lower triangle to 0\n",
    "sims = np.triu(sims)"
   ]
  },
  {
   "cell_type": "code",
   "execution_count": 51,
   "metadata": {},
   "outputs": [
    {
     "data": {
      "text/plain": [
       "946884"
      ]
     },
     "execution_count": 51,
     "metadata": {},
     "output_type": "execute_result"
    }
   ],
   "source": [
    "p, q = np.where(sims >= 0.99)\n",
    "w = sims[p, q]\n",
    "len(w)"
   ]
  },
  {
   "cell_type": "code",
   "execution_count": 52,
   "metadata": {},
   "outputs": [],
   "source": [
    "G.add_weighted_edges_from(zip(p, q, w))"
   ]
  },
  {
   "cell_type": "code",
   "execution_count": 45,
   "metadata": {},
   "outputs": [
    {
     "data": {
      "image/png": "[encoded data removed]",
      "text/plain": [
       "<Figure size 640x480 with 1 Axes>"
      ]
     },
     "metadata": {},
     "output_type": "display_data"
    }
   ],
   "source": [
    "# get values in uper triangle\n",
    "upper = np.triu(sims, k=1)\n",
    "# plot historgram of similarities\n",
    "\n",
    "from matplotlib import pyplot as plt\n",
    "plt.hist(upper.ravel())\n",
    "plt.show()"
   ]
  },
  {
   "cell_type": "markdown",
   "metadata": {},
   "source": [
    "## Appendix"
   ]
  },
  {
   "cell_type": "markdown",
   "metadata": {},
   "source": [
    "### What else to do with embeddings"
   ]
  },
  {
   "cell_type": "markdown",
   "metadata": {},
   "source": [
    "#### Finding nearest neighbors\n",
    "\n",
    "Given mentions' representation in the (reduced-*d*) embedding space, we can search for nearest neighbors to a mention.\n",
    "This can be used to find similar mentions or to find mentions that belong to the same higher-level group.\n",
    "\n",
    "Two ways:\n",
    "\n",
    "1. fixed number of neighbors per mention (using `kneighbors_graph`)\n",
    "2. fixed distance threshold (using `radius_neighbors_graph` or my more space-efficient implementation below)"
   ]
  },
  {
   "cell_type": "markdown",
   "metadata": {},
   "source": [
    "**_NOTE:_** We can also use neighborhood information to semi-supervise agglomarative clustering with \"connectivity\" constraints\n",
    "\n",
    "You can define pairs of mentions that should be in the same cluster. \n",
    "This can be done by adding a \"connectivity\" constraint to `AgglomerativeClustering`'s `connectivity` argument.\n",
    "See https://scikit-learn.org/stable/modules/clustering.html#adding-connectivity-constraints\n",
    "\n",
    "These positive examples pairs could come from human annotation.\n",
    "\n",
    "But one automated way if finding examples is using sklearn's `kneighbors_graph` as suggested [here](https://scikit-learn.org/stable/auto_examples/cluster/plot_agglomerative_clustering.html#sphx-glr-auto-examples-cluster-plot-agglomerative-clustering-py):"
   ]
  },
  {
   "cell_type": "markdown",
   "metadata": {},
   "source": [
    "#### Fixed number of neighbors\n",
    "\n",
    "main disadvantage: setting a cutoff can ignore the density of clusters (some mentions might cluster densely, i.e., have many very similar neighbors, while for other mentions the five nearest neighbors are comparatively dissimilar)"
   ]
  },
  {
   "cell_type": "code",
   "execution_count": null,
   "metadata": {},
   "outputs": [
    {
     "name": "stderr",
     "output_type": "stream",
     "text": [
      "huggingface/tokenizers: The current process just got forked, after parallelism has already been used. Disabling parallelism to avoid deadlocks...\n",
      "To disable this warning, you can either:\n",
      "\t- Avoid using `tokenizers` before the fork if possible\n",
      "\t- Explicitly set the environment variable TOKENIZERS_PARALLELISM=(true | false)\n"
     ]
    }
   ],
   "source": [
    "from sklearn.neighbors import kneighbors_graph\n",
    "knn_graph = kneighbors_graph(reduced_embeddings_normalized, 5, include_self=False)\n",
    "# NOTE: using normalized reduced embeddings here (could use `embeddings` but it's slower)"
   ]
  },
  {
   "cell_type": "code",
   "execution_count": null,
   "metadata": {},
   "outputs": [],
   "source": [
    "# get list of lists of items nearest neighbors (thanks to https://stackoverflow.com/a/72519774)\n",
    "nns = knn_graph.tolil().rows"
   ]
  },
  {
   "cell_type": "code",
   "execution_count": null,
   "metadata": {},
   "outputs": [
    {
     "name": "stdout",
     "output_type": "stream",
     "text": [
      "mention: everyone\n",
      "neighbors: ['Everyone', 'EVERYONE', 'everyone the same', 'everyone with', 'Everyone but']\n",
      "\n",
      "mention: Indigenous peoples\n",
      "neighbors: ['indigenous peoples', 'the indigenous peoples', 'the indigenous inhabitants', 'indigenous peasants', 'indigenous speakers']\n",
      "\n",
      "mention: workers\n",
      "neighbors: ['Workers', 'the port workers', 'the workers and', 'MINA workers', 'workers in them']\n",
      "\n",
      "mention: Australians\n",
      "neighbors: ['Australians as', 'other Australians', 'AUSTRALIANS', 'Australian people', 'ordinary Australians']\n",
      "\n",
      "mention: the world's highest per capita users of water\n",
      "neighbors: [\"the world's heaviest water users\", 'whoever deliberately swings with water by using eco-friendly washing powder,', 'those who really smust with water', \"the world's most inefficient users of water\", 'a user of water']\n",
      "\n"
     ]
    }
   ],
   "source": [
    "for i in range(5):\n",
    "    print('mention:', df.text.iloc[i])\n",
    "    print('neighbors:', df.text.iloc[nns[i]].to_list())\n",
    "    print()\n",
    "# Mostly finds close-to-verbatim paraphrases"
   ]
  },
  {
   "cell_type": "markdown",
   "metadata": {},
   "source": [
    "#### Fixed distance neighborhood\n",
    "\n",
    "main disadvantage: what's a good threshold?"
   ]
  },
  {
   "cell_type": "code",
   "execution_count": null,
   "metadata": {},
   "outputs": [
    {
     "name": "stderr",
     "output_type": "stream",
     "text": [
      "100%|██████████| 14/14 [00:10<00:00,  1.40it/s]\n"
     ]
    },
    {
     "data": {
      "text/plain": [
       "0"
      ]
     },
     "metadata": {},
     "output_type": "display_data"
    }
   ],
   "source": [
    "# NOTE: same as `radius_neighbors_graph` but more memory efficient due to batching\n",
    "import numpy as np\n",
    "from sklearn.metrics.pairwise import cosine_similarity\n",
    "from tqdm import tqdm\n",
    "import gc\n",
    "\n",
    "n_ = reduced_embeddings_normalized.shape[0]\n",
    "\n",
    "nns = []\n",
    "batch_size = 5_000\n",
    "for i in tqdm(range(0, n_, batch_size)):\n",
    "    sims = cosine_similarity(reduced_embeddings_normalized[i:i+batch_size], reduced_embeddings_normalized)\n",
    "    # get indexes where similarity is above threshold\n",
    "    for i in range(sims.shape[0]):\n",
    "        neighbors = np.where(sims[i] >= 0.975)[0]\n",
    "        # sort by similarity (decreasing)\n",
    "        neighbors = neighbors[np.argsort(sims[i, neighbors])[::-1]]\n",
    "        # NOTE: could also get tupple of mention and cos similarity score ;)\n",
    "        # remove self\n",
    "        neighbors = neighbors[neighbors != i]\n",
    "        # append\n",
    "        nns.append(neighbors.tolist())\n",
    "\n",
    "gc.collect()"
   ]
  },
  {
   "cell_type": "code",
   "execution_count": null,
   "metadata": {},
   "outputs": [
    {
     "name": "stdout",
     "output_type": "stream",
     "text": [
      "mention: everyone\n",
      "neighbors: ['Everyone', 'EVERYONE', 'everyone (', 'Everyone,', 'everyone the same', 'everyone,', 'everyone with', 'everyone apart from', 'everybody', 'everyone –', 'Everyone but', 'Everyone, whether', 'Everybody', 'everyone the', 'everyone as', 'everybody else', 'everyone – even on', 'Everyone else', 'everyone else', 'almost everyone', 'everyone gives', 'Almost everyone', 'everyone at a low level', 'almost anyone', 'everyone (starting with the least)', 'everyone in', 'everyone, including', 'everyone, from', 'everyone, regardless', 'everyone regardless', 'everyone other than', 'everyone from', 'Almost everyone at some point in their lives', 'virtually everyone', 'everyone, regardless of', 'anyone from', 'all people, regardless', 'people regardless', 'all other people', 'everyone, even in their own', 'All people,', 'Anyone on the Internet', 'any people', 'everyone consumed', 'all people', 'every other people', 'all other peoples', 'no person in the United States', 'all the other peoples', 'every people', 'all those people', 'All people', 'Every people', 'everyone in Aotearoa', 'no one in America', 'all the people', 'no one else', 'any person', 'all peoples', 'all retarded persons', 'people in all', 'no one but', 'all these people', 'anybody', 'any individual,', 'Other peoples', 'any other individual', 'No person', 'anyone else', 'other peoples', 'no person', 'Anyone else', 'anyone', 'Anyone', 'all of its people', 'anyone, that', 'Every person', 'any individual', 'every person', 'anybody else', 'anyone here', 'no one', 'People like us', 'everyone based', 'people like you', 'all its people', 'All persons', 'any individual or', 'all people before', 'people like', 'any one individual or community', 'no-one', 'entire peoples', 'everyone without exception', 'no one left out', 'all its peoples', 'the most people', 'everyone at SEK 6', 'Every individual', 'the whole people', 'all persons', 'every individual', 'whole people', 'any single person or entity', 'people we', 'people with us', 'Whole peoples', 'most people', 'our career people', 'proud people', 'all these individuals', 'the better people', 'no individual', 'better people', 'all persons and', 'all decent people', 'people well', 'our entire people', 'all based', 'good people', 'our people as a whole', 'people, based', 'any on earth', 'people believe it is', 'our two peoples', 'Any man', 'everyone together', 'great people', 'a whole people', 'every individual thereof', 'our people in', 'good, decent people', 'based', 'their people', 'OUR PEOPLE', 'Decent people', 'our people', 'decent and working people', 'we people', 'all individuals', 'people as a whole', 'Our People', 'decent people', 'our whole people', 'Our people', 'its peoples', 'people just', 'just good people', 'people,', 'man like anyone else', 'people in which it is based', 'people, especially', 'anyone that we can do my thing', 'our horrified people', 'people from', 'their peoples', 'people, mostly', 'right people', 'people’', 'us people', 'her people', 'others like them', 'its people', 'People – mostly', 'our peoples', 'people’s', 'the people you love', 'of our people', 'all of our people', 'all individuals and', 'anyone in the world', 'anyone can', 'all our peoples', 'the best people', 'part of the people', 'a great people', 'The “everyone for himself”', 'people of', 'brotherly peoples', 'Peoples', 'as many people as possible', 'the people as such', 'other people', 'the very best people', 'the peoples themselves', 'all on the Internet', 'both peoples', 'ly people', 'people, including', 'Those people', 'Every Kin', 'people Such as', 'peoples', 'Each of these peoples', 'the people as a whole', 'an amazing people', 'people as', 'A proud people', 'their own people', 'people as possible', 'everyone from Gyurcs', 'Our own people', 'the people’', 'people and', 'several peoples', 'us all together', 'the own people', 'the respective peoples', 'the \"Nota People', 'its own people', 'complete people', 'the so-called people', 'the people of his own people', 'ourselves', 'people (bad', 'The peoples', 'people of this kind', 'pcople', 'the Peoples', 'The peoples there', 'People of our own people', 'Dene people', 'the free peoples', 'people according', 'we are going through', 'the peoples', 'all our people', 'curious people', 'people', 'people unaided', 'real people', 'people a', 'others in our', 'people fully', 'people who, as in many', 'our own people', 'people by', 'the right people', 'the respective people', 'People', 'of the same people', 'the people here', 'happy people', 'those people', 'BAME people', 'their own person', 'the people and', 'your own people', 'themselves', 'no reasonable person', 'his own people', 'the putri people', 'PEOPLE', 'Every reasonable person', 'every reasonable person', 'people for this task', 'the people in this matter', 'people for their personal sphere', 'the “own people first', 'each and every individual', 'the “people”', 'people – again or again', 'of these people', 'the very people his evil', 'the people', 'people –', 'the decent', 'THE PEOPLE', 'the People', 'people (', 'The people', 'The People', 'one’s own people', 'the damn people', 'the peoples and', 'These peoples', 'these peoples', 'the people in question', 'Every one of us', 'people-for-people', 'every second person', 'own people', 'Nobody', 'those same people', 'people or', 'the “own” man', 'others retained by the people', 'those with their own', 'every one of us', 'Every second person', '’s own life', 'each of us sharing', 'we all', 'Own people', 'its own', 'their own own', 'We all', 'each one of us', 'us all', 'everyone today', 'decent,', 'we others', 'best-housed people in the world', 'Own People', 'Own', 'people to', 'every single one of us', 'of us', 'own', 'people in general', 'each and every one of us', 'these people there', 'each of us', 'all, here and elsewhere', 'the best people, from all walks of life and all backgrounds', 'Each of us', 'these people', 'These people', 'their own', 'the besthoused people in history', 'these people out of their', 'our own', 'nobody', 'all of us', 'people who are available', 'their own entertainment', 'all inahbitants', 'any of us', 'ALL OF US', 'All of us', 'our united people', 'the individual peoples', 'These persons', 'none of us', 'of life', 'those individuals', 'those persons', 'a people called to do the greatest things', 'these persons', 'their own life', 'people with good heads and good hearts', 'Our united people', 'all of you', 'those persons,', 'other individuals', 'every solider', 'direct people', 'different peoples', 'the best people in the world', 'you all', 'people elsewhere', 'every human', 'the whole person', 'these individuals', 'every human person', 'both persons', 'the individual people', 'per person', 'every human being', 'people already', 'different people', 'individuals into', 'familiar people', 'a remarkable people', 'the people of', 'the different peoples', 'mouthful people', 'the peoples of the Three', 'A reasonable person', 'today’s people', 'every being', 'each people', 'Every human being', 'way of life', 'honest people', 'such people', 'the people it serves']\n",
      "\n",
      "mention: Indigenous peoples\n",
      "neighbors: ['indigenous peasants', 'indigenous peoples', 'relatives confessing to one of the six recognized indigenous ethnic groups', 'indigenous or indigenous groups', 'indigenous speakers', 'Indigenous people throughout history who have protected our lands, waters, and animals', 'the indigenous inhabitants', 'indigenous peoples living on both sides of our southern and northern borders', 'our indigenous peoples', 'indigenous (indigenous) peoples', 'the indigenous people', 'a member of an indigenous nation', 'indigenous people with rights to egidals and communal lands', 'The indigenous people', 'Indigenous groups', 'the indigenous peoples', 'indigenous and native people', 'indigenous people of our country who are not officially designated as Native Americans', 'Indigenous people', 'Indigenous artists', 'missing and murdered Indigenous women and girls', 'indigenous people of our country', 'indigenous adults', 'the indigenous', 'the indigenous people here', 'missing and murdered indigenous women', 'Native American women', 'indigenous people”', 'Indigenous and Tribal Peoples', 'indigenous populations who want to preserve their identity and stay in their own country', 'all indigenous peoples', 'Indigenous People', 'the indigenous population', 'Indigenous', 'indigenous people', 'indigenous', 'their indigenous minorities', 'the indigenous minorities', 'the indigenous ethnic minority', 'indigenous women', 'indigenous ethnic minorities', 'The indigenous ethnic minorities', 'the indigenous minority', 'Indigenous homelands', 'descendants of Tribal Nations who have been here since time immemorial', 'the local, often indigenous population', 'women on tribal lands', 'indigenous peoples of our continent', 'indigenous populations', 'local and indigenous populations', 'The indigenous population of this capital', 'rural and indigenous population', 'indigenous revolutionary movements', 'Indigenous indigenous residents', 'all the kalevian peoples', \"the indigenous, aboriginal people of Hawai'i\", 'Indigenous Peoples', 'all the indigenous tribes', 'Native communities', 'our indigenous communities', 'indigenous youth', 'the Eskimo', 'Aborigines', 'indigenous and', 'Canadian Inuit who live throughout the Arctic and are experienced survival experts on land and sea', 'Indigenous Tribal', 'Native American Communities', 'Native American communities', 'Aboriginal Children', 'Perussians', 'the Inuit', 'American Indian communities', 'indigenous and local communities', 'Inuit and Dene peoples', '-Indigenous children', 'Indigenous communities', 'the communities native to this continent', 'rural and indigenous urban communities', 'Inuit leaders', 'indigenous religious and ethnic communities', 'indigenous communities', 'native populations', 'the tribal people who live in them', 'school professionals in Tribal areas', 'Tribal communities', 'indigenous children', 'Indian communities', 'societies of indigenous communities', \"the Indigenous, aboriginal people of Hawai'i\", 'the Eskimos', 'indigenous communities of our country', 'Eskimos', 'the tribal workforce', 'native families', 'all aboriginal peoples', 'indigenous preschoolers', 'indigenous communities that have not been treated by the educational system', 'the native population', 'local and indigenous communities', 'aboriginal women', 'tribal communities', 'tribal and local leaders', 'non-natives', 'Native families', 'its tribal member constituents', 'indigenous communities associated with it', 'rural and tribal communities', 'Native', 'tribal leaders', 'Inuit students', 'Tribal Leaders', 'Native people', 'tribal members', 'the indigenous peoples of the world', 'Native Americans', 'Native learners', 'Native children', 'representatives of various tribal leaders in the autonomous regions of northern Pakistan and China', 'native alike', 'Native students', 'Tribal', \"those native Americans whose subsistence depends completely on their total use of the ocean's resources\", 'native speakers of a digital gaming culture', 'Native peoples', 'native title applicants', 'native speakers', 'Métis people', 'native Americans', 'other native Americans', 'native-born', 'Native American students', 'the tribal workers', 'Native youth', 'Native American', 'Inuit', 'the natives from the East', 'the natives', 'his natives', 'indigenous and immigrant children', 'urban Indian populations', 'Métis', 'all tribes', 'Native Alaskans', 'communities in the Pacific Northwest and Alaska', 'Alaska Natives living outside of tribal communities', 'Alaska Natives', 'Indian leaders', 'Alaska Native men and women', 'Alaska Native', 'arent Aborigines', 'American Indian teenager', 'a primitive tribe', 'Aboriginal communities affected by the Northern Territory Emergency Response', 'American and Alaska Native Indians', 'American Indian youth', 'people who interact with them in Indian Country', 'Aboriginal people in communities proscribed by the Northern Territory Emergency Response', 'Tribes', 'the tribe', 'Native American tribes', 'tribes', 'Native American Tribes', 'the Aborigines', 'each tribe', 'American Indian/Alaska Natives', 'federally-recognized Indian Tribes', 'Aboriginal Greeks', 'the tribes', 'a scientific tribe', 'Aboriginal people', 'indigenous and refugee children', 'a strong villaks tribe', 'the wild tribes', 'our wildlife tribes', 'the Indian Ocean', 'the Aboriginal', 'Indian tribes', 'the relevant Aboriginal and', 'Indian Tribes', 'affected Aboriginal and', 'immigrant and indigenous pupils', 'Native tribes', 'the Indian tribes', 'Aboriginal people incarcerated, and', '-reservation Indians', 'Indian Americans', 'Aboriginal', 'Aboriginal and', 'aboriginal representatives', 'Canadian aboriginal peoples', 'the people in Indian country', 'Aboriginal communities', 'aboriginals', '-reserve urban aboriginal people across Canada', 'the American Indian', 'American Indian tribes', 'the Indian people', 'aboriginal peoples', 'Aboriginals', 'aboriginal people in Canada', 'The American Indians', 'American Indian', 'Indian peoples', 'St. Croix Chippewa Indians of Wisconsin', 'aboriginals in the Canadian justice system', 'the American Indians', 'an Indian', 'the Indians', 'all American Indians', 'Indians', 'British Columbians', 'American Indians', 'aboriginal peoples on traditional lands', 'Native American peoples', 'the Menominee Indians', 'ican Indians', 'Indian', 'our fellow citizens of Indian ancestry', 'aboriginal Canadians', 'his native people', 'ippewa Indians', 'The Americans who killed the indigenous people of America andined slavery', '-indigenous Australians', 'a Bengali', 'Pacific children in the context of family, church and culture and work', 'the Native American Samoans', 'Hispanic, American Indian/Alaska Native, and', 'Indigenous Australians', 'young Indigenous Australians', 'African-American, Latino, and American Indian youth', 'Native Hawaiian men and women', 'Greenlanders', 'American Samoans', 'the people of Guam, American Samoa, and the Virgin Islands', 'native Hawaiians', 'Native Hawaiians', 'the people of Greenland', 'the inhabitants of Hawaii generally', 'the people of Greenland and the Faroe Islands', 'the people of American Samoa', 'of Arctic islands', 'on Mount Maunganui beach', 'Hawaiian', 'Pacific Island children', 'Hawaiians', 'the people of the Chagos Islands']\n",
      "\n",
      "mention: workers\n",
      "neighbors: ['Workers', 'MINA workers', 'the workers and', 'workers in them', 'the port workers', 'the salaried workers', 'workers over', 'workers engaged in them', 'workers to meet the', 'the workers', 'of workers', 'its “workers”', 'incoming workers', 'workers from', '-facing workers', 'workers at Belgacom at the time', 'the workers in 1987', 'registered workers', 'street corner workers', 'the active workers', 'active workers', 'The workers', 'workers in the', 'good workers', 'workers in', 'the workers there', 'workers and', 'the contributing workers', 'a part of its workers', 'other equation workers', 'workers on their jobs', 'the workers of the FN Herstal', 'their workers', 'workers’', 'workers everywhere', 'the \"workers\"', 'other workers', 'the workers they employ', 'the workers involved', 'atypical workers', 'workers in those jobs', 'ZZP workers', 'current workers', 'tipped workers', 'workers from work', 'the dumped workers', 'workers during the Troika period', 'workers.', 'strong workers', 'her workers', 'street workers', 'the concrete workers of the coast, the road', '-handed workers', 'workers against', 'chemical workers', 'and workers', 'IV workers', 'mini-workers', 'co-workers', 'these workers', 'its workers', 'WORKERS', 'bad workers', 'the brave workers at Ground Zero', 'simplified workers', 'The workers, now housed in the WAO', 'Workers under', 'internal workers', 'print workers', 'nuclear workers', 'workers at work', 'workers concerned', 'targeted workers', 'these workers in other areas', 'people working in these areas', 'target workers', 'workers within', 'the base workers', 'workers at the Herstal National Weapons Factory', 'employed workers', 'workers in the transition', 'the individual workers', 'ZVJS workers', 'hypocritical workers', 'the workers who perform these tasks', 'forced workers', 'medium-sized workers', 'today’s workers', 'workers in industries that are significantly affected by industrial transition', 'the workers concerned', \"today's workers\", 'organised workers', 'their fellow workers', 'workers today', 'analogous workers', 'regular workers', 'the organised workers', 'organized and non-organized workers', 'one group of workers using its industrial strength', 'contracted workers', 'unorganized workers', 'notified workers', 'auto workers', 'clerical workers', 'occasional workers', 'the best workers', 'workers supported by ONEM', 'individual workers', 'the workers directly concerned', 'and workers who are not organized in national employer and worker organisations', 'Workers involved in a dispute', 'workers who organize', 'those regularly utilising the Shortage Occupation List', 'workers across the food system', 'workers in the workplace', 'blue collar workers', \"workers' co operatives\", 'business co-workers', 'multi-functional workers', 'workers of 600 DM', 'those workers', 'R&D workers', 'workers who suffer from mold and moisture problems at their workplace', 'workers in their workplace', 'casual workers', 'additional workers during an observation period', 'workers at workplaces', 'shift workers', 'blue-collar workers', 'the best workers in these fields', 'the \"\"Forgotten Workers', '-regular workers', 'warehouse workers', 'workers in each of these employers', 'the populations near the workplaces', 'the workers from their factories', 'categories of workers', 'steel workers', 'non-ordinary workers', 'sugar workers', 'non-regular workers', '“classical” workers', 'Informal workers', 'workers of the cable factory in Ozharov', 'industry workers', 'all workers who may face occupational exposure to manufactured nanoparticles', 'workers in other trades', 'community workers', 'workers working in the unprotected area', 'groups of workers', 'casual employees', '\"white and blue-collar\" workers', 'ordinary workers', 'each cohort of workers', '(single) workers', 'the workers for large companies', 'workers not presently covered', 'existing casual workers', 'workers at their workplace', 'each worker', 'other white collar workers', 'the organised working people of our country', 'other groups of workers', 'workers in the endless turf industry', '-employed workers who are not quoting within the IMSS or ISSSTE', 'Field workers', 'casual employee', 'the first two workers', 'forced laborers', 'The workers within the company', 'field workers', 'workers employed in protected areas, in the various functions', 'Cammell Laird shipyard workers', 'Employees in our factories', 'Each worker', 'white-collar workers', 'B-series workers', 'the first-line workers', 'the workers in the industry', 'the workers belonging to that target group', 'workers to organize and bargain collectively', 'workers who currently hold jobs', 'informed and entitled workers', 'workers in our vital industries like aerospace, shipbuilding and engineering', 'trade-affected workers', 'manufacturing workers', 'welders', 'those working in traditional shifts or going to the market', 'workers favoured by the law', 'the workers who now fall outside it', 'dislocated workers', 'employees at the workplace', 'smart workers', 'one group of workers', 'non-formal workers', 'other categories of workers', 'these new workers', 'workers for the same job, whether', 'industrial workers', 'users who go to work in mild modes', 'workers in industries from construction and computer software, to high-tech engineering, printing and publishing', '-employed workers', 'workers in this field', 'workers affected by the restructuring', 'the employees of the Kabli Factory', 'workers in the industry', 'non-Community workers', 'the ordinary worker', 'each individual worker or', 'employees of far more than 10 billion DM annually', 'the wholesale workers', 'other “finding place-oriented” workers – both in cities and smaller municipalities', 'factory workers', 'workers affected', 'workers in establishments and workplace support services', 'single-employed workers', 'workers in the field of grinding and grinding work', 'All-morning workers', 'working people in Aotearoa', 'workers in our companies', 'the first external worker', 'workers from affected communities', 'workers in other production', 'those workers affected by plant closings', 'road workers', 'people in the workplace', 'the affected workers', 'single-employed employees', 'workers employed in manufacturing', 'existing workers', 'workersin industrial and technical zones', 'regular employees', 'workers injured as a result of the breach', 'workers in industrial and craft zones', 'production workers', 'Redundant workers', 'the mandatory registered non-working jobseekers', 'Those who only work with target workers', 'local workers', 'natural departure workers', 'workers working on the construction sites', 'Workers within the company', 'ordinary employees', 'all affected workers', '-employed workers in crafts, trade,', 'other well-trained white-collar people working at the office desk', 'seasonal workers', 'workers participating in similar organizations', 'affected workers', 'people worked in the fields', 'seasonal employees', 'new workers', 'workers who cannot stay in the companies', 'workers declared technological surplus, until finding a new job', 'groups of employees with hard physical work', 'workers of color', '-employed workers whose', 'workers within the companies', 'Newly hired workers', 'ordinary working people', 'employees in seasonal professions', '-regular employees', 'seasonal staff, who have already benefited from an initial experience in the company', 'workers participating in short-term work', 'one fit for work', 'other workers who built the systems in the first place and who know best how to protect', 'people at work', 'confident workers', 'dispatched workers', 'the workers originating from the zones of influence', 'the workers in particular with the widest possible number of jobs', 'the workers whose jobs will be affected', 'injured workers', 'the ordinary employee', 'the workers who are eligible for leave', 'tableworkers', 'workers originating in the Special Economic Zones', 'dislocated worker', 'people engaged in especially hazardous work', 'workers who speak for themselves or their coworkers', 'workers in large companies', 'people working as casuals, on contracts, in seasonal work', 'white workers', 'workers in their own company', 'those who work, for profit, in these structures', 'workers across the economy', 'the freely registered non-working jobseekers', 'workers abandoned on the road', 'new employees', 'two-speed workers', 'workers out of jobs', 'Mineworkers', 'workers – often seasonal – from abroad', 'already employed employees', 'non-performance workers', 'a single employee', 'paperworkers', 'Our essential workers', 'employees who get too few holidays at the end of the year', 'the \"new worker', 'the people working in it', 'different groups of workers', 'redundant workers', 'employees across different stages of work life', 'people running companies', 'workers before accession', 'casual, fixed term and probationary workers', 'people working', 'Existing employees', 'workers in the nationalized industry', '-term workers', 'eworkers', 'fixed-term workers', 'already purchased to move closer to their new job', 'People at Work', 'the first employee', 'all workers in existing broadband infrastructure and retail broadband work', 'workers in companies', 'ework', 'people from work to work', 'employers', 'people from work to', 'the individual worker', 'the current mini jobs employees', 'the steel worker', 'employment', 'people employed', 'people with formal work', 'people employed on such premises', 'clickworkers', 'people working together', 'workers who have been treated unfairly', 'workers who organize their working hours', 'casual, seasonal, fixed term and temporary workers', 'temporary and seasonal workers', 'New employees', 'users employed in ordinary work', 'The employees affected by this phenomenon and', 'workers/inside in uncertain employment relationships', 'new and existing employees', 'neighborhood and construction workers', 'a land and concrete worker', 'everyone who temporarily has no work, has not entered a school, wants to work in favor of the native city and village, to protect the environment', 'new employees so that the total work package does not fall', 'ordinary labour', 'employees concerned', 'permanent striker replacement workers', 'Those American workers whose jobs are affected', 'contingent workers', 'a local worker doing the same job', 'people in work', 'repair workers', 'persons moving for work', 'an ordinary employee', 'the trade employees', '-employed workers at the end of their careers and whose', 'people with improvised jobs, domestic work, etc', 'a worker originating in each of the Special Economic Zones', 'people in employment', 'the workshop employees', 'employed personnel', 'orientation to work, and move directly from successful completion of the program', 'temporary and tribal workers', 'employees in industries where the burden is high with better working conditions', 'other essential workers', 'employment poolers', 'the first employee in the first year', 'the first ten employees', 'the industrial worker', 'those working in other industries', 'workers who change jobs', 'all workers in a typical employment relationship', 'the good worker', 'the innovative and flexible medium-sized workers', 'each new employee', 'essential workers on the job where the Trump Administration has neglected them', 'The employees, now housed in the W.', 'people workingfor and with people', 'the construction worker', 'the worker who must be adequately remunerated for giving up rest', 'new employees in the first year of entitlement', 'organised working groups', 'trade employees', 'the working people today', 'people working in the Bund', 'people in the work force', '-employed individuals', 'a worker moving for work', 'construction workers', 'people who work in these industries', 'people wherever they work', 'out-of-workers', 'temporary and short-term workers', 'employees working in the field of construction, prospecting and geological research and other surface exploits that', 'employees in the same centres', 'Flex workers', 'individuals new to the work force', 'employ', 'the working people', 'sanitary workers', 'a beginner worker in the company', 'any worker who moves to', 'employees within the establishments', 'people in the field of industrial production', 'move to and from work', 'Independent Workers', 'persons already employed', 'factory dounars', 'persons employed on ordinary terms', 'employment intermediaries', 'Employed personnel', 'the employed', 'independent workers', 'performance workers', 'the employed person', 'a fully-rated employee', 'people with ordinary jobs', 'the first employee for the first year of employment', 'Workers in protected workshops', 'one employee', 'worker during the time of assistance', 'employed people', 'comparable regular employees', 'people working and living in the shadows', 'short-term workers', 'every 10th employee', 'people with industrial experience', 'the mineworkers', 'employed persons', 'a normal worker', 'the obliged worker', 'flex workers', 'the worker in his own work situation', 'workplace', 'employed', '-employed people', 'assistants employed on the basis of a fixed-term employment', 'persons employed on the basis of the employment relationship', 'the honest worker', 'fourth worker', 'an experienced worker', 'a new employee', 'an independent employee', 'building trades workers', 'the individual at work', 'worker', 'temporary workers who possess valuable skills', 'The independent worker', 'temporary workers in community education', 'gig workers', 'every new employee in the large distribution', 'everyone in the workplace', 'ordinary, working people', 'an out-of-worker', 'any worker/worker who voluntarily passes to', 'the working people of tomorrow', 'a worker for a week without knowing how to do his job', 'the independent worker', 'a metal worker', 'the most-overworked people in the industrialized world', 'clever people working together with', 'people with work', 'Temporary Workers', 'a worker', 'these temporary workers', 'all persons in a private employment relationship', '\"job-hoping\" flex workers', 'workers at all', 'the employee(s) concerned', 'temporary workers', 'Worker', 'workers with temporary employment', 'workshop employees', 'essential workers', 'any worker', 'the independence of work', 'a critical worker', 'temporary and temporary workers', 'all ordinary employees', 'workers who report labor violations', 'the new employee', 'A worker', 'working groups', 'partially employable workers', 'desk workers', 'The worker', 'temporary managers', 'employees in larger', 'workers from one temporary agency', 'first-time workers', '-employed persons', 'short-stay workers', 'the average industrial worker', 'all temporary employees', 'employees in temporary agencies', 'people with fixed employment', 'workers in hazardous, health-threatening jobs', 'potential workers', 'Each employee', 'a factory worker', 'the same worker', 'People with temporary employment', 'man employed', 'employees in temporary employment and in fixed-term and temporary employment contracts', 'the temporary employees', 'Those who move after work', 'flexible workers', 'building workers', 'Those who do temporary work', 'those employees', 'persons with temporary employment', 'each employee', '-employed persons in the establishment phase', 'people with temporary employment', 'self-employed workers in emergencies that go beyond industry and seasonal fluctuations', 'A street corner worker', 'contract and temporary workers', 'all or part of the workers', 'workers (of whom 21% are exposed to carcinogenic substances', 'employees of workplace bargaining', 'telephone workers', 'the male “normal worker”', 'a long-time employee of', 'persons or their relatives who have employment relationships in the company', 'workers in the telecommunications industry', 'people changing jobs', 'a productive employee', 'people trying to get around with either small part-time jobs, temporary employment, temporary employment or mini-jobs', 'those in an atypical employment relationship', 'intermediaries at the employment agencies and job centers', 'a black worker', 'workers who find new jobs quickly', 'temporary employees', 'workshops', 'all employees – no matter how long they work here', 'an interim worker in the same company', 'those who are temporarily employed', 'people made redundant', 'those moving into employment', '-to-employed persons', 'the employee concerned', 'the worker or worker', 'a temporary worker without meeting the requirements for temporary employment', 'people who are employed', 'the Worker', 'former Stasi employees', 'people now in work', 'people who are involved in various employment services', 'Employees whose conditions are good', 'others in their industries', 'the employee already at work', 'those working in construction and transportation', 'a number of jobs equal to or greater than 5', 'residents belonging to Special Economic Zones', 'temporary substitutes', 'viable worker', 'A third-party employee employee employee', 'A professional worker', 'nightworkers', 'a worker with a more stable bond', 'people on the side who want to work', 'persons who have employment relationships in the company', 'individual groups of employees', 'gig and platform workers', 'an employee', 'colleagues who do the same work', 'the average Irish worker', 'the worker', 'workpeople', 'various branches of workers', 'jobseekers', 'partially employable,', 'their average employee', 'employees in the construction sector', '-employed or', 'all believing workers', 'people in the industry', 'workers in the civil industry', 'The automobile or electrical worker', 'People who started with goods carried across the border in suitcases and from field beds on the streets, from small consulting firms and service workshops, gradually built shops, wholesalers, factories, corporations and today give jobs to dozens of people:', 'those already in a fixed employment relationship', '-employed', 'groups of employees', 'Employed people', 'people out of the normal circuits of work', 'employees involved in geographic employment moves', 'the individual employee', 'those ceasing to work today', 'employees who are still working extremely flexibly', 'the majority of workers', 'executives specialized in export trade', 'the workers who are producers', 'a good employee', '-employed and', 'former employees', 'the employee', 'the employees of the \"groupement\"', 'a named, dedicated worker', 'previous employees', '-employed persons with a highly fluctuating turnover', 'people out of work', 'workers in the industrial sector', 'every one of its workers', 'all workers', 'workers in SMEs located in the crafts and repair sectors', 'people working longer', 'The employee', 'those who do not have a permanent employment relationship', 'a main- or side-working employee', 'workers in the traditional construction industry', 'folk worker', 'the employee receiving the work', 'workers with unpredictable or inflexible schedules to', 'staff working night shifts', 'these people into the world of work', 'the employee who takes a job', 'new job entrants', 'the most overworked citizens in the industrialized world', 'people, many of them in work', 'An employee', 'formerly long-term workers', 'any individual employee', 'the average worker', 'workers in temporary, part-time, and contract jobs', 'no employee', 'those people working in the ‘gig’ economy', 'the inefficient employee', 'Black workers', 'An employee at', 'All workers', 'employees, whose employment relationship lasts less than three years', 'employees who do not the expected results', 'people in working life', 'this employee', 'employee', 'the former employee', 'the employees concerned', 'people working in the ‘gig’ economy', 'the working group', 'building workers in the recession-savaged construction and building supply industries', 'the efficient employee', '“available” permanent workers', 'JOBSEEKERS', 'Employees who are frightened about their workplace and overloaded with taxes', 'eligible workers', 'An experienced employee', 'foreigners, who closed the factories', 'sub-employed persons who wish to enter additional jobs', 'those who are living out of replacing a worker on vacation', 'Employee', 'employees in the same position', 'employee/r', 'under-employed', 'gig, part-time, and tipped workers', 'black workers', 'the working groups', 'RTP workers', 'the national average worker', 'all employees with binding requirements', 'an employee outside the company', 'organised entrepreneurial and employee representatives', 'telecommuting workers', 'long-term employees', 'metropolitan workers in the urban environment', 'employees without a positive view of the situation', 'all the population that goes to this type of establishments', 'workers who go back to work', 'employee guardians', 'workers in stressful occupations', 'Our workers', 'all its workers', 'an employee who oversees the expansion', 'long-time employees', 'the majority of their hardworking workers', 'outsourcing', 'telecom-muting employees', 'potential) employees', 'those currently employed in Samhall', 'Employee-like persons', 'employees depending on their interests', 'overtime working people', '-working people', 'employees there', 'workers in the enterprises', 'these employees', 'workers experiencing employment difficulties', 'everyone in the company or organization', 'construction and geology employees', 'all permanent workers', 'those who were not previously employed', 'employees who are distributed unequally', 'qualified personnel who choose to stay longer in the same workplace', 'workers in small businesses', 'the Japanese workers', 'disgruntled employees', 'individual employees', 'our workers', 'productive members of the work force', 'permanent workers', 'people who are allowed to enter employment', 'employees in the production process', '-employed persons in various small contracts', 'those in low-paid work and the gig economy', 'former and current employees', 'every worker', 'the employee (e) s']\n",
      "\n",
      "mention: Australians\n",
      "neighbors: ['AUSTRALIANS', 'Australians as', 'other Australians', 'Australian people', 'ordinary Australians', 'the rest of the Australian population', 'Australians who depend on them', 'everyday Australians', 'the Australian people', 'all Australian citizens over the age of 16', 'the Australian population', 'the vast majority of Australians', 'all older Australians', 'all people in Australia', 'the overwhelming majority of Australians', 'the Australian Citizens', 'Australian workers', 'All Australians', 'all Australians', 'Australian citizens', 'the original and ongoing residents of Australia', 'every Australian', 'Every Australian', 'our Australian community', 'Australian citizens with dual nationality', 'Sydney', 'the Australian community', 'modern Australian society', 'older Australians', 'Australian society', 'Australia‟s society', 'Australians with dual nationality', 'young Australians', 'multicultural Australians', 'every member of Australia‟s culturally and linguistically diverse community', 'Rural Australians', 'Australians from diverse cultural and linguistic backgrounds', 'Australians battling with increasing costs', \"Australia's culturally and linguistically diverse community\", 'Australians living in rural, regional and remote areas', 'the wealthiest Australians', 'all low income Australians', 'Australians without affordable or reliable services', 'rural and regional Australians', 'one in a country as rich in Australia', 'low-income Australians', 'low income Australians', 'Australians depending on', 'all Australians currently sleeping rough', 'others in rural and regional Australia', \"Australia's multicultural society\", 'people who live in rural Australia', 'poor in Australia', 'those in regional and rural Australia', 'non-Indigenous Australians', 'young Indigenous Australians', 'Indigenous Australians', '-indigenous Australians', 'aboriginal Canadians', 'aboriginal peoples on traditional lands']\n",
      "\n",
      "mention: the world's highest per capita users of water\n",
      "neighbors: [\"the world's heaviest water users\", \"the world's most inefficient users of water\", 'whoever deliberately swings with water by using eco-friendly washing powder,', 'those who really smust with water', 'a user of water', 'global water citizens', 'water users', 'the users of water', 'commercial water users', 'Those who settle outside the designated water purification zones', 'water customers', 'Those who want to drink clear water', 'people working in the drinking water supply and water treatment sector', 'the water managers', 'water managers', 'water operators', 'Plumbers', 'plumbers', 'waterman', 'people served by waste water treatment systems', 'the owner of an internally cultivated water mill', 'the owners of the plots that serve as natural water factories', 'all consumers of clean water', 'Thirst', 'practitioners in freshwater science', 'water service delegates', 'wastewater managers', 'watermen', 'those who want to continue to eat puddles', 'waters', 'people on the planet who lack access to drinking water or who cannot afford it', 'Flaherty', 'people without access to clean water', 'rural and rural households suffering from high costs of compulsory environmental adaptation of water and sewage', 'Mexicans who do not have access to drinking water', 'those who cannot afford to pay their water bill', 'the population that does not have drinking water', 'others downstream', 'sewage', 'vegetarians', 'people without a bathroom or shower', 'households that do not have water or receive it discontinuously', 'the main feeders of', 'population in houses without drainage and without access to water', 'those who rent real estate and invest in infrastructure for the treatment and use of waste and rainwater', 'water and forest officers']\n",
      "\n"
     ]
    }
   ],
   "source": [
    "for i in range(5):\n",
    "    print('mention:', df.text.iloc[i])\n",
    "    print('neighbors:', df.text.iloc[nns[i]].to_list())\n",
    "    print()\n",
    "# Last example shows that high cosine also retrieves related but other-group examples ('wastewater managers', 'watermen')"
   ]
  },
  {
   "cell_type": "markdown",
   "metadata": {},
   "source": []
  }
 ],
 "metadata": {
  "kernelspec": {
   "display_name": "galtan_group_appeals",
   "language": "python",
   "name": "python3"
  },
  "language_info": {
   "codemirror_mode": {
    "name": "ipython",
    "version": 3
   },
   "file_extension": ".py",
   "mimetype": "text/x-python",
   "name": "python",
   "nbconvert_exporter": "python",
   "pygments_lexer": "ipython3",
   "version": "3.11.10"
  }
 },
 "nbformat": 4,
 "nbformat_minor": 2
}
