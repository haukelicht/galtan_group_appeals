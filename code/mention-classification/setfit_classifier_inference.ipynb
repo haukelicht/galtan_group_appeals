{
 "cells": [
  {
   "cell_type": "code",
   "execution_count": 1,
   "metadata": {},
   "outputs": [],
   "source": [
    "from types import SimpleNamespace\n",
    "\n",
    "args = SimpleNamespace()\n",
    "\n",
    "args.input_file = '../../data/labeled/manifesto_sentences_predicted_group_mentions_spans.tsv'\n",
    "args.sentence_text_col = 'sentence_text'\n",
    "args.mention_text_col = 'text'\n",
    "args.group_mention_types = 'social group'\n",
    "args.group_mention_type_col = 'label'\n",
    "\n",
    "args.model_path = '../../models/social-group-mention-attribute-dimension-classifier'\n",
    "args.batch_size = 128\n",
    "\n",
    "args.output_file = '../../data/labeled/manifesto_sentences_predicted_social_group_mentions_with_attribute_dimension_classifications.tsv'\n",
    "\n",
    "args.test = False\n",
    "args.verbose = True\n",
    "\n",
    "args.group_mention_types = [t.strip() for t in args.group_mention_types.split(',')]"
   ]
  },
  {
   "cell_type": "code",
   "execution_count": 2,
   "metadata": {},
   "outputs": [
    {
     "name": "stderr",
     "output_type": "stream",
     "text": [
      "/Users/hlicht/miniforge3/envs/galtan_group_appeals/lib/python3.11/site-packages/tqdm/auto.py:21: TqdmWarning: IProgress not found. Please update jupyter and ipywidgets. See https://ipywidgets.readthedocs.io/en/stable/user_install.html\n",
      "  from .autonotebook import tqdm as notebook_tqdm\n"
     ]
    }
   ],
   "source": [
    "import pandas as pd\n",
    "import torch\n",
    "from setfit import SetFitModel"
   ]
  },
  {
   "cell_type": "code",
   "execution_count": 3,
   "metadata": {},
   "outputs": [
    {
     "name": "stdout",
     "output_type": "stream",
     "text": [
      "209351\n",
      "processing 209351 texts\n"
     ]
    }
   ],
   "source": [
    "# read the input file\n",
    "sep = None\n",
    "if args.input_file.endswith('.tsv') or args.input_file.endswith('.tab'):\n",
    "    sep = '\\t'\n",
    "elif args.input_file.endswith('.csv'):\n",
    "    sep = ','\n",
    "else:\n",
    "    raise ValueError('input file must be a tab-separated (.tsv, .tab) or comma-separated (.csv) file')\n",
    "\n",
    "df = pd.read_csv(args.input_file, sep=sep)\n",
    "\n",
    "if args.group_mention_type_col:\n",
    "    df.rename(columns={args.group_mention_type_col: 'group_type'}, inplace=True)\n",
    "if args.group_mention_types:\n",
    "    df = df[df['group_type'].isin(args.group_mention_types)]\n",
    "\n",
    "print(len(df))\n",
    "if args.test:\n",
    "    n_ = args.batch_size*100\n",
    "    if n_ < len(df):\n",
    "        df = df.sample(n=n_, random_state=42).reset_index(drop=True)\n",
    "\n",
    "if args.verbose: print(f'processing {len(df)} texts')"
   ]
  },
  {
   "cell_type": "code",
   "execution_count": 4,
   "metadata": {},
   "outputs": [
    {
     "name": "stdout",
     "output_type": "stream",
     "text": [
      "using device: mps\n"
     ]
    }
   ],
   "source": [
    "device = 'cuda:0' if torch.cuda.is_available() else 'mps' if torch.backends.mps.is_available() else 'cpu'\n",
    "device = torch.device(device)\n",
    "if args.verbose: print('using device:', str(device))\n",
    "\n",
    "classifier = SetFitModel.from_pretrained(args.model_path)\n",
    "classifier.to(device);"
   ]
  },
  {
   "cell_type": "code",
   "execution_count": 48,
   "metadata": {},
   "outputs": [],
   "source": [
    "sep = classifier.model_body.tokenizer.sep_token\n",
    "inputs = df.apply(lambda r: r[args.sentence_text_col] + sep + r[args.mention_text_col], axis=1).tolist()\n",
    "preds = classifier.predict(inputs, batch_size=args.batch_size, as_numpy=True, use_labels=False)"
   ]
  },
  {
   "cell_type": "code",
   "execution_count": 52,
   "metadata": {},
   "outputs": [],
   "source": [
    "label_cols = list(classifier.label2id.keys())\n",
    "df[label_cols] = pd.DataFrame(preds, columns=label_cols)"
   ]
  },
  {
   "cell_type": "code",
   "execution_count": 84,
   "metadata": {},
   "outputs": [
    {
     "name": "stdout",
     "output_type": "stream",
     "text": [
      "Writing span-level predictions in TSV format to ../../data/labeled/manifesto_sentences_predicted_social_group_mentions_with_attribute_dimension_classifications.tsv\n"
     ]
    }
   ],
   "source": [
    "if args.verbose: print(f'Writing span-level predictions in TSV format to {args.output_file}')\n",
    "df.to_csv(args.output_file, sep='\\t', index=False, encoding='utf-8')"
   ]
  }
 ],
 "metadata": {
  "kernelspec": {
   "display_name": "galtan_group_appeals",
   "language": "python",
   "name": "python3"
  },
  "language_info": {
   "codemirror_mode": {
    "name": "ipython",
    "version": 3
   },
   "file_extension": ".py",
   "mimetype": "text/x-python",
   "name": "python",
   "nbconvert_exporter": "python",
   "pygments_lexer": "ipython3",
   "version": "3.11.10"
  }
 },
 "nbformat": 4,
 "nbformat_minor": 2
}
