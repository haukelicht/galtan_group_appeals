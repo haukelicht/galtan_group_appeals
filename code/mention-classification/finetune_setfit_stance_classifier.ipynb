{
 "cells": [
  {
   "cell_type": "markdown",
   "id": "552ec552",
   "metadata": {},
   "source": [
    "# Social group mention stance classification\n",
    "\n",
    "\n",
    "In this notebook, we fine-tune a pre-trained sentence transformer model for multilabel classifiers using the `setfit` library to categorize into which attribute dimensions social group mentions belong."
   ]
  },
  {
   "cell_type": "markdown",
   "id": "3af7f258-5aaf-47c2-b81e-2f10fc349812",
   "metadata": {},
   "source": [
    "notebook based on https://github.com/huggingface/setfit/blob/main/notebooks/text-classification_multilabel.ipynb\n",
    "\n",
    "See also:\n",
    "\n",
    "- https://huggingface.co/docs/setfit/en/how_to/multilabel\n",
    "- https://github.com/huggingface/setfit/issues/413#issuecomment-1697751329"
   ]
  },
  {
   "cell_type": "markdown",
   "id": "c5604f73-f395-42cb-8082-9974a87ef9e9",
   "metadata": {},
   "source": [
    "## Setup"
   ]
  },
  {
   "cell_type": "code",
   "execution_count": 1,
   "id": "50cfb2ca",
   "metadata": {},
   "outputs": [],
   "source": [
    "import sys\n",
    "sys.path.append('../../code/mention-classification')"
   ]
  },
  {
   "cell_type": "code",
   "execution_count": 2,
   "id": "70a859ed",
   "metadata": {},
   "outputs": [],
   "source": [
    "import os\n",
    "import numpy as np\n",
    "import pandas as pd\n",
    "import regex\n",
    "\n",
    "import torch\n",
    "import datasets\n",
    "from sklearn.model_selection import train_test_split\n",
    "\n",
    "from utils.setfit import get_class_weights, model_init, TrainerForSpanClassification\n",
    "\n",
    "from transformers import AutoTokenizer, set_seed\n",
    "from setfit import TrainingArguments, Trainer\n",
    "\n",
    "from utils.metrics import *"
   ]
  },
  {
   "cell_type": "code",
   "execution_count": null,
   "id": "dc0cce1a",
   "metadata": {},
   "outputs": [],
   "source": [
    "# pandas\n",
    "# numpy\n",
    "# regex\n",
    "# torch\n",
    "# accelerate\n",
    "# tokenizers\n",
    "# sentencepiece\n",
    "# datasets\n",
    "# transformers\n",
    "# setfit[absa]\n",
    "# scikit-learn"
   ]
  },
  {
   "cell_type": "code",
   "execution_count": 3,
   "id": "101e20b8",
   "metadata": {},
   "outputs": [],
   "source": [
    "SEED = 42\n",
    "set_seed(SEED)"
   ]
  },
  {
   "cell_type": "code",
   "execution_count": 6,
   "id": "1c003a63",
   "metadata": {},
   "outputs": [],
   "source": [
    "model_path = '../../models'\n",
    "# base_model = os.path.join(model_path, 'paraphrase-mpnet-base-v2-social-group-mention-attributes-embedding')\n",
    "base_model = \"sentence-transformers/paraphrase-mpnet-base-v2\""
   ]
  },
  {
   "cell_type": "markdown",
   "id": "3e756be8-3b60-4c86-aa1b-7ef78289b8e2",
   "metadata": {
    "tags": []
   },
   "source": [
    "## Preparing the dataset"
   ]
  },
  {
   "cell_type": "code",
   "execution_count": 9,
   "id": "0095eab9",
   "metadata": {},
   "outputs": [],
   "source": [
    "data_path = '../../data/annotations/group_mention_categorization'\n",
    "fp = os.path.join(data_path, 'consolidated_annotations.tsv')\n",
    "df = pd.read_csv(fp, sep='\\t')"
   ]
  },
  {
   "cell_type": "code",
   "execution_count": 10,
   "id": "d39cc7ea",
   "metadata": {},
   "outputs": [],
   "source": [
    "tmp = df[df.attribute==\"stance\"]\n",
    "tmp = tmp[['mention_id', 'text', 'mention', 'label']].drop_duplicates()"
   ]
  },
  {
   "cell_type": "code",
   "execution_count": 11,
   "id": "40974d39",
   "metadata": {},
   "outputs": [
    {
     "data": {
      "text/plain": [
       "label\n",
       "Positive    242\n",
       "Negative     34\n",
       "Neutral      23\n",
       "Unsure        1\n",
       "Name: count, dtype: int64"
      ]
     },
     "execution_count": 11,
     "metadata": {},
     "output_type": "execute_result"
    }
   ],
   "source": [
    "tmp['label'].value_counts(dropna=False)"
   ]
  },
  {
   "cell_type": "code",
   "execution_count": 12,
   "id": "7d77e4ca",
   "metadata": {},
   "outputs": [],
   "source": [
    "tmp = tmp[tmp.label != 'Unsure']"
   ]
  },
  {
   "cell_type": "code",
   "execution_count": 13,
   "id": "57d90a30",
   "metadata": {},
   "outputs": [],
   "source": [
    "# tmp = tmp[tmp.label != 'Neutral']"
   ]
  },
  {
   "cell_type": "code",
   "execution_count": 14,
   "id": "323e7173",
   "metadata": {},
   "outputs": [],
   "source": [
    "id2label = dict(enumerate(tmp.label.unique()))\n",
    "label2id = {l: i for i, l in id2label.items()}"
   ]
  },
  {
   "cell_type": "code",
   "execution_count": 15,
   "id": "74f48f0c",
   "metadata": {},
   "outputs": [],
   "source": [
    "tmp.loc[:,'labels'] = tmp.label.map(label2id)"
   ]
  },
  {
   "cell_type": "code",
   "execution_count": 16,
   "id": "fb0fddde",
   "metadata": {},
   "outputs": [],
   "source": [
    "tokenizer = AutoTokenizer.from_pretrained(base_model)"
   ]
  },
  {
   "cell_type": "code",
   "execution_count": 17,
   "id": "9a609fa3",
   "metadata": {},
   "outputs": [],
   "source": [
    "# using concat strategy\n",
    "tmp['input'] = tmp.text + tokenizer.sep_token + tmp.mention \n",
    "max_length_ = max(tokenizer(tmp.input.to_list(), truncation=False, padding=False, return_length=True).length)\n",
    "cols = ['input', 'labels']\n",
    "cols_mapping = {\"input\": \"text\", \"labels\": \"label\"}"
   ]
  },
  {
   "cell_type": "markdown",
   "id": "4be40617",
   "metadata": {},
   "source": [
    "### split the data"
   ]
  },
  {
   "cell_type": "code",
   "execution_count": 18,
   "id": "c11471c4",
   "metadata": {},
   "outputs": [],
   "source": [
    "trn, tst = train_test_split(range(len(tmp)), test_size=0.25, random_state=SEED, stratify=tmp.label)"
   ]
  },
  {
   "cell_type": "code",
   "execution_count": 19,
   "id": "a83c9560",
   "metadata": {},
   "outputs": [],
   "source": [
    "tmp_train = tmp.iloc[trn][cols]\n",
    "# print(tmp_train.labels.value_counts(dropna=False))\n",
    "# # downsample the training set\n",
    "# tmp_train = tmp_train.groupby('labels').sample(50, random_state=SEED, replace=True).reset_index(drop=True)"
   ]
  },
  {
   "cell_type": "code",
   "execution_count": 20,
   "id": "aa4c4839",
   "metadata": {},
   "outputs": [],
   "source": [
    "dataset = datasets.DatasetDict({\n",
    "    'train': datasets.Dataset.from_pandas(tmp_train, preserve_index=False),\n",
    "    'test': datasets.Dataset.from_pandas(tmp.iloc[tst][cols], preserve_index=False)\n",
    "})"
   ]
  },
  {
   "cell_type": "markdown",
   "id": "87e43845",
   "metadata": {},
   "source": [
    "## Prepare setfit fine-tuning"
   ]
  },
  {
   "cell_type": "code",
   "execution_count": 21,
   "id": "e7d3c791",
   "metadata": {},
   "outputs": [
    {
     "data": {
      "text/plain": [
       "array([0.0537386 , 0.57215805, 0.37410334])"
      ]
     },
     "execution_count": 21,
     "metadata": {},
     "output_type": "execute_result"
    }
   ],
   "source": [
    "y_train = np.array(dataset['train']['labels'])\n",
    "class_weights = get_class_weights(y_train)\n",
    "class_weights = class_weights.astype(float)\n",
    "class_weights"
   ]
  },
  {
   "cell_type": "code",
   "execution_count": 22,
   "id": "9e971bbc",
   "metadata": {},
   "outputs": [],
   "source": [
    "model_id = 'social-group-mention-stance-classifier'\n",
    "model_dir = os.path.join(model_path, model_id)\n",
    "\n",
    "training_args = TrainingArguments(\n",
    "    output_dir=model_dir,\n",
    "    batch_size=(32, 4),\n",
    "    max_length=max_length_,\n",
    "    num_epochs=(0, 7),\n",
    "    max_steps=-1,\n",
    "    end_to_end=True,\n",
    "    # loss=CosineSimilarityLoss,\n",
    "    # samples_per_label=2,\n",
    "    # use_amp=True,\n",
    "    #report_to='none',\n",
    "    eval_strategy = 'epoch',\n",
    "    \n",
    "    save_strategy = 'epoch',\n",
    "    save_total_limit=2,\n",
    "    load_best_model_at_end=True,\n",
    "    metric_for_best_model='balanced_accuracy',\n",
    "    seed=SEED\n",
    ")"
   ]
  },
  {
   "cell_type": "code",
   "execution_count": 23,
   "id": "9d22a4b0",
   "metadata": {},
   "outputs": [
    {
     "name": "stderr",
     "output_type": "stream",
     "text": [
      "Applying column mapping to the training dataset\n",
      "Applying column mapping to the evaluation dataset\n",
      "huggingface/tokenizers: The current process just got forked, after parallelism has already been used. Disabling parallelism to avoid deadlocks...\n",
      "To disable this warning, you can either:\n",
      "\t- Avoid using `tokenizers` before the fork if possible\n",
      "\t- Explicitly set the environment variable TOKENIZERS_PARALLELISM=(true | false)\n"
     ]
    },
    {
     "data": {
      "application/vnd.jupyter.widget-view+json": {
       "model_id": "2b6fdf9f3e5444ef83f81a26342a818e",
       "version_major": 2,
       "version_minor": 0
      },
      "text/plain": [
       "README.md:   0%|          | 0.00/3.52k [00:00<?, ?B/s]"
      ]
     },
     "metadata": {},
     "output_type": "display_data"
    },
    {
     "data": {
      "application/vnd.jupyter.widget-view+json": {
       "model_id": "79294b3589ea4891b49b08f6dbc5119e",
       "version_major": 2,
       "version_minor": 0
      },
      "text/plain": [
       "Map:   0%|          | 0/224 [00:00<?, ? examples/s]"
      ]
     },
     "metadata": {},
     "output_type": "display_data"
    }
   ],
   "source": [
    "from utils.metrics import compute_metrics_multiclass\n",
    "\n",
    "# trainer = TrainerForSpanClassification(\n",
    "trainer = Trainer(\n",
    "    model_init=lambda: model_init(\n",
    "        model_name=base_model,\n",
    "        id2label=id2label,\n",
    "        # multitarget_strategy='one-vs-rest',\n",
    "        class_weights=class_weights,\n",
    "        use_span_embedding=False,#True,\n",
    "        device='mps'\n",
    "    ),\n",
    "    metric=lambda p, t: compute_metrics_multiclass(p, t, id2label),\n",
    "    args=training_args,\n",
    "    train_dataset=dataset['train'],\n",
    "    eval_dataset=dataset['test'],\n",
    "    column_mapping=cols_mapping\n",
    ")\n",
    "\n",
    "# for deterministic results\n",
    "trainer._args.seed = SEED\n",
    "trainer.st_trainer.args.seed = SEED\n",
    "trainer.st_trainer.args.data_seed = SEED\n",
    "trainer.st_trainer.args.full_determinism = True"
   ]
  },
  {
   "cell_type": "markdown",
   "id": "87c06bd9",
   "metadata": {},
   "source": [
    "### Fine-tune"
   ]
  },
  {
   "cell_type": "code",
   "execution_count": 24,
   "id": "8ad7b804",
   "metadata": {},
   "outputs": [
    {
     "name": "stderr",
     "output_type": "stream",
     "text": [
      "***** Running training *****\n",
      "  Num unique pairs = 33950\n",
      "  Batch size = 32\n",
      "  Num epochs = 0\n"
     ]
    },
    {
     "data": {
      "application/vnd.jupyter.widget-view+json": {
       "model_id": "0cd615e6b79f4b2e96bbe8aac97bccc7",
       "version_major": 2,
       "version_minor": 0
      },
      "text/plain": [
       "0it [00:00, ?it/s]"
      ]
     },
     "metadata": {},
     "output_type": "display_data"
    },
    {
     "name": "stdout",
     "output_type": "stream",
     "text": [
      "{'train_runtime': 0.0079, 'train_samples_per_second': 0.0, 'train_steps_per_second': 0.0, 'train_loss': 0.0, 'epoch': 0}\n"
     ]
    },
    {
     "data": {
      "application/vnd.jupyter.widget-view+json": {
       "model_id": "30adcc3660e64cfdb58ebcb100990d9e",
       "version_major": 2,
       "version_minor": 0
      },
      "text/plain": [
       "Epoch:   0%|          | 0/7 [00:00<?, ?it/s]"
      ]
     },
     "metadata": {},
     "output_type": "display_data"
    },
    {
     "data": {
      "application/vnd.jupyter.widget-view+json": {
       "model_id": "e28f1fb5c05944f5bdbab12a93a5e2da",
       "version_major": 2,
       "version_minor": 0
      },
      "text/plain": [
       "Iteration:   0%|          | 0/56 [00:00<?, ?it/s]"
      ]
     },
     "metadata": {},
     "output_type": "display_data"
    },
    {
     "data": {
      "application/vnd.jupyter.widget-view+json": {
       "model_id": "66284026139a43d5b81400862095832e",
       "version_major": 2,
       "version_minor": 0
      },
      "text/plain": [
       "Iteration:   0%|          | 0/56 [00:00<?, ?it/s]"
      ]
     },
     "metadata": {},
     "output_type": "display_data"
    },
    {
     "data": {
      "application/vnd.jupyter.widget-view+json": {
       "model_id": "cef7b9e7ed4947efa81f5d9e1a998e50",
       "version_major": 2,
       "version_minor": 0
      },
      "text/plain": [
       "Iteration:   0%|          | 0/56 [00:00<?, ?it/s]"
      ]
     },
     "metadata": {},
     "output_type": "display_data"
    },
    {
     "data": {
      "application/vnd.jupyter.widget-view+json": {
       "model_id": "23bf523c9b1c49b68f214a10dc5e26b6",
       "version_major": 2,
       "version_minor": 0
      },
      "text/plain": [
       "Iteration:   0%|          | 0/56 [00:00<?, ?it/s]"
      ]
     },
     "metadata": {},
     "output_type": "display_data"
    },
    {
     "data": {
      "application/vnd.jupyter.widget-view+json": {
       "model_id": "1e81ba24e5df4555b87d5ba06e9d4401",
       "version_major": 2,
       "version_minor": 0
      },
      "text/plain": [
       "Iteration:   0%|          | 0/56 [00:00<?, ?it/s]"
      ]
     },
     "metadata": {},
     "output_type": "display_data"
    },
    {
     "data": {
      "application/vnd.jupyter.widget-view+json": {
       "model_id": "770a0abbb013488fa432558165d986b5",
       "version_major": 2,
       "version_minor": 0
      },
      "text/plain": [
       "Iteration:   0%|          | 0/56 [00:00<?, ?it/s]"
      ]
     },
     "metadata": {},
     "output_type": "display_data"
    },
    {
     "data": {
      "application/vnd.jupyter.widget-view+json": {
       "model_id": "08023a473e114d80a4ebd274bc0e3413",
       "version_major": 2,
       "version_minor": 0
      },
      "text/plain": [
       "Iteration:   0%|          | 0/56 [00:00<?, ?it/s]"
      ]
     },
     "metadata": {},
     "output_type": "display_data"
    }
   ],
   "source": [
    "trainer.train()"
   ]
  },
  {
   "cell_type": "markdown",
   "id": "1cf4519f",
   "metadata": {},
   "source": [
    "### Evaluate"
   ]
  },
  {
   "cell_type": "code",
   "execution_count": 25,
   "id": "e8f56430",
   "metadata": {},
   "outputs": [
    {
     "name": "stderr",
     "output_type": "stream",
     "text": [
      "***** Running evaluation *****\n",
      "/Users/hlicht/miniforge3/envs/galtan_group_appeals/lib/python3.11/site-packages/sklearn/metrics/_classification.py:1509: UndefinedMetricWarning: Precision is ill-defined and being set to 0.0 in labels with no predicted samples. Use `zero_division` parameter to control this behavior.\n",
      "  _warn_prf(average, modifier, f\"{metric.capitalize()} is\", len(result))\n"
     ]
    }
   ],
   "source": [
    "metrics = trainer.evaluate()"
   ]
  },
  {
   "cell_type": "code",
   "execution_count": 27,
   "id": "0b25f3d0",
   "metadata": {},
   "outputs": [
    {
     "data": {
      "text/plain": [
       "{'accuracy': 0.8133333333333334,\n",
       " 'balanced_accuracy': 0.4781420765027322,\n",
       " 'f1_macro': 0.45607534352323603,\n",
       " 'precision_macro': 0.436026936026936,\n",
       " 'recall_macro': 0.4781420765027322,\n",
       " 'precision_Positive': 0.8636363636363636,\n",
       " 'recall_Positive': 0.9344262295081968,\n",
       " 'f1_Positive': 0.8976377952755905,\n",
       " 'precision_Neutral': 0.0,\n",
       " 'recall_Neutral': 0.0,\n",
       " 'f1_Neutral': 0.0,\n",
       " 'precision_Negative': 0.4444444444444444,\n",
       " 'recall_Negative': 0.5,\n",
       " 'f1_Negative': 0.47058823529411764}"
      ]
     },
     "execution_count": 27,
     "metadata": {},
     "output_type": "execute_result"
    }
   ],
   "source": [
    "metrics"
   ]
  },
  {
   "cell_type": "markdown",
   "id": "61a60370",
   "metadata": {},
   "source": [
    "### Save the model"
   ]
  },
  {
   "cell_type": "code",
   "execution_count": null,
   "id": "0a055f45",
   "metadata": {},
   "outputs": [],
   "source": [
    "import shutil\n",
    "shutil.rmtree(model_dir)"
   ]
  },
  {
   "cell_type": "code",
   "execution_count": null,
   "id": "12a80278",
   "metadata": {},
   "outputs": [],
   "source": [
    "trainer.model.save_pretrained(model_dir)"
   ]
  },
  {
   "cell_type": "code",
   "execution_count": null,
   "id": "c1e41913",
   "metadata": {},
   "outputs": [],
   "source": [
    "trainer.model.to('cpu');\n",
    "del trainer"
   ]
  },
  {
   "cell_type": "markdown",
   "id": "9709c782",
   "metadata": {},
   "source": [
    "## Fine-tune with setfitABSA"
   ]
  },
  {
   "cell_type": "markdown",
   "id": "877a3a01",
   "metadata": {},
   "source": [
    "### Prepare the data"
   ]
  },
  {
   "cell_type": "code",
   "execution_count": 64,
   "id": "0df948ac",
   "metadata": {},
   "outputs": [],
   "source": [
    "tmp[['manifesto_id', 'sentence_nr', 'mention_nr']] = tmp.mention_id.str.split('-', expand=True)"
   ]
  },
  {
   "cell_type": "code",
   "execution_count": 65,
   "id": "b91b7d2e",
   "metadata": {},
   "outputs": [],
   "source": [
    "import regex\n",
    "tmp['span'] = tmp.apply(lambda x: regex.search(regex.escape(x.mention), x.text).span(), axis=1)"
   ]
  },
  {
   "cell_type": "code",
   "execution_count": 66,
   "id": "4bca77ad",
   "metadata": {},
   "outputs": [],
   "source": [
    "tmp_train = tmp.iloc[trn]\n",
    "tmp_test = tmp.iloc[tst]"
   ]
  },
  {
   "cell_type": "code",
   "execution_count": 67,
   "id": "8ef7f898",
   "metadata": {},
   "outputs": [
    {
     "name": "stderr",
     "output_type": "stream",
     "text": [
      "/var/folders/_c/cm0nk6y92rz2l6ct3npgw9tr0000gn/T/ipykernel_98898/2278076560.py:2: SettingWithCopyWarning: \n",
      "A value is trying to be set on a copy of a slice from a DataFrame.\n",
      "Try using .loc[row_indexer,col_indexer] = value instead\n",
      "\n",
      "See the caveats in the documentation: https://pandas.pydata.org/pandas-docs/stable/user_guide/indexing.html#returning-a-view-versus-a-copy\n",
      "  tmp_train.loc[:, 'ordinal'] = tmp_train.groupby(['manifesto_id', 'sentence_nr', 'mention']).cumcount()\n",
      "/var/folders/_c/cm0nk6y92rz2l6ct3npgw9tr0000gn/T/ipykernel_98898/2278076560.py:3: SettingWithCopyWarning: \n",
      "A value is trying to be set on a copy of a slice from a DataFrame.\n",
      "Try using .loc[row_indexer,col_indexer] = value instead\n",
      "\n",
      "See the caveats in the documentation: https://pandas.pydata.org/pandas-docs/stable/user_guide/indexing.html#returning-a-view-versus-a-copy\n",
      "  tmp_test.loc[:, 'ordinal'] = tmp_test.groupby(['manifesto_id', 'sentence_nr', 'mention']).cumcount()\n"
     ]
    }
   ],
   "source": [
    "# rank spans within sentence\n",
    "tmp_train.loc[:, 'ordinal'] = tmp_train.groupby(['manifesto_id', 'sentence_nr', 'mention']).cumcount() \n",
    "tmp_test.loc[:, 'ordinal'] = tmp_test.groupby(['manifesto_id', 'sentence_nr', 'mention']).cumcount() "
   ]
  },
  {
   "cell_type": "code",
   "execution_count": 68,
   "id": "0f071dfe",
   "metadata": {},
   "outputs": [],
   "source": [
    "cols = ['text', 'mention', 'label', 'ordinal']\n",
    "dataset = datasets.DatasetDict({\n",
    "    'train': datasets.Dataset.from_pandas(tmp_train[cols], preserve_index=False),\n",
    "    'test': datasets.Dataset.from_pandas(tmp_test[cols], preserve_index=False)\n",
    "})"
   ]
  },
  {
   "cell_type": "code",
   "execution_count": 58,
   "id": "900dd88e",
   "metadata": {},
   "outputs": [],
   "source": [
    "# !pip install spacy==3.8.5\n",
    "# !python -m spacy download en_core_web_lg==3.8.0"
   ]
  },
  {
   "cell_type": "code",
   "execution_count": 59,
   "id": "68310fae",
   "metadata": {},
   "outputs": [
    {
     "name": "stderr",
     "output_type": "stream",
     "text": [
      "model_head.pkl not found on HuggingFace Hub, initialising classification head with random weights. You should TRAIN this model on a downstream task to use it for predictions and inference.\n",
      "model_head.pkl not found on HuggingFace Hub, initialising classification head with random weights. You should TRAIN this model on a downstream task to use it for predictions and inference.\n"
     ]
    }
   ],
   "source": [
    "from setfit import AbsaTrainer, TrainingArguments, AbsaModel\n",
    "\n",
    "model = AbsaModel.from_pretrained(\n",
    "    \"sentence-transformers/paraphrase-mpnet-base-v2\",\n",
    ")"
   ]
  },
  {
   "cell_type": "code",
   "execution_count": 60,
   "id": "8b7a338a",
   "metadata": {},
   "outputs": [],
   "source": [
    "args = TrainingArguments(\n",
    "    num_epochs=1,\n",
    "    batch_size=4,\n",
    "    num_iterations=20,\n",
    "    save_strategy=\"no\",\n",
    "    report_to=\"none\"\n",
    ")"
   ]
  },
  {
   "cell_type": "code",
   "execution_count": 63,
   "id": "c3bb7f7f",
   "metadata": {},
   "outputs": [
    {
     "data": {
      "text/html": [
       "<div>\n",
       "<style scoped>\n",
       "    .dataframe tbody tr th:only-of-type {\n",
       "        vertical-align: middle;\n",
       "    }\n",
       "\n",
       "    .dataframe tbody tr th {\n",
       "        vertical-align: top;\n",
       "    }\n",
       "\n",
       "    .dataframe thead th {\n",
       "        text-align: right;\n",
       "    }\n",
       "</style>\n",
       "<table border=\"1\" class=\"dataframe\">\n",
       "  <thead>\n",
       "    <tr style=\"text-align: right;\">\n",
       "      <th></th>\n",
       "      <th>mention_id</th>\n",
       "      <th>text</th>\n",
       "      <th>mention</th>\n",
       "      <th>label</th>\n",
       "      <th>labels</th>\n",
       "      <th>input</th>\n",
       "      <th>manifesto_id</th>\n",
       "      <th>sentence_nr</th>\n",
       "      <th>mention_nr</th>\n",
       "      <th>span</th>\n",
       "      <th>ordinal</th>\n",
       "    </tr>\n",
       "  </thead>\n",
       "  <tbody>\n",
       "    <tr>\n",
       "      <th>5618</th>\n",
       "      <td>93712_199209-377225-5</td>\n",
       "      <td>In collaboration with a number of collectives ...</td>\n",
       "      <td>economists</td>\n",
       "      <td>Positive</td>\n",
       "      <td>0</td>\n",
       "      <td>In collaboration with a number of collectives ...</td>\n",
       "      <td>93712_199209</td>\n",
       "      <td>377225</td>\n",
       "      <td>5</td>\n",
       "      <td>(101, 111)</td>\n",
       "      <td>0</td>\n",
       "    </tr>\n",
       "    <tr>\n",
       "      <th>5598</th>\n",
       "      <td>93712_199209-377225-3</td>\n",
       "      <td>In collaboration with a number of collectives ...</td>\n",
       "      <td>psychologists</td>\n",
       "      <td>Positive</td>\n",
       "      <td>0</td>\n",
       "      <td>In collaboration with a number of collectives ...</td>\n",
       "      <td>93712_199209</td>\n",
       "      <td>377225</td>\n",
       "      <td>3</td>\n",
       "      <td>(77, 90)</td>\n",
       "      <td>1</td>\n",
       "    </tr>\n",
       "  </tbody>\n",
       "</table>\n",
       "</div>"
      ],
      "text/plain": [
       "                 mention_id  \\\n",
       "5618  93712_199209-377225-5   \n",
       "5598  93712_199209-377225-3   \n",
       "\n",
       "                                                   text        mention  \\\n",
       "5618  In collaboration with a number of collectives ...     economists   \n",
       "5598  In collaboration with a number of collectives ...  psychologists   \n",
       "\n",
       "         label  labels                                              input  \\\n",
       "5618  Positive       0  In collaboration with a number of collectives ...   \n",
       "5598  Positive       0  In collaboration with a number of collectives ...   \n",
       "\n",
       "      manifesto_id sentence_nr mention_nr        span  ordinal  \n",
       "5618  93712_199209      377225          5  (101, 111)        0  \n",
       "5598  93712_199209      377225          3    (77, 90)        1  "
      ]
     },
     "execution_count": 63,
     "metadata": {},
     "output_type": "execute_result"
    }
   ],
   "source": [
    "tmp_train[tmp_train.text.str.startswith('In collaboration with a number')]"
   ]
  },
  {
   "cell_type": "code",
   "execution_count": 69,
   "id": "9d8fedfc",
   "metadata": {},
   "outputs": [
    {
     "data": {
      "application/vnd.jupyter.widget-view+json": {
       "model_id": "d14da2e2e5fd4ead9c366cbe0fcfe1d9",
       "version_major": 2,
       "version_minor": 0
      },
      "text/plain": [
       "Map:   0%|          | 0/1095 [00:00<?, ? examples/s]"
      ]
     },
     "metadata": {},
     "output_type": "display_data"
    },
    {
     "data": {
      "application/vnd.jupyter.widget-view+json": {
       "model_id": "c30f652f41a045da8170b22dd7949181",
       "version_major": 2,
       "version_minor": 0
      },
      "text/plain": [
       "Map:   0%|          | 0/221 [00:00<?, ? examples/s]"
      ]
     },
     "metadata": {},
     "output_type": "display_data"
    }
   ],
   "source": [
    "trainer = AbsaTrainer(\n",
    "    model,\n",
    "    args=args,\n",
    "    train_dataset=dataset['train'],  # if you want to train over the entire train set change experiment_ds to train_ds\n",
    "    column_mapping={\n",
    "        \"text\": \"text\",\n",
    "        \"mention\": \"span\",\n",
    "        \"label\": \"label\",\n",
    "        \"ordinal\": \"ordinal\",\n",
    "    },\n",
    ")"
   ]
  },
  {
   "cell_type": "code",
   "execution_count": 70,
   "id": "941a09df",
   "metadata": {},
   "outputs": [
    {
     "name": "stderr",
     "output_type": "stream",
     "text": [
      "***** Running training *****\n",
      "  Num unique pairs = 43800\n",
      "  Batch size = 4\n",
      "  Num epochs = 1\n"
     ]
    },
    {
     "data": {
      "application/vnd.jupyter.widget-view+json": {
       "model_id": "f62e7eccba6147cab1d05203cd003e56",
       "version_major": 2,
       "version_minor": 0
      },
      "text/plain": [
       "  0%|          | 0/10950 [00:00<?, ?it/s]"
      ]
     },
     "metadata": {},
     "output_type": "display_data"
    },
    {
     "ename": "",
     "evalue": "",
     "output_type": "error",
     "traceback": [
      "\u001b[1;31mThe Kernel crashed while executing code in the current cell or a previous cell. \n",
      "\u001b[1;31mPlease review the code in the cell(s) to identify a possible cause of the failure. \n",
      "\u001b[1;31mClick <a href='https://aka.ms/vscodeJupyterKernelCrash'>here</a> for more info. \n",
      "\u001b[1;31mView Jupyter <a href='command:jupyter.viewOutput'>log</a> for further details."
     ]
    }
   ],
   "source": [
    "trainer.train()"
   ]
  }
 ],
 "metadata": {
  "kernelspec": {
   "display_name": "galtan_group_appeals",
   "language": "python",
   "name": "python3"
  },
  "language_info": {
   "codemirror_mode": {
    "name": "ipython",
    "version": 3
   },
   "file_extension": ".py",
   "mimetype": "text/x-python",
   "name": "python",
   "nbconvert_exporter": "python",
   "pygments_lexer": "ipython3",
   "version": "3.11.10"
  }
 },
 "nbformat": 4,
 "nbformat_minor": 5
}
