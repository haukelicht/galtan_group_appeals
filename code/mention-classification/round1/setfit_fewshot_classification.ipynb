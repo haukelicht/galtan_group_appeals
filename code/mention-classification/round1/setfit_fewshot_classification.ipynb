{
 "cells": [
  {
   "cell_type": "markdown",
   "id": "552ec552",
   "metadata": {},
   "source": [
    "# SetFit for Multilabel Text Classification"
   ]
  },
  {
   "cell_type": "markdown",
   "id": "3af7f258-5aaf-47c2-b81e-2f10fc349812",
   "metadata": {},
   "source": [
    "notebook based on https://github.com/huggingface/setfit/blob/main/notebooks/text-classification_multilabel.ipynb\n",
    "\n",
    "See also:\n",
    "\n",
    "- https://huggingface.co/docs/setfit/en/how_to/multilabel\n",
    "- https://github.com/huggingface/setfit/issues/413#issuecomment-1697751329"
   ]
  },
  {
   "cell_type": "markdown",
   "id": "c5604f73-f395-42cb-8082-9974a87ef9e9",
   "metadata": {},
   "source": [
    "## Setup"
   ]
  },
  {
   "cell_type": "code",
   "execution_count": 1,
   "id": "70a859ed",
   "metadata": {},
   "outputs": [
    {
     "name": "stderr",
     "output_type": "stream",
     "text": [
      "/Users/hlicht/miniforge3/envs/galtan_group_appeals/lib/python3.11/site-packages/tqdm/auto.py:21: TqdmWarning: IProgress not found. Please update jupyter and ipywidgets. See https://ipywidgets.readthedocs.io/en/stable/user_install.html\n",
      "  from .autonotebook import tqdm as notebook_tqdm\n"
     ]
    }
   ],
   "source": [
    "import numpy as np\n",
    "import pandas as pd\n",
    "import torch\n",
    "\n",
    "import datasets\n",
    "from sklearn.model_selection import train_test_split\n",
    "\n",
    "from sentence_transformers import SentenceTransformer\n",
    "from setfit import SetFitHead, SetFitModel\n",
    "from utils.setfit import SetFitHeadWithClassWeights, get_class_weights\n",
    "\n",
    "from setfit import TrainingArguments, Trainer\n",
    "from sentence_transformers.losses import CosineSimilarityLoss\n",
    "\n",
    "from utils.metrics import *\n",
    "import matplotlib.pyplot as plt"
   ]
  },
  {
   "cell_type": "code",
   "execution_count": 2,
   "id": "122bd9d2",
   "metadata": {},
   "outputs": [],
   "source": [
    "from typing import Mapping, Optional, Union\n",
    "from numpy._typing import NDArray\n",
    "\n",
    "get_device = lambda: 'cuda' if torch.cuda.is_available() else 'mps' if torch.backends.mps.is_available() else 'cpu'\n",
    "\n",
    "def model_init(\n",
    "        model_name: str,\n",
    "        id2label: Mapping[int, str], \n",
    "        multitarget_strategy: Optional[str]=None, \n",
    "        class_weights: Optional[NDArray]=None,\n",
    "        device: Optional[Union[str, torch.device]]=None\n",
    "    ) -> \"SetFitModel\":\n",
    "    if class_weights is not None:\n",
    "        assert len(id2label) == len(class_weights), 'len(id2label) must equal len(class_weights)'\n",
    "    \n",
    "    if device is None:\n",
    "        device = get_device()\n",
    "    \n",
    "    body = SentenceTransformer(model_name, device='cpu')\n",
    "    \n",
    "    head_kwargs = dict(\n",
    "        in_features=body.get_sentence_embedding_dimension(), \n",
    "        out_features=len(id2label),\n",
    "        device='cpu',\n",
    "        multitarget=isinstance(multitarget_strategy, str),\n",
    "    )\n",
    "    if class_weights is None:\n",
    "        head = SetFitHead(**head_kwargs)\n",
    "    else:\n",
    "        head_kwargs['class_weights'] = class_weights\n",
    "        head = SetFitHeadWithClassWeights(**head_kwargs)\n",
    "    \n",
    "    return SetFitModel(\n",
    "        model_head=head,\n",
    "        model_body=body,\n",
    "        multitarget_strategy=multitarget_strategy,\n",
    "        labels=list(id2label.values()),\n",
    "        id2label=id2label\n",
    "    ).to(device)"
   ]
  },
  {
   "cell_type": "code",
   "execution_count": 3,
   "id": "1c003a63",
   "metadata": {},
   "outputs": [],
   "source": [
    "MODEL = \"sentence-transformers/paraphrase-mpnet-base-v2\""
   ]
  },
  {
   "cell_type": "code",
   "execution_count": 4,
   "id": "cc551c34",
   "metadata": {},
   "outputs": [],
   "source": [
    "# TODO:\n",
    "#  - prepare dataset function\n",
    "#  - prepare model function"
   ]
  },
  {
   "cell_type": "markdown",
   "id": "3e756be8-3b60-4c86-aa1b-7ef78289b8e2",
   "metadata": {
    "tags": []
   },
   "source": [
    "## Preparing the dataset"
   ]
  },
  {
   "cell_type": "code",
   "execution_count": 5,
   "id": "0095eab9",
   "metadata": {},
   "outputs": [
    {
     "data": {
      "text/plain": [
       "array(['economic_attributes', 'non-economic_attributes', 'stance',\n",
       "       'universal_attributes'], dtype=object)"
      ]
     },
     "execution_count": 5,
     "metadata": {},
     "output_type": "execute_result"
    }
   ],
   "source": [
    "import os \n",
    "data_path = '../../data/annotations/group_mention_categorization/social-group-mention-categorization-coder-training'\n",
    "fp = os.path.join(data_path, 'parsed', 'consolidated_annotations.tsv')\n",
    "\n",
    "df_all = pd.read_csv(fp, sep='\\t')\n",
    "df_all.q_id.unique()"
   ]
  },
  {
   "cell_type": "markdown",
   "id": "eaf39910",
   "metadata": {},
   "source": [
    "## Universal attributes"
   ]
  },
  {
   "cell_type": "code",
   "execution_count": 6,
   "id": "93d2e593",
   "metadata": {},
   "outputs": [],
   "source": [
    "# NOTE: let's focus on non-economic attributes for now\n",
    "df = df_all.loc[df_all.q_id == 'universal_attributes', ['text', 'mention', 'label']]"
   ]
  },
  {
   "cell_type": "code",
   "execution_count": 7,
   "id": "753c2beb",
   "metadata": {},
   "outputs": [
    {
     "data": {
      "text/plain": [
       "label\n",
       "No       244\n",
       "Yes       56\n",
       "Name: count, dtype: int64"
      ]
     },
     "execution_count": 7,
     "metadata": {},
     "output_type": "execute_result"
    }
   ],
   "source": [
    "df[['label']].value_counts(sort=False)\n",
    "# NOTE: extreme label class imbalance "
   ]
  },
  {
   "cell_type": "code",
   "execution_count": 8,
   "id": "2cccee24",
   "metadata": {},
   "outputs": [],
   "source": [
    "label2id = {'No': 0, 'Yes': 1}\n",
    "id2label = {0: 'No', 1: 'Yes'}"
   ]
  },
  {
   "cell_type": "code",
   "execution_count": 9,
   "id": "72de8c17",
   "metadata": {},
   "outputs": [],
   "source": [
    "df.label = df.label.map(label2id)"
   ]
  },
  {
   "cell_type": "markdown",
   "id": "9dadd92c",
   "metadata": {},
   "source": [
    "### split the data"
   ]
  },
  {
   "cell_type": "code",
   "execution_count": 10,
   "id": "1bf09790",
   "metadata": {},
   "outputs": [],
   "source": [
    "# TODO: consider increasing train size\n",
    "trn, tst = train_test_split(range(len(df)), test_size=0.5, stratify=df.label, random_state=42)"
   ]
  },
  {
   "cell_type": "code",
   "execution_count": 11,
   "id": "828c6ec9",
   "metadata": {},
   "outputs": [],
   "source": [
    "from transformers import AutoTokenizer\n",
    "tokenizer = AutoTokenizer.from_pretrained(MODEL)"
   ]
  },
  {
   "cell_type": "code",
   "execution_count": 12,
   "id": "bde08023",
   "metadata": {},
   "outputs": [],
   "source": [
    "df['input'] = df.text + tokenizer.sep_token + df.mention"
   ]
  },
  {
   "cell_type": "code",
   "execution_count": 13,
   "id": "ea42967b",
   "metadata": {},
   "outputs": [],
   "source": [
    "cols = ['input', 'label']\n",
    "dataset = datasets.DatasetDict({\n",
    "    'train': datasets.Dataset.from_pandas(df.iloc[trn][cols], preserve_index=False),\n",
    "    'test': datasets.Dataset.from_pandas(df.iloc[tst][cols], preserve_index=False)\n",
    "})"
   ]
  },
  {
   "cell_type": "markdown",
   "id": "e00cbe3c",
   "metadata": {},
   "source": [
    "### fine-tune"
   ]
  },
  {
   "cell_type": "code",
   "execution_count": 14,
   "id": "10685e25",
   "metadata": {},
   "outputs": [],
   "source": [
    "args = TrainingArguments(\n",
    "    output_dir='setfit',\n",
    "    batch_size=(32, 4),\n",
    "    num_epochs=(1, 1),\n",
    "    max_steps=10,\n",
    "    body_learning_rate=(2e-5, 1e-5),\n",
    "    head_learning_rate=1e-2,\n",
    "    end_to_end=True,\n",
    "    samples_per_label=2, # default but can be increased for TripletLoss\n",
    "    loss=CosineSimilarityLoss, # note: could use TripletLoss\n",
    "    use_amp=True,\n",
    "    report_to='none'\n",
    ")"
   ]
  },
  {
   "cell_type": "code",
   "execution_count": 15,
   "id": "40f9c188",
   "metadata": {},
   "outputs": [
    {
     "data": {
      "text/plain": [
       "{'No': 0.18666666666666668, 'Yes': 0.8133333333333334}"
      ]
     },
     "execution_count": 15,
     "metadata": {},
     "output_type": "execute_result"
    }
   ],
   "source": [
    "class_weights = get_class_weights(np.array(dataset['train']['label']))\n",
    "dict(zip(id2label.values(), class_weights))"
   ]
  },
  {
   "cell_type": "code",
   "execution_count": null,
   "id": "93103d89",
   "metadata": {},
   "outputs": [
    {
     "name": "stderr",
     "output_type": "stream",
     "text": [
      "Applying column mapping to the training dataset\n",
      "Applying column mapping to the evaluation dataset\n",
      "Map: 100%|██████████| 150/150 [00:00<00:00, 23172.10 examples/s]\n"
     ]
    },
    {
     "ename": "",
     "evalue": "",
     "output_type": "error",
     "traceback": [
      "\u001b[1;31mThe Kernel crashed while executing code in the current cell or a previous cell. \n",
      "\u001b[1;31mPlease review the code in the cell(s) to identify a possible cause of the failure. \n",
      "\u001b[1;31mClick <a href='https://aka.ms/vscodeJupyterKernelCrash'>here</a> for more info. \n",
      "\u001b[1;31mView Jupyter <a href='command:jupyter.viewOutput'>log</a> for further details."
     ]
    }
   ],
   "source": [
    "trainer = Trainer(\n",
    "    model_init=lambda: model_init(\n",
    "        model_name=MODEL,\n",
    "        id2label=id2label,\n",
    "        # class_weights=class_weights,\n",
    "        device='mps'\n",
    "    ),\n",
    "    args=args,\n",
    "    metric=compute_metrics_binary,\n",
    "    train_dataset=dataset['train'],\n",
    "    eval_dataset=dataset['test'],\n",
    "    column_mapping={'input': 'text', 'label': 'label'},\n",
    ")"
   ]
  },
  {
   "cell_type": "code",
   "execution_count": null,
   "id": "203724c8",
   "metadata": {},
   "outputs": [],
   "source": []
  },
  {
   "cell_type": "code",
   "execution_count": null,
   "id": "5ce8f491",
   "metadata": {},
   "outputs": [
    {
     "name": "stderr",
     "output_type": "stream",
     "text": [
      "***** Running training *****\n",
      "  Num unique pairs = 320\n",
      "  Batch size = 32\n",
      "  Num epochs = 1\n",
      " 10%|█         | 1/10 [00:01<00:16,  1.80s/it]"
     ]
    },
    {
     "name": "stdout",
     "output_type": "stream",
     "text": [
      "{'embedding_loss': 0.3198, 'grad_norm': 1.4696723222732544, 'learning_rate': 2e-05, 'epoch': 0.1}\n"
     ]
    },
    {
     "name": "stderr",
     "output_type": "stream",
     "text": [
      "100%|██████████| 10/10 [00:14<00:00,  1.50s/it]\n",
      "The `max_length` is `None`. Using the maximum acceptable length according to the current model body: 512.\n"
     ]
    },
    {
     "name": "stdout",
     "output_type": "stream",
     "text": [
      "{'train_runtime': 14.9643, 'train_samples_per_second': 21.384, 'train_steps_per_second': 0.668, 'train_loss': 0.2629508078098297, 'epoch': 1.0}\n"
     ]
    },
    {
     "name": "stderr",
     "output_type": "stream",
     "text": [
      "Epoch:   0%|          | 0/1 [00:00<?, ?it/s]"
     ]
    }
   ],
   "source": [
    "trainer.train()"
   ]
  },
  {
   "cell_type": "code",
   "execution_count": 1,
   "id": "3ab6199d",
   "metadata": {},
   "outputs": [
    {
     "name": "stderr",
     "output_type": "stream",
     "text": [
      "/Users/hlicht/miniforge3/envs/galtan_group_appeals/lib/python3.11/site-packages/tqdm/auto.py:21: TqdmWarning: IProgress not found. Please update jupyter and ipywidgets. See https://ipywidgets.readthedocs.io/en/stable/user_install.html\n",
      "  from .autonotebook import tqdm as notebook_tqdm\n"
     ]
    },
    {
     "data": {
      "text/plain": [
       "'4.45.2'"
      ]
     },
     "execution_count": 1,
     "metadata": {},
     "output_type": "execute_result"
    }
   ],
   "source": [
    "import transformers\n",
    "transformers.__version__"
   ]
  },
  {
   "cell_type": "markdown",
   "id": "7e7b8285",
   "metadata": {},
   "source": [
    "### evaluate"
   ]
  },
  {
   "cell_type": "code",
   "execution_count": null,
   "id": "9c805e40",
   "metadata": {},
   "outputs": [],
   "source": [
    "y_true = np.array(dataset['test']['label'])\n",
    "y_pred = trainer.model.predict(dataset['test']['input'], use_labels=False).cpu().numpy()"
   ]
  },
  {
   "cell_type": "code",
   "execution_count": null,
   "id": "ef697e62",
   "metadata": {},
   "outputs": [
    {
     "name": "stdout",
     "output_type": "stream",
     "text": [
      "              precision    recall  f1-score   support\n",
      "\n",
      "           0       0.88      0.96      0.92       122\n",
      "           1       0.71      0.43      0.53        28\n",
      "\n",
      "    accuracy                           0.86       150\n",
      "   macro avg       0.79      0.69      0.73       150\n",
      "weighted avg       0.85      0.86      0.85       150\n",
      "\n"
     ]
    }
   ],
   "source": [
    "from sklearn.metrics import classification_report\n",
    "print(classification_report(y_true, y_pred, target_names=id2label.values()))"
   ]
  },
  {
   "cell_type": "code",
   "execution_count": 66,
   "id": "cfbabeaf",
   "metadata": {},
   "outputs": [],
   "source": [
    "# inputs = trainer.model.model_body.tokenizer(dataset['test']['input'][:16], return_tensors='pt', padding=True)\n",
    "# with torch.no_grad():\n",
    "#     embeddings = trainer.model.model_body(inputs.to('mps'))\n",
    "#     # outputs = trainer.model.model_head.linear(embeddings['sentence_embedding']).cpu().numpy()\n",
    "#     logits, probs = trainer.model.model_head(embeddings['sentence_embedding'], temperature=1.0)\n",
    "#     logits = logits.cpu().numpy()\n",
    "#     probs = probs.cpu().numpy()\n",
    "\n",
    "# probs.round(3) # overconfidence, need to apply early stopping?"
   ]
  },
  {
   "cell_type": "code",
   "execution_count": 21,
   "id": "adde9291",
   "metadata": {},
   "outputs": [
    {
     "data": {
      "text/plain": [
       "array([[1.   , 0.   ],\n",
       "       [1.   , 0.   ],\n",
       "       [0.99 , 0.01 ],\n",
       "       [0.005, 0.995],\n",
       "       [1.   , 0.   ],\n",
       "       [1.   , 0.   ],\n",
       "       [1.   , 0.   ],\n",
       "       [1.   , 0.   ],\n",
       "       [0.999, 0.001],\n",
       "       [0.962, 0.038],\n",
       "       [1.   , 0.   ],\n",
       "       [0.001, 0.999],\n",
       "       [1.   , 0.   ],\n",
       "       [0.   , 1.   ],\n",
       "       [1.   , 0.   ],\n",
       "       [1.   , 0.   ],\n",
       "       [1.   , 0.   ],\n",
       "       [1.   , 0.   ],\n",
       "       [1.   , 0.   ],\n",
       "       [1.   , 0.   ],\n",
       "       [1.   , 0.   ],\n",
       "       [1.   , 0.   ],\n",
       "       [0.997, 0.003],\n",
       "       [1.   , 0.   ],\n",
       "       [1.   , 0.   ],\n",
       "       [1.   , 0.   ],\n",
       "       [0.   , 1.   ],\n",
       "       [1.   , 0.   ],\n",
       "       [1.   , 0.   ],\n",
       "       [1.   , 0.   ],\n",
       "       [1.   , 0.   ],\n",
       "       [0.   , 1.   ],\n",
       "       [1.   , 0.   ],\n",
       "       [1.   , 0.   ],\n",
       "       [1.   , 0.   ],\n",
       "       [1.   , 0.   ],\n",
       "       [1.   , 0.   ],\n",
       "       [1.   , 0.   ],\n",
       "       [1.   , 0.   ],\n",
       "       [1.   , 0.   ],\n",
       "       [1.   , 0.   ],\n",
       "       [1.   , 0.   ],\n",
       "       [0.008, 0.992],\n",
       "       [1.   , 0.   ],\n",
       "       [1.   , 0.   ],\n",
       "       [1.   , 0.   ],\n",
       "       [1.   , 0.   ],\n",
       "       [1.   , 0.   ],\n",
       "       [1.   , 0.   ],\n",
       "       [1.   , 0.   ],\n",
       "       [1.   , 0.   ],\n",
       "       [1.   , 0.   ],\n",
       "       [1.   , 0.   ],\n",
       "       [1.   , 0.   ],\n",
       "       [0.972, 0.028],\n",
       "       [1.   , 0.   ],\n",
       "       [1.   , 0.   ],\n",
       "       [1.   , 0.   ],\n",
       "       [1.   , 0.   ],\n",
       "       [0.778, 0.222],\n",
       "       [0.008, 0.992],\n",
       "       [1.   , 0.   ],\n",
       "       [1.   , 0.   ],\n",
       "       [1.   , 0.   ],\n",
       "       [1.   , 0.   ],\n",
       "       [1.   , 0.   ],\n",
       "       [0.   , 1.   ],\n",
       "       [1.   , 0.   ],\n",
       "       [1.   , 0.   ],\n",
       "       [1.   , 0.   ],\n",
       "       [1.   , 0.   ],\n",
       "       [0.   , 1.   ],\n",
       "       [1.   , 0.   ],\n",
       "       [0.   , 1.   ],\n",
       "       [1.   , 0.   ],\n",
       "       [0.999, 0.001],\n",
       "       [0.901, 0.099],\n",
       "       [1.   , 0.   ],\n",
       "       [1.   , 0.   ],\n",
       "       [0.457, 0.543],\n",
       "       [1.   , 0.   ],\n",
       "       [1.   , 0.   ],\n",
       "       [1.   , 0.   ],\n",
       "       [1.   , 0.   ],\n",
       "       [1.   , 0.   ],\n",
       "       [1.   , 0.   ],\n",
       "       [1.   , 0.   ],\n",
       "       [1.   , 0.   ],\n",
       "       [1.   , 0.   ],\n",
       "       [1.   , 0.   ],\n",
       "       [1.   , 0.   ],\n",
       "       [1.   , 0.   ],\n",
       "       [1.   , 0.   ],\n",
       "       [1.   , 0.   ],\n",
       "       [1.   , 0.   ],\n",
       "       [0.   , 1.   ],\n",
       "       [1.   , 0.   ],\n",
       "       [1.   , 0.   ],\n",
       "       [1.   , 0.   ],\n",
       "       [1.   , 0.   ],\n",
       "       [0.041, 0.959],\n",
       "       [1.   , 0.   ],\n",
       "       [1.   , 0.   ],\n",
       "       [1.   , 0.   ],\n",
       "       [1.   , 0.   ],\n",
       "       [1.   , 0.   ],\n",
       "       [1.   , 0.   ],\n",
       "       [1.   , 0.   ],\n",
       "       [1.   , 0.   ],\n",
       "       [1.   , 0.   ],\n",
       "       [0.   , 1.   ],\n",
       "       [1.   , 0.   ],\n",
       "       [0.999, 0.001],\n",
       "       [1.   , 0.   ],\n",
       "       [0.997, 0.003],\n",
       "       [1.   , 0.   ],\n",
       "       [1.   , 0.   ],\n",
       "       [0.3  , 0.7  ],\n",
       "       [0.   , 1.   ],\n",
       "       [1.   , 0.   ],\n",
       "       [1.   , 0.   ],\n",
       "       [1.   , 0.   ],\n",
       "       [1.   , 0.   ],\n",
       "       [1.   , 0.   ],\n",
       "       [1.   , 0.   ],\n",
       "       [1.   , 0.   ],\n",
       "       [1.   , 0.   ],\n",
       "       [0.003, 0.997],\n",
       "       [1.   , 0.   ],\n",
       "       [1.   , 0.   ],\n",
       "       [1.   , 0.   ],\n",
       "       [1.   , 0.   ],\n",
       "       [1.   , 0.   ],\n",
       "       [1.   , 0.   ],\n",
       "       [0.994, 0.006],\n",
       "       [0.998, 0.002],\n",
       "       [1.   , 0.   ],\n",
       "       [1.   , 0.   ],\n",
       "       [1.   , 0.   ],\n",
       "       [1.   , 0.   ],\n",
       "       [1.   , 0.   ],\n",
       "       [1.   , 0.   ],\n",
       "       [1.   , 0.   ],\n",
       "       [0.776, 0.224],\n",
       "       [1.   , 0.   ],\n",
       "       [0.995, 0.005],\n",
       "       [1.   , 0.   ],\n",
       "       [1.   , 0.   ],\n",
       "       [1.   , 0.   ],\n",
       "       [1.   , 0.   ]], dtype=float32)"
      ]
     },
     "execution_count": 21,
     "metadata": {},
     "output_type": "execute_result"
    }
   ],
   "source": [
    "probs = trainer.model.predict_proba(dataset['test']['input'], as_numpy=True)\n",
    "probs.round(3)"
   ]
  },
  {
   "cell_type": "code",
   "execution_count": 22,
   "id": "0321d7a8",
   "metadata": {},
   "outputs": [
    {
     "name": "stderr",
     "output_type": "stream",
     "text": [
      "/var/folders/_c/cm0nk6y92rz2l6ct3npgw9tr0000gn/T/ipykernel_53423/4132908749.py:5: MatplotlibDeprecationWarning: The 'labels' parameter of boxplot() has been renamed 'tick_labels' since Matplotlib 3.9; support for the old name will be dropped in 3.11.\n",
      "  plt.boxplot([pred_probs[labs==0], pred_probs[labs==1]], labels=['No', 'Yes'])\n"
     ]
    },
    {
     "data": {
      "image/png": "[encoded data removed]",
      "text/plain": [
       "<Figure size 640x480 with 1 Axes>"
      ]
     },
     "metadata": {},
     "output_type": "display_data"
    }
   ],
   "source": [
    "labs = np.array(dataset['test']['label'])\n",
    "pred_probs = probs[range(len(labs)), labs]\n",
    "\n",
    "# plot boxplot of predicted probabilities by true label\n",
    "plt.boxplot([pred_probs[labs==0], pred_probs[labs==1]], labels=['No', 'Yes'])\n",
    "plt.ylim(0, 1)\n",
    "# draw a line at 0.5\n",
    "plt.axhline(0.5, color='r', linestyle='--')\n",
    "plt.show()"
   ]
  },
  {
   "cell_type": "markdown",
   "id": "29159833",
   "metadata": {},
   "source": [
    "## Universal/econ/non-econ as three-way multilabel problem"
   ]
  },
  {
   "cell_type": "code",
   "execution_count": 24,
   "id": "aa75eb01",
   "metadata": {},
   "outputs": [
    {
     "data": {
      "text/plain": [
       "Index(['mention_id', 'text', 'mention', 'prev_texts', 'next_texts', 'q_id',\n",
       "       'q_category', 'category', 'label', 'source'],\n",
       "      dtype='object')"
      ]
     },
     "execution_count": 24,
     "metadata": {},
     "output_type": "execute_result"
    }
   ],
   "source": [
    "df = pd.read_csv(fp, sep='\\t')\n",
    "df.columns"
   ]
  },
  {
   "cell_type": "code",
   "execution_count": 25,
   "id": "44b1d72c",
   "metadata": {},
   "outputs": [],
   "source": [
    "# stack by category\n",
    "tmp = pd.concat([\n",
    "    df[df.q_id == 'universal_attributes'].drop(columns=['category']),\n",
    "    df[df.q_id == 'economic_attributes'].groupby(['mention_id', 'text', 'mention', 'q_id']).agg({'label': lambda x: 'Yes' if (x=='Yes').any() else 'No'}).reset_index(),\n",
    "    df[df.q_id == 'non-economic_attributes'].groupby(['mention_id', 'text', 'mention', 'q_id']).agg({'label': lambda x: 'Yes' if (x=='Yes').any() else 'No'}).reset_index()\n",
    "])\n",
    "tmp.reset_index(drop=True, inplace=True)\n",
    "\n",
    "# get dimensions\n",
    "tmp.q_id = tmp.q_id.str.removesuffix('_attributes')\n",
    "features = tmp.q_id.unique().tolist()\n",
    "\n",
    "# reshape to wide format\n",
    "tmp = tmp.pivot(index=['mention_id', 'text', 'mention'], columns='q_id', values='label').reset_index()\n",
    "tmp = tmp.rename_axis(None, axis=1)\n",
    "\n",
    "# keep only fully gold-labeled examples\n",
    "tmp = tmp[tmp[features].isna().sum(axis=1) == 0]"
   ]
  },
  {
   "cell_type": "code",
   "execution_count": 27,
   "id": "602401ce",
   "metadata": {},
   "outputs": [
    {
     "data": {
      "text/plain": [
       "universal  economic  non-economic\n",
       "No         No        Yes             130\n",
       "           Yes       No               98\n",
       "Yes        No        No               38\n",
       "                     Yes              17\n",
       "No         Yes       Yes              15\n",
       "           No        No                1\n",
       "Yes        Yes       No                1\n",
       "Name: count, dtype: int64"
      ]
     },
     "execution_count": 27,
     "metadata": {},
     "output_type": "execute_result"
    }
   ],
   "source": [
    "tmp[features].value_counts(dropna=False)"
   ]
  },
  {
   "cell_type": "code",
   "execution_count": 28,
   "id": "abe59829",
   "metadata": {},
   "outputs": [],
   "source": [
    "label2id = {'No': 0, 'Yes': 1}\n",
    "id2label = {0: 'No', 1: 'Yes'}\n",
    "tmp.loc[:,features] = tmp.loc[:,features].apply(lambda x: x.map(label2id))"
   ]
  },
  {
   "cell_type": "code",
   "execution_count": 29,
   "id": "9490dab8",
   "metadata": {},
   "outputs": [],
   "source": [
    "tmp['labels'] = tmp.loc[:,features].apply(list, axis=1)"
   ]
  },
  {
   "cell_type": "code",
   "execution_count": 30,
   "id": "25c7de5d",
   "metadata": {},
   "outputs": [
    {
     "data": {
      "text/plain": [
       "universal       0.186667\n",
       "economic            0.38\n",
       "non-economic        0.54\n",
       "dtype: object"
      ]
     },
     "execution_count": 30,
     "metadata": {},
     "output_type": "execute_result"
    }
   ],
   "source": [
    "tmp[features].mean(axis=0)\n",
    "# strong label class imbalance"
   ]
  },
  {
   "cell_type": "markdown",
   "id": "4936057f",
   "metadata": {},
   "source": [
    "## split the data"
   ]
  },
  {
   "cell_type": "code",
   "execution_count": 31,
   "id": "7faca004",
   "metadata": {},
   "outputs": [],
   "source": [
    "from transformers import AutoTokenizer\n",
    "tokenizer = AutoTokenizer.from_pretrained(MODEL)"
   ]
  },
  {
   "cell_type": "code",
   "execution_count": 32,
   "id": "69912139",
   "metadata": {},
   "outputs": [],
   "source": [
    "tmp['input'] = tmp.text + tokenizer.sep_token + tmp.mention "
   ]
  },
  {
   "cell_type": "code",
   "execution_count": 33,
   "id": "703707aa",
   "metadata": {},
   "outputs": [],
   "source": [
    "max_length_ = max(tokenizer(tmp.input.to_list(), truncation=False, padding=False, return_length=True).length)"
   ]
  },
  {
   "cell_type": "code",
   "execution_count": 34,
   "id": "0b53c639",
   "metadata": {},
   "outputs": [],
   "source": [
    "trn, tst = train_test_split(range(len(tmp)), test_size=0.5, random_state=42)"
   ]
  },
  {
   "cell_type": "code",
   "execution_count": 35,
   "id": "c3227e78",
   "metadata": {},
   "outputs": [],
   "source": [
    "cols = ['input', 'labels']\n",
    "dataset = datasets.DatasetDict({\n",
    "    'train': datasets.Dataset.from_pandas(tmp.iloc[trn][cols], preserve_index=False),\n",
    "    'test': datasets.Dataset.from_pandas(tmp.iloc[tst][cols], preserve_index=False)\n",
    "})"
   ]
  },
  {
   "cell_type": "code",
   "execution_count": 37,
   "id": "130f6664",
   "metadata": {},
   "outputs": [
    {
     "data": {
      "text/plain": [
       "array([0.53439587, 0.27188562, 0.1937185 ])"
      ]
     },
     "execution_count": 37,
     "metadata": {},
     "output_type": "execute_result"
    }
   ],
   "source": [
    "feats = tmp.iloc[tst][features].to_numpy()\n",
    "class_weights = get_class_weights(feats, multitarget=True)\n",
    "class_weights = class_weights.astype(float)\n",
    "class_weights"
   ]
  },
  {
   "cell_type": "markdown",
   "id": "e1702b55",
   "metadata": {},
   "source": [
    "## Fine-tuning the model"
   ]
  },
  {
   "cell_type": "code",
   "execution_count": 39,
   "id": "c2242313",
   "metadata": {},
   "outputs": [
    {
     "data": {
      "text/plain": [
       "{0: 'universal', 1: 'economic', 2: 'non-economic'}"
      ]
     },
     "execution_count": 39,
     "metadata": {},
     "output_type": "execute_result"
    }
   ],
   "source": [
    "id2label = {i: l for i, l in enumerate(features)}\n",
    "label2id = {l: i for i, l in enumerate(features)}\n",
    "id2label"
   ]
  },
  {
   "cell_type": "code",
   "execution_count": 51,
   "id": "e6f52b5e",
   "metadata": {},
   "outputs": [],
   "source": [
    "# import torch\n",
    "# from setfit import SetFitModel\n",
    "# \n",
    "# device = 'cuda' if torch.cuda.is_available() else 'mps' if torch.backends.mps.is_available() else 'cpu'\n",
    "# def model_init():\n",
    "#     return SetFitModel.from_pretrained(\n",
    "#         model_name, \n",
    "#         use_differentiable_head=True, \n",
    "#         head_params={\"out_features\": len(features)},\n",
    "#         multi_target_strategy='one-vs-rest',\n",
    "#         labels=features,\n",
    "#         id2label=id2label\n",
    "#     ).to(device)"
   ]
  },
  {
   "cell_type": "code",
   "execution_count": 40,
   "id": "f60340a1",
   "metadata": {},
   "outputs": [],
   "source": [
    "from sentence_transformers.losses import CosineSimilarityLoss\n",
    "from setfit import TrainingArguments, Trainer\n",
    "\n",
    "args = TrainingArguments(\n",
    "    output_dir='setfit',\n",
    "    batch_size=(32, 4),\n",
    "    max_length=max_length_,\n",
    "    num_epochs=(1, 8),\n",
    "    max_steps=100,\n",
    "    end_to_end=False,\n",
    "    samples_per_label=2,\n",
    "    loss=CosineSimilarityLoss,\n",
    "    use_amp=True,\n",
    "    report_to='none'\n",
    ")"
   ]
  },
  {
   "cell_type": "code",
   "execution_count": 42,
   "id": "9f800dc2",
   "metadata": {},
   "outputs": [
    {
     "name": "stderr",
     "output_type": "stream",
     "text": [
      "Applying column mapping to the training dataset\n",
      "Applying column mapping to the evaluation dataset\n",
      "Map: 100%|██████████| 150/150 [00:00<00:00, 22468.68 examples/s]\n"
     ]
    }
   ],
   "source": [
    "from utils.metrics import compute_metrics_multilabel\n",
    "trainer = Trainer(\n",
    "    model_init=lambda: model_init(\n",
    "        model_name=MODEL,\n",
    "        id2label=id2label,\n",
    "        multitarget_strategy='one-vs-rest',\n",
    "        class_weights=class_weights,\n",
    "        device='mps'\n",
    "    ),\n",
    "    metric=lambda p, t: compute_metrics_multilabel(p, t, id2label),\n",
    "    args=args,\n",
    "    train_dataset=dataset['train'],\n",
    "    eval_dataset=dataset['test'],\n",
    "    column_mapping={\"input\": \"text\", \"labels\": \"label\"},\n",
    ")"
   ]
  },
  {
   "cell_type": "code",
   "execution_count": 43,
   "id": "3a169b14",
   "metadata": {},
   "outputs": [
    {
     "name": "stderr",
     "output_type": "stream",
     "text": [
      "***** Running training *****\n",
      "  Num unique pairs = 3200\n",
      "  Batch size = 32\n"
     ]
    },
    {
     "name": "stderr",
     "output_type": "stream",
     "text": [
      "  Num epochs = 1\n",
      "  1%|          | 1/100 [00:01<02:19,  1.41s/it]"
     ]
    },
    {
     "name": "stdout",
     "output_type": "stream",
     "text": [
      "{'embedding_loss': 0.2914, 'grad_norm': 1.404127836227417, 'learning_rate': 2.0000000000000003e-06, 'epoch': 0.01}\n"
     ]
    },
    {
     "name": "stderr",
     "output_type": "stream",
     "text": [
      " 50%|█████     | 50/100 [01:16<01:24,  1.70s/it]"
     ]
    },
    {
     "name": "stdout",
     "output_type": "stream",
     "text": [
      "{'embedding_loss': 0.232, 'grad_norm': 1.1662814617156982, 'learning_rate': 1.1111111111111113e-05, 'epoch': 0.5}\n"
     ]
    },
    {
     "name": "stderr",
     "output_type": "stream",
     "text": [
      "100%|██████████| 100/100 [02:38<00:00,  1.74s/it]"
     ]
    },
    {
     "name": "stdout",
     "output_type": "stream",
     "text": [
      "{'embedding_loss': 0.1633, 'grad_norm': 0.6780321002006531, 'learning_rate': 0.0, 'epoch': 1.0}\n"
     ]
    },
    {
     "name": "stderr",
     "output_type": "stream",
     "text": [
      "100%|██████████| 100/100 [02:42<00:00,  1.63s/it]\n"
     ]
    },
    {
     "name": "stdout",
     "output_type": "stream",
     "text": [
      "{'train_runtime': 162.6298, 'train_samples_per_second': 19.677, 'train_steps_per_second': 0.615, 'train_loss': 0.19825524896383284, 'epoch': 1.0}\n"
     ]
    },
    {
     "name": "stderr",
     "output_type": "stream",
     "text": [
      "Epoch: 100%|██████████| 8/8 [00:27<00:00,  3.47s/it]\n"
     ]
    }
   ],
   "source": [
    "trainer.train()"
   ]
  },
  {
   "cell_type": "code",
   "execution_count": 44,
   "id": "661f37b5",
   "metadata": {},
   "outputs": [
    {
     "name": "stderr",
     "output_type": "stream",
     "text": [
      "***** Running evaluation *****\n"
     ]
    }
   ],
   "source": [
    "metrics = trainer.evaluate()"
   ]
  },
  {
   "cell_type": "code",
   "execution_count": 45,
   "id": "c839e9fe",
   "metadata": {},
   "outputs": [
    {
     "data": {
      "text/html": [
       "<div>\n",
       "<style scoped>\n",
       "    .dataframe tbody tr th:only-of-type {\n",
       "        vertical-align: middle;\n",
       "    }\n",
       "\n",
       "    .dataframe tbody tr th {\n",
       "        vertical-align: top;\n",
       "    }\n",
       "\n",
       "    .dataframe thead th {\n",
       "        text-align: right;\n",
       "    }\n",
       "</style>\n",
       "<table border=\"1\" class=\"dataframe\">\n",
       "  <thead>\n",
       "    <tr style=\"text-align: right;\">\n",
       "      <th></th>\n",
       "      <th>f1</th>\n",
       "      <th>precision</th>\n",
       "      <th>recall</th>\n",
       "      <th>support</th>\n",
       "    </tr>\n",
       "  </thead>\n",
       "  <tbody>\n",
       "    <tr>\n",
       "      <th>macro</th>\n",
       "      <td>0.700008</td>\n",
       "      <td>0.813050</td>\n",
       "      <td>0.633071</td>\n",
       "      <td>NaN</td>\n",
       "    </tr>\n",
       "    <tr>\n",
       "      <th>universal</th>\n",
       "      <td>0.465116</td>\n",
       "      <td>0.714286</td>\n",
       "      <td>0.344828</td>\n",
       "      <td>29.0</td>\n",
       "    </tr>\n",
       "    <tr>\n",
       "      <th>economic</th>\n",
       "      <td>0.803738</td>\n",
       "      <td>0.860000</td>\n",
       "      <td>0.754386</td>\n",
       "      <td>57.0</td>\n",
       "    </tr>\n",
       "    <tr>\n",
       "      <th>non-economic</th>\n",
       "      <td>0.831169</td>\n",
       "      <td>0.864865</td>\n",
       "      <td>0.800000</td>\n",
       "      <td>80.0</td>\n",
       "    </tr>\n",
       "  </tbody>\n",
       "</table>\n",
       "</div>"
      ],
      "text/plain": [
       "                    f1  precision    recall  support\n",
       "macro         0.700008   0.813050  0.633071      NaN\n",
       "universal     0.465116   0.714286  0.344828     29.0\n",
       "economic      0.803738   0.860000  0.754386     57.0\n",
       "non-economic  0.831169   0.864865  0.800000     80.0"
      ]
     },
     "execution_count": 45,
     "metadata": {},
     "output_type": "execute_result"
    }
   ],
   "source": [
    "res = pd.DataFrame(metrics, index=[0]).T.reset_index().rename(columns={'index': 'metric', 0: 'value'})\n",
    "res[['metric', 'category']] = res.metric.str.split('_', expand=True)\n",
    "res = res.pivot(index='category', columns='metric', values='value')\n",
    "# remove index names\n",
    "res.columns.name = None\n",
    "res.index.name = None\n",
    "res.loc[['macro']+features]"
   ]
  },
  {
   "cell_type": "code",
   "execution_count": 46,
   "id": "7ab4766c",
   "metadata": {},
   "outputs": [],
   "source": [
    "probs = trainer.model.predict_proba(dataset['test']['input'], as_numpy=True)"
   ]
  },
  {
   "cell_type": "code",
   "execution_count": 58,
   "id": "19bc5470",
   "metadata": {},
   "outputs": [
    {
     "data": {
      "text/plain": [
       "array([1.262, 0.462, 0.276, 0.448, 0.038, 1.179, 0.035, 0.305, 1.273,\n",
       "       1.947, 0.655, 0.022, 1.043, 0.369, 0.807, 1.141, 0.995, 0.27 ,\n",
       "       1.823, 0.016, 0.009, 0.878, 0.483, 1.281, 0.347, 0.023, 0.952,\n",
       "       0.098, 1.019, 0.111, 1.176, 0.02 , 0.339, 1.578, 0.289, 0.848,\n",
       "       0.495, 0.527, 0.068, 1.899, 0.03 , 0.045, 1.782, 0.059, 1.352,\n",
       "       1.088, 1.074, 0.421, 0.029, 0.383, 0.403, 0.24 , 0.037, 0.167,\n",
       "       0.139, 1.461, 1.759, 0.009, 0.798, 0.958, 0.398, 0.04 , 0.147,\n",
       "       1.166, 0.884, 0.032, 1.205, 0.009, 1.758, 0.016, 0.541, 0.004,\n",
       "       0.272, 0.461, 1.896, 0.016, 0.007, 0.045, 0.053, 0.109, 0.101,\n",
       "       0.23 , 0.024, 0.083, 0.925, 0.982, 0.809, 1.557, 0.747, 0.071,\n",
       "       0.134, 1.19 , 0.047, 0.028, 0.068, 0.285, 0.421, 0.022, 1.462,\n",
       "       0.125, 0.968, 0.02 , 0.478, 0.458, 0.152, 0.053, 0.041, 0.013,\n",
       "       0.23 , 0.118, 0.872, 0.077, 0.5  , 0.679, 0.342, 1.739, 0.065,\n",
       "       0.018, 0.95 , 0.988, 0.695, 0.561, 1.008, 1.867, 0.884, 0.357,\n",
       "       0.232, 0.006, 0.581, 0.019, 0.035, 1.024, 0.011, 0.961, 1.229,\n",
       "       0.092, 0.781, 1.023, 0.092, 0.936, 0.193, 1.285, 0.862, 0.016,\n",
       "       0.755, 1.052, 0.035, 0.054, 0.337, 0.01 ])"
      ]
     },
     "execution_count": 58,
     "metadata": {},
     "output_type": "execute_result"
    }
   ],
   "source": []
  },
  {
   "cell_type": "code",
   "execution_count": 61,
   "id": "49168dd1",
   "metadata": {},
   "outputs": [
    {
     "data": {
      "text/html": [
       "<div>\n",
       "<style scoped>\n",
       "    .dataframe tbody tr th:only-of-type {\n",
       "        vertical-align: middle;\n",
       "    }\n",
       "\n",
       "    .dataframe tbody tr th {\n",
       "        vertical-align: top;\n",
       "    }\n",
       "\n",
       "    .dataframe thead th {\n",
       "        text-align: right;\n",
       "    }\n",
       "</style>\n",
       "<table border=\"1\" class=\"dataframe\">\n",
       "  <thead>\n",
       "    <tr style=\"text-align: right;\">\n",
       "      <th></th>\n",
       "      <th>pred: universal</th>\n",
       "      <th>pred: economic</th>\n",
       "      <th>pred: non-economic</th>\n",
       "      <th>loss</th>\n",
       "      <th>universal</th>\n",
       "      <th>economic</th>\n",
       "      <th>non-economic</th>\n",
       "      <th>text</th>\n",
       "      <th>mention</th>\n",
       "    </tr>\n",
       "  </thead>\n",
       "  <tbody>\n",
       "    <tr>\n",
       "      <th>9</th>\n",
       "      <td>0.001</td>\n",
       "      <td>0.985</td>\n",
       "      <td>0.039</td>\n",
       "      <td>1.947</td>\n",
       "      <td>0</td>\n",
       "      <td>0</td>\n",
       "      <td>1</td>\n",
       "      <td>The Greens demand that the multinationals base...</td>\n",
       "      <td>the multinationals based in Switzerland</td>\n",
       "    </tr>\n",
       "    <tr>\n",
       "      <th>39</th>\n",
       "      <td>0.010</td>\n",
       "      <td>0.930</td>\n",
       "      <td>0.041</td>\n",
       "      <td>1.899</td>\n",
       "      <td>0</td>\n",
       "      <td>0</td>\n",
       "      <td>1</td>\n",
       "      <td>The separation on the joint energy companies o...</td>\n",
       "      <td>the nationals</td>\n",
       "    </tr>\n",
       "    <tr>\n",
       "      <th>74</th>\n",
       "      <td>0.092</td>\n",
       "      <td>0.986</td>\n",
       "      <td>0.002</td>\n",
       "      <td>1.896</td>\n",
       "      <td>1</td>\n",
       "      <td>0</td>\n",
       "      <td>0</td>\n",
       "      <td>The creation of conditions for supporting the ...</td>\n",
       "      <td>consumers</td>\n",
       "    </tr>\n",
       "    <tr>\n",
       "      <th>123</th>\n",
       "      <td>0.000</td>\n",
       "      <td>0.053</td>\n",
       "      <td>0.919</td>\n",
       "      <td>1.867</td>\n",
       "      <td>0</td>\n",
       "      <td>1</td>\n",
       "      <td>0</td>\n",
       "      <td>Improve the compatibility of work and family t...</td>\n",
       "      <td>daymothers</td>\n",
       "    </tr>\n",
       "    <tr>\n",
       "      <th>18</th>\n",
       "      <td>0.018</td>\n",
       "      <td>0.013</td>\n",
       "      <td>0.828</td>\n",
       "      <td>1.823</td>\n",
       "      <td>1</td>\n",
       "      <td>0</td>\n",
       "      <td>0</td>\n",
       "      <td>That is why the government of the center is co...</td>\n",
       "      <td>all layers of the population</td>\n",
       "    </tr>\n",
       "    <tr>\n",
       "      <th>42</th>\n",
       "      <td>0.015</td>\n",
       "      <td>0.792</td>\n",
       "      <td>0.006</td>\n",
       "      <td>1.782</td>\n",
       "      <td>1</td>\n",
       "      <td>0</td>\n",
       "      <td>0</td>\n",
       "      <td>This SNS program statement does not close itse...</td>\n",
       "      <td>the individual</td>\n",
       "    </tr>\n",
       "    <tr>\n",
       "      <th>56</th>\n",
       "      <td>0.002</td>\n",
       "      <td>0.920</td>\n",
       "      <td>0.164</td>\n",
       "      <td>1.759</td>\n",
       "      <td>0</td>\n",
       "      <td>0</td>\n",
       "      <td>1</td>\n",
       "      <td>The problem of foreigners in Flanders is prima...</td>\n",
       "      <td>the host workers</td>\n",
       "    </tr>\n",
       "    <tr>\n",
       "      <th>68</th>\n",
       "      <td>0.057</td>\n",
       "      <td>0.004</td>\n",
       "      <td>0.811</td>\n",
       "      <td>1.758</td>\n",
       "      <td>1</td>\n",
       "      <td>0</td>\n",
       "      <td>0</td>\n",
       "      <td>Every person belongs to a minority.</td>\n",
       "      <td>a minority</td>\n",
       "    </tr>\n",
       "    <tr>\n",
       "      <th>115</th>\n",
       "      <td>0.588</td>\n",
       "      <td>0.084</td>\n",
       "      <td>0.236</td>\n",
       "      <td>1.739</td>\n",
       "      <td>0</td>\n",
       "      <td>1</td>\n",
       "      <td>0</td>\n",
       "      <td>Or go toward an ecological society where the e...</td>\n",
       "      <td>an ecological society</td>\n",
       "    </tr>\n",
       "    <tr>\n",
       "      <th>33</th>\n",
       "      <td>0.001</td>\n",
       "      <td>0.262</td>\n",
       "      <td>0.839</td>\n",
       "      <td>1.578</td>\n",
       "      <td>0</td>\n",
       "      <td>1</td>\n",
       "      <td>0</td>\n",
       "      <td>Limit the waiting time to specialist care to a...</td>\n",
       "      <td>full-time and part-time health care professionals</td>\n",
       "    </tr>\n",
       "    <tr>\n",
       "      <th>87</th>\n",
       "      <td>0.107</td>\n",
       "      <td>0.658</td>\n",
       "      <td>0.006</td>\n",
       "      <td>1.557</td>\n",
       "      <td>1</td>\n",
       "      <td>0</td>\n",
       "      <td>0</td>\n",
       "      <td>x Businesses should pay a normal share of thei...</td>\n",
       "      <td>society</td>\n",
       "    </tr>\n",
       "    <tr>\n",
       "      <th>98</th>\n",
       "      <td>0.035</td>\n",
       "      <td>0.575</td>\n",
       "      <td>0.148</td>\n",
       "      <td>1.462</td>\n",
       "      <td>0</td>\n",
       "      <td>0</td>\n",
       "      <td>1</td>\n",
       "      <td>The national risk fund will be transferred to ...</td>\n",
       "      <td>the county population</td>\n",
       "    </tr>\n",
       "    <tr>\n",
       "      <th>55</th>\n",
       "      <td>0.005</td>\n",
       "      <td>0.130</td>\n",
       "      <td>0.587</td>\n",
       "      <td>1.461</td>\n",
       "      <td>0</td>\n",
       "      <td>1</td>\n",
       "      <td>0</td>\n",
       "      <td>Between different social and professional cate...</td>\n",
       "      <td>social and professional categories</td>\n",
       "    </tr>\n",
       "    <tr>\n",
       "      <th>44</th>\n",
       "      <td>0.175</td>\n",
       "      <td>0.116</td>\n",
       "      <td>0.589</td>\n",
       "      <td>1.352</td>\n",
       "      <td>1</td>\n",
       "      <td>0</td>\n",
       "      <td>1</td>\n",
       "      <td>Insurance needs access to a diversified cultur...</td>\n",
       "      <td>a multicultural society</td>\n",
       "    </tr>\n",
       "    <tr>\n",
       "      <th>141</th>\n",
       "      <td>0.001</td>\n",
       "      <td>0.240</td>\n",
       "      <td>0.524</td>\n",
       "      <td>1.285</td>\n",
       "      <td>0</td>\n",
       "      <td>1</td>\n",
       "      <td>0</td>\n",
       "      <td>Those who want to solve the major transnationa...</td>\n",
       "      <td>Those who want to solve the major transnationa...</td>\n",
       "    </tr>\n",
       "    <tr>\n",
       "      <th>23</th>\n",
       "      <td>0.001</td>\n",
       "      <td>0.130</td>\n",
       "      <td>0.409</td>\n",
       "      <td>1.281</td>\n",
       "      <td>0</td>\n",
       "      <td>1</td>\n",
       "      <td>0</td>\n",
       "      <td>Complete revision of the return of land to the...</td>\n",
       "      <td>their heirs</td>\n",
       "    </tr>\n",
       "    <tr>\n",
       "      <th>8</th>\n",
       "      <td>0.600</td>\n",
       "      <td>0.005</td>\n",
       "      <td>0.332</td>\n",
       "      <td>1.273</td>\n",
       "      <td>0</td>\n",
       "      <td>0</td>\n",
       "      <td>1</td>\n",
       "      <td>A society where wealth is not measured in cons...</td>\n",
       "      <td>A society where wealth is not measured in cons...</td>\n",
       "    </tr>\n",
       "    <tr>\n",
       "      <th>0</th>\n",
       "      <td>0.042</td>\n",
       "      <td>0.290</td>\n",
       "      <td>0.070</td>\n",
       "      <td>1.262</td>\n",
       "      <td>0</td>\n",
       "      <td>0</td>\n",
       "      <td>1</td>\n",
       "      <td>It is too impersonal, too inflexible, too cent...</td>\n",
       "      <td>patients</td>\n",
       "    </tr>\n",
       "    <tr>\n",
       "      <th>134</th>\n",
       "      <td>0.019</td>\n",
       "      <td>0.199</td>\n",
       "      <td>0.410</td>\n",
       "      <td>1.229</td>\n",
       "      <td>0</td>\n",
       "      <td>1</td>\n",
       "      <td>0</td>\n",
       "      <td>Allocate a special annual budget of 500 billio...</td>\n",
       "      <td>military personnel</td>\n",
       "    </tr>\n",
       "    <tr>\n",
       "      <th>66</th>\n",
       "      <td>0.773</td>\n",
       "      <td>0.001</td>\n",
       "      <td>0.569</td>\n",
       "      <td>1.205</td>\n",
       "      <td>0</td>\n",
       "      <td>0</td>\n",
       "      <td>1</td>\n",
       "      <td>A emerging shadow society, where people remain...</td>\n",
       "      <td>people</td>\n",
       "    </tr>\n",
       "  </tbody>\n",
       "</table>\n",
       "</div>"
      ],
      "text/plain": [
       "     pred: universal  pred: economic  pred: non-economic   loss universal  \\\n",
       "9              0.001           0.985               0.039  1.947         0   \n",
       "39             0.010           0.930               0.041  1.899         0   \n",
       "74             0.092           0.986               0.002  1.896         1   \n",
       "123            0.000           0.053               0.919  1.867         0   \n",
       "18             0.018           0.013               0.828  1.823         1   \n",
       "42             0.015           0.792               0.006  1.782         1   \n",
       "56             0.002           0.920               0.164  1.759         0   \n",
       "68             0.057           0.004               0.811  1.758         1   \n",
       "115            0.588           0.084               0.236  1.739         0   \n",
       "33             0.001           0.262               0.839  1.578         0   \n",
       "87             0.107           0.658               0.006  1.557         1   \n",
       "98             0.035           0.575               0.148  1.462         0   \n",
       "55             0.005           0.130               0.587  1.461         0   \n",
       "44             0.175           0.116               0.589  1.352         1   \n",
       "141            0.001           0.240               0.524  1.285         0   \n",
       "23             0.001           0.130               0.409  1.281         0   \n",
       "8              0.600           0.005               0.332  1.273         0   \n",
       "0              0.042           0.290               0.070  1.262         0   \n",
       "134            0.019           0.199               0.410  1.229         0   \n",
       "66             0.773           0.001               0.569  1.205         0   \n",
       "\n",
       "    economic non-economic                                               text  \\\n",
       "9          0            1  The Greens demand that the multinationals base...   \n",
       "39         0            1  The separation on the joint energy companies o...   \n",
       "74         0            0  The creation of conditions for supporting the ...   \n",
       "123        1            0  Improve the compatibility of work and family t...   \n",
       "18         0            0  That is why the government of the center is co...   \n",
       "42         0            0  This SNS program statement does not close itse...   \n",
       "56         0            1  The problem of foreigners in Flanders is prima...   \n",
       "68         0            0                Every person belongs to a minority.   \n",
       "115        1            0  Or go toward an ecological society where the e...   \n",
       "33         1            0  Limit the waiting time to specialist care to a...   \n",
       "87         0            0  x Businesses should pay a normal share of thei...   \n",
       "98         0            1  The national risk fund will be transferred to ...   \n",
       "55         1            0  Between different social and professional cate...   \n",
       "44         0            1  Insurance needs access to a diversified cultur...   \n",
       "141        1            0  Those who want to solve the major transnationa...   \n",
       "23         1            0  Complete revision of the return of land to the...   \n",
       "8          0            1  A society where wealth is not measured in cons...   \n",
       "0          0            1  It is too impersonal, too inflexible, too cent...   \n",
       "134        1            0  Allocate a special annual budget of 500 billio...   \n",
       "66         0            1  A emerging shadow society, where people remain...   \n",
       "\n",
       "                                               mention  \n",
       "9              the multinationals based in Switzerland  \n",
       "39                                       the nationals  \n",
       "74                                           consumers  \n",
       "123                                         daymothers  \n",
       "18                        all layers of the population  \n",
       "42                                      the individual  \n",
       "56                                    the host workers  \n",
       "68                                          a minority  \n",
       "115                              an ecological society  \n",
       "33   full-time and part-time health care professionals  \n",
       "87                                             society  \n",
       "98                               the county population  \n",
       "55                  social and professional categories  \n",
       "44                             a multicultural society  \n",
       "141  Those who want to solve the major transnationa...  \n",
       "23                                         their heirs  \n",
       "8    A society where wealth is not measured in cons...  \n",
       "0                                             patients  \n",
       "134                                 military personnel  \n",
       "66                                              people  "
      ]
     },
     "execution_count": 61,
     "metadata": {},
     "output_type": "execute_result"
    }
   ],
   "source": [
    "probs_df = pd.DataFrame(probs, columns=['pred: '+f for f in features]).round(3)\n",
    "# compute loss \n",
    "losses = np.array(dataset['test']['labels']) - probs\n",
    "probs_df['loss'] = np.abs(losses).sum(axis=1).round(3)\n",
    "probs_df[features] = tmp.iloc[tst, :][features].reset_index(drop=True)\n",
    "probs_df[['text', 'mention']] = pd.Series(dataset['test']['input']).str.split(tokenizer.sep_token, expand=True)\n",
    "probs_df.sort_values('loss', ascending=False).head(20)"
   ]
  },
  {
   "cell_type": "code",
   "execution_count": 30,
   "id": "c018441f",
   "metadata": {},
   "outputs": [
    {
     "data": {
      "text/html": [
       "<div>\n",
       "<style scoped>\n",
       "    .dataframe tbody tr th:only-of-type {\n",
       "        vertical-align: middle;\n",
       "    }\n",
       "\n",
       "    .dataframe tbody tr th {\n",
       "        vertical-align: top;\n",
       "    }\n",
       "\n",
       "    .dataframe thead th {\n",
       "        text-align: right;\n",
       "    }\n",
       "</style>\n",
       "<table border=\"1\" class=\"dataframe\">\n",
       "  <thead>\n",
       "    <tr style=\"text-align: right;\">\n",
       "      <th></th>\n",
       "      <th>universal_pred</th>\n",
       "      <th>economic_pred</th>\n",
       "      <th>non-economic_pred</th>\n",
       "      <th>universal</th>\n",
       "      <th>economic</th>\n",
       "      <th>non-economic</th>\n",
       "      <th>text</th>\n",
       "      <th>mention</th>\n",
       "    </tr>\n",
       "  </thead>\n",
       "  <tbody>\n",
       "    <tr>\n",
       "      <th>31</th>\n",
       "      <td>0.000</td>\n",
       "      <td>0.510</td>\n",
       "      <td>0.698</td>\n",
       "      <td>0</td>\n",
       "      <td>0</td>\n",
       "      <td>1</td>\n",
       "      <td>This is what today’s pensioners and the workin...</td>\n",
       "      <td>the working generation</td>\n",
       "    </tr>\n",
       "    <tr>\n",
       "      <th>28</th>\n",
       "      <td>0.000</td>\n",
       "      <td>0.896</td>\n",
       "      <td>0.526</td>\n",
       "      <td>0</td>\n",
       "      <td>1</td>\n",
       "      <td>0</td>\n",
       "      <td>Allocate a special annual budget of 500 billio...</td>\n",
       "      <td>military personnel</td>\n",
       "    </tr>\n",
       "    <tr>\n",
       "      <th>52</th>\n",
       "      <td>0.001</td>\n",
       "      <td>0.180</td>\n",
       "      <td>0.451</td>\n",
       "      <td>0</td>\n",
       "      <td>1</td>\n",
       "      <td>0</td>\n",
       "      <td>Labour will end the scandal of leasehold for t...</td>\n",
       "      <td>the millions who have bought their home but do...</td>\n",
       "    </tr>\n",
       "    <tr>\n",
       "      <th>30</th>\n",
       "      <td>0.217</td>\n",
       "      <td>0.429</td>\n",
       "      <td>0.002</td>\n",
       "      <td>0</td>\n",
       "      <td>0</td>\n",
       "      <td>1</td>\n",
       "      <td>The RPS has shown that it is the only politica...</td>\n",
       "      <td>the mafia</td>\n",
       "    </tr>\n",
       "    <tr>\n",
       "      <th>63</th>\n",
       "      <td>0.006</td>\n",
       "      <td>0.079</td>\n",
       "      <td>0.389</td>\n",
       "      <td>1</td>\n",
       "      <td>0</td>\n",
       "      <td>0</td>\n",
       "      <td>Women at work, whether wives and mothers or th...</td>\n",
       "      <td>the community</td>\n",
       "    </tr>\n",
       "    <tr>\n",
       "      <th>27</th>\n",
       "      <td>0.688</td>\n",
       "      <td>0.626</td>\n",
       "      <td>0.000</td>\n",
       "      <td>1</td>\n",
       "      <td>0</td>\n",
       "      <td>0</td>\n",
       "      <td>The potential of the digital information socie...</td>\n",
       "      <td>the digital information society</td>\n",
       "    </tr>\n",
       "    <tr>\n",
       "      <th>49</th>\n",
       "      <td>0.003</td>\n",
       "      <td>0.649</td>\n",
       "      <td>0.023</td>\n",
       "      <td>0</td>\n",
       "      <td>1</td>\n",
       "      <td>0</td>\n",
       "      <td>We will ensure that our farmers also have an a...</td>\n",
       "      <td>our farmers</td>\n",
       "    </tr>\n",
       "    <tr>\n",
       "      <th>58</th>\n",
       "      <td>0.665</td>\n",
       "      <td>0.189</td>\n",
       "      <td>0.001</td>\n",
       "      <td>1</td>\n",
       "      <td>0</td>\n",
       "      <td>0</td>\n",
       "      <td>x Businesses should pay a normal share of thei...</td>\n",
       "      <td>society</td>\n",
       "    </tr>\n",
       "    <tr>\n",
       "      <th>35</th>\n",
       "      <td>0.000</td>\n",
       "      <td>0.326</td>\n",
       "      <td>0.978</td>\n",
       "      <td>0</td>\n",
       "      <td>0</td>\n",
       "      <td>1</td>\n",
       "      <td>Women and people with migrant backgrounds are ...</td>\n",
       "      <td>people with migrant backgrounds</td>\n",
       "    </tr>\n",
       "    <tr>\n",
       "      <th>75</th>\n",
       "      <td>0.005</td>\n",
       "      <td>0.029</td>\n",
       "      <td>0.694</td>\n",
       "      <td>0</td>\n",
       "      <td>0</td>\n",
       "      <td>1</td>\n",
       "      <td>Women have a better education, more financial ...</td>\n",
       "      <td>Women</td>\n",
       "    </tr>\n",
       "    <tr>\n",
       "      <th>15</th>\n",
       "      <td>0.716</td>\n",
       "      <td>0.000</td>\n",
       "      <td>0.224</td>\n",
       "      <td>1</td>\n",
       "      <td>0</td>\n",
       "      <td>0</td>\n",
       "      <td>Of course, people’s savings should be kept.</td>\n",
       "      <td>people</td>\n",
       "    </tr>\n",
       "    <tr>\n",
       "      <th>56</th>\n",
       "      <td>0.000</td>\n",
       "      <td>0.280</td>\n",
       "      <td>0.949</td>\n",
       "      <td>0</td>\n",
       "      <td>0</td>\n",
       "      <td>1</td>\n",
       "      <td>To ensure that Slovaks perform military servic...</td>\n",
       "      <td>Slovaks</td>\n",
       "    </tr>\n",
       "    <tr>\n",
       "      <th>8</th>\n",
       "      <td>0.104</td>\n",
       "      <td>0.258</td>\n",
       "      <td>0.009</td>\n",
       "      <td>0</td>\n",
       "      <td>1</td>\n",
       "      <td>0</td>\n",
       "      <td>The gap between rich and poor is deepening.</td>\n",
       "      <td>rich</td>\n",
       "    </tr>\n",
       "    <tr>\n",
       "      <th>70</th>\n",
       "      <td>0.000</td>\n",
       "      <td>0.204</td>\n",
       "      <td>0.969</td>\n",
       "      <td>0</td>\n",
       "      <td>1</td>\n",
       "      <td>0</td>\n",
       "      <td>In order to bring the Italian spending per stu...</td>\n",
       "      <td>student</td>\n",
       "    </tr>\n",
       "    <tr>\n",
       "      <th>78</th>\n",
       "      <td>0.000</td>\n",
       "      <td>0.174</td>\n",
       "      <td>0.995</td>\n",
       "      <td>0</td>\n",
       "      <td>1</td>\n",
       "      <td>0</td>\n",
       "      <td>Those hit worst are households with lower inco...</td>\n",
       "      <td>households with lower incomes</td>\n",
       "    </tr>\n",
       "    <tr>\n",
       "      <th>65</th>\n",
       "      <td>0.002</td>\n",
       "      <td>0.830</td>\n",
       "      <td>0.079</td>\n",
       "      <td>0</td>\n",
       "      <td>0</td>\n",
       "      <td>1</td>\n",
       "      <td>Men get more than women.</td>\n",
       "      <td>wome</td>\n",
       "    </tr>\n",
       "  </tbody>\n",
       "</table>\n",
       "</div>"
      ],
      "text/plain": [
       "    universal_pred  economic_pred  non-economic_pred universal economic  \\\n",
       "31           0.000          0.510              0.698         0        0   \n",
       "28           0.000          0.896              0.526         0        1   \n",
       "52           0.001          0.180              0.451         0        1   \n",
       "30           0.217          0.429              0.002         0        0   \n",
       "63           0.006          0.079              0.389         1        0   \n",
       "27           0.688          0.626              0.000         1        0   \n",
       "49           0.003          0.649              0.023         0        1   \n",
       "58           0.665          0.189              0.001         1        0   \n",
       "35           0.000          0.326              0.978         0        0   \n",
       "75           0.005          0.029              0.694         0        0   \n",
       "15           0.716          0.000              0.224         1        0   \n",
       "56           0.000          0.280              0.949         0        0   \n",
       "8            0.104          0.258              0.009         0        1   \n",
       "70           0.000          0.204              0.969         0        1   \n",
       "78           0.000          0.174              0.995         0        1   \n",
       "65           0.002          0.830              0.079         0        0   \n",
       "\n",
       "   non-economic                                               text  \\\n",
       "31            1  This is what today’s pensioners and the workin...   \n",
       "28            0  Allocate a special annual budget of 500 billio...   \n",
       "52            0  Labour will end the scandal of leasehold for t...   \n",
       "30            1  The RPS has shown that it is the only politica...   \n",
       "63            0  Women at work, whether wives and mothers or th...   \n",
       "27            0  The potential of the digital information socie...   \n",
       "49            0  We will ensure that our farmers also have an a...   \n",
       "58            0  x Businesses should pay a normal share of thei...   \n",
       "35            1  Women and people with migrant backgrounds are ...   \n",
       "75            1  Women have a better education, more financial ...   \n",
       "15            0        Of course, people’s savings should be kept.   \n",
       "56            1  To ensure that Slovaks perform military servic...   \n",
       "8             0        The gap between rich and poor is deepening.   \n",
       "70            0  In order to bring the Italian spending per stu...   \n",
       "78            0  Those hit worst are households with lower inco...   \n",
       "65            1                           Men get more than women.   \n",
       "\n",
       "                                              mention  \n",
       "31                             the working generation  \n",
       "28                                 military personnel  \n",
       "52  the millions who have bought their home but do...  \n",
       "30                                          the mafia  \n",
       "63                                      the community  \n",
       "27                    the digital information society  \n",
       "49                                        our farmers  \n",
       "58                                            society  \n",
       "35                    people with migrant backgrounds  \n",
       "75                                              Women  \n",
       "15                                             people  \n",
       "56                                            Slovaks  \n",
       "8                                                rich  \n",
       "70                                            student  \n",
       "78                      households with lower incomes  \n",
       "65                                               wome  "
      ]
     },
     "execution_count": 30,
     "metadata": {},
     "output_type": "execute_result"
    }
   ],
   "source": [
    "# IDEA: measure uncertainty by computing closeness to classification threshold\n",
    "threshold = np.ones(probs.shape)/2\n",
    "cuts = probs - threshold\n",
    "vals = np.abs(cuts).min(axis=1)\n",
    "idxs = vals.argsort()[::1]\n",
    "\n",
    "probs_df.iloc[idxs, :].head(16)#.text.to_list()\n",
    "# TODO: compute share of misclassification as indicator of informativeness of ranking criterion"
   ]
  },
  {
   "cell_type": "code",
   "execution_count": 42,
   "id": "c909a56d",
   "metadata": {},
   "outputs": [
    {
     "name": "stderr",
     "output_type": "stream",
     "text": [
      "Batches: 100%|██████████| 145/145 [00:14<00:00, 10.00it/s]\n"
     ]
    }
   ],
   "source": [
    "# inference\n",
    "\n",
    "text_data_file = '../../data/intermediate/social_group_mentions_ranked.tsv'\n",
    "texts = pd.read_csv(text_data_file, sep='\\t', nrows=32*200) # has 13748 rows\n",
    "\n",
    "probs = trainer.model.predict_proba(texts.text.to_list(), as_numpy=True, show_progress_bar=True)"
   ]
  },
  {
   "cell_type": "code",
   "execution_count": 43,
   "id": "fa3c1d60",
   "metadata": {},
   "outputs": [
    {
     "data": {
      "image/png": "[encoded data removed]",
      "text/plain": [
       "<Figure size 640x480 with 1 Axes>"
      ]
     },
     "metadata": {},
     "output_type": "display_data"
    }
   ],
   "source": [
    "threshold = np.ones(probs.shape)/2\n",
    "cuts = probs - threshold\n",
    "vals = np.abs(cuts).min(axis=1)\n",
    "# plot histogram of vals\n",
    "plt.hist(vals, bins=20)\n",
    "plt.show()\n",
    "# NOTE: shows overall high \"confidence\" (maybe overconfidence)"
   ]
  },
  {
   "cell_type": "code",
   "execution_count": 49,
   "id": "0a9b3c93",
   "metadata": {},
   "outputs": [
    {
     "data": {
      "text/html": [
       "<div>\n",
       "<style scoped>\n",
       "    .dataframe tbody tr th:only-of-type {\n",
       "        vertical-align: middle;\n",
       "    }\n",
       "\n",
       "    .dataframe tbody tr th {\n",
       "        vertical-align: top;\n",
       "    }\n",
       "\n",
       "    .dataframe thead th {\n",
       "        text-align: right;\n",
       "    }\n",
       "</style>\n",
       "<table border=\"1\" class=\"dataframe\">\n",
       "  <thead>\n",
       "    <tr style=\"text-align: right;\">\n",
       "      <th></th>\n",
       "      <th>text</th>\n",
       "      <th>mention</th>\n",
       "      <th>universal</th>\n",
       "      <th>economic</th>\n",
       "      <th>non-economic</th>\n",
       "    </tr>\n",
       "  </thead>\n",
       "  <tbody>\n",
       "    <tr>\n",
       "      <th>0</th>\n",
       "      <td>Maintaining America's pre-eminence requires a ...</td>\n",
       "      <td>all students</td>\n",
       "      <td>0.500</td>\n",
       "      <td>0.002</td>\n",
       "      <td>0.196</td>\n",
       "    </tr>\n",
       "    <tr>\n",
       "      <th>1</th>\n",
       "      <td>All owners of immovable assets on the territor...</td>\n",
       "      <td>All owners of immovable assets on the territor...</td>\n",
       "      <td>0.008</td>\n",
       "      <td>0.500</td>\n",
       "      <td>0.585</td>\n",
       "    </tr>\n",
       "    <tr>\n",
       "      <th>2</th>\n",
       "      <td>In a powerful welfare community, basic service...</td>\n",
       "      <td>a powerful welfare community</td>\n",
       "      <td>0.097</td>\n",
       "      <td>0.004</td>\n",
       "      <td>0.501</td>\n",
       "    </tr>\n",
       "    <tr>\n",
       "      <th>3</th>\n",
       "      <td>We will take advantage of the opportunities of...</td>\n",
       "      <td>workers</td>\n",
       "      <td>0.501</td>\n",
       "      <td>0.217</td>\n",
       "      <td>0.001</td>\n",
       "    </tr>\n",
       "    <tr>\n",
       "      <th>4</th>\n",
       "      <td>In the knowledge society, universities must be...</td>\n",
       "      <td>the knowledge society</td>\n",
       "      <td>0.362</td>\n",
       "      <td>0.498</td>\n",
       "      <td>0.007</td>\n",
       "    </tr>\n",
       "    <tr>\n",
       "      <th>...</th>\n",
       "      <td>...</td>\n",
       "      <td>...</td>\n",
       "      <td>...</td>\n",
       "      <td>...</td>\n",
       "      <td>...</td>\n",
       "    </tr>\n",
       "    <tr>\n",
       "      <th>95</th>\n",
       "      <td>Public transportation will be free for the une...</td>\n",
       "      <td>the unemployed</td>\n",
       "      <td>0.004</td>\n",
       "      <td>0.471</td>\n",
       "      <td>0.475</td>\n",
       "    </tr>\n",
       "    <tr>\n",
       "      <th>96</th>\n",
       "      <td>More Americans are working now than at any tim...</td>\n",
       "      <td>Americans</td>\n",
       "      <td>0.475</td>\n",
       "      <td>0.085</td>\n",
       "      <td>0.037</td>\n",
       "    </tr>\n",
       "    <tr>\n",
       "      <th>97</th>\n",
       "      <td>These are or individuals who are trying to avo...</td>\n",
       "      <td>individuals who are trying to avoid taxation</td>\n",
       "      <td>0.000</td>\n",
       "      <td>0.526</td>\n",
       "      <td>0.692</td>\n",
       "    </tr>\n",
       "    <tr>\n",
       "      <th>98</th>\n",
       "      <td>A society in which it is good to be a child is...</td>\n",
       "      <td>everyone</td>\n",
       "      <td>0.474</td>\n",
       "      <td>0.000</td>\n",
       "      <td>0.590</td>\n",
       "    </tr>\n",
       "    <tr>\n",
       "      <th>99</th>\n",
       "      <td>A society in which it is good to be a child is...</td>\n",
       "      <td>A society in which it is good to be a child</td>\n",
       "      <td>0.474</td>\n",
       "      <td>0.000</td>\n",
       "      <td>0.590</td>\n",
       "    </tr>\n",
       "  </tbody>\n",
       "</table>\n",
       "<p>100 rows × 5 columns</p>\n",
       "</div>"
      ],
      "text/plain": [
       "                                                 text  \\\n",
       "0   Maintaining America's pre-eminence requires a ...   \n",
       "1   All owners of immovable assets on the territor...   \n",
       "2   In a powerful welfare community, basic service...   \n",
       "3   We will take advantage of the opportunities of...   \n",
       "4   In the knowledge society, universities must be...   \n",
       "..                                                ...   \n",
       "95  Public transportation will be free for the une...   \n",
       "96  More Americans are working now than at any tim...   \n",
       "97  These are or individuals who are trying to avo...   \n",
       "98  A society in which it is good to be a child is...   \n",
       "99  A society in which it is good to be a child is...   \n",
       "\n",
       "                                              mention  universal  economic  \\\n",
       "0                                        all students      0.500     0.002   \n",
       "1   All owners of immovable assets on the territor...      0.008     0.500   \n",
       "2                        a powerful welfare community      0.097     0.004   \n",
       "3                                             workers      0.501     0.217   \n",
       "4                               the knowledge society      0.362     0.498   \n",
       "..                                                ...        ...       ...   \n",
       "95                                     the unemployed      0.004     0.471   \n",
       "96                                          Americans      0.475     0.085   \n",
       "97       individuals who are trying to avoid taxation      0.000     0.526   \n",
       "98                                           everyone      0.474     0.000   \n",
       "99        A society in which it is good to be a child      0.474     0.000   \n",
       "\n",
       "    non-economic  \n",
       "0          0.196  \n",
       "1          0.585  \n",
       "2          0.501  \n",
       "3          0.001  \n",
       "4          0.007  \n",
       "..           ...  \n",
       "95         0.475  \n",
       "96         0.037  \n",
       "97         0.692  \n",
       "98         0.590  \n",
       "99         0.590  \n",
       "\n",
       "[100 rows x 5 columns]"
      ]
     },
     "execution_count": 49,
     "metadata": {},
     "output_type": "execute_result"
    }
   ],
   "source": [
    "n_ = 100\n",
    "idxs = vals.argsort()[:n_]\n",
    "\n",
    "pd.concat([\n",
    "    texts.iloc[idxs, :][['text', 'mention']].reset_index(drop=True),\n",
    "    pd.DataFrame(probs[idxs, :].round(3), columns=features),\n",
    "\n",
    "], axis=1 )"
   ]
  },
  {
   "cell_type": "markdown",
   "id": "66d87d31",
   "metadata": {},
   "source": [
    "## Non-econ attributes"
   ]
  },
  {
   "cell_type": "code",
   "execution_count": 3,
   "id": "c54471f8",
   "metadata": {},
   "outputs": [],
   "source": [
    "# NOTE: let's focus on non-economic attributes for now\n",
    "df = pd.read_csv(fp, sep='\\t')\n",
    "df = df[df.q_id == 'non-economic_attributes']\n",
    "df = df[~df.category.isna()]"
   ]
  },
  {
   "cell_type": "code",
   "execution_count": null,
   "id": "572c77d7",
   "metadata": {},
   "outputs": [],
   "source": [
    "df[['category', 'label']].value_counts(sort=False)\n",
    "# NOTE: extreme label class imbalance "
   ]
  },
  {
   "cell_type": "code",
   "execution_count": null,
   "id": "dcbdc515",
   "metadata": {},
   "outputs": [],
   "source": [
    "keep_cats = df[df.label == 'Yes'].category.unique().tolist()\n",
    "\n",
    "df = df[df.category.isin(keep_cats)]\n",
    "df[['category', 'label']].value_counts(sort=False)\n"
   ]
  },
  {
   "cell_type": "code",
   "execution_count": null,
   "id": "fbd7d2d0",
   "metadata": {},
   "outputs": [],
   "source": [
    "# remove any instances where some are Unsure\n",
    "discard = df.groupby('mention_id').agg({'label': lambda l: (l == 'Unsure').any()})\n",
    "discard = discard[discard.label].index.to_list()\n",
    "\n",
    "df = df[~df.mention_id.isin(discard)]\n",
    "\n",
    "df[['category', 'label']].value_counts(sort=False)\n"
   ]
  },
  {
   "cell_type": "code",
   "execution_count": null,
   "id": "2fc88c31",
   "metadata": {},
   "outputs": [],
   "source": [
    "df = df[['text', 'mention', 'category', 'label']]\n",
    "\n",
    "# pivot wider\n",
    "df = df.pivot(index=['text', 'mention'], columns='category', values='label').reset_index()\n",
    "\n",
    "features = df.columns[2:].to_list()\n",
    "\n",
    "features"
   ]
  },
  {
   "cell_type": "code",
   "execution_count": 8,
   "id": "d8050026",
   "metadata": {},
   "outputs": [],
   "source": [
    "df = df[df.iloc[:,3:].isna().sum(axis=1) == 0.0]"
   ]
  },
  {
   "cell_type": "code",
   "execution_count": 9,
   "id": "61666ccc",
   "metadata": {},
   "outputs": [],
   "source": [
    "label2id = {'No': 0, 'Yes': 1}\n",
    "id2label = {0: 'No', 1: 'Yes'}\n",
    "df.loc[:,features] = df.loc[:,features].apply(lambda x: x.map(label2id))"
   ]
  },
  {
   "cell_type": "code",
   "execution_count": 10,
   "id": "e89621a9",
   "metadata": {},
   "outputs": [],
   "source": [
    "df['labels'] = df.loc[:,features].apply(list, axis=1)"
   ]
  },
  {
   "cell_type": "code",
   "execution_count": null,
   "id": "4124687d",
   "metadata": {},
   "outputs": [],
   "source": [
    "df[features].mean(axis=0)\n",
    "# still crazy label class imbalance"
   ]
  },
  {
   "cell_type": "markdown",
   "id": "64740887",
   "metadata": {},
   "source": [
    "### split the data"
   ]
  },
  {
   "cell_type": "code",
   "execution_count": null,
   "id": "7a2e9267",
   "metadata": {},
   "outputs": [],
   "source": [
    "df[features].reset_index(drop=True)"
   ]
  },
  {
   "cell_type": "code",
   "execution_count": 13,
   "id": "0eb9bc83-bf99-422c-b123-4fcaed168bcb",
   "metadata": {},
   "outputs": [],
   "source": [
    "# from skmultilearn.model_selection import IterativeStratification\n",
    "# \n",
    "# X = np.zeros((len(df), 1))# df[['text', 'mention', 'labels']]\n",
    "# y = df[features].reset_index(drop=True)\n",
    "# test_size = 0.4\n",
    "# stratifier = IterativeStratification(n_splits=2, order=2, sample_distribution_per_fold=[test_size, 1.0-test_size])\n",
    "# stratifier = IterativeStratification(n_splits=2, order=2, sample_distribution_per_fold=[test_size, 1.0-test_size])\n",
    "# train_indexes, test_indexes = next(stratifier.split(X, y))\n"
   ]
  },
  {
   "cell_type": "code",
   "execution_count": 14,
   "id": "d23f980c",
   "metadata": {},
   "outputs": [],
   "source": [
    "from sklearn.model_selection import train_test_split\n",
    "\n",
    "trn, tst = train_test_split(range(len(df)), test_size=0.5, random_state=42)"
   ]
  },
  {
   "cell_type": "code",
   "execution_count": 15,
   "id": "517efad2",
   "metadata": {},
   "outputs": [],
   "source": [
    "model_name = \"sentence-transformers/paraphrase-mpnet-base-v2\"\n",
    "from transformers import AutoTokenizer\n",
    "tokenizer = AutoTokenizer.from_pretrained(model_name)"
   ]
  },
  {
   "cell_type": "code",
   "execution_count": 16,
   "id": "3cb4e1ee",
   "metadata": {},
   "outputs": [],
   "source": [
    "df['input'] = df.text + tokenizer.sep_token + df.mention "
   ]
  },
  {
   "cell_type": "code",
   "execution_count": 17,
   "id": "239c91f3",
   "metadata": {},
   "outputs": [],
   "source": [
    "cols = ['input', 'labels']\n",
    "dataset = datasets.DatasetDict({\n",
    "    'train': datasets.Dataset.from_pandas(df.iloc[trn][cols], preserve_index=False),\n",
    "    'test': datasets.Dataset.from_pandas(df.iloc[tst][cols], preserve_index=False)\n",
    "})"
   ]
  },
  {
   "cell_type": "markdown",
   "id": "37e7c839-1f06-4d35-aa34-6e13659db814",
   "metadata": {},
   "source": [
    "### Fine-tuning the model"
   ]
  },
  {
   "cell_type": "code",
   "execution_count": 18,
   "id": "c4181cc5",
   "metadata": {},
   "outputs": [],
   "source": [
    "from sentence_transformers import SentenceTransformer\n",
    "embedder = SentenceTransformer(model_name, device='cpu')"
   ]
  },
  {
   "cell_type": "markdown",
   "id": "78e8c41a",
   "metadata": {},
   "source": [
    "To train a SetFit model, the first thing to do is download a pretrained checkpoint from the Hub. We can do so by using the `from_pretrained()` method associated with the `SetFitModel` class.\n",
    "\n",
    "**Note that the `multi_target_strategy` parameter here signals to both the model and the trainer to expect a multi-labelled dataset.**"
   ]
  },
  {
   "cell_type": "code",
   "execution_count": 19,
   "id": "af2d215e",
   "metadata": {},
   "outputs": [],
   "source": [
    "id2label = {i: l for i, l in enumerate(features)}\n",
    "label2id = {l: i for i, l in enumerate(features)}"
   ]
  },
  {
   "cell_type": "markdown",
   "id": "8ceb0abe",
   "metadata": {},
   "source": [
    "### Non-diff head (regression)"
   ]
  },
  {
   "cell_type": "code",
   "execution_count": null,
   "id": "33661c9d-46d3-42eb-9b15-8a2bc49d7f6c",
   "metadata": {},
   "outputs": [],
   "source": [
    "from setfit import SetFitModel\n",
    "\n",
    "model = SetFitModel.from_pretrained(\n",
    "    model_name, \n",
    "    multi_target_strategy='one-vs-rest',\n",
    "    labels=features\n",
    ")"
   ]
  },
  {
   "cell_type": "markdown",
   "id": "c92bbfb6",
   "metadata": {},
   "source": [
    "Alternative is to init explicitly (see [here](https://github.com/huggingface/setfit/issues/413#issuecomment-1697751329))\n",
    "\n",
    "```python\n",
    "from sentence_transformers import SentenceTransformer\n",
    "from sklearn.multiclass import OneVsRestClassifier\n",
    "from sklearn.linear_model import LogisticRegression\n",
    "embedder = SentenceTransformer('all-MiniLM-L6-v2')\n",
    "model = SetFitModel(\n",
    "    model_body=embedder, \n",
    "    model_head=OneVsRestClassifier(LogisticRegression(class_weight=\"balanced\")),\n",
    "    multi_target_strategy=\"one-vs-rest\"\n",
    ")\n",
    "```"
   ]
  },
  {
   "cell_type": "code",
   "execution_count": 112,
   "id": "f45f0f41",
   "metadata": {},
   "outputs": [],
   "source": [
    "import torch\n",
    "device = 'cuda' if torch.cuda.is_available() else 'mps' if torch.backends.mps.is_available() else 'cpu'\n",
    "def model_init():\n",
    "    return SetFitModel.from_pretrained(\n",
    "        model_name, \n",
    "        use_differentiable_head=True, \n",
    "        head_params={\"out_features\": len(features)},\n",
    "        multi_target_strategy='one-vs-rest',\n",
    "        labels=features,\n",
    "    ).to(device)"
   ]
  },
  {
   "cell_type": "code",
   "execution_count": 113,
   "id": "fd7c4855",
   "metadata": {},
   "outputs": [],
   "source": [
    "from sentence_transformers.losses import CosineSimilarityLoss\n",
    "from setfit import TrainingArguments, Trainer\n",
    "\n",
    "args = TrainingArguments(\n",
    "    output_dir='setfit',\n",
    "    batch_size=(16, 4),\n",
    "    num_epochs=(2, 8),\n",
    "    samples_per_label=2, # default but can be increased for TripletLoss\n",
    "    loss=CosineSimilarityLoss, # note: could use TripletLoss\n",
    "    use_amp=True,\n",
    "    end_to_end=False,\n",
    "    report_to='none'\n",
    ")"
   ]
  },
  {
   "cell_type": "code",
   "execution_count": null,
   "id": "e44b7069-27b0-49ea-bc27-c44f94a98e2f",
   "metadata": {},
   "outputs": [],
   "source": [
    "trainer = Trainer(\n",
    "    model_init=model_init,\n",
    "    args=args,\n",
    "    train_dataset=dataset['train'],\n",
    "    eval_dataset=dataset['test'],\n",
    "    column_mapping={\"input\": \"text\", \"labels\": \"label\"},\n",
    ")"
   ]
  },
  {
   "cell_type": "code",
   "execution_count": null,
   "id": "6b5a468b-2796-47c3-8907-c0147ee58dd5",
   "metadata": {},
   "outputs": [],
   "source": [
    "trainer.train()"
   ]
  },
  {
   "cell_type": "markdown",
   "id": "e799f994",
   "metadata": {},
   "source": [
    "The final step is to compute the model's performance using the `evaluate()` method. The default metric measures 'subset accuracy', which measures the fraction of samples where we predict all 8 labels correctly."
   ]
  },
  {
   "cell_type": "code",
   "execution_count": null,
   "id": "453c11d0-a1e4-49c2-859a-cc70e033b4a6",
   "metadata": {},
   "outputs": [],
   "source": [
    "metrics = trainer.evaluate()\n",
    "metrics"
   ]
  },
  {
   "cell_type": "code",
   "execution_count": 117,
   "id": "06c1d5e6",
   "metadata": {},
   "outputs": [],
   "source": [
    "y_true = np.array(dataset['test'][\"labels\"])\n",
    "y_pred = trainer.model.predict(dataset['test'][\"input\"], use_labels=False).cpu().numpy()"
   ]
  },
  {
   "cell_type": "code",
   "execution_count": 99,
   "id": "fd3bb759",
   "metadata": {},
   "outputs": [],
   "source": [
    "# import torch\n",
    "# inputs = tokenizer(['hello'], return_tensors='pt')\n",
    "# \n",
    "# with torch.no_grad():\n",
    "#     embeddings = trainer.model.model_body(inputs.to('mps'))\n",
    "#     logits, probs = trainer.model.model_head(embeddings['sentence_embedding'], temperature=1.0)"
   ]
  },
  {
   "cell_type": "code",
   "execution_count": null,
   "id": "d0385856",
   "metadata": {},
   "outputs": [],
   "source": [
    "from collections import  Counter\n",
    "Counter([id2label[i] for labs in dataset['train'][\"labels\"] for i, l in enumerate(labs) if l == 1])"
   ]
  },
  {
   "cell_type": "code",
   "execution_count": null,
   "id": "afa71a27",
   "metadata": {},
   "outputs": [],
   "source": [
    "from sklearn.metrics import precision_recall_fscore_support\n",
    "scores = {}\n",
    "for l, a, b in zip(trainer.model.labels, y_true.T, y_pred.T):\n",
    "    p, r, f1, _ = precision_recall_fscore_support(a, b, average='binary', zero_division=0.0)\n",
    "    scores[l] = {'f1': f1, 'precision': p, 'recall': r, 'support': np.sum(a)}\n",
    "pd.DataFrame(scores).T\n",
    "\n",
    "# {f'{m}_{l}': v for l, s in scores.items() for m, v in s.items()} "
   ]
  },
  {
   "cell_type": "code",
   "execution_count": 151,
   "id": "db4419e0",
   "metadata": {},
   "outputs": [],
   "source": [
    "inputs = trainer.model.model_body.tokenizer(dataset['test']['input'][:16], return_tensors='pt', padding=True)\n",
    "with torch.no_grad():\n",
    "    embeddings = trainer.model.model_body(inputs.to('mps'))\n",
    "    outputs = trainer.model.model_head.linear(embeddings['sentence_embedding'])\n",
    "    # logits, probs = trainer.model.model_head(embeddings['sentence_embedding'], temperature=1.0)\n",
    "    # logits = logits.cpu().numpy()\n",
    "    # probs = probs.cpu().numpy()\n",
    "\n",
    "threshold = np.ones(probs.shape)/2\n",
    "cuts = probs - threshold\n",
    "idx = np.abs(cuts).mean(axis=1).argmin()\n",
    "\n",
    "probs[idx], y_pred[idx], y_true[idx], dataset['test']['input'][idx]"
   ]
  },
  {
   "cell_type": "code",
   "execution_count": null,
   "id": "baacc0a2",
   "metadata": {},
   "outputs": [],
   "source": [
    "# IDEA: focus sentence embedding model on mention\n",
    "inputs = embedder.tokenizer(dataset['test']['input'][:1], return_tensors='pt', padding=True)\n",
    "\n",
    "import torch\n",
    "with torch.no_grad():\n",
    "    features = embedder[0](features=inputs)\n",
    "\n",
    "token_embeddings = features[\"token_embeddings\"]\n",
    "attention_mask = (\n",
    "    features[\"attention_mask\"]\n",
    "    if \"attention_mask\" in features\n",
    "    else torch.ones(token_embeddings.shape[:-1], device=token_embeddings.device, dtype=torch.int64)\n",
    ")\n",
    "\n",
    "mask = features['input_ids'] == embedder.tokenizer.sep_token_id\n",
    "mask = mask.cumsum(dim=1) == 1\n",
    "# convert mask to same type as attention_mask\n",
    "mask = mask.to(attention_mask.dtype)\n",
    "attention_mask = mask\n",
    "\n",
    "# note: this is what happens in the SentenceTransformer model under the hood\n",
    "input_mask_expanded = (\n",
    "    attention_mask.unsqueeze(-1).expand(token_embeddings.size()).to(token_embeddings.dtype)\n",
    ")\n",
    "sum_embeddings = torch.sum(token_embeddings * input_mask_expanded, 1)\n",
    "\n",
    "sum_mask = input_mask_expanded.sum(1)\n",
    "\n",
    "sum_mask = torch.clamp(sum_mask, min=1e-9)\n",
    "\n",
    "output_vector = sum_embeddings / sum_mask\n",
    "\n",
    "output_vector.shape"
   ]
  },
  {
   "cell_type": "markdown",
   "id": "66bbf7a1",
   "metadata": {},
   "source": [
    "## Stance"
   ]
  },
  {
   "cell_type": "code",
   "execution_count": 50,
   "id": "2331d061",
   "metadata": {},
   "outputs": [],
   "source": [
    "# NOTE: let's focus on non-economic attributes for now\n",
    "df = pd.read_csv(fp, sep='\\t')\n",
    "df = df[df.q_id == 'stance']"
   ]
  },
  {
   "cell_type": "code",
   "execution_count": 51,
   "id": "65468692",
   "metadata": {},
   "outputs": [
    {
     "data": {
      "text/plain": [
       "label   \n",
       "Negative     24\n",
       "Neutral      12\n",
       "Positive    215\n",
       "Name: count, dtype: int64"
      ]
     },
     "execution_count": 51,
     "metadata": {},
     "output_type": "execute_result"
    }
   ],
   "source": [
    "df[['label']].value_counts(sort=False)\n",
    "# NOTE: extreme label class imbalance "
   ]
  },
  {
   "cell_type": "code",
   "execution_count": 52,
   "id": "9646657f",
   "metadata": {},
   "outputs": [],
   "source": [
    "df = df[['text', 'mention', 'label']]"
   ]
  },
  {
   "cell_type": "code",
   "execution_count": 53,
   "id": "3e3a7813",
   "metadata": {},
   "outputs": [],
   "source": [
    "label2id = {'Neutral': 0, 'Positive': 1, 'Negative': 2}\n",
    "id2label = {i: l for l, i in label2id.items()}"
   ]
  },
  {
   "cell_type": "code",
   "execution_count": 54,
   "id": "25be0ba3",
   "metadata": {},
   "outputs": [],
   "source": [
    "df.label = df.label.map(label2id)"
   ]
  },
  {
   "cell_type": "markdown",
   "id": "1e1f8070",
   "metadata": {},
   "source": [
    "### split the data"
   ]
  },
  {
   "cell_type": "code",
   "execution_count": 55,
   "id": "cb35f8d8",
   "metadata": {},
   "outputs": [],
   "source": [
    "trn, tst = train_test_split(range(len(df)), test_size=0.5, stratify=df.label, random_state=42)"
   ]
  },
  {
   "cell_type": "code",
   "execution_count": 56,
   "id": "7288b916",
   "metadata": {},
   "outputs": [],
   "source": [
    "model_name = \"sentence-transformers/paraphrase-mpnet-base-v2\"\n",
    "from transformers import AutoTokenizer\n",
    "tokenizer = AutoTokenizer.from_pretrained(model_name)"
   ]
  },
  {
   "cell_type": "code",
   "execution_count": 57,
   "id": "5b2db338",
   "metadata": {},
   "outputs": [],
   "source": [
    "df['input'] = df.text + tokenizer.sep_token + df.mention"
   ]
  },
  {
   "cell_type": "code",
   "execution_count": null,
   "id": "ca9d1c57",
   "metadata": {},
   "outputs": [],
   "source": [
    "max_length_ = max(tokenizer(df.input.to_list(), truncation=False, padding=False, return_length=True).length)"
   ]
  },
  {
   "cell_type": "code",
   "execution_count": 58,
   "id": "f370126d",
   "metadata": {},
   "outputs": [],
   "source": [
    "cols = ['input', 'label']\n",
    "dataset = datasets.DatasetDict({\n",
    "    'train': datasets.Dataset.from_pandas(df.iloc[trn][cols], preserve_index=False),\n",
    "    'test': datasets.Dataset.from_pandas(df.iloc[tst][cols], preserve_index=False)\n",
    "})"
   ]
  },
  {
   "cell_type": "markdown",
   "id": "862270bc",
   "metadata": {},
   "source": [
    "### Fine-tuning the model"
   ]
  },
  {
   "cell_type": "code",
   "execution_count": 66,
   "id": "86100868",
   "metadata": {},
   "outputs": [],
   "source": [
    "args = TrainingArguments(\n",
    "    output_dir='setfit',\n",
    "    batch_size=(32, 4),\n",
    "    max_length=max_length_,\n",
    "    num_epochs=(1, 8),\n",
    "    max_steps=10,\n",
    "    body_learning_rate=(2e-5, 1e-5),\n",
    "    head_learning_rate=1e-2,\n",
    "    end_to_end=False,\n",
    "    samples_per_label=2, # default but can be increased for TripletLoss\n",
    "    loss=CosineSimilarityLoss, # note: could use TripletLoss\n",
    "    use_amp=True,\n",
    "    report_to='none'\n",
    ")"
   ]
  },
  {
   "cell_type": "code",
   "execution_count": 67,
   "id": "3f70173a",
   "metadata": {},
   "outputs": [
    {
     "data": {
      "text/plain": [
       "{'Neutral': 0.6426426426426426,\n",
       " 'Positive': 0.036036036036036036,\n",
       " 'Negative': 0.3213213213213213}"
      ]
     },
     "execution_count": 67,
     "metadata": {},
     "output_type": "execute_result"
    }
   ],
   "source": [
    "class_weights = get_class_weights(np.array(dataset['train']['label']))\n",
    "dict(zip(id2label.values(), class_weights))"
   ]
  },
  {
   "cell_type": "code",
   "execution_count": 70,
   "id": "209d033d",
   "metadata": {},
   "outputs": [
    {
     "name": "stderr",
     "output_type": "stream",
     "text": [
      "Applying column mapping to the training dataset\n",
      "Applying column mapping to the evaluation dataset\n",
      "Map: 100%|██████████| 125/125 [00:00<00:00, 23548.69 examples/s]\n"
     ]
    }
   ],
   "source": [
    "trainer = Trainer(\n",
    "    model_init=lambda: model_init(\n",
    "        model_name=MODEL,\n",
    "        id2label=id2label,\n",
    "        class_weights=class_weights,\n",
    "        device='mps'\n",
    "    ),\n",
    "    args=args,\n",
    "    metric=lambda p, t: compute_metrics_multiclass(p, t, id2label),\n",
    "    train_dataset=dataset['train'],\n",
    "    eval_dataset=dataset['test'],\n",
    "    column_mapping={'input': 'text', 'label': 'label'},\n",
    ")"
   ]
  },
  {
   "cell_type": "code",
   "execution_count": 71,
   "id": "77da4911",
   "metadata": {},
   "outputs": [
    {
     "name": "stderr",
     "output_type": "stream",
     "text": [
      "***** Running training *****\n",
      "  Num unique pairs = 320\n",
      "  Batch size = 32\n",
      "  Num epochs = 1\n",
      " 10%|█         | 1/10 [00:03<00:27,  3.01s/it]"
     ]
    },
    {
     "name": "stdout",
     "output_type": "stream",
     "text": [
      "{'embedding_loss': 0.2235, 'grad_norm': 2.9313435554504395, 'learning_rate': 2e-05, 'epoch': 0.1}\n"
     ]
    },
    {
     "name": "stderr",
     "output_type": "stream",
     "text": [
      "100%|██████████| 10/10 [00:20<00:00,  2.04s/it]\n",
      "The `max_length` is `None`. Using the maximum acceptable length according to the current model body: 512.\n"
     ]
    },
    {
     "name": "stdout",
     "output_type": "stream",
     "text": [
      "{'train_runtime': 20.4446, 'train_samples_per_second': 15.652, 'train_steps_per_second': 0.489, 'train_loss': 0.2251264199614525, 'epoch': 1.0}\n"
     ]
    },
    {
     "name": "stderr",
     "output_type": "stream",
     "text": [
      "Epoch: 100%|██████████| 8/8 [01:17<00:00,  9.72s/it]\n"
     ]
    }
   ],
   "source": [
    "trainer.train()"
   ]
  },
  {
   "cell_type": "code",
   "execution_count": 74,
   "id": "797eebb1",
   "metadata": {},
   "outputs": [
    {
     "name": "stderr",
     "output_type": "stream",
     "text": [
      "***** Running evaluation *****\n",
      "/Users/hlicht/miniforge3/envs/galtan_group_appeals/lib/python3.11/site-packages/sklearn/metrics/_classification.py:1509: UndefinedMetricWarning: Precision is ill-defined and being set to 0.0 in labels with no predicted samples. Use `zero_division` parameter to control this behavior.\n",
      "  _warn_prf(average, modifier, f\"{metric.capitalize()} is\", len(result))\n"
     ]
    },
    {
     "data": {
      "text/plain": [
       "{'accuracy': 0.873015873015873,\n",
       " 'balanced_accuracy': 0.48765432098765427,\n",
       " 'f1_macro': 0.4848248521479171,\n",
       " 'precision_macro': 0.4832674571805007,\n",
       " 'recall_macro': 0.48765432098765427,\n",
       " 'precision_Neutral': 0.0,\n",
       " 'recall_Neutral': 0.0,\n",
       " 'f1_Neutral': 0.0,\n",
       " 'precision_Positive': 0.9043478260869565,\n",
       " 'recall_Positive': 0.9629629629629629,\n",
       " 'f1_Positive': 0.9327354260089686,\n",
       " 'precision_Negative': 0.5454545454545454,\n",
       " 'recall_Negative': 0.5,\n",
       " 'f1_Negative': 0.5217391304347826}"
      ]
     },
     "execution_count": 74,
     "metadata": {},
     "output_type": "execute_result"
    }
   ],
   "source": [
    "metrics = trainer.evaluate()\n",
    "metrics"
   ]
  },
  {
   "cell_type": "code",
   "execution_count": null,
   "id": "b128eb94",
   "metadata": {},
   "outputs": [],
   "source": [
    "inputs = trainer.model.model_body.tokenizer(dataset['test']['input'][:16], return_tensors='pt', padding=True)\n",
    "with torch.no_grad():\n",
    "    embeddings = trainer.model.model_body(inputs.to('mps'))\n",
    "    # outputs = trainer.model.model_head.linear(embeddings['sentence_embedding']).cpu().numpy()\n",
    "    logits, probs = trainer.model.model_head(embeddings['sentence_embedding'], temperature=1.0)\n",
    "    logits = logits.cpu().numpy()\n",
    "    probs = probs.cpu().numpy()"
   ]
  },
  {
   "cell_type": "code",
   "execution_count": 76,
   "id": "0d0a727e",
   "metadata": {},
   "outputs": [
    {
     "data": {
      "text/html": [
       "<div>\n",
       "<style scoped>\n",
       "    .dataframe tbody tr th:only-of-type {\n",
       "        vertical-align: middle;\n",
       "    }\n",
       "\n",
       "    .dataframe tbody tr th {\n",
       "        vertical-align: top;\n",
       "    }\n",
       "\n",
       "    .dataframe thead th {\n",
       "        text-align: right;\n",
       "    }\n",
       "</style>\n",
       "<table border=\"1\" class=\"dataframe\">\n",
       "  <thead>\n",
       "    <tr style=\"text-align: right;\">\n",
       "      <th></th>\n",
       "      <th>Neutral</th>\n",
       "      <th>Positive</th>\n",
       "      <th>Negative</th>\n",
       "    </tr>\n",
       "  </thead>\n",
       "  <tbody>\n",
       "    <tr>\n",
       "      <th>0</th>\n",
       "      <td>0.002</td>\n",
       "      <td>0.997</td>\n",
       "      <td>0.000</td>\n",
       "    </tr>\n",
       "    <tr>\n",
       "      <th>1</th>\n",
       "      <td>0.013</td>\n",
       "      <td>0.985</td>\n",
       "      <td>0.002</td>\n",
       "    </tr>\n",
       "    <tr>\n",
       "      <th>2</th>\n",
       "      <td>0.063</td>\n",
       "      <td>0.923</td>\n",
       "      <td>0.014</td>\n",
       "    </tr>\n",
       "    <tr>\n",
       "      <th>3</th>\n",
       "      <td>0.004</td>\n",
       "      <td>0.996</td>\n",
       "      <td>0.001</td>\n",
       "    </tr>\n",
       "    <tr>\n",
       "      <th>4</th>\n",
       "      <td>0.001</td>\n",
       "      <td>0.999</td>\n",
       "      <td>0.000</td>\n",
       "    </tr>\n",
       "    <tr>\n",
       "      <th>...</th>\n",
       "      <td>...</td>\n",
       "      <td>...</td>\n",
       "      <td>...</td>\n",
       "    </tr>\n",
       "    <tr>\n",
       "      <th>121</th>\n",
       "      <td>0.024</td>\n",
       "      <td>0.953</td>\n",
       "      <td>0.022</td>\n",
       "    </tr>\n",
       "    <tr>\n",
       "      <th>122</th>\n",
       "      <td>0.003</td>\n",
       "      <td>0.996</td>\n",
       "      <td>0.000</td>\n",
       "    </tr>\n",
       "    <tr>\n",
       "      <th>123</th>\n",
       "      <td>0.104</td>\n",
       "      <td>0.894</td>\n",
       "      <td>0.002</td>\n",
       "    </tr>\n",
       "    <tr>\n",
       "      <th>124</th>\n",
       "      <td>0.002</td>\n",
       "      <td>0.973</td>\n",
       "      <td>0.025</td>\n",
       "    </tr>\n",
       "    <tr>\n",
       "      <th>125</th>\n",
       "      <td>0.014</td>\n",
       "      <td>0.070</td>\n",
       "      <td>0.917</td>\n",
       "    </tr>\n",
       "  </tbody>\n",
       "</table>\n",
       "<p>126 rows × 3 columns</p>\n",
       "</div>"
      ],
      "text/plain": [
       "     Neutral  Positive  Negative\n",
       "0      0.002     0.997     0.000\n",
       "1      0.013     0.985     0.002\n",
       "2      0.063     0.923     0.014\n",
       "3      0.004     0.996     0.001\n",
       "4      0.001     0.999     0.000\n",
       "..       ...       ...       ...\n",
       "121    0.024     0.953     0.022\n",
       "122    0.003     0.996     0.000\n",
       "123    0.104     0.894     0.002\n",
       "124    0.002     0.973     0.025\n",
       "125    0.014     0.070     0.917\n",
       "\n",
       "[126 rows x 3 columns]"
      ]
     },
     "execution_count": 76,
     "metadata": {},
     "output_type": "execute_result"
    }
   ],
   "source": []
  },
  {
   "cell_type": "code",
   "execution_count": null,
   "id": "517e7b1c",
   "metadata": {},
   "outputs": [],
   "source": []
  },
  {
   "cell_type": "code",
   "execution_count": 78,
   "id": "41707298",
   "metadata": {},
   "outputs": [
    {
     "name": "stderr",
     "output_type": "stream",
     "text": [
      "/var/folders/_c/cm0nk6y92rz2l6ct3npgw9tr0000gn/T/ipykernel_3273/3265651594.py:6: MatplotlibDeprecationWarning: The 'labels' parameter of boxplot() has been renamed 'tick_labels' since Matplotlib 3.9; support for the old name will be dropped in 3.11.\n",
      "  plt.boxplot(\n"
     ]
    },
    {
     "data": {
      "image/png": "[encoded data removed]",
      "text/plain": [
       "<Figure size 640x480 with 1 Axes>"
      ]
     },
     "metadata": {},
     "output_type": "display_data"
    }
   ],
   "source": [
    "probs = trainer.model.predict_proba(dataset['test']['input'], as_numpy=True)\n",
    "labs = np.array(dataset['test']['label'])\n",
    "pred_probs = probs[range(len(labs)), labs]\n",
    "\n",
    "# plot boxplot of predicted probabilities by true label\n",
    "plt.boxplot(\n",
    "    [pred_probs[labs==i] for i in id2label.keys()],\n",
    "    labels=id2label.values()\n",
    ")\n",
    "plt.ylim(0, 1)\n",
    "# draw a line at 0.5\n",
    "plt.axhline(0.5, color='r', linestyle='--')\n",
    "plt.show()"
   ]
  }
 ],
 "metadata": {
  "kernelspec": {
   "display_name": "galtan_group_appeals",
   "language": "python",
   "name": "python3"
  },
  "language_info": {
   "codemirror_mode": {
    "name": "ipython",
    "version": 3
   },
   "file_extension": ".py",
   "mimetype": "text/x-python",
   "name": "python",
   "nbconvert_exporter": "python",
   "pygments_lexer": "ipython3",
   "version": "3.11.10"
  }
 },
 "nbformat": 4,
 "nbformat_minor": 5
}
