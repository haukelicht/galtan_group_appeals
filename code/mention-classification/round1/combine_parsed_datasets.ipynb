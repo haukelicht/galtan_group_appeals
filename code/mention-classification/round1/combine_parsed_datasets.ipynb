{
 "cells": [
  {
   "cell_type": "code",
   "execution_count": 233,
   "metadata": {},
   "outputs": [],
   "source": [
    "import os\n",
    "import numpy as np\n",
    "import pandas as pd"
   ]
  },
  {
   "cell_type": "code",
   "execution_count": 234,
   "metadata": {},
   "outputs": [],
   "source": [
    "data_path = '../../data/annotations/group_mention_categorization/social-group-mention-categorization-coder-training'"
   ]
  },
  {
   "cell_type": "code",
   "execution_count": 235,
   "metadata": {},
   "outputs": [],
   "source": [
    "fp = os.path.join(data_path, 'parsed',  'reviewed_examples.tsv')\n",
    "reviewed = pd.read_csv(fp, sep='\\t')"
   ]
  },
  {
   "cell_type": "code",
   "execution_count": 236,
   "metadata": {},
   "outputs": [
    {
     "data": {
      "text/plain": [
       "q_id\n",
       "non-economic_attributes    109\n",
       "economic_attributes         92\n",
       "universal_attributes        61\n",
       "stance                      50\n",
       "Name: count, dtype: int64"
      ]
     },
     "execution_count": 236,
     "metadata": {},
     "output_type": "execute_result"
    }
   ],
   "source": [
    "reviewed.q_id.value_counts()"
   ]
  },
  {
   "cell_type": "markdown",
   "metadata": {},
   "source": [
    "## Parse the expert annotations"
   ]
  },
  {
   "cell_type": "markdown",
   "metadata": {},
   "source": [
    "### parse 'universal' annotations"
   ]
  },
  {
   "cell_type": "code",
   "execution_count": 237,
   "metadata": {},
   "outputs": [
    {
     "data": {
      "text/plain": [
       "universal\n",
       ".      250\n",
       "Yes     12\n",
       "Name: count, dtype: int64"
      ]
     },
     "execution_count": 237,
     "metadata": {},
     "output_type": "execute_result"
    }
   ],
   "source": [
    "reviewed[reviewed.q_id != 'stance'].universal.value_counts(dropna=False)"
   ]
  },
  {
   "cell_type": "code",
   "execution_count": 238,
   "metadata": {},
   "outputs": [
    {
     "data": {
      "text/html": [
       "<div>\n",
       "<style scoped>\n",
       "    .dataframe tbody tr th:only-of-type {\n",
       "        vertical-align: middle;\n",
       "    }\n",
       "\n",
       "    .dataframe tbody tr th {\n",
       "        vertical-align: top;\n",
       "    }\n",
       "\n",
       "    .dataframe thead th {\n",
       "        text-align: right;\n",
       "    }\n",
       "</style>\n",
       "<table border=\"1\" class=\"dataframe\">\n",
       "  <thead>\n",
       "    <tr style=\"text-align: right;\">\n",
       "      <th></th>\n",
       "      <th>mention_id</th>\n",
       "      <th>value</th>\n",
       "      <th>q_id</th>\n",
       "    </tr>\n",
       "  </thead>\n",
       "  <tbody>\n",
       "    <tr>\n",
       "      <th>0</th>\n",
       "      <td>11110_199109-390940-1</td>\n",
       "      <td>Yes</td>\n",
       "      <td>universal_attributes</td>\n",
       "    </tr>\n",
       "    <tr>\n",
       "      <th>2</th>\n",
       "      <td>11110_200609-393907-1</td>\n",
       "      <td>No</td>\n",
       "      <td>universal_attributes</td>\n",
       "    </tr>\n",
       "    <tr>\n",
       "      <th>5</th>\n",
       "      <td>11110_201009-394992-1</td>\n",
       "      <td>No</td>\n",
       "      <td>universal_attributes</td>\n",
       "    </tr>\n",
       "    <tr>\n",
       "      <th>6</th>\n",
       "      <td>11110_201809-399481-1</td>\n",
       "      <td>No</td>\n",
       "      <td>universal_attributes</td>\n",
       "    </tr>\n",
       "    <tr>\n",
       "      <th>9</th>\n",
       "      <td>11110_201809-399601-2</td>\n",
       "      <td>Yes</td>\n",
       "      <td>universal_attributes</td>\n",
       "    </tr>\n",
       "    <tr>\n",
       "      <th>...</th>\n",
       "      <td>...</td>\n",
       "      <td>...</td>\n",
       "      <td>...</td>\n",
       "    </tr>\n",
       "    <tr>\n",
       "      <th>299</th>\n",
       "      <td>96710_199206-378041-2</td>\n",
       "      <td>No</td>\n",
       "      <td>universal_attributes</td>\n",
       "    </tr>\n",
       "    <tr>\n",
       "      <th>303</th>\n",
       "      <td>96710_199809-378834-1</td>\n",
       "      <td>No</td>\n",
       "      <td>universal_attributes</td>\n",
       "    </tr>\n",
       "    <tr>\n",
       "      <th>304</th>\n",
       "      <td>96710_199809-378937-1</td>\n",
       "      <td>No</td>\n",
       "      <td>universal_attributes</td>\n",
       "    </tr>\n",
       "    <tr>\n",
       "      <th>306</th>\n",
       "      <td>96725_201603-381934-1</td>\n",
       "      <td>No</td>\n",
       "      <td>universal_attributes</td>\n",
       "    </tr>\n",
       "    <tr>\n",
       "      <th>309</th>\n",
       "      <td>97110_199212-382866-1</td>\n",
       "      <td>No</td>\n",
       "      <td>universal_attributes</td>\n",
       "    </tr>\n",
       "  </tbody>\n",
       "</table>\n",
       "<p>149 rows × 3 columns</p>\n",
       "</div>"
      ],
      "text/plain": [
       "                mention_id value                  q_id\n",
       "0    11110_199109-390940-1   Yes  universal_attributes\n",
       "2    11110_200609-393907-1    No  universal_attributes\n",
       "5    11110_201009-394992-1    No  universal_attributes\n",
       "6    11110_201809-399481-1    No  universal_attributes\n",
       "9    11110_201809-399601-2   Yes  universal_attributes\n",
       "..                     ...   ...                   ...\n",
       "299  96710_199206-378041-2    No  universal_attributes\n",
       "303  96710_199809-378834-1    No  universal_attributes\n",
       "304  96710_199809-378937-1    No  universal_attributes\n",
       "306  96725_201603-381934-1    No  universal_attributes\n",
       "309  97110_199212-382866-1    No  universal_attributes\n",
       "\n",
       "[149 rows x 3 columns]"
      ]
     },
     "execution_count": 238,
     "metadata": {},
     "output_type": "execute_result"
    }
   ],
   "source": [
    "universal_df = reviewed.loc[reviewed.q_id != 'stance', ['mention_id', 'universal']].drop_duplicates()\n",
    "universal_df.rename(columns={'universal': 'value'}, inplace=True)\n",
    "universal_df.value.value_counts()\n",
    "universal_df['value'] = universal_df.value.apply(lambda x: 'Yes' if x == 'Yes' else 'No')\n",
    "universal_df.drop_duplicates(inplace=True)\n",
    "universal_df['q_id'] = 'universal_attributes'\n",
    "universal_df"
   ]
  },
  {
   "cell_type": "code",
   "execution_count": 239,
   "metadata": {},
   "outputs": [
    {
     "data": {
      "text/plain": [
       "Series([], dtype: int64)"
      ]
     },
     "execution_count": 239,
     "metadata": {},
     "output_type": "execute_result"
    }
   ],
   "source": [
    "mention_ids = universal_df.groupby('mention_id').size()\n",
    "mention_ids[mention_ids > 1] # must be empty !!!"
   ]
  },
  {
   "cell_type": "markdown",
   "metadata": {},
   "source": [
    "### parse econ annotations"
   ]
  },
  {
   "cell_type": "code",
   "execution_count": 240,
   "metadata": {},
   "outputs": [
    {
     "data": {
      "text/plain": [
       "econ\n",
       ".                                                             145\n",
       "income/wealth/economic status                                  29\n",
       "employment status                                              25\n",
       "occupation/profession                                          20\n",
       "ecology of group                                               11\n",
       "education level                                                 7\n",
       "employment status, class membership                             6\n",
       "employment status, occupation/profession                        4\n",
       "employment status, ecology of group, occupation/profession      3\n",
       "income/wealth/economic status, class membership                 3\n",
       "class membership                                                3\n",
       "income/wealth/economic status, occupation/profession            2\n",
       "Ecology of group                                                2\n",
       "occupation/profession, ecology of group                         1\n",
       "ecology of group, occupation/profession                         1\n",
       "Name: count, dtype: int64"
      ]
     },
     "execution_count": 240,
     "metadata": {},
     "output_type": "execute_result"
    }
   ],
   "source": [
    "reviewed[reviewed.q_id != 'stance'].econ.value_counts(dropna=False)"
   ]
  },
  {
   "cell_type": "code",
   "execution_count": 241,
   "metadata": {},
   "outputs": [
    {
     "data": {
      "text/plain": [
       "category\n",
       "occupation/profession            20\n",
       "employment status                18\n",
       "income/wealth/economic status    17\n",
       "ecology of group                 10\n",
       "class membership                  6\n",
       "education level                   3\n",
       "Name: count, dtype: int64"
      ]
     },
     "execution_count": 241,
     "metadata": {},
     "output_type": "execute_result"
    }
   ],
   "source": [
    "econ_df = reviewed.loc[reviewed.q_id != 'stance', ['mention_id', 'econ']]\n",
    "econ_df = econ_df[econ_df.econ != '.'].reset_index(drop=True)\n",
    "# split values in 'econ' into rows at comma\n",
    "econ_df = econ_df.assign(econ=econ_df.econ.str.split(',\\s*', regex=True)).explode('econ')\n",
    "econ_df['econ'] = econ_df.econ.str.lower()\n",
    "econ_df.drop_duplicates(inplace=True)\n",
    "econ_df.rename(columns={'econ': 'category'}, inplace=True)\n",
    "econ_df['q_id'] = 'economic_attributes'\n",
    "econ_df['value'] = 'Yes'\n",
    "econ_df.category.value_counts()"
   ]
  },
  {
   "cell_type": "code",
   "execution_count": 242,
   "metadata": {},
   "outputs": [
    {
     "data": {
      "text/plain": [
       "q_category  category                     \n",
       "5           occupation/profession            20\n",
       "2           employment status                18\n",
       "4           income/wealth/economic status    17\n",
       "6           ecology of group                 10\n",
       "1           class membership                  6\n",
       "3           education level                   3\n",
       "Name: count, dtype: int64"
      ]
     },
     "execution_count": 242,
     "metadata": {},
     "output_type": "execute_result"
    }
   ],
   "source": [
    "# map category names to category IDs\n",
    "econ_cat2id = {\n",
    "    \"class membership\": 1,\n",
    "    \"employment status\": 2,\n",
    "    \"education level\": 3,\n",
    "    \"income/wealth/economic status\": 4,\n",
    "    \"occupation/profession\": 5,\n",
    "    \"ecology of group\": 6,\n",
    "    \"other\": 7\n",
    "}\n",
    "\n",
    "econ_df['q_category'] = econ_df.category.map(econ_cat2id)\n",
    "econ_df[['q_category', 'category']].value_counts(dropna=False)"
   ]
  },
  {
   "cell_type": "code",
   "execution_count": 243,
   "metadata": {},
   "outputs": [],
   "source": [
    "econ_negative_decision = reviewed.loc[reviewed.q_id != 'stance', ['mention_id', 'econ']].drop_duplicates()\n",
    "econ_negative_decision = econ_negative_decision[econ_negative_decision.econ == '.'].reset_index(drop=True)\n",
    "econ_negative_decision['q_id'] = 'economic_attributes'\n",
    "econ_negative_decision['category'] = [list(econ_cat2id.keys())]*len(econ_negative_decision)\n",
    "econ_negative_decision = econ_negative_decision.explode('category').reset_index(drop=True)\n",
    "econ_negative_decision['q_category'] = econ_negative_decision.category.map(econ_cat2id)\n",
    "econ_negative_decision['label'] = 'No'\n",
    "del econ_negative_decision['econ']"
   ]
  },
  {
   "cell_type": "markdown",
   "metadata": {},
   "source": [
    "### parse non-econ annotations"
   ]
  },
  {
   "cell_type": "code",
   "execution_count": 244,
   "metadata": {},
   "outputs": [
    {
     "data": {
      "text/plain": [
       "non-econ\n",
       ".                                                              106\n",
       "nationality                                                     47\n",
       "shared values/mentalities                                       43\n",
       "age                                                             17\n",
       "gender/sexuality                                                 9\n",
       "family                                                           8\n",
       "place/location                                                   6\n",
       "nationality, shared values/mentalities                           4\n",
       "crime                                                            4\n",
       "nationality, ethnicity, religion, shared values/mentalities      3\n",
       "health                                                           3\n",
       "religion                                                         2\n",
       "age, family                                                      2\n",
       "ethnicity, nationality, religion, shared values/mentalities      2\n",
       "place/location, nationality                                      2\n",
       "age, nationality                                                 2\n",
       "ethnicity                                                        1\n",
       "other                                                            1\n",
       "Name: count, dtype: int64"
      ]
     },
     "execution_count": 244,
     "metadata": {},
     "output_type": "execute_result"
    }
   ],
   "source": [
    "reviewed[reviewed.q_id != 'stance']['non-econ'].value_counts(dropna=False)"
   ]
  },
  {
   "cell_type": "code",
   "execution_count": 245,
   "metadata": {},
   "outputs": [
    {
     "data": {
      "text/plain": [
       "category\n",
       "nationality                  33\n",
       "shared values/mentalities    30\n",
       "age                          12\n",
       "family                        6\n",
       "gender/sexuality              6\n",
       "place/location                5\n",
       "ethnicity                     3\n",
       "religion                      3\n",
       "health                        2\n",
       "crime                         2\n",
       "other                         1\n",
       "Name: count, dtype: int64"
      ]
     },
     "execution_count": 245,
     "metadata": {},
     "output_type": "execute_result"
    }
   ],
   "source": [
    "nonecon_df = reviewed.loc[reviewed.q_id != 'stance', ['mention_id', 'non-econ']].rename(columns={'non-econ': 'category'})\n",
    "nonecon_df = nonecon_df[nonecon_df.category != '.'].reset_index(drop=True)\n",
    "nonecon_df = nonecon_df.assign(category=nonecon_df.category.str.split(',\\s*', regex=True)).explode('category')\n",
    "nonecon_df['category'] = nonecon_df.category.str.lower()\n",
    "nonecon_df.drop_duplicates(inplace=True)\n",
    "nonecon_df['q_id'] = 'non-economic_attributes'\n",
    "nonecon_df['value'] = 'Yes'\n",
    "nonecon_df.category.value_counts()"
   ]
  },
  {
   "cell_type": "code",
   "execution_count": 246,
   "metadata": {},
   "outputs": [
    {
     "data": {
      "text/plain": [
       "q_category  category                 \n",
       "5           nationality                  33\n",
       "11          shared values/mentalities    30\n",
       "1           age                          12\n",
       "2           family                        6\n",
       "3           gender/sexuality              6\n",
       "4           place/location                5\n",
       "6           ethnicity                     3\n",
       "7           religion                      3\n",
       "8           health                        2\n",
       "9           crime                         2\n",
       "10          other                         1\n",
       "Name: count, dtype: int64"
      ]
     },
     "execution_count": 246,
     "metadata": {},
     "output_type": "execute_result"
    }
   ],
   "source": [
    "# map category names to category IDs\n",
    "nonecon_cat2id = {\n",
    "    \"age\": 1,\n",
    "    \"family\": 2, \n",
    "    \"gender/sexuality\": 3, \n",
    "    \"place/location\": 4,\n",
    "    \"nationality\": 5,\n",
    "    \"ethnicity\": 6,\n",
    "    \"religion\": 7,\n",
    "    \"health\": 8,\n",
    "    \"crime\": 9,\n",
    "    # other\n",
    "    \"other\": 10,\n",
    "    \"shared values/mentalities\": 11, # NOTE added after first round\n",
    "}\n",
    "\n",
    "nonecon_df['q_category'] = nonecon_df.category.map(nonecon_cat2id)\n",
    "\n",
    "nonecon_df[['q_category', 'category']].value_counts(dropna=False)"
   ]
  },
  {
   "cell_type": "code",
   "execution_count": 247,
   "metadata": {},
   "outputs": [],
   "source": [
    "nonecon_negative_decision = reviewed.loc[reviewed.q_id != 'stance', ['mention_id', 'non-econ']].rename(columns={'non-econ': 'category'}).drop_duplicates()\n",
    "nonecon_negative_decision = nonecon_negative_decision[nonecon_negative_decision.category == '.'].reset_index(drop=True)\n",
    "nonecon_negative_decision['q_id'] = 'non-economic_attributes'\n",
    "nonecon_negative_decision['category'] = [list(nonecon_cat2id.keys())]*len(nonecon_negative_decision)\n",
    "nonecon_negative_decision = nonecon_negative_decision.explode('category').reset_index(drop=True)\n",
    "nonecon_negative_decision['q_category'] = nonecon_negative_decision.category.map(nonecon_cat2id)\n",
    "nonecon_negative_decision['label'] = 'No'"
   ]
  },
  {
   "cell_type": "markdown",
   "metadata": {},
   "source": [
    "### parse 'stance' annotations"
   ]
  },
  {
   "cell_type": "code",
   "execution_count": 248,
   "metadata": {},
   "outputs": [
    {
     "data": {
      "text/plain": [
       "stance\n",
       "positive    28\n",
       "neutral     11\n",
       "negative    10\n",
       "unsure       1\n",
       "Name: count, dtype: int64"
      ]
     },
     "execution_count": 248,
     "metadata": {},
     "output_type": "execute_result"
    }
   ],
   "source": [
    "reviewed[reviewed.q_id == 'stance'].stance.value_counts(dropna=False)"
   ]
  },
  {
   "cell_type": "code",
   "execution_count": 249,
   "metadata": {},
   "outputs": [
    {
     "data": {
      "text/plain": [
       "value\n",
       "Positive    28\n",
       "Neutral     11\n",
       "Negative    10\n",
       "Unsure       1\n",
       "Name: count, dtype: int64"
      ]
     },
     "execution_count": 249,
     "metadata": {},
     "output_type": "execute_result"
    }
   ],
   "source": [
    "stance_df = reviewed.loc[reviewed.q_id == 'stance', ['mention_id', 'q_id', 'stance']].rename(columns={'stance': 'value'})\n",
    "stance_df.value = stance_df.value.str.title()\n",
    "stance_df.value.value_counts()"
   ]
  },
  {
   "cell_type": "markdown",
   "metadata": {},
   "source": [
    "## Join with agreement cases"
   ]
  },
  {
   "cell_type": "code",
   "execution_count": 250,
   "metadata": {},
   "outputs": [],
   "source": [
    "fp = os.path.join(data_path, 'parsed',  'gold_examples.tsv')\n",
    "agreement_cases_df = pd.read_csv(fp, sep='\\t')"
   ]
  },
  {
   "cell_type": "code",
   "execution_count": 251,
   "metadata": {},
   "outputs": [
    {
     "data": {
      "text/plain": [
       "category\n",
       "class membership                 234\n",
       "employment status                234\n",
       "education level                  234\n",
       "income/wealth/economic status    234\n",
       "occupation/profession            234\n",
       "ecology of group                 234\n",
       "other                            234\n",
       "Name: count, dtype: int64"
      ]
     },
     "execution_count": 251,
     "metadata": {},
     "output_type": "execute_result"
    }
   ],
   "source": [
    "agreement_cases_df[agreement_cases_df.q_id == 'economic_attributes'].category.value_counts()"
   ]
  },
  {
   "cell_type": "code",
   "execution_count": 252,
   "metadata": {},
   "outputs": [
    {
     "data": {
      "text/html": [
       "<div>\n",
       "<style scoped>\n",
       "    .dataframe tbody tr th:only-of-type {\n",
       "        vertical-align: middle;\n",
       "    }\n",
       "\n",
       "    .dataframe tbody tr th {\n",
       "        vertical-align: top;\n",
       "    }\n",
       "\n",
       "    .dataframe thead th {\n",
       "        text-align: right;\n",
       "    }\n",
       "</style>\n",
       "<table border=\"1\" class=\"dataframe\">\n",
       "  <thead>\n",
       "    <tr style=\"text-align: right;\">\n",
       "      <th>label</th>\n",
       "      <th>category</th>\n",
       "      <th>No</th>\n",
       "      <th>Yes</th>\n",
       "    </tr>\n",
       "  </thead>\n",
       "  <tbody>\n",
       "    <tr>\n",
       "      <th>0</th>\n",
       "      <td>class membership</td>\n",
       "      <td>143.0</td>\n",
       "      <td>6.0</td>\n",
       "    </tr>\n",
       "    <tr>\n",
       "      <th>1</th>\n",
       "      <td>ecology of group</td>\n",
       "      <td>139.0</td>\n",
       "      <td>10.0</td>\n",
       "    </tr>\n",
       "    <tr>\n",
       "      <th>2</th>\n",
       "      <td>education level</td>\n",
       "      <td>146.0</td>\n",
       "      <td>3.0</td>\n",
       "    </tr>\n",
       "    <tr>\n",
       "      <th>3</th>\n",
       "      <td>employment status</td>\n",
       "      <td>131.0</td>\n",
       "      <td>18.0</td>\n",
       "    </tr>\n",
       "    <tr>\n",
       "      <th>4</th>\n",
       "      <td>income/wealth/economic status</td>\n",
       "      <td>132.0</td>\n",
       "      <td>17.0</td>\n",
       "    </tr>\n",
       "    <tr>\n",
       "      <th>5</th>\n",
       "      <td>occupation/profession</td>\n",
       "      <td>129.0</td>\n",
       "      <td>20.0</td>\n",
       "    </tr>\n",
       "    <tr>\n",
       "      <th>6</th>\n",
       "      <td>other</td>\n",
       "      <td>149.0</td>\n",
       "      <td>NaN</td>\n",
       "    </tr>\n",
       "  </tbody>\n",
       "</table>\n",
       "</div>"
      ],
      "text/plain": [
       "label                       category     No   Yes\n",
       "0                   class membership  143.0   6.0\n",
       "1                   ecology of group  139.0  10.0\n",
       "2                    education level  146.0   3.0\n",
       "3                  employment status  131.0  18.0\n",
       "4      income/wealth/economic status  132.0  17.0\n",
       "5              occupation/profession  129.0  20.0\n",
       "6                              other  149.0   NaN"
      ]
     },
     "execution_count": 252,
     "metadata": {},
     "output_type": "execute_result"
    }
   ],
   "source": [
    "econ_df_expanded = econ_df.groupby(['mention_id', 'q_id']).category.apply(lambda x: {c: 'Yes' if c in x.tolist() else 'No' for c in econ_cat2id}).reset_index()\n",
    "econ_df_expanded.rename(columns={'category': 'label', 'level_2': 'category'}, inplace=True)\n",
    "econ_df_expanded = pd.concat([econ_df_expanded, econ_negative_decision[econ_df_expanded.columns]], ignore_index=True).reset_index(drop=True)\n",
    "econ_df_expanded[['category', 'label']].value_counts(dropna=False).unstack().reset_index()"
   ]
  },
  {
   "cell_type": "code",
   "execution_count": 253,
   "metadata": {},
   "outputs": [
    {
     "data": {
      "text/html": [
       "<div>\n",
       "<style scoped>\n",
       "    .dataframe tbody tr th:only-of-type {\n",
       "        vertical-align: middle;\n",
       "    }\n",
       "\n",
       "    .dataframe tbody tr th {\n",
       "        vertical-align: top;\n",
       "    }\n",
       "\n",
       "    .dataframe thead th {\n",
       "        text-align: right;\n",
       "    }\n",
       "</style>\n",
       "<table border=\"1\" class=\"dataframe\">\n",
       "  <thead>\n",
       "    <tr style=\"text-align: right;\">\n",
       "      <th>label</th>\n",
       "      <th>category</th>\n",
       "      <th>No</th>\n",
       "      <th>Yes</th>\n",
       "    </tr>\n",
       "  </thead>\n",
       "  <tbody>\n",
       "    <tr>\n",
       "      <th>0</th>\n",
       "      <td>age</td>\n",
       "      <td>137</td>\n",
       "      <td>12</td>\n",
       "    </tr>\n",
       "    <tr>\n",
       "      <th>1</th>\n",
       "      <td>crime</td>\n",
       "      <td>147</td>\n",
       "      <td>2</td>\n",
       "    </tr>\n",
       "    <tr>\n",
       "      <th>2</th>\n",
       "      <td>ethnicity</td>\n",
       "      <td>146</td>\n",
       "      <td>3</td>\n",
       "    </tr>\n",
       "    <tr>\n",
       "      <th>3</th>\n",
       "      <td>family</td>\n",
       "      <td>143</td>\n",
       "      <td>6</td>\n",
       "    </tr>\n",
       "    <tr>\n",
       "      <th>4</th>\n",
       "      <td>gender/sexuality</td>\n",
       "      <td>143</td>\n",
       "      <td>6</td>\n",
       "    </tr>\n",
       "    <tr>\n",
       "      <th>5</th>\n",
       "      <td>health</td>\n",
       "      <td>147</td>\n",
       "      <td>2</td>\n",
       "    </tr>\n",
       "    <tr>\n",
       "      <th>6</th>\n",
       "      <td>nationality</td>\n",
       "      <td>116</td>\n",
       "      <td>33</td>\n",
       "    </tr>\n",
       "    <tr>\n",
       "      <th>7</th>\n",
       "      <td>other</td>\n",
       "      <td>148</td>\n",
       "      <td>1</td>\n",
       "    </tr>\n",
       "    <tr>\n",
       "      <th>8</th>\n",
       "      <td>place/location</td>\n",
       "      <td>144</td>\n",
       "      <td>5</td>\n",
       "    </tr>\n",
       "    <tr>\n",
       "      <th>9</th>\n",
       "      <td>religion</td>\n",
       "      <td>146</td>\n",
       "      <td>3</td>\n",
       "    </tr>\n",
       "    <tr>\n",
       "      <th>10</th>\n",
       "      <td>shared values/mentalities</td>\n",
       "      <td>119</td>\n",
       "      <td>30</td>\n",
       "    </tr>\n",
       "  </tbody>\n",
       "</table>\n",
       "</div>"
      ],
      "text/plain": [
       "label                   category   No  Yes\n",
       "0                            age  137   12\n",
       "1                          crime  147    2\n",
       "2                      ethnicity  146    3\n",
       "3                         family  143    6\n",
       "4               gender/sexuality  143    6\n",
       "5                         health  147    2\n",
       "6                    nationality  116   33\n",
       "7                          other  148    1\n",
       "8                 place/location  144    5\n",
       "9                       religion  146    3\n",
       "10     shared values/mentalities  119   30"
      ]
     },
     "execution_count": 253,
     "metadata": {},
     "output_type": "execute_result"
    }
   ],
   "source": [
    "nonecon_df_expanded = nonecon_df.groupby(['mention_id', 'q_id']).category.apply(lambda x: {c: 'Yes' if c in x.tolist() else 'No' for c in nonecon_cat2id}).reset_index()\n",
    "nonecon_df_expanded.rename(columns={'category': 'label', 'level_2': 'category'}, inplace=True)\n",
    "nonecon_df_expanded = pd.concat([nonecon_df_expanded, nonecon_negative_decision[nonecon_df_expanded.columns]], ignore_index=True).reset_index(drop=True)\n",
    "nonecon_df_expanded[['category', 'label']].value_counts(dropna=False).unstack().reset_index()"
   ]
  },
  {
   "cell_type": "code",
   "execution_count": 254,
   "metadata": {},
   "outputs": [],
   "source": [
    "# # discard \n",
    "# agreement_cases_df = agreement_cases_df.merge(universal_df[key_cols[:2]], how='left', indicator=True)\n",
    "# agreement_cases_df = agreement_cases_df[agreement_cases_df._merge == 'left_only'].drop(columns='_merge')\n",
    "# \n",
    "# agreement_cases_df = agreement_cases_df.merge(econ_df_expanded[key_cols], how='left', indicator=True)\n",
    "# agreement_cases_df = agreement_cases_df[agreement_cases_df._merge == 'left_only'].drop(columns='_merge')\n",
    "# \n",
    "# agreement_cases_df = agreement_cases_df.merge(nonecon_df_expanded[key_cols], how='left', indicator=True)\n",
    "# agreement_cases_df = agreement_cases_df[agreement_cases_df._merge == 'left_only'].drop(columns='_merge')\n",
    "# \n",
    "# agreement_cases_df = agreement_cases_df.merge(stance_df[key_cols[:2]], how='left', indicator=True)\n",
    "# agreement_cases_df = agreement_cases_df[agreement_cases_df._merge == 'left_only'].drop(columns='_merge')"
   ]
  },
  {
   "cell_type": "code",
   "execution_count": 255,
   "metadata": {},
   "outputs": [],
   "source": [
    "df = pd.concat(\n",
    "    [\n",
    "        agreement_cases_df[['mention_id', 'q_id', 'category', 'label']].assign(source='coders'),\n",
    "        universal_df.rename(columns={'value': 'label'}).assign(source='expert'), \n",
    "        econ_df_expanded.assign(source='expert'), \n",
    "        nonecon_df_expanded.assign(source='expert'),\n",
    "        stance_df.rename(columns={'value': 'label'}).assign(source='expert')\n",
    "    ],\n",
    "    ignore_index=True\n",
    ")\n",
    "\n",
    "df['q_category'] = np.nan\n",
    "df.loc[df.q_id == 'economic_attributes', 'q_category'] = df.loc[df.q_id == 'economic_attributes'].category.map(econ_cat2id)\n",
    "df.loc[df.q_id == 'non-economic_attributes', 'q_category'] = df.loc[df.q_id == 'non-economic_attributes'].category.map(nonecon_cat2id)\n",
    "df = df.sort_values(['mention_id', 'q_id', 'q_category']).reset_index(drop=True)"
   ]
  },
  {
   "cell_type": "code",
   "execution_count": 256,
   "metadata": {},
   "outputs": [
    {
     "data": {
      "text/plain": [
       "300"
      ]
     },
     "execution_count": 256,
     "metadata": {},
     "output_type": "execute_result"
    }
   ],
   "source": [
    "df.mention_id.nunique()"
   ]
  },
  {
   "cell_type": "code",
   "execution_count": 257,
   "metadata": {},
   "outputs": [
    {
     "name": "stdout",
     "output_type": "stream",
     "text": [
      "economic_attributes : 300\n",
      "non-economic_attributes : 300\n",
      "stance : 300\n",
      "universal_attributes : 300\n"
     ]
    },
    {
     "data": {
      "text/html": [
       "<div>\n",
       "<style scoped>\n",
       "    .dataframe tbody tr th:only-of-type {\n",
       "        vertical-align: middle;\n",
       "    }\n",
       "\n",
       "    .dataframe tbody tr th {\n",
       "        vertical-align: top;\n",
       "    }\n",
       "\n",
       "    .dataframe thead th {\n",
       "        text-align: right;\n",
       "    }\n",
       "</style>\n",
       "<table border=\"1\" class=\"dataframe\">\n",
       "  <thead>\n",
       "    <tr style=\"text-align: right;\">\n",
       "      <th></th>\n",
       "      <th>mention_id</th>\n",
       "      <th>q_id</th>\n",
       "      <th>category</th>\n",
       "      <th>label</th>\n",
       "      <th>source</th>\n",
       "      <th>q_category</th>\n",
       "    </tr>\n",
       "  </thead>\n",
       "  <tbody>\n",
       "    <tr>\n",
       "      <th>0</th>\n",
       "      <td>11110_198809-390636-1</td>\n",
       "      <td>economic_attributes</td>\n",
       "      <td>class membership</td>\n",
       "      <td>No</td>\n",
       "      <td>coders</td>\n",
       "      <td>1.0</td>\n",
       "    </tr>\n",
       "    <tr>\n",
       "      <th>1</th>\n",
       "      <td>11110_198809-390636-1</td>\n",
       "      <td>economic_attributes</td>\n",
       "      <td>employment status</td>\n",
       "      <td>No</td>\n",
       "      <td>coders</td>\n",
       "      <td>2.0</td>\n",
       "    </tr>\n",
       "    <tr>\n",
       "      <th>2</th>\n",
       "      <td>11110_198809-390636-1</td>\n",
       "      <td>economic_attributes</td>\n",
       "      <td>education level</td>\n",
       "      <td>No</td>\n",
       "      <td>coders</td>\n",
       "      <td>3.0</td>\n",
       "    </tr>\n",
       "    <tr>\n",
       "      <th>3</th>\n",
       "      <td>11110_198809-390636-1</td>\n",
       "      <td>economic_attributes</td>\n",
       "      <td>income/wealth/economic status</td>\n",
       "      <td>No</td>\n",
       "      <td>coders</td>\n",
       "      <td>4.0</td>\n",
       "    </tr>\n",
       "    <tr>\n",
       "      <th>4</th>\n",
       "      <td>11110_198809-390636-1</td>\n",
       "      <td>economic_attributes</td>\n",
       "      <td>occupation/profession</td>\n",
       "      <td>No</td>\n",
       "      <td>coders</td>\n",
       "      <td>5.0</td>\n",
       "    </tr>\n",
       "  </tbody>\n",
       "</table>\n",
       "</div>"
      ],
      "text/plain": [
       "              mention_id                 q_id                       category  \\\n",
       "0  11110_198809-390636-1  economic_attributes               class membership   \n",
       "1  11110_198809-390636-1  economic_attributes              employment status   \n",
       "2  11110_198809-390636-1  economic_attributes                education level   \n",
       "3  11110_198809-390636-1  economic_attributes  income/wealth/economic status   \n",
       "4  11110_198809-390636-1  economic_attributes          occupation/profession   \n",
       "\n",
       "  label  source  q_category  \n",
       "0    No  coders         1.0  \n",
       "1    No  coders         2.0  \n",
       "2    No  coders         3.0  \n",
       "3    No  coders         4.0  \n",
       "4    No  coders         5.0  "
      ]
     },
     "execution_count": 257,
     "metadata": {},
     "output_type": "execute_result"
    }
   ],
   "source": [
    "# check ---\n",
    "for d in df.q_id.unique(): \n",
    "    print(d, ':', df[df.q_id == d].groupby('mention_id').ngroups)\n",
    "df.head()"
   ]
  },
  {
   "cell_type": "code",
   "execution_count": 258,
   "metadata": {},
   "outputs": [],
   "source": [
    "df.loc[df.category.isna(), 'category'] = ''\n",
    "df.loc[df.q_category.isna(), 'q_category'] = -1.0"
   ]
  },
  {
   "cell_type": "markdown",
   "metadata": {},
   "source": [
    "### post-review disagreements"
   ]
  },
  {
   "cell_type": "code",
   "execution_count": 259,
   "metadata": {},
   "outputs": [
    {
     "data": {
      "text/html": [
       "<div>\n",
       "<style scoped>\n",
       "    .dataframe tbody tr th:only-of-type {\n",
       "        vertical-align: middle;\n",
       "    }\n",
       "\n",
       "    .dataframe tbody tr th {\n",
       "        vertical-align: top;\n",
       "    }\n",
       "\n",
       "    .dataframe thead th {\n",
       "        text-align: right;\n",
       "    }\n",
       "</style>\n",
       "<table border=\"1\" class=\"dataframe\">\n",
       "  <thead>\n",
       "    <tr style=\"text-align: right;\">\n",
       "      <th></th>\n",
       "      <th>mention_id</th>\n",
       "      <th>q_id</th>\n",
       "      <th>category</th>\n",
       "      <th>label</th>\n",
       "    </tr>\n",
       "  </thead>\n",
       "  <tbody>\n",
       "    <tr>\n",
       "      <th>1227</th>\n",
       "      <td>14820_197201-197410-1</td>\n",
       "      <td>universal_attributes</td>\n",
       "      <td></td>\n",
       "      <td>True</td>\n",
       "    </tr>\n",
       "    <tr>\n",
       "      <th>1516</th>\n",
       "      <td>15111_201710-281205-1</td>\n",
       "      <td>universal_attributes</td>\n",
       "      <td></td>\n",
       "      <td>True</td>\n",
       "    </tr>\n",
       "    <tr>\n",
       "      <th>1580</th>\n",
       "      <td>21111_198111-22981-1</td>\n",
       "      <td>economic_attributes</td>\n",
       "      <td>occupation/profession</td>\n",
       "      <td>True</td>\n",
       "    </tr>\n",
       "    <tr>\n",
       "      <th>1662</th>\n",
       "      <td>21111_199111-32560-1</td>\n",
       "      <td>non-economic_attributes</td>\n",
       "      <td>ethnicity</td>\n",
       "      <td>True</td>\n",
       "    </tr>\n",
       "    <tr>\n",
       "      <th>1666</th>\n",
       "      <td>21111_199111-32560-1</td>\n",
       "      <td>non-economic_attributes</td>\n",
       "      <td>nationality</td>\n",
       "      <td>True</td>\n",
       "    </tr>\n",
       "    <tr>\n",
       "      <th>1669</th>\n",
       "      <td>21111_199111-32560-1</td>\n",
       "      <td>non-economic_attributes</td>\n",
       "      <td>religion</td>\n",
       "      <td>True</td>\n",
       "    </tr>\n",
       "    <tr>\n",
       "      <th>1672</th>\n",
       "      <td>21111_199111-32560-1</td>\n",
       "      <td>universal_attributes</td>\n",
       "      <td></td>\n",
       "      <td>True</td>\n",
       "    </tr>\n",
       "    <tr>\n",
       "      <th>2084</th>\n",
       "      <td>22110_201703-327644-2</td>\n",
       "      <td>universal_attributes</td>\n",
       "      <td></td>\n",
       "      <td>True</td>\n",
       "    </tr>\n",
       "    <tr>\n",
       "      <th>2186</th>\n",
       "      <td>23113_199406-295593-1</td>\n",
       "      <td>economic_attributes</td>\n",
       "      <td>income/wealth/economic status</td>\n",
       "      <td>True</td>\n",
       "    </tr>\n",
       "    <tr>\n",
       "      <th>2579</th>\n",
       "      <td>41112_199012-126399-1</td>\n",
       "      <td>non-economic_attributes</td>\n",
       "      <td>crime</td>\n",
       "      <td>True</td>\n",
       "    </tr>\n",
       "    <tr>\n",
       "      <th>2630</th>\n",
       "      <td>41113_199410-128613-1</td>\n",
       "      <td>universal_attributes</td>\n",
       "      <td></td>\n",
       "      <td>True</td>\n",
       "    </tr>\n",
       "    <tr>\n",
       "      <th>3425</th>\n",
       "      <td>43110_201910-107382-1</td>\n",
       "      <td>economic_attributes</td>\n",
       "      <td>ecology of group</td>\n",
       "      <td>True</td>\n",
       "    </tr>\n",
       "    <tr>\n",
       "      <th>3951</th>\n",
       "      <td>51620_199705-230533-1</td>\n",
       "      <td>universal_attributes</td>\n",
       "      <td></td>\n",
       "      <td>True</td>\n",
       "    </tr>\n",
       "    <tr>\n",
       "      <th>4028</th>\n",
       "      <td>51620_201912-250055-1</td>\n",
       "      <td>universal_attributes</td>\n",
       "      <td></td>\n",
       "      <td>True</td>\n",
       "    </tr>\n",
       "    <tr>\n",
       "      <th>4067</th>\n",
       "      <td>53110_198906-276156-1</td>\n",
       "      <td>universal_attributes</td>\n",
       "      <td></td>\n",
       "      <td>True</td>\n",
       "    </tr>\n",
       "    <tr>\n",
       "      <th>4322</th>\n",
       "      <td>61320_201611-430850-1</td>\n",
       "      <td>universal_attributes</td>\n",
       "      <td></td>\n",
       "      <td>True</td>\n",
       "    </tr>\n",
       "    <tr>\n",
       "      <th>4461</th>\n",
       "      <td>61620_200411-425881-2</td>\n",
       "      <td>universal_attributes</td>\n",
       "      <td></td>\n",
       "      <td>True</td>\n",
       "    </tr>\n",
       "    <tr>\n",
       "      <th>4763</th>\n",
       "      <td>71111_201412-289971-5</td>\n",
       "      <td>non-economic_attributes</td>\n",
       "      <td>family</td>\n",
       "      <td>True</td>\n",
       "    </tr>\n",
       "  </tbody>\n",
       "</table>\n",
       "</div>"
      ],
      "text/plain": [
       "                 mention_id                     q_id  \\\n",
       "1227  14820_197201-197410-1     universal_attributes   \n",
       "1516  15111_201710-281205-1     universal_attributes   \n",
       "1580   21111_198111-22981-1      economic_attributes   \n",
       "1662   21111_199111-32560-1  non-economic_attributes   \n",
       "1666   21111_199111-32560-1  non-economic_attributes   \n",
       "1669   21111_199111-32560-1  non-economic_attributes   \n",
       "1672   21111_199111-32560-1     universal_attributes   \n",
       "2084  22110_201703-327644-2     universal_attributes   \n",
       "2186  23113_199406-295593-1      economic_attributes   \n",
       "2579  41112_199012-126399-1  non-economic_attributes   \n",
       "2630  41113_199410-128613-1     universal_attributes   \n",
       "3425  43110_201910-107382-1      economic_attributes   \n",
       "3951  51620_199705-230533-1     universal_attributes   \n",
       "4028  51620_201912-250055-1     universal_attributes   \n",
       "4067  53110_198906-276156-1     universal_attributes   \n",
       "4322  61320_201611-430850-1     universal_attributes   \n",
       "4461  61620_200411-425881-2     universal_attributes   \n",
       "4763  71111_201412-289971-5  non-economic_attributes   \n",
       "\n",
       "                           category  label  \n",
       "1227                                  True  \n",
       "1516                                  True  \n",
       "1580          occupation/profession   True  \n",
       "1662                      ethnicity   True  \n",
       "1666                    nationality   True  \n",
       "1669                       religion   True  \n",
       "1672                                  True  \n",
       "2084                                  True  \n",
       "2186  income/wealth/economic status   True  \n",
       "2579                          crime   True  \n",
       "2630                                  True  \n",
       "3425               ecology of group   True  \n",
       "3951                                  True  \n",
       "4028                                  True  \n",
       "4067                                  True  \n",
       "4322                                  True  \n",
       "4461                                  True  \n",
       "4763                         family   True  "
      ]
     },
     "execution_count": 259,
     "metadata": {},
     "output_type": "execute_result"
    }
   ],
   "source": [
    "# see if there is disagreement between coders agreement labels and expert annotation\n",
    "key_cols = ['mention_id', 'q_id', 'category']\n",
    "tmp = df.groupby(key_cols).agg({'label': lambda x: len(set(x)) > 1}).reset_index()\n",
    "tmp[tmp.label] # yes, a few =("
   ]
  },
  {
   "cell_type": "code",
   "execution_count": 260,
   "metadata": {},
   "outputs": [],
   "source": [
    "disagreements = tmp.loc[tmp.label, key_cols].merge(df, on=key_cols, how='left')\n",
    "# pivot wider values from label to columns using source\n",
    "disagreements = disagreements.pivot(index=key_cols, columns='source', values='label').reset_index()\n",
    "# remove name of index\n",
    "disagreements.columns.name = None\n",
    "disagreements = disagreements.merge(agreement_cases_df[['mention_id', 'text', 'mention']].drop_duplicates(), on='mention_id', how='left')"
   ]
  },
  {
   "cell_type": "code",
   "execution_count": 261,
   "metadata": {},
   "outputs": [],
   "source": [
    "fp = os.path.join(data_path, 'parsed',  'post_review_disagreements.tsv')\n",
    "if not os.path.exists(fp):\n",
    "    disagreements.to_csv(fp, sep='\\t', index=False)"
   ]
  },
  {
   "cell_type": "code",
   "execution_count": 262,
   "metadata": {},
   "outputs": [],
   "source": [
    "# read after manual review\n",
    "fp = os.path.join(data_path, 'parsed',  'post_review_disagreements_resolved.tsv')\n",
    "disagreements_resolved = pd.read_csv(fp, sep='\\t')\n",
    "disagreements_resolved = disagreements_resolved[disagreements_resolved['round'] == 6]"
   ]
  },
  {
   "cell_type": "code",
   "execution_count": 263,
   "metadata": {},
   "outputs": [],
   "source": [
    "disagreements_resolved.loc[disagreements_resolved.category.isna(), 'category'] = ''"
   ]
  },
  {
   "cell_type": "code",
   "execution_count": 264,
   "metadata": {},
   "outputs": [],
   "source": [
    "# add q_category to disagreements_resolved\n",
    "disagreements_resolved = disagreements_resolved.merge(df[key_cols+['q_category']].drop_duplicates(), on=key_cols, how='left')\n",
    "\n",
    "# bring into format of df\n",
    "disagreements_resolved = disagreements_resolved[key_cols+['decision', 'q_category']]\n",
    "disagreements_resolved.rename(columns={'decision': 'label'}, inplace=True)\n",
    "disagreements_resolved['source'] = 'expert'"
   ]
  },
  {
   "cell_type": "code",
   "execution_count": 265,
   "metadata": {},
   "outputs": [],
   "source": [
    "# remove disagreement cases from df (using anti-join)\n",
    "df = df.merge(disagreements_resolved[key_cols], on=key_cols, how='left', indicator=True)\n",
    "df = df[df._merge == 'left_only'].drop(columns='_merge')\n",
    "\n",
    "# add resolved disagreements into df\n",
    "df = pd.concat([df, disagreements_resolved], ignore_index=True)\n",
    "df = df.sort_values(key_cols).reset_index(drop=True)"
   ]
  },
  {
   "cell_type": "code",
   "execution_count": 266,
   "metadata": {},
   "outputs": [
    {
     "data": {
      "text/html": [
       "<div>\n",
       "<style scoped>\n",
       "    .dataframe tbody tr th:only-of-type {\n",
       "        vertical-align: middle;\n",
       "    }\n",
       "\n",
       "    .dataframe tbody tr th {\n",
       "        vertical-align: top;\n",
       "    }\n",
       "\n",
       "    .dataframe thead th {\n",
       "        text-align: right;\n",
       "    }\n",
       "</style>\n",
       "<table border=\"1\" class=\"dataframe\">\n",
       "  <thead>\n",
       "    <tr style=\"text-align: right;\">\n",
       "      <th></th>\n",
       "      <th>mention_id</th>\n",
       "      <th>q_id</th>\n",
       "      <th>category</th>\n",
       "      <th>label</th>\n",
       "    </tr>\n",
       "  </thead>\n",
       "  <tbody>\n",
       "  </tbody>\n",
       "</table>\n",
       "</div>"
      ],
      "text/plain": [
       "Empty DataFrame\n",
       "Columns: [mention_id, q_id, category, label]\n",
       "Index: []"
      ]
     },
     "execution_count": 266,
     "metadata": {},
     "output_type": "execute_result"
    }
   ],
   "source": [
    "# verify that resolutin workd\n",
    "tmp = df.groupby(key_cols).agg({'label': lambda x: len(set(x)) > 1}).reset_index()\n",
    "tmp[tmp.label] # should be none!"
   ]
  },
  {
   "cell_type": "code",
   "execution_count": 267,
   "metadata": {},
   "outputs": [
    {
     "name": "stdout",
     "output_type": "stream",
     "text": [
      "economic_attributes : 300\n",
      "non-economic_attributes : 300\n",
      "stance : 300\n",
      "universal_attributes : 300\n"
     ]
    },
    {
     "data": {
      "text/html": [
       "<div>\n",
       "<style scoped>\n",
       "    .dataframe tbody tr th:only-of-type {\n",
       "        vertical-align: middle;\n",
       "    }\n",
       "\n",
       "    .dataframe tbody tr th {\n",
       "        vertical-align: top;\n",
       "    }\n",
       "\n",
       "    .dataframe thead th {\n",
       "        text-align: right;\n",
       "    }\n",
       "</style>\n",
       "<table border=\"1\" class=\"dataframe\">\n",
       "  <thead>\n",
       "    <tr style=\"text-align: right;\">\n",
       "      <th></th>\n",
       "      <th>mention_id</th>\n",
       "      <th>q_id</th>\n",
       "      <th>category</th>\n",
       "      <th>label</th>\n",
       "      <th>source</th>\n",
       "      <th>q_category</th>\n",
       "    </tr>\n",
       "  </thead>\n",
       "  <tbody>\n",
       "    <tr>\n",
       "      <th>0</th>\n",
       "      <td>11110_198809-390636-1</td>\n",
       "      <td>economic_attributes</td>\n",
       "      <td>class membership</td>\n",
       "      <td>No</td>\n",
       "      <td>coders</td>\n",
       "      <td>1.0</td>\n",
       "    </tr>\n",
       "    <tr>\n",
       "      <th>1</th>\n",
       "      <td>11110_198809-390636-1</td>\n",
       "      <td>economic_attributes</td>\n",
       "      <td>ecology of group</td>\n",
       "      <td>No</td>\n",
       "      <td>coders</td>\n",
       "      <td>6.0</td>\n",
       "    </tr>\n",
       "    <tr>\n",
       "      <th>2</th>\n",
       "      <td>11110_198809-390636-1</td>\n",
       "      <td>economic_attributes</td>\n",
       "      <td>education level</td>\n",
       "      <td>No</td>\n",
       "      <td>coders</td>\n",
       "      <td>3.0</td>\n",
       "    </tr>\n",
       "    <tr>\n",
       "      <th>3</th>\n",
       "      <td>11110_198809-390636-1</td>\n",
       "      <td>economic_attributes</td>\n",
       "      <td>employment status</td>\n",
       "      <td>No</td>\n",
       "      <td>coders</td>\n",
       "      <td>2.0</td>\n",
       "    </tr>\n",
       "    <tr>\n",
       "      <th>4</th>\n",
       "      <td>11110_198809-390636-1</td>\n",
       "      <td>economic_attributes</td>\n",
       "      <td>income/wealth/economic status</td>\n",
       "      <td>No</td>\n",
       "      <td>coders</td>\n",
       "      <td>4.0</td>\n",
       "    </tr>\n",
       "  </tbody>\n",
       "</table>\n",
       "</div>"
      ],
      "text/plain": [
       "              mention_id                 q_id                       category  \\\n",
       "0  11110_198809-390636-1  economic_attributes               class membership   \n",
       "1  11110_198809-390636-1  economic_attributes               ecology of group   \n",
       "2  11110_198809-390636-1  economic_attributes                education level   \n",
       "3  11110_198809-390636-1  economic_attributes              employment status   \n",
       "4  11110_198809-390636-1  economic_attributes  income/wealth/economic status   \n",
       "\n",
       "  label  source  q_category  \n",
       "0    No  coders         1.0  \n",
       "1    No  coders         6.0  \n",
       "2    No  coders         3.0  \n",
       "3    No  coders         2.0  \n",
       "4    No  coders         4.0  "
      ]
     },
     "execution_count": 267,
     "metadata": {},
     "output_type": "execute_result"
    }
   ],
   "source": [
    "# check ---\n",
    "for d in df.q_id.unique(): \n",
    "    print(d, ':', df[df.q_id == d].groupby('mention_id').ngroups)\n",
    "df.head()"
   ]
  },
  {
   "cell_type": "code",
   "execution_count": 268,
   "metadata": {},
   "outputs": [],
   "source": [
    "# drop duplicates (keeping expert annotations)\n",
    "df.loc[df.category.isna(), 'category'] = ''\n",
    "df.loc[df.q_category.isna(), 'q_category'] = -1.0\n",
    "df = df.groupby(df.columns.drop('source').to_list()).agg({'source': 'max'}).reset_index()"
   ]
  },
  {
   "cell_type": "code",
   "execution_count": 269,
   "metadata": {},
   "outputs": [
    {
     "data": {
      "text/plain": [
       "source\n",
       "coders    2968\n",
       "expert    2881\n",
       "Name: count, dtype: int64"
      ]
     },
     "execution_count": 269,
     "metadata": {},
     "output_type": "execute_result"
    }
   ],
   "source": [
    "df.source.value_counts()"
   ]
  },
  {
   "cell_type": "code",
   "execution_count": 270,
   "metadata": {},
   "outputs": [
    {
     "name": "stdout",
     "output_type": "stream",
     "text": [
      "economic_attributes : 300\n",
      "non-economic_attributes : 300\n",
      "stance : 300\n",
      "universal_attributes : 300\n"
     ]
    },
    {
     "data": {
      "text/html": [
       "<div>\n",
       "<style scoped>\n",
       "    .dataframe tbody tr th:only-of-type {\n",
       "        vertical-align: middle;\n",
       "    }\n",
       "\n",
       "    .dataframe tbody tr th {\n",
       "        vertical-align: top;\n",
       "    }\n",
       "\n",
       "    .dataframe thead th {\n",
       "        text-align: right;\n",
       "    }\n",
       "</style>\n",
       "<table border=\"1\" class=\"dataframe\">\n",
       "  <thead>\n",
       "    <tr style=\"text-align: right;\">\n",
       "      <th></th>\n",
       "      <th>mention_id</th>\n",
       "      <th>q_id</th>\n",
       "      <th>category</th>\n",
       "      <th>label</th>\n",
       "      <th>q_category</th>\n",
       "      <th>source</th>\n",
       "    </tr>\n",
       "  </thead>\n",
       "  <tbody>\n",
       "    <tr>\n",
       "      <th>0</th>\n",
       "      <td>11110_198809-390636-1</td>\n",
       "      <td>economic_attributes</td>\n",
       "      <td>class membership</td>\n",
       "      <td>No</td>\n",
       "      <td>1.0</td>\n",
       "      <td>coders</td>\n",
       "    </tr>\n",
       "    <tr>\n",
       "      <th>1</th>\n",
       "      <td>11110_198809-390636-1</td>\n",
       "      <td>economic_attributes</td>\n",
       "      <td>ecology of group</td>\n",
       "      <td>No</td>\n",
       "      <td>6.0</td>\n",
       "      <td>coders</td>\n",
       "    </tr>\n",
       "    <tr>\n",
       "      <th>2</th>\n",
       "      <td>11110_198809-390636-1</td>\n",
       "      <td>economic_attributes</td>\n",
       "      <td>education level</td>\n",
       "      <td>No</td>\n",
       "      <td>3.0</td>\n",
       "      <td>coders</td>\n",
       "    </tr>\n",
       "    <tr>\n",
       "      <th>3</th>\n",
       "      <td>11110_198809-390636-1</td>\n",
       "      <td>economic_attributes</td>\n",
       "      <td>employment status</td>\n",
       "      <td>No</td>\n",
       "      <td>2.0</td>\n",
       "      <td>coders</td>\n",
       "    </tr>\n",
       "    <tr>\n",
       "      <th>4</th>\n",
       "      <td>11110_198809-390636-1</td>\n",
       "      <td>economic_attributes</td>\n",
       "      <td>income/wealth/economic status</td>\n",
       "      <td>No</td>\n",
       "      <td>4.0</td>\n",
       "      <td>coders</td>\n",
       "    </tr>\n",
       "  </tbody>\n",
       "</table>\n",
       "</div>"
      ],
      "text/plain": [
       "              mention_id                 q_id                       category  \\\n",
       "0  11110_198809-390636-1  economic_attributes               class membership   \n",
       "1  11110_198809-390636-1  economic_attributes               ecology of group   \n",
       "2  11110_198809-390636-1  economic_attributes                education level   \n",
       "3  11110_198809-390636-1  economic_attributes              employment status   \n",
       "4  11110_198809-390636-1  economic_attributes  income/wealth/economic status   \n",
       "\n",
       "  label  q_category  source  \n",
       "0    No         1.0  coders  \n",
       "1    No         6.0  coders  \n",
       "2    No         3.0  coders  \n",
       "3    No         2.0  coders  \n",
       "4    No         4.0  coders  "
      ]
     },
     "execution_count": 270,
     "metadata": {},
     "output_type": "execute_result"
    }
   ],
   "source": [
    "# check ---\n",
    "for d in df.q_id.unique(): \n",
    "    print(d, ':', df[df.q_id == d].groupby('mention_id').ngroups)\n",
    "df.head()"
   ]
  },
  {
   "cell_type": "markdown",
   "metadata": {},
   "source": [
    "### re-review \"universal\" cases to check if they mention 'shared values/mentalities'"
   ]
  },
  {
   "cell_type": "code",
   "execution_count": 271,
   "metadata": {},
   "outputs": [],
   "source": [
    "# see if there is disagreement between coders agreement labels and expert annotation\n",
    "tmp = df.loc[np.logical_and(df.q_id == 'universal_attributes', df.label == 'Yes'), ['mention_id', 'source']]\n",
    "\n",
    "tmp = tmp.merge(agreement_cases_df[['mention_id', 'text', 'mention']].drop_duplicates(), how='left')\n",
    "\n",
    "fp = os.path.join(data_path, 'parsed',  'universal_mentions.tsv')\n",
    "if not os.path.exists(fp):\n",
    "    tmp[['mention_id', 'text', 'mention', 'source']].to_csv(fp, sep='\\t', index=False)"
   ]
  },
  {
   "cell_type": "code",
   "execution_count": 272,
   "metadata": {},
   "outputs": [],
   "source": [
    "fp = os.path.join(data_path, 'parsed',  'universal_mentions_resolved.tsv')\n",
    "resolved = pd.read_csv(fp, sep='\\t')\n",
    "resolved = tmp[['mention_id']].merge(resolved, how='left')"
   ]
  },
  {
   "cell_type": "code",
   "execution_count": 273,
   "metadata": {},
   "outputs": [],
   "source": [
    "resolved['q_id'] = 'non-economic_attributes'\n",
    "resolved['category'] = 'shared values/mentalities'\n",
    "resolved['q_category'] = resolved.category.map(nonecon_cat2id).astype(float)\n",
    "resolved['source'] = 'expert'\n",
    "resolved.rename(columns={'mentions_shared_values_mentalities': 'label'}, inplace=True)"
   ]
  },
  {
   "cell_type": "code",
   "execution_count": 274,
   "metadata": {},
   "outputs": [],
   "source": [
    "# mid = '11110_199109-390940-1'\n",
    "# mid = '13951_199803-188190-1'\n",
    "# resolved[np.logical_and(resolved.mention_id == mid, resolved.q_id == 'non-economic_attributes')]"
   ]
  },
  {
   "cell_type": "code",
   "execution_count": 275,
   "metadata": {},
   "outputs": [],
   "source": [
    "# expand df by cases where \"non-econ: shared values/mentalities\" is True\n",
    "df = df.merge(resolved[key_cols], on=key_cols, how='left', indicator=True)\n",
    "df = df[df._merge == 'left_only'].drop(columns='_merge')\n",
    "df = pd.concat([df, resolved[df.columns]], ignore_index=True).sort_values(key_cols).reset_index(drop=True).drop_duplicates()"
   ]
  },
  {
   "cell_type": "code",
   "execution_count": 276,
   "metadata": {},
   "outputs": [
    {
     "name": "stdout",
     "output_type": "stream",
     "text": [
      "economic_attributes 0\n",
      "non-economic_attributes 0\n",
      "stance 0\n",
      "universal_attributes 0\n"
     ]
    }
   ],
   "source": [
    "for d in df.q_id.unique():\n",
    "    tmp = df[df.q_id == d].groupby(['mention_id', 'category']).size().reset_index()\n",
    "    print(d, len(tmp[tmp[0] > 1]))"
   ]
  },
  {
   "cell_type": "code",
   "execution_count": 277,
   "metadata": {},
   "outputs": [],
   "source": [
    "# expand df with rows \"non-econ: shared values/mentalities\" is False where this attribute is missing\n",
    "tmp = df[df.q_id == 'non-economic_attributes'].groupby('mention_id').agg({'category': lambda x: 'shared values/mentalities' in x.tolist()}).reset_index()\n",
    "tmp = tmp.loc[~tmp.category, ['mention_id']]\n",
    "tmp['q_id'] = 'non-economic_attributes'\n",
    "tmp['category'] = 'shared values/mentalities'\n",
    "tmp['q_category'] = float(nonecon_cat2id['shared values/mentalities'])\n",
    "tmp['source'] = 'expert'\n",
    "tmp['label'] = 'No'\n",
    "\n",
    "df = pd.concat([df, tmp], ignore_index=True)\n",
    "df = df.sort_values(key_cols).reset_index(drop=True)"
   ]
  },
  {
   "cell_type": "code",
   "execution_count": 278,
   "metadata": {},
   "outputs": [
    {
     "data": {
      "text/plain": [
       "category\n",
       "age                          300\n",
       "crime                        300\n",
       "ethnicity                    300\n",
       "family                       300\n",
       "gender/sexuality             300\n",
       "health                       300\n",
       "nationality                  300\n",
       "other                        300\n",
       "place/location               300\n",
       "religion                     300\n",
       "shared values/mentalities    300\n",
       "Name: count, dtype: int64"
      ]
     },
     "execution_count": 278,
     "metadata": {},
     "output_type": "execute_result"
    }
   ],
   "source": [
    "df[df.q_id == 'non-economic_attributes'].category.value_counts()"
   ]
  },
  {
   "cell_type": "code",
   "execution_count": 279,
   "metadata": {},
   "outputs": [
    {
     "name": "stdout",
     "output_type": "stream",
     "text": [
      "economic_attributes : 300\n",
      "non-economic_attributes : 300\n",
      "stance : 300\n",
      "universal_attributes : 300\n"
     ]
    }
   ],
   "source": [
    "# check ---\n",
    "for d in df.q_id.unique(): \n",
    "    print(d, ':', df[df.q_id == d].groupby('mention_id').ngroups)"
   ]
  },
  {
   "cell_type": "code",
   "execution_count": 280,
   "metadata": {},
   "outputs": [
    {
     "data": {
      "text/plain": [
       "q_id\n",
       "non-economic_attributes    3300\n",
       "economic_attributes        2100\n",
       "stance                      300\n",
       "universal_attributes        300\n",
       "Name: count, dtype: int64"
      ]
     },
     "execution_count": 280,
     "metadata": {},
     "output_type": "execute_result"
    }
   ],
   "source": [
    "df.q_id.value_counts(dropna=False)"
   ]
  },
  {
   "cell_type": "code",
   "execution_count": 281,
   "metadata": {},
   "outputs": [],
   "source": [
    "agg = df[df.q_id != 'stance'].groupby(['mention_id', 'q_id']).agg({'label': lambda x: 'Yes' in x.tolist(), 'source': 'max'}).reset_index()\n",
    "agg = agg.pivot(index='mention_id', columns='q_id', values='label').reset_index()\n",
    "agg.columns.name = None"
   ]
  },
  {
   "cell_type": "code",
   "execution_count": 282,
   "metadata": {},
   "outputs": [
    {
     "data": {
      "text/plain": [
       "universal_attributes  economic_attributes  non-economic_attributes\n",
       "False                 False                True                       145\n",
       "                      True                 False                       99\n",
       "                                           True                        15\n",
       "True                  False                False                       41\n",
       "Name: count, dtype: int64"
      ]
     },
     "execution_count": 282,
     "metadata": {},
     "output_type": "execute_result"
    }
   ],
   "source": [
    "agg[['universal_attributes', 'economic_attributes', 'non-economic_attributes']].value_counts(dropna=False, sort=False)"
   ]
  },
  {
   "cell_type": "code",
   "execution_count": 283,
   "metadata": {},
   "outputs": [
    {
     "data": {
      "text/html": [
       "<div>\n",
       "<style scoped>\n",
       "    .dataframe tbody tr th:only-of-type {\n",
       "        vertical-align: middle;\n",
       "    }\n",
       "\n",
       "    .dataframe tbody tr th {\n",
       "        vertical-align: top;\n",
       "    }\n",
       "\n",
       "    .dataframe thead th {\n",
       "        text-align: right;\n",
       "    }\n",
       "</style>\n",
       "<table border=\"1\" class=\"dataframe\">\n",
       "  <thead>\n",
       "    <tr style=\"text-align: right;\">\n",
       "      <th></th>\n",
       "      <th>mention_id</th>\n",
       "      <th>economic_attributes</th>\n",
       "      <th>non-economic_attributes</th>\n",
       "      <th>universal_attributes</th>\n",
       "    </tr>\n",
       "  </thead>\n",
       "  <tbody>\n",
       "  </tbody>\n",
       "</table>\n",
       "</div>"
      ],
      "text/plain": [
       "Empty DataFrame\n",
       "Columns: [mention_id, economic_attributes, non-economic_attributes, universal_attributes]\n",
       "Index: []"
      ]
     },
     "execution_count": 283,
     "metadata": {},
     "output_type": "execute_result"
    }
   ],
   "source": [
    "agg[np.logical_and(agg.universal_attributes, agg.economic_attributes)] # should be empty"
   ]
  },
  {
   "cell_type": "code",
   "execution_count": 284,
   "metadata": {},
   "outputs": [
    {
     "data": {
      "text/html": [
       "<div>\n",
       "<style scoped>\n",
       "    .dataframe tbody tr th:only-of-type {\n",
       "        vertical-align: middle;\n",
       "    }\n",
       "\n",
       "    .dataframe tbody tr th {\n",
       "        vertical-align: top;\n",
       "    }\n",
       "\n",
       "    .dataframe thead th {\n",
       "        text-align: right;\n",
       "    }\n",
       "</style>\n",
       "<table border=\"1\" class=\"dataframe\">\n",
       "  <thead>\n",
       "    <tr style=\"text-align: right;\">\n",
       "      <th></th>\n",
       "      <th>mention_id</th>\n",
       "      <th>economic_attributes</th>\n",
       "      <th>non-economic_attributes</th>\n",
       "      <th>universal_attributes</th>\n",
       "    </tr>\n",
       "  </thead>\n",
       "  <tbody>\n",
       "  </tbody>\n",
       "</table>\n",
       "</div>"
      ],
      "text/plain": [
       "Empty DataFrame\n",
       "Columns: [mention_id, economic_attributes, non-economic_attributes, universal_attributes]\n",
       "Index: []"
      ]
     },
     "execution_count": 284,
     "metadata": {},
     "output_type": "execute_result"
    }
   ],
   "source": [
    "agg[np.logical_and(agg.universal_attributes, agg['non-economic_attributes'])] # should be empty"
   ]
  },
  {
   "cell_type": "markdown",
   "metadata": {},
   "source": [
    "## Output combined"
   ]
  },
  {
   "cell_type": "code",
   "execution_count": 285,
   "metadata": {},
   "outputs": [
    {
     "data": {
      "text/plain": [
       "q_id                     category                       q_category\n",
       "economic_attributes      class membership                1.0          300\n",
       "                         ecology of group                6.0          300\n",
       "                         education level                 3.0          300\n",
       "                         employment status               2.0          300\n",
       "                         income/wealth/economic status   4.0          300\n",
       "                         occupation/profession           5.0          300\n",
       "                         other                           7.0          300\n",
       "non-economic_attributes  age                             1.0          300\n",
       "                         crime                           9.0          300\n",
       "                         ethnicity                       6.0          300\n",
       "                         family                          2.0          300\n",
       "                         gender/sexuality                3.0          300\n",
       "                         health                          8.0          300\n",
       "                         nationality                     5.0          300\n",
       "                         other                           10.0         300\n",
       "                         place/location                  4.0          300\n",
       "                         religion                        7.0          300\n",
       "                         shared values/mentalities       11.0         300\n",
       "stance                                                  -1.0          300\n",
       "universal_attributes                                    -1.0          300\n",
       "Name: count, dtype: int64"
      ]
     },
     "execution_count": 285,
     "metadata": {},
     "output_type": "execute_result"
    }
   ],
   "source": [
    "df[['q_id', 'category', 'q_category']].value_counts(dropna=False, sort=False)"
   ]
  },
  {
   "cell_type": "code",
   "execution_count": 286,
   "metadata": {},
   "outputs": [
    {
     "data": {
      "text/plain": [
       "label\n",
       "No          5353\n",
       "Yes          347\n",
       "Positive     242\n",
       "Negative      34\n",
       "Neutral       23\n",
       "Unsure         1\n",
       "Name: count, dtype: int64"
      ]
     },
     "execution_count": 286,
     "metadata": {},
     "output_type": "execute_result"
    }
   ],
   "source": [
    "df.label.value_counts()"
   ]
  },
  {
   "cell_type": "code",
   "execution_count": 287,
   "metadata": {},
   "outputs": [
    {
     "data": {
      "text/plain": [
       "q_id                     q_category  category                     \n",
       "economic_attributes       1.0        class membership                  8\n",
       "                          2.0        employment status                26\n",
       "                          3.0        education level                   5\n",
       "                          4.0        income/wealth/economic status    26\n",
       "                          5.0        occupation/profession            50\n",
       "                          6.0        ecology of group                 11\n",
       "non-economic_attributes   1.0        age                              43\n",
       "                          2.0        family                           20\n",
       "                          3.0        gender/sexuality                  8\n",
       "                          4.0        place/location                    7\n",
       "                          5.0        nationality                      46\n",
       "                          6.0        ethnicity                         3\n",
       "                          7.0        religion                          3\n",
       "                          8.0        health                           10\n",
       "                          9.0        crime                             6\n",
       "                          10.0       other                             4\n",
       "                          11.0       shared values/mentalities        30\n",
       "universal_attributes     -1.0                                         41\n",
       "Name: count, dtype: int64"
      ]
     },
     "execution_count": 287,
     "metadata": {},
     "output_type": "execute_result"
    }
   ],
   "source": [
    "df.loc[df.label == 'Yes', ['q_id', 'q_category', 'category']].value_counts(dropna=False, sort=False)"
   ]
  },
  {
   "cell_type": "code",
   "execution_count": 288,
   "metadata": {},
   "outputs": [
    {
     "data": {
      "text/plain": [
       "q_id    label   \n",
       "stance  Negative     34\n",
       "        Neutral      23\n",
       "        Positive    242\n",
       "        Unsure        1\n",
       "Name: count, dtype: int64"
      ]
     },
     "execution_count": 288,
     "metadata": {},
     "output_type": "execute_result"
    }
   ],
   "source": [
    "df.loc[df.q_id == 'stance', ['q_id', 'label']].value_counts(dropna=False, sort=False)"
   ]
  },
  {
   "cell_type": "code",
   "execution_count": 289,
   "metadata": {},
   "outputs": [
    {
     "data": {
      "text/plain": [
       "q_id\n",
       "4    300\n",
       "Name: count, dtype: int64"
      ]
     },
     "execution_count": 289,
     "metadata": {},
     "output_type": "execute_result"
    }
   ],
   "source": [
    "idxs = df.groupby(['mention_id']).agg({'q_id': lambda x: x.nunique()})\n",
    "idxs.q_id.value_counts() # all 300 should be 4"
   ]
  },
  {
   "cell_type": "code",
   "execution_count": 290,
   "metadata": {},
   "outputs": [],
   "source": [
    "fp = '../../../data/intermediate/social_group_mentions_ranked.tsv'\n",
    "texts = pd.read_csv(fp, sep='\\t')\n",
    "texts['mention_id'] = texts.text_id.astype(str) + '-' + texts.mention_nr.astype(str)\n",
    "texts = texts[['mention_id', 'text', 'mention', 'prev_texts', 'next_texts']]"
   ]
  },
  {
   "cell_type": "code",
   "execution_count": 291,
   "metadata": {},
   "outputs": [],
   "source": [
    "df = df.merge(texts, on='mention_id', how='left', indicator=True)"
   ]
  },
  {
   "cell_type": "code",
   "execution_count": 292,
   "metadata": {},
   "outputs": [],
   "source": [
    "cols = list(texts.columns) + ['q_id', 'q_category', 'category', 'label', 'source']\n",
    "df = df[cols]"
   ]
  },
  {
   "cell_type": "code",
   "execution_count": 231,
   "metadata": {},
   "outputs": [],
   "source": [
    "fp = os.path.join(data_path, 'parsed',  'consolidated_annotations.tsv')\n",
    "df.to_csv(fp, sep='\\t', index=False)"
   ]
  },
  {
   "cell_type": "code",
   "execution_count": 295,
   "metadata": {},
   "outputs": [
    {
     "data": {
      "text/html": [
       "<div>\n",
       "<style scoped>\n",
       "    .dataframe tbody tr th:only-of-type {\n",
       "        vertical-align: middle;\n",
       "    }\n",
       "\n",
       "    .dataframe tbody tr th {\n",
       "        vertical-align: top;\n",
       "    }\n",
       "\n",
       "    .dataframe thead th {\n",
       "        text-align: right;\n",
       "    }\n",
       "</style>\n",
       "<table border=\"1\" class=\"dataframe\">\n",
       "  <thead>\n",
       "    <tr style=\"text-align: right;\">\n",
       "      <th></th>\n",
       "      <th>mention_id</th>\n",
       "      <th>text</th>\n",
       "      <th>mention</th>\n",
       "      <th>prev_texts</th>\n",
       "      <th>next_texts</th>\n",
       "      <th>q_id</th>\n",
       "      <th>q_category</th>\n",
       "      <th>category</th>\n",
       "      <th>label</th>\n",
       "      <th>source</th>\n",
       "    </tr>\n",
       "  </thead>\n",
       "  <tbody>\n",
       "    <tr>\n",
       "      <th>0</th>\n",
       "      <td>11110_198809-390636-1</td>\n",
       "      <td>Give parents the right to become municipal day...</td>\n",
       "      <td>parents</td>\n",
       "      <td>Extend parental insurance to two years with th...</td>\n",
       "      <td>Immediate legal right to reduce working hours ...</td>\n",
       "      <td>economic_attributes</td>\n",
       "      <td>1.0</td>\n",
       "      <td>class membership</td>\n",
       "      <td>No</td>\n",
       "      <td>coders</td>\n",
       "    </tr>\n",
       "    <tr>\n",
       "      <th>1</th>\n",
       "      <td>11110_198809-390636-1</td>\n",
       "      <td>Give parents the right to become municipal day...</td>\n",
       "      <td>parents</td>\n",
       "      <td>Extend parental insurance to two years with th...</td>\n",
       "      <td>Immediate legal right to reduce working hours ...</td>\n",
       "      <td>economic_attributes</td>\n",
       "      <td>6.0</td>\n",
       "      <td>ecology of group</td>\n",
       "      <td>No</td>\n",
       "      <td>coders</td>\n",
       "    </tr>\n",
       "  </tbody>\n",
       "</table>\n",
       "</div>"
      ],
      "text/plain": [
       "              mention_id                                               text  \\\n",
       "0  11110_198809-390636-1  Give parents the right to become municipal day...   \n",
       "1  11110_198809-390636-1  Give parents the right to become municipal day...   \n",
       "\n",
       "   mention                                         prev_texts  \\\n",
       "0  parents  Extend parental insurance to two years with th...   \n",
       "1  parents  Extend parental insurance to two years with th...   \n",
       "\n",
       "                                          next_texts                 q_id  \\\n",
       "0  Immediate legal right to reduce working hours ...  economic_attributes   \n",
       "1  Immediate legal right to reduce working hours ...  economic_attributes   \n",
       "\n",
       "   q_category          category label  source  \n",
       "0         1.0  class membership    No  coders  \n",
       "1         6.0  ecology of group    No  coders  "
      ]
     },
     "execution_count": 295,
     "metadata": {},
     "output_type": "execute_result"
    }
   ],
   "source": [
    "df.head(2)"
   ]
  },
  {
   "cell_type": "code",
   "execution_count": 318,
   "metadata": {},
   "outputs": [
    {
     "name": "stderr",
     "output_type": "stream",
     "text": [
      "/var/folders/_c/cm0nk6y92rz2l6ct3npgw9tr0000gn/T/ipykernel_17681/773434771.py:19: DeprecationWarning: DataFrameGroupBy.apply operated on the grouping columns. This behavior is deprecated, and in a future version of pandas the grouping columns will be excluded from the operation. Either pass `include_groups=False` to exclude the groupings or explicitly select the grouping columns after groupby to silence this warning.\n",
      "  df_wider = tmp.groupby(cols).apply(concat).reset_index().rename(columns={0: 'labels'})\n"
     ]
    },
    {
     "data": {
      "text/html": [
       "<div>\n",
       "<style scoped>\n",
       "    .dataframe tbody tr th:only-of-type {\n",
       "        vertical-align: middle;\n",
       "    }\n",
       "\n",
       "    .dataframe tbody tr th {\n",
       "        vertical-align: top;\n",
       "    }\n",
       "\n",
       "    .dataframe thead th {\n",
       "        text-align: right;\n",
       "    }\n",
       "</style>\n",
       "<table border=\"1\" class=\"dataframe\">\n",
       "  <thead>\n",
       "    <tr style=\"text-align: right;\">\n",
       "      <th></th>\n",
       "      <th>mention_id</th>\n",
       "      <th>text</th>\n",
       "      <th>mention</th>\n",
       "      <th>prev_texts</th>\n",
       "      <th>next_texts</th>\n",
       "      <th>universal_attributes</th>\n",
       "      <th>economic_attributes</th>\n",
       "      <th>non-economic_attributes</th>\n",
       "      <th>stance</th>\n",
       "    </tr>\n",
       "  </thead>\n",
       "  <tbody>\n",
       "    <tr>\n",
       "      <th>0</th>\n",
       "      <td>11110_198809-390636-1</td>\n",
       "      <td>Give parents the right to become municipal day...</td>\n",
       "      <td>parents</td>\n",
       "      <td>Extend parental insurance to two years with th...</td>\n",
       "      <td>Immediate legal right to reduce working hours ...</td>\n",
       "      <td>No</td>\n",
       "      <td></td>\n",
       "      <td>family</td>\n",
       "      <td>Positive</td>\n",
       "    </tr>\n",
       "    <tr>\n",
       "      <th>1</th>\n",
       "      <td>11110_199109-390940-1</td>\n",
       "      <td>It is only within the ecological framework tha...</td>\n",
       "      <td>a society for survival in prosperity and well-...</td>\n",
       "      <td>Congress adopted this election manifesto on Ma...</td>\n",
       "      <td>Ecological integrity must be the basis of all ...</td>\n",
       "      <td>Yes</td>\n",
       "      <td></td>\n",
       "      <td></td>\n",
       "      <td>Positive</td>\n",
       "    </tr>\n",
       "  </tbody>\n",
       "</table>\n",
       "</div>"
      ],
      "text/plain": [
       "              mention_id                                               text  \\\n",
       "0  11110_198809-390636-1  Give parents the right to become municipal day...   \n",
       "1  11110_199109-390940-1  It is only within the ecological framework tha...   \n",
       "\n",
       "                                             mention  \\\n",
       "0                                            parents   \n",
       "1  a society for survival in prosperity and well-...   \n",
       "\n",
       "                                          prev_texts  \\\n",
       "0  Extend parental insurance to two years with th...   \n",
       "1  Congress adopted this election manifesto on Ma...   \n",
       "\n",
       "                                          next_texts universal_attributes  \\\n",
       "0  Immediate legal right to reduce working hours ...                   No   \n",
       "1  Ecological integrity must be the basis of all ...                  Yes   \n",
       "\n",
       "  economic_attributes non-economic_attributes    stance  \n",
       "0                                      family  Positive  \n",
       "1                                              Positive  "
      ]
     },
     "execution_count": 318,
     "metadata": {},
     "output_type": "execute_result"
    }
   ],
   "source": [
    "# in wider format\n",
    "\n",
    "tmp = df.copy(deep=True)\n",
    "tmp.loc[tmp.category == 'other', 'q_category'] = 99.0\n",
    "\n",
    "# concate values in category where label=='Yes' into string of comma separated values, sorting by q_category\n",
    "def concat(x):\n",
    "    if x.category.nunique() == 1:\n",
    "        return x.label.iloc[0]\n",
    "    if x.category.isna().all():\n",
    "        return x.label.iloc[0]\n",
    "    x = x[x.label == 'Yes']\n",
    "    if len(x) == 0:\n",
    "        return ''\n",
    "    x.sort_values('q_category', inplace=True)\n",
    "    return ', '.join(x.category)\n",
    "    \n",
    "cols = ['mention_id', 'text', 'mention', 'prev_texts', 'next_texts', 'q_id']\n",
    "df_wider = tmp.groupby(cols).apply(concat).reset_index().rename(columns={0: 'labels'})\n",
    "\n",
    "# pivot wider values from 'labels' to columns using 'q_id' as columns\n",
    "cols.remove('q_id')\n",
    "df_wider = df_wider.pivot(index=cols, columns='q_id', values='labels').reset_index()\n",
    "df_wider.columns.name = None\n",
    "\n",
    "cols += ['universal_attributes', 'economic_attributes', 'non-economic_attributes', 'stance']\n",
    "df_wider = df_wider[cols]\n",
    "\n",
    "df_wider.head(2)"
   ]
  }
 ],
 "metadata": {
  "kernelspec": {
   "display_name": "galtan_group_appeals",
   "language": "python",
   "name": "python3"
  },
  "language_info": {
   "codemirror_mode": {
    "name": "ipython",
    "version": 3
   },
   "file_extension": ".py",
   "mimetype": "text/x-python",
   "name": "python",
   "nbconvert_exporter": "python",
   "pygments_lexer": "ipython3",
   "version": "3.11.10"
  }
 },
 "nbformat": 4,
 "nbformat_minor": 2
}
