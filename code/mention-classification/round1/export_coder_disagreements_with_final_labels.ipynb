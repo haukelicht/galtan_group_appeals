{
 "cells": [
  {
   "cell_type": "code",
   "execution_count": 23,
   "metadata": {},
   "outputs": [],
   "source": [
    "import os\n",
    "import numpy as np\n",
    "import pandas as pd\n",
    "\n",
    "data_path = '../../data/annotations/group_mention_categorization/social-group-mention-categorization-coder-training'"
   ]
  },
  {
   "cell_type": "code",
   "execution_count": 66,
   "metadata": {},
   "outputs": [],
   "source": [
    "fp = os.path.join(data_path, 'parsed', 'annotations.tsv')\n",
    "annotations = pd.read_csv(fp, sep='\\t')\n",
    "annotators = annotations.annotator.unique()\n",
    "\n",
    "annotations.loc[annotations.q_category.isna(), 'q_category'] = -1.0\n",
    "annotations.loc[annotations.q_id == 'universal_attributes', 'q_category'] = -1.0"
   ]
  },
  {
   "cell_type": "code",
   "execution_count": 67,
   "metadata": {},
   "outputs": [],
   "source": [
    "fp = os.path.join(data_path, 'parsed', 'consolidated_annotations.tsv')\n",
    "consolidated = pd.read_csv(fp, sep='\\t')"
   ]
  },
  {
   "cell_type": "code",
   "execution_count": 69,
   "metadata": {},
   "outputs": [
    {
     "data": {
      "text/plain": [
       "category  q_category\n",
       "NaN       -1.0          600\n",
       "Name: count, dtype: int64"
      ]
     },
     "execution_count": 69,
     "metadata": {},
     "output_type": "execute_result"
    }
   ],
   "source": [
    "annotations.loc[annotations.q_id == 'universal_attributes', ['category', 'q_category']].value_counts(dropna=False)"
   ]
  },
  {
   "cell_type": "code",
   "execution_count": 70,
   "metadata": {},
   "outputs": [
    {
     "data": {
      "text/plain": [
       "category  q_category\n",
       "NaN       -1.0          300\n",
       "Name: count, dtype: int64"
      ]
     },
     "execution_count": 70,
     "metadata": {},
     "output_type": "execute_result"
    }
   ],
   "source": [
    "consolidated.loc[consolidated.q_id == 'universal_attributes', ['category', 'q_category']].value_counts(dropna=False)"
   ]
  },
  {
   "cell_type": "code",
   "execution_count": 105,
   "metadata": {},
   "outputs": [],
   "source": [
    "text_cols = ['mention_id', 'text', 'mention']\n",
    "cols = ['mention_id', 'q_id', 'q_category', 'category']"
   ]
  },
  {
   "cell_type": "code",
   "execution_count": 113,
   "metadata": {},
   "outputs": [
    {
     "name": "stderr",
     "output_type": "stream",
     "text": [
      "/var/folders/_c/cm0nk6y92rz2l6ct3npgw9tr0000gn/T/ipykernel_18174/2075745738.py:14: DeprecationWarning: DataFrameGroupBy.apply operated on the grouping columns. This behavior is deprecated, and in a future version of pandas the grouping columns will be excluded from the operation. Either pass `include_groups=False` to exclude the groupings or explicitly select the grouping columns after groupby to silence this warning.\n",
      "  consolidated_wider = tmp.groupby(['mention_id', 'q_id']).apply(concat).reset_index().rename(columns={0: 'consolidated_labels'})\n"
     ]
    }
   ],
   "source": [
    "tmp = consolidated.copy(deep=True)\n",
    "tmp.loc[tmp.category == 'other', 'q_category'] = 99.0\n",
    "\n",
    "# concate values in category where label=='Yes' into string of comma separated values, sorting by q_category\n",
    "def concat(x):\n",
    "    if x.category.isna().all():\n",
    "        return x.label.iloc[0]\n",
    "    x = x[x.label == 'Yes']\n",
    "    if len(x) == 0:\n",
    "        return '-/-'\n",
    "    x.sort_values('q_category', inplace=True)\n",
    "    return ', '.join(x.category)\n",
    "    \n",
    "consolidated_wider = tmp.groupby(['mention_id', 'q_id']).apply(concat).reset_index().rename(columns={0: 'consolidated_labels'})"
   ]
  },
  {
   "cell_type": "code",
   "execution_count": 120,
   "metadata": {},
   "outputs": [
    {
     "name": "stdout",
     "output_type": "stream",
     "text": [
      "Eichholz\n",
      "Ford\n"
     ]
    }
   ],
   "source": [
    "for annotator, annons in annotations.groupby('annotator'):\n",
    "    print(annotator)\n",
    "    tmp = consolidated[cols + ['label']].merge(\n",
    "        annons[cols + ['response']],\n",
    "        on=cols,\n",
    "        how='left'\n",
    "    )\n",
    "\n",
    "    tmp.loc[np.logical_and(tmp.q_id == 'universal_attributes', tmp.response.isna()), 'response'] = 'No'\n",
    "\n",
    "    idxs = np.logical_and(tmp.q_id == 'non-economic_attributes', tmp.category == 'shared values/mentalities')\n",
    "    idxs = np.logical_and(idxs, tmp.label == 'No')\n",
    "    tmp = tmp[~idxs]\n",
    "\n",
    "    # subset to only disagreements\n",
    "    disagreements = tmp[tmp.label != tmp.response]\n",
    "\n",
    "    # join wider labels (for annotator to see how we decided eventually)\n",
    "    disagreements = disagreements.merge(consolidated_wider, on=['mention_id', 'q_id'], how='left')\n",
    "\n",
    "    # join text and mention\n",
    "    disagreements = disagreements.merge(consolidated[text_cols].drop_duplicates(), on='mention_id', how='left')\n",
    "\n",
    "    disagreements.sort_values(['mention_id', 'q_id', 'q_category'], inplace=True)\n",
    "    disagreements = disagreements[text_cols + ['q_id', 'category', 'label', 'response', 'consolidated_labels']]\n",
    "    disagreements.rename(columns={'q_id': 'dimension'}, inplace=True)\n",
    "\n",
    "    fp = os.path.join(data_path, 'parsed', f'feedback_{annotator.lower()}.tsv')\n",
    "    disagreements.to_csv(fp, sep='\\t', index=False)"
   ]
  }
 ],
 "metadata": {
  "kernelspec": {
   "display_name": "galtan_group_appeals",
   "language": "python",
   "name": "python3"
  },
  "language_info": {
   "codemirror_mode": {
    "name": "ipython",
    "version": 3
   },
   "file_extension": ".py",
   "mimetype": "text/x-python",
   "name": "python",
   "nbconvert_exporter": "python",
   "pygments_lexer": "ipython3",
   "version": "3.11.10"
  }
 },
 "nbformat": 4,
 "nbformat_minor": 2
}
