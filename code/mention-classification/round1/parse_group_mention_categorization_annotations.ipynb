{
 "cells": [
  {
   "cell_type": "code",
   "execution_count": 19,
   "metadata": {},
   "outputs": [],
   "source": [
    "from types import SimpleNamespace\n",
    "\n",
    "args = SimpleNamespace()\n",
    "\n",
    "args.text_data_file = '../../data/intermediate/social_group_mentions_ranked.tsv'\n",
    "args.text_col = 'text'\n",
    "args.text_id_col = 'text_id'\n",
    "args.mention_col = 'mention'\n",
    "args.mention_id_col = 'mention_nr'\n",
    "args.mention_id_format = '{text_id}-{mention_id}'\n",
    "\n",
    "args.attributes_file = '../../data/annotations/group_mention_categorization/group_attributes.yaml'"
   ]
  },
  {
   "cell_type": "code",
   "execution_count": 20,
   "metadata": {},
   "outputs": [],
   "source": [
    "import os\n",
    "import yaml\n",
    "import pandas as pd\n",
    "import numpy as np\n",
    "from collections import Counter"
   ]
  },
  {
   "cell_type": "code",
   "execution_count": 21,
   "metadata": {},
   "outputs": [],
   "source": [
    "texts = pd.read_csv(args.text_data_file, sep='\\t')\n",
    "texts['mention_id'] = texts.apply(lambda r: args.mention_id_format.format(text_id=r[args.text_id_col], mention_id=r[args.mention_id_col]), axis=1)"
   ]
  },
  {
   "cell_type": "code",
   "execution_count": 22,
   "metadata": {},
   "outputs": [],
   "source": [
    "# TODO:\n",
    "#  - wrap reading and parsing logic in a function "
   ]
  },
  {
   "cell_type": "code",
   "execution_count": 23,
   "metadata": {},
   "outputs": [],
   "source": [
    "attributes_file = '../../data/annotations/group_mention_categorization/group_attributes.yaml'\n",
    "\n",
    "with open(attributes_file, 'r') as f:\n",
    "    ontology = yaml.load(f, Loader=yaml.FullLoader)\n",
    "\n",
    "attributes = pd.DataFrame([\n",
    "    {\n",
    "        'q_id': a,\n",
    "        'q_category': i,\n",
    "        'label': v,\n",
    "    }\n",
    "    for a, d in ontology['social_group'].items()\n",
    "    for i, v in enumerate(d['attributes'].keys(), start=1)\n",
    "])\n",
    "attributes.q_id = attributes.q_id.str.replace('non_', 'non-')\n",
    "attributes.label = attributes.label.str.replace('<i>Other attribute</i>', 'other')\n",
    "\n",
    "attributes.q_category = attributes.q_category.astype(str)"
   ]
  },
  {
   "cell_type": "code",
   "execution_count": 24,
   "metadata": {},
   "outputs": [],
   "source": [
    "# read the annotations data\n",
    "data_path = '../../data/annotations/group_mention_categorization/social-group-mention-categorization-coder-training'\n",
    "fp = os.path.join(data_path, 'responses/responses.tsv')\n",
    "df = pd.read_csv(fp, sep='\\t', encoding='UTF-16')"
   ]
  },
  {
   "cell_type": "code",
   "execution_count": 25,
   "metadata": {},
   "outputs": [],
   "source": [
    "data_cols = df.columns.str.match('^\\d+_\\d{6}')\n",
    "metadata_cols = np.where(~data_cols)[0]\n",
    "data_cols = np.where(data_cols)[0]"
   ]
  },
  {
   "cell_type": "code",
   "execution_count": 26,
   "metadata": {},
   "outputs": [],
   "source": [
    "annotators = ['Eichholz', 'Ford']\n",
    "\n",
    "ridxs = np.where(df.RecipientLastName.isin(annotators))[0]\n",
    "\n",
    "data = df.iloc[ridxs, data_cols]\n",
    "metadata = df.iloc[ridxs, metadata_cols]"
   ]
  },
  {
   "cell_type": "code",
   "execution_count": 27,
   "metadata": {},
   "outputs": [
    {
     "data": {
      "text/plain": [
       "{5: 'Ford', 6: 'Eichholz'}"
      ]
     },
     "execution_count": 27,
     "metadata": {},
     "output_type": "execute_result"
    }
   ],
   "source": [
    "id2annotator = dict(metadata.RecipientLastName)\n",
    "id2annotator"
   ]
  },
  {
   "cell_type": "code",
   "execution_count": 28,
   "metadata": {},
   "outputs": [],
   "source": [
    "tmp = data.T\n",
    "tmp.reset_index(inplace=True)\n",
    "tmp[['mention_id', 'q_id']] = tmp['index'].str.split('__', expand=True)\n",
    "tmp.drop(columns=['index'], inplace=True)\n",
    "# pivot longer: values from first two columns to rows\n",
    "tmp = tmp.melt(id_vars=['mention_id', 'q_id'], value_name='value', var_name='annotator')"
   ]
  },
  {
   "cell_type": "code",
   "execution_count": 29,
   "metadata": {},
   "outputs": [],
   "source": [
    "texts = texts.loc[texts.mention_id.isin(tmp.mention_id), ['mention_id', 'text', 'mention']]"
   ]
  },
  {
   "cell_type": "code",
   "execution_count": 30,
   "metadata": {},
   "outputs": [],
   "source": [
    "# NOTE: implementation error (now fixed): questions about data quality were mis-IDed as <mention ID>__universal_attributes, here mapped to *__universal_attributes_1 and *__universal_attributes_2\n",
    "# recode\n",
    "tmp.q_id = tmp.q_id.str.replace('universal_attributes_', 'data_quality_')"
   ]
  },
  {
   "cell_type": "code",
   "execution_count": 31,
   "metadata": {},
   "outputs": [],
   "source": [
    "tmp[['q_id', 'q_category']] = tmp.q_id.str.split(r'[_-](?=\\d+$)', regex=True, expand=True)"
   ]
  },
  {
   "cell_type": "code",
   "execution_count": 32,
   "metadata": {},
   "outputs": [
    {
     "data": {
      "text/plain": [
       "q_id\n",
       "comments                    600\n",
       "data_quality               1200\n",
       "economic_attributes        4200\n",
       "non-economic_attributes    6000\n",
       "stance                      600\n",
       "universal_attributes        600\n",
       "Name: count, dtype: int64"
      ]
     },
     "execution_count": 32,
     "metadata": {},
     "output_type": "execute_result"
    }
   ],
   "source": [
    "tmp.q_id.value_counts().sort_index()"
   ]
  },
  {
   "cell_type": "code",
   "execution_count": 33,
   "metadata": {},
   "outputs": [
    {
     "data": {
      "text/plain": [
       "value\n",
       "NaN           1180\n",
       "Yes             12\n",
       "Unsure           5\n",
       "Yes,Unsure       3\n",
       "Name: count, dtype: int64"
      ]
     },
     "execution_count": 33,
     "metadata": {},
     "output_type": "execute_result"
    }
   ],
   "source": [
    "tmp[tmp.q_id == 'data_quality'].value.value_counts(dropna=False)"
   ]
  },
  {
   "cell_type": "code",
   "execution_count": 34,
   "metadata": {},
   "outputs": [],
   "source": [
    "tmp.loc[tmp.q_id == 'data_quality', 'value'] = tmp[tmp.q_id == 'data_quality'].value.replace({np.nan: 'No', 'Yes,Unsure': 'Unsure'})"
   ]
  },
  {
   "cell_type": "code",
   "execution_count": 35,
   "metadata": {},
   "outputs": [
    {
     "data": {
      "text/plain": [
       "value   q_category\n",
       "No      1             417\n",
       "Yes     1             133\n",
       "Unsure  1              31\n",
       "NaN     1              19\n",
       "Name: count, dtype: int64"
      ]
     },
     "execution_count": 35,
     "metadata": {},
     "output_type": "execute_result"
    }
   ],
   "source": [
    "tmp[tmp.q_id == 'universal_attributes'][['value', 'q_category']].value_counts(dropna=False)"
   ]
  },
  {
   "cell_type": "code",
   "execution_count": 36,
   "metadata": {},
   "outputs": [],
   "source": [
    "tmp.loc[tmp.q_id == 'universal_attributes', 'value'] = tmp[tmp.q_id == 'universal_attributes'].value.replace({np.nan: 'No'})"
   ]
  },
  {
   "cell_type": "code",
   "execution_count": 37,
   "metadata": {},
   "outputs": [
    {
     "data": {
      "text/plain": [
       "value\n",
       "NaN           3959\n",
       "Yes            198\n",
       "Unsure          32\n",
       "Yes,Unsure      11\n",
       "Name: count, dtype: int64"
      ]
     },
     "execution_count": 37,
     "metadata": {},
     "output_type": "execute_result"
    }
   ],
   "source": [
    "tmp[tmp.q_id == 'economic_attributes'].value.value_counts(dropna=False)"
   ]
  },
  {
   "cell_type": "code",
   "execution_count": 38,
   "metadata": {},
   "outputs": [],
   "source": [
    "tmp.loc[tmp.q_id == 'economic_attributes', 'value'] = tmp[tmp.q_id == 'economic_attributes'].value.replace({np.nan: 'No', 'Yes,Unsure': 'Unsure'})"
   ]
  },
  {
   "cell_type": "code",
   "execution_count": 39,
   "metadata": {},
   "outputs": [
    {
     "data": {
      "text/plain": [
       "value\n",
       "NaN           5648\n",
       "Yes            297\n",
       "Unsure          39\n",
       "Yes,Unsure      16\n",
       "Name: count, dtype: int64"
      ]
     },
     "execution_count": 39,
     "metadata": {},
     "output_type": "execute_result"
    }
   ],
   "source": [
    "tmp[tmp.q_id == 'non-economic_attributes'].value.value_counts(dropna=False)"
   ]
  },
  {
   "cell_type": "code",
   "execution_count": 40,
   "metadata": {},
   "outputs": [],
   "source": [
    "tmp.loc[tmp.q_id == 'non-economic_attributes', 'value'] = tmp[tmp.q_id == 'non-economic_attributes'].value.replace({np.nan: 'No', 'Yes,Unsure': 'Unsure'})"
   ]
  },
  {
   "cell_type": "code",
   "execution_count": 41,
   "metadata": {},
   "outputs": [
    {
     "data": {
      "text/plain": [
       "value\n",
       "Positive    457\n",
       "Negative     56\n",
       "Neutral      49\n",
       "Unsure       28\n",
       "NaN          10\n",
       "Name: count, dtype: int64"
      ]
     },
     "execution_count": 41,
     "metadata": {},
     "output_type": "execute_result"
    }
   ],
   "source": [
    "tmp[tmp.q_id == 'stance'].value.value_counts(dropna=False)"
   ]
  },
  {
   "cell_type": "code",
   "execution_count": 42,
   "metadata": {},
   "outputs": [
    {
     "data": {
      "text/html": [
       "<div>\n",
       "<style scoped>\n",
       "    .dataframe tbody tr th:only-of-type {\n",
       "        vertical-align: middle;\n",
       "    }\n",
       "\n",
       "    .dataframe tbody tr th {\n",
       "        vertical-align: top;\n",
       "    }\n",
       "\n",
       "    .dataframe thead th {\n",
       "        text-align: right;\n",
       "    }\n",
       "</style>\n",
       "<table border=\"1\" class=\"dataframe\">\n",
       "  <thead>\n",
       "    <tr style=\"text-align: right;\">\n",
       "      <th>annotator</th>\n",
       "      <th>mention_id</th>\n",
       "      <th>q_id</th>\n",
       "      <th>q_category</th>\n",
       "      <th>5</th>\n",
       "      <th>6</th>\n",
       "    </tr>\n",
       "  </thead>\n",
       "  <tbody>\n",
       "    <tr>\n",
       "      <th>0</th>\n",
       "      <td>13230_201109-192881-2</td>\n",
       "      <td>comments</td>\n",
       "      <td>NaN</td>\n",
       "      <td>Stance uncertain because focal sentence is a q...</td>\n",
       "      <td>NaN</td>\n",
       "    </tr>\n",
       "    <tr>\n",
       "      <th>1</th>\n",
       "      <td>13230_201109-192881-2</td>\n",
       "      <td>data_quality</td>\n",
       "      <td>1</td>\n",
       "      <td>No</td>\n",
       "      <td>No</td>\n",
       "    </tr>\n",
       "    <tr>\n",
       "      <th>2</th>\n",
       "      <td>13230_201109-192881-2</td>\n",
       "      <td>data_quality</td>\n",
       "      <td>2</td>\n",
       "      <td>No</td>\n",
       "      <td>No</td>\n",
       "    </tr>\n",
       "    <tr>\n",
       "      <th>3</th>\n",
       "      <td>13230_201109-192881-2</td>\n",
       "      <td>economic_attributes</td>\n",
       "      <td>1</td>\n",
       "      <td>No</td>\n",
       "      <td>No</td>\n",
       "    </tr>\n",
       "    <tr>\n",
       "      <th>4</th>\n",
       "      <td>13230_201109-192881-2</td>\n",
       "      <td>economic_attributes</td>\n",
       "      <td>2</td>\n",
       "      <td>No</td>\n",
       "      <td>Yes</td>\n",
       "    </tr>\n",
       "    <tr>\n",
       "      <th>5</th>\n",
       "      <td>13230_201109-192881-2</td>\n",
       "      <td>economic_attributes</td>\n",
       "      <td>3</td>\n",
       "      <td>No</td>\n",
       "      <td>No</td>\n",
       "    </tr>\n",
       "    <tr>\n",
       "      <th>6</th>\n",
       "      <td>13230_201109-192881-2</td>\n",
       "      <td>economic_attributes</td>\n",
       "      <td>4</td>\n",
       "      <td>No</td>\n",
       "      <td>No</td>\n",
       "    </tr>\n",
       "    <tr>\n",
       "      <th>7</th>\n",
       "      <td>13230_201109-192881-2</td>\n",
       "      <td>economic_attributes</td>\n",
       "      <td>5</td>\n",
       "      <td>No</td>\n",
       "      <td>No</td>\n",
       "    </tr>\n",
       "    <tr>\n",
       "      <th>8</th>\n",
       "      <td>13230_201109-192881-2</td>\n",
       "      <td>economic_attributes</td>\n",
       "      <td>6</td>\n",
       "      <td>No</td>\n",
       "      <td>No</td>\n",
       "    </tr>\n",
       "    <tr>\n",
       "      <th>9</th>\n",
       "      <td>13230_201109-192881-2</td>\n",
       "      <td>economic_attributes</td>\n",
       "      <td>7</td>\n",
       "      <td>No</td>\n",
       "      <td>No</td>\n",
       "    </tr>\n",
       "    <tr>\n",
       "      <th>10</th>\n",
       "      <td>13230_201109-192881-2</td>\n",
       "      <td>non-economic_attributes</td>\n",
       "      <td>1</td>\n",
       "      <td>No</td>\n",
       "      <td>No</td>\n",
       "    </tr>\n",
       "    <tr>\n",
       "      <th>11</th>\n",
       "      <td>13230_201109-192881-2</td>\n",
       "      <td>non-economic_attributes</td>\n",
       "      <td>10</td>\n",
       "      <td>No</td>\n",
       "      <td>No</td>\n",
       "    </tr>\n",
       "    <tr>\n",
       "      <th>12</th>\n",
       "      <td>13230_201109-192881-2</td>\n",
       "      <td>non-economic_attributes</td>\n",
       "      <td>2</td>\n",
       "      <td>No</td>\n",
       "      <td>No</td>\n",
       "    </tr>\n",
       "    <tr>\n",
       "      <th>13</th>\n",
       "      <td>13230_201109-192881-2</td>\n",
       "      <td>non-economic_attributes</td>\n",
       "      <td>3</td>\n",
       "      <td>No</td>\n",
       "      <td>No</td>\n",
       "    </tr>\n",
       "    <tr>\n",
       "      <th>14</th>\n",
       "      <td>13230_201109-192881-2</td>\n",
       "      <td>non-economic_attributes</td>\n",
       "      <td>4</td>\n",
       "      <td>No</td>\n",
       "      <td>No</td>\n",
       "    </tr>\n",
       "    <tr>\n",
       "      <th>15</th>\n",
       "      <td>13230_201109-192881-2</td>\n",
       "      <td>non-economic_attributes</td>\n",
       "      <td>5</td>\n",
       "      <td>No</td>\n",
       "      <td>No</td>\n",
       "    </tr>\n",
       "    <tr>\n",
       "      <th>16</th>\n",
       "      <td>13230_201109-192881-2</td>\n",
       "      <td>non-economic_attributes</td>\n",
       "      <td>6</td>\n",
       "      <td>No</td>\n",
       "      <td>No</td>\n",
       "    </tr>\n",
       "    <tr>\n",
       "      <th>17</th>\n",
       "      <td>13230_201109-192881-2</td>\n",
       "      <td>non-economic_attributes</td>\n",
       "      <td>7</td>\n",
       "      <td>No</td>\n",
       "      <td>No</td>\n",
       "    </tr>\n",
       "    <tr>\n",
       "      <th>18</th>\n",
       "      <td>13230_201109-192881-2</td>\n",
       "      <td>non-economic_attributes</td>\n",
       "      <td>8</td>\n",
       "      <td>No</td>\n",
       "      <td>No</td>\n",
       "    </tr>\n",
       "    <tr>\n",
       "      <th>19</th>\n",
       "      <td>13230_201109-192881-2</td>\n",
       "      <td>non-economic_attributes</td>\n",
       "      <td>9</td>\n",
       "      <td>Yes</td>\n",
       "      <td>No</td>\n",
       "    </tr>\n",
       "    <tr>\n",
       "      <th>20</th>\n",
       "      <td>13230_201109-192881-2</td>\n",
       "      <td>stance</td>\n",
       "      <td>NaN</td>\n",
       "      <td>Unsure</td>\n",
       "      <td>Positive</td>\n",
       "    </tr>\n",
       "    <tr>\n",
       "      <th>21</th>\n",
       "      <td>13230_201109-192881-2</td>\n",
       "      <td>universal_attributes</td>\n",
       "      <td>1</td>\n",
       "      <td>No</td>\n",
       "      <td>No</td>\n",
       "    </tr>\n",
       "  </tbody>\n",
       "</table>\n",
       "</div>"
      ],
      "text/plain": [
       "annotator             mention_id                     q_id q_category  \\\n",
       "0          13230_201109-192881-2                 comments        NaN   \n",
       "1          13230_201109-192881-2             data_quality          1   \n",
       "2          13230_201109-192881-2             data_quality          2   \n",
       "3          13230_201109-192881-2      economic_attributes          1   \n",
       "4          13230_201109-192881-2      economic_attributes          2   \n",
       "5          13230_201109-192881-2      economic_attributes          3   \n",
       "6          13230_201109-192881-2      economic_attributes          4   \n",
       "7          13230_201109-192881-2      economic_attributes          5   \n",
       "8          13230_201109-192881-2      economic_attributes          6   \n",
       "9          13230_201109-192881-2      economic_attributes          7   \n",
       "10         13230_201109-192881-2  non-economic_attributes          1   \n",
       "11         13230_201109-192881-2  non-economic_attributes         10   \n",
       "12         13230_201109-192881-2  non-economic_attributes          2   \n",
       "13         13230_201109-192881-2  non-economic_attributes          3   \n",
       "14         13230_201109-192881-2  non-economic_attributes          4   \n",
       "15         13230_201109-192881-2  non-economic_attributes          5   \n",
       "16         13230_201109-192881-2  non-economic_attributes          6   \n",
       "17         13230_201109-192881-2  non-economic_attributes          7   \n",
       "18         13230_201109-192881-2  non-economic_attributes          8   \n",
       "19         13230_201109-192881-2  non-economic_attributes          9   \n",
       "20         13230_201109-192881-2                   stance        NaN   \n",
       "21         13230_201109-192881-2     universal_attributes          1   \n",
       "\n",
       "annotator                                                  5         6  \n",
       "0          Stance uncertain because focal sentence is a q...       NaN  \n",
       "1                                                         No        No  \n",
       "2                                                         No        No  \n",
       "3                                                         No        No  \n",
       "4                                                         No       Yes  \n",
       "5                                                         No        No  \n",
       "6                                                         No        No  \n",
       "7                                                         No        No  \n",
       "8                                                         No        No  \n",
       "9                                                         No        No  \n",
       "10                                                        No        No  \n",
       "11                                                        No        No  \n",
       "12                                                        No        No  \n",
       "13                                                        No        No  \n",
       "14                                                        No        No  \n",
       "15                                                        No        No  \n",
       "16                                                        No        No  \n",
       "17                                                        No        No  \n",
       "18                                                        No        No  \n",
       "19                                                       Yes        No  \n",
       "20                                                    Unsure  Positive  \n",
       "21                                                        No        No  "
      ]
     },
     "execution_count": 42,
     "metadata": {},
     "output_type": "execute_result"
    }
   ],
   "source": [
    "mid = '13230_201109-192881-2' # '35120_201910-375318-1'\n",
    "foo = tmp[tmp.mention_id==mid]\n",
    "# pivot wider: values in 'annotator' column to columns usin values in 'value' as values\n",
    "foo.pivot(index=['mention_id', 'q_id', 'q_category'], columns='annotator', values='value').reset_index()"
   ]
  },
  {
   "cell_type": "markdown",
   "metadata": {},
   "source": [
    "## TODO: Write in usuful format to disk\n",
    "\n"
   ]
  },
  {
   "cell_type": "code",
   "execution_count": 61,
   "metadata": {},
   "outputs": [],
   "source": [
    "import re\n",
    "\n",
    "econ_attributes_map = {str(i): c for i, c in enumerate(ontology['social_group']['economic_attributes']['attributes'].keys(), start=1)}\n",
    "nonecon_attributes_map = {str(i): c for i, c in enumerate(ontology['social_group']['non_economic_attributes']['attributes'].keys(), start=1)}\n",
    "econ_attributes_map['7'] = 'other'\n",
    "nonecon_attributes_map['10'] = 'other'\n",
    "\n",
    "clean_cat = lambda x: re.sub(r'[ /]', '_', re.sub(r'</?i>', '', x)).lower()\n",
    "econ_attributes_map_cleaned = {str(i): clean_cat(c) for i, c in enumerate(ontology['social_group']['economic_attributes']['attributes'].keys(), start=1)}\n",
    "nonecon_attributes_map_cleaned = {str(i): clean_cat(c) for i, c in enumerate(ontology['social_group']['non_economic_attributes']['attributes'].keys(), start=1)}\n",
    "\n",
    "data_quality_map = {'1': 'has_formatting_issue', '2': 'has_translation_issue'}"
   ]
  },
  {
   "cell_type": "code",
   "execution_count": 73,
   "metadata": {},
   "outputs": [],
   "source": [
    "annotations = tmp.copy(deep=True)\n",
    "\n",
    "annotations.annotator = annotations.annotator.map(id2annotator)\n",
    "\n",
    "annotations.loc[annotations.q_id == 'economic_attributes', 'category'] = annotations.loc[annotations.q_id == 'economic_attributes', 'q_category'].map(econ_attributes_map)\n",
    "annotations.loc[annotations.q_id == 'non-economic_attributes', 'category'] = annotations.loc[annotations.q_id == 'non-economic_attributes', 'q_category'].map(nonecon_attributes_map)\n",
    "annotations.loc[annotations.q_id == 'data_quality', 'category'] = annotations.loc[annotations.q_id == 'data_quality', 'q_category'].map(data_quality_map)\n",
    "\n",
    "annotations = annotations.merge(texts, on='mention_id', how='left')\n",
    "\n",
    "cols = ['mention_id', 'text', 'mention', 'q_id', 'q_category', 'category', 'annotator', 'value']\n",
    "annotations = annotations[cols]\n",
    "annotations.rename(columns={'value': 'response'}, inplace=True)\n",
    "\n",
    "annotations.to_csv('../../data/annotations/group_mention_categorization/social-group-mention-categorization-coder-training/parsed/annotations.tsv', sep='\\t', index=False)"
   ]
  },
  {
   "cell_type": "code",
   "execution_count": null,
   "metadata": {},
   "outputs": [
    {
     "data": {
      "text/html": [
       "<div>\n",
       "<style scoped>\n",
       "    .dataframe tbody tr th:only-of-type {\n",
       "        vertical-align: middle;\n",
       "    }\n",
       "\n",
       "    .dataframe tbody tr th {\n",
       "        vertical-align: top;\n",
       "    }\n",
       "\n",
       "    .dataframe thead th {\n",
       "        text-align: right;\n",
       "    }\n",
       "</style>\n",
       "<table border=\"1\" class=\"dataframe\">\n",
       "  <thead>\n",
       "    <tr style=\"text-align: right;\">\n",
       "      <th></th>\n",
       "      <th>mention_id</th>\n",
       "      <th>annotator</th>\n",
       "      <th>universal_attributes</th>\n",
       "      <th>economic_attributes</th>\n",
       "      <th>non-economic_attributes</th>\n",
       "      <th>stance</th>\n",
       "      <th>comments</th>\n",
       "      <th>has_formatting_issue</th>\n",
       "      <th>has_translation_issue</th>\n",
       "      <th>text</th>\n",
       "      <th>mention</th>\n",
       "    </tr>\n",
       "  </thead>\n",
       "  <tbody>\n",
       "    <tr>\n",
       "      <th>0</th>\n",
       "      <td>11110_198809-390636-1</td>\n",
       "      <td>5</td>\n",
       "      <td>No</td>\n",
       "      <td>{'class_membership': 'No', 'employment_status'...</td>\n",
       "      <td>{'age': 'No', 'family': 'Yes', 'gender_sexuali...</td>\n",
       "      <td>Positive</td>\n",
       "      <td>NaN</td>\n",
       "      <td>No</td>\n",
       "      <td>No</td>\n",
       "      <td>Give parents the right to become municipal day...</td>\n",
       "      <td>parents</td>\n",
       "    </tr>\n",
       "    <tr>\n",
       "      <th>1</th>\n",
       "      <td>11110_198809-390636-1</td>\n",
       "      <td>6</td>\n",
       "      <td>No</td>\n",
       "      <td>{'class_membership': 'No', 'employment_status'...</td>\n",
       "      <td>{'age': 'No', 'family': 'Yes', 'gender_sexuali...</td>\n",
       "      <td>Positive</td>\n",
       "      <td>NaN</td>\n",
       "      <td>No</td>\n",
       "      <td>No</td>\n",
       "      <td>Give parents the right to become municipal day...</td>\n",
       "      <td>parents</td>\n",
       "    </tr>\n",
       "    <tr>\n",
       "      <th>2</th>\n",
       "      <td>11110_199109-390940-1</td>\n",
       "      <td>5</td>\n",
       "      <td>Yes</td>\n",
       "      <td>{'class_membership': 'No', 'employment_status'...</td>\n",
       "      <td>{'age': 'No', 'family': 'No', 'gender_sexualit...</td>\n",
       "      <td>Positive</td>\n",
       "      <td>NaN</td>\n",
       "      <td>No</td>\n",
       "      <td>No</td>\n",
       "      <td>It is only within the ecological framework tha...</td>\n",
       "      <td>a society for survival in prosperity and well-...</td>\n",
       "    </tr>\n",
       "    <tr>\n",
       "      <th>3</th>\n",
       "      <td>11110_199109-390940-1</td>\n",
       "      <td>6</td>\n",
       "      <td>Unsure</td>\n",
       "      <td>{'class_membership': 'No', 'employment_status'...</td>\n",
       "      <td>{'age': 'No', 'family': 'No', 'gender_sexualit...</td>\n",
       "      <td>Positive</td>\n",
       "      <td>It's quite universal (society) but with the ec...</td>\n",
       "      <td>No</td>\n",
       "      <td>No</td>\n",
       "      <td>It is only within the ecological framework tha...</td>\n",
       "      <td>a society for survival in prosperity and well-...</td>\n",
       "    </tr>\n",
       "    <tr>\n",
       "      <th>4</th>\n",
       "      <td>11110_200609-393907-1</td>\n",
       "      <td>5</td>\n",
       "      <td>No</td>\n",
       "      <td>{'class_membership': 'No', 'employment_status'...</td>\n",
       "      <td>{'age': 'No', 'family': 'No', 'gender_sexualit...</td>\n",
       "      <td>Positive</td>\n",
       "      <td>NaN</td>\n",
       "      <td>No</td>\n",
       "      <td>No</td>\n",
       "      <td>Everyone who is exposed to violence or threats...</td>\n",
       "      <td>Everyone who is exposed to violence or threats...</td>\n",
       "    </tr>\n",
       "    <tr>\n",
       "      <th>...</th>\n",
       "      <td>...</td>\n",
       "      <td>...</td>\n",
       "      <td>...</td>\n",
       "      <td>...</td>\n",
       "      <td>...</td>\n",
       "      <td>...</td>\n",
       "      <td>...</td>\n",
       "      <td>...</td>\n",
       "      <td>...</td>\n",
       "      <td>...</td>\n",
       "      <td>...</td>\n",
       "    </tr>\n",
       "    <tr>\n",
       "      <th>595</th>\n",
       "      <td>97330_200809-386545-2</td>\n",
       "      <td>6</td>\n",
       "      <td>No</td>\n",
       "      <td>{'class_membership': 'No', 'employment_status'...</td>\n",
       "      <td>{'age': 'No', 'family': 'No', 'gender_sexualit...</td>\n",
       "      <td>Neutral</td>\n",
       "      <td>NaN</td>\n",
       "      <td>No</td>\n",
       "      <td>No</td>\n",
       "      <td>We will introduce the internal e-business of t...</td>\n",
       "      <td>attorneys</td>\n",
       "    </tr>\n",
       "    <tr>\n",
       "      <th>596</th>\n",
       "      <td>97710_200809-386883-5</td>\n",
       "      <td>5</td>\n",
       "      <td>No</td>\n",
       "      <td>{'class_membership': 'No', 'employment_status'...</td>\n",
       "      <td>{'age': 'No', 'family': 'No', 'gender_sexualit...</td>\n",
       "      <td>Positive</td>\n",
       "      <td>NaN</td>\n",
       "      <td>No</td>\n",
       "      <td>No</td>\n",
       "      <td>new employment opportunities according to the ...</td>\n",
       "      <td>employees</td>\n",
       "    </tr>\n",
       "    <tr>\n",
       "      <th>597</th>\n",
       "      <td>97710_200809-386883-5</td>\n",
       "      <td>6</td>\n",
       "      <td>No</td>\n",
       "      <td>{'class_membership': 'No', 'employment_status'...</td>\n",
       "      <td>{'age': 'No', 'family': 'No', 'gender_sexualit...</td>\n",
       "      <td>Positive</td>\n",
       "      <td>NaN</td>\n",
       "      <td>No</td>\n",
       "      <td>No</td>\n",
       "      <td>new employment opportunities according to the ...</td>\n",
       "      <td>employees</td>\n",
       "    </tr>\n",
       "    <tr>\n",
       "      <th>598</th>\n",
       "      <td>97710_200809-386888-1</td>\n",
       "      <td>5</td>\n",
       "      <td>No</td>\n",
       "      <td>{'class_membership': 'No', 'employment_status'...</td>\n",
       "      <td>{'age': 'No', 'family': 'No', 'gender_sexualit...</td>\n",
       "      <td>Positive</td>\n",
       "      <td>NaN</td>\n",
       "      <td>No</td>\n",
       "      <td>No</td>\n",
       "      <td>We oppose the restriction of social rights and...</td>\n",
       "      <td>employees</td>\n",
       "    </tr>\n",
       "    <tr>\n",
       "      <th>599</th>\n",
       "      <td>97710_200809-386888-1</td>\n",
       "      <td>6</td>\n",
       "      <td>No</td>\n",
       "      <td>{'class_membership': 'No', 'employment_status'...</td>\n",
       "      <td>{'age': 'No', 'family': 'No', 'gender_sexualit...</td>\n",
       "      <td>Positive</td>\n",
       "      <td>NaN</td>\n",
       "      <td>No</td>\n",
       "      <td>No</td>\n",
       "      <td>We oppose the restriction of social rights and...</td>\n",
       "      <td>employees</td>\n",
       "    </tr>\n",
       "  </tbody>\n",
       "</table>\n",
       "<p>600 rows × 11 columns</p>\n",
       "</div>"
      ],
      "text/plain": [
       "                mention_id  annotator universal_attributes  \\\n",
       "0    11110_198809-390636-1          5                   No   \n",
       "1    11110_198809-390636-1          6                   No   \n",
       "2    11110_199109-390940-1          5                  Yes   \n",
       "3    11110_199109-390940-1          6               Unsure   \n",
       "4    11110_200609-393907-1          5                   No   \n",
       "..                     ...        ...                  ...   \n",
       "595  97330_200809-386545-2          6                   No   \n",
       "596  97710_200809-386883-5          5                   No   \n",
       "597  97710_200809-386883-5          6                   No   \n",
       "598  97710_200809-386888-1          5                   No   \n",
       "599  97710_200809-386888-1          6                   No   \n",
       "\n",
       "                                   economic_attributes  \\\n",
       "0    {'class_membership': 'No', 'employment_status'...   \n",
       "1    {'class_membership': 'No', 'employment_status'...   \n",
       "2    {'class_membership': 'No', 'employment_status'...   \n",
       "3    {'class_membership': 'No', 'employment_status'...   \n",
       "4    {'class_membership': 'No', 'employment_status'...   \n",
       "..                                                 ...   \n",
       "595  {'class_membership': 'No', 'employment_status'...   \n",
       "596  {'class_membership': 'No', 'employment_status'...   \n",
       "597  {'class_membership': 'No', 'employment_status'...   \n",
       "598  {'class_membership': 'No', 'employment_status'...   \n",
       "599  {'class_membership': 'No', 'employment_status'...   \n",
       "\n",
       "                               non-economic_attributes    stance  \\\n",
       "0    {'age': 'No', 'family': 'Yes', 'gender_sexuali...  Positive   \n",
       "1    {'age': 'No', 'family': 'Yes', 'gender_sexuali...  Positive   \n",
       "2    {'age': 'No', 'family': 'No', 'gender_sexualit...  Positive   \n",
       "3    {'age': 'No', 'family': 'No', 'gender_sexualit...  Positive   \n",
       "4    {'age': 'No', 'family': 'No', 'gender_sexualit...  Positive   \n",
       "..                                                 ...       ...   \n",
       "595  {'age': 'No', 'family': 'No', 'gender_sexualit...   Neutral   \n",
       "596  {'age': 'No', 'family': 'No', 'gender_sexualit...  Positive   \n",
       "597  {'age': 'No', 'family': 'No', 'gender_sexualit...  Positive   \n",
       "598  {'age': 'No', 'family': 'No', 'gender_sexualit...  Positive   \n",
       "599  {'age': 'No', 'family': 'No', 'gender_sexualit...  Positive   \n",
       "\n",
       "                                              comments has_formatting_issue  \\\n",
       "0                                                  NaN                   No   \n",
       "1                                                  NaN                   No   \n",
       "2                                                  NaN                   No   \n",
       "3    It's quite universal (society) but with the ec...                   No   \n",
       "4                                                  NaN                   No   \n",
       "..                                                 ...                  ...   \n",
       "595                                                NaN                   No   \n",
       "596                                                NaN                   No   \n",
       "597                                                NaN                   No   \n",
       "598                                                NaN                   No   \n",
       "599                                                NaN                   No   \n",
       "\n",
       "    has_translation_issue                                               text  \\\n",
       "0                      No  Give parents the right to become municipal day...   \n",
       "1                      No  Give parents the right to become municipal day...   \n",
       "2                      No  It is only within the ecological framework tha...   \n",
       "3                      No  It is only within the ecological framework tha...   \n",
       "4                      No  Everyone who is exposed to violence or threats...   \n",
       "..                    ...                                                ...   \n",
       "595                    No  We will introduce the internal e-business of t...   \n",
       "596                    No  new employment opportunities according to the ...   \n",
       "597                    No  new employment opportunities according to the ...   \n",
       "598                    No  We oppose the restriction of social rights and...   \n",
       "599                    No  We oppose the restriction of social rights and...   \n",
       "\n",
       "                                               mention  \n",
       "0                                              parents  \n",
       "1                                              parents  \n",
       "2    a society for survival in prosperity and well-...  \n",
       "3    a society for survival in prosperity and well-...  \n",
       "4    Everyone who is exposed to violence or threats...  \n",
       "..                                                 ...  \n",
       "595                                          attorneys  \n",
       "596                                          employees  \n",
       "597                                          employees  \n",
       "598                                          employees  \n",
       "599                                          employees  \n",
       "\n",
       "[600 rows x 11 columns]"
      ]
     },
     "execution_count": 26,
     "metadata": {},
     "output_type": "execute_result"
    }
   ],
   "source": [
    "foo = tmp.groupby(['mention_id', 'q_id', 'annotator'])[tmp.columns].apply(lambda x: x.value.values[0] if x.q_category.values[0] is None else dict(zip(x.q_category, x.value))).reset_index()\n",
    "# pivot wider again\n",
    "foo = foo.pivot(index=['mention_id', 'annotator'], columns='q_id', values=0).reset_index()\n",
    "\n",
    "foo.data_quality = foo.data_quality.apply(lambda x: {data_quality_map[k]: v for k, v in x.items()})\n",
    "foo[list(data_quality_map.values())] = foo.data_quality.apply(pd.Series)\n",
    "\n",
    "foo.universal_attributes = foo.universal_attributes.apply(pd.Series)\n",
    "\n",
    "foo.economic_attributes = foo.economic_attributes.apply(lambda x: {econ_attributes_map_cleaned[k]: v for k, v in x.items()})\n",
    "foo['non-economic_attributes'] = foo['non-economic_attributes'].apply(lambda x: {nonecon_attributes_map_cleaned[k]: v for k, v in x.items()})\n",
    "\n",
    "cols = ['mention_id', 'annotator', 'universal_attributes', 'economic_attributes', 'non-economic_attributes', 'stance', 'comments'] + list(data_quality_map.values())\n",
    "foo = foo[cols]\n",
    "foo.merge(texts, on='mention_id', how='left')"
   ]
  },
  {
   "cell_type": "code",
   "execution_count": 45,
   "metadata": {},
   "outputs": [],
   "source": [
    "# TODO: write to disc"
   ]
  },
  {
   "cell_type": "markdown",
   "metadata": {},
   "source": [
    "## Evaluate ICA"
   ]
  },
  {
   "cell_type": "code",
   "execution_count": 27,
   "metadata": {},
   "outputs": [],
   "source": [
    "from sklearn.metrics import cohen_kappa_score, f1_score\n",
    "import krippendorff\n",
    "from typing import List, Dict\n",
    "def compute_metrics(\n",
    "        a: pd.Series, \n",
    "        b: pd.Series, \n",
    "        labels: List[str] = ['Yes', 'No'],\n",
    "        pos_label: str = 'Yes',\n",
    "    ) -> Dict:\n",
    "    \n",
    "    out = {\n",
    "        'n': len(a),\n",
    "        f'prop_{pos_label.lower()}': np.logical_or(a == pos_label, b == pos_label).mean(),\n",
    "    }\n",
    "    if len(labels) == 2:\n",
    "        out['f1_score'] = f1_score(a, b, average='binary', pos_label=pos_label)\n",
    "    else:\n",
    "        f1s = f1_score(a, b, average=None, labels=labels)\n",
    "        out.update({f'f1_score_{l.lower()}': f1s[i] for i, l in enumerate(labels)})\n",
    "    out['cohens_kappa'] = cohen_kappa_score(a, b)\n",
    "    a = a.astype('category').cat.codes\n",
    "    b = b.astype('category').cat.codes\n",
    "    out['krippendorff_alpha'] = krippendorff.alpha(reliability_data=np.array([a, b]), level_of_measurement='nominal')\n",
    "\n",
    "    return out"
   ]
  },
  {
   "cell_type": "code",
   "execution_count": 28,
   "metadata": {},
   "outputs": [],
   "source": [
    "ica = {}"
   ]
  },
  {
   "cell_type": "code",
   "execution_count": 29,
   "metadata": {},
   "outputs": [],
   "source": [
    "q = 'data_quality'\n",
    "for i, label in data_quality_map.items():\n",
    "    foo = tmp[np.logical_and(tmp.q_id==q, tmp.q_category==str(i))]\n",
    "    # pivot wider: values in 'annotator' column to columns usin values in 'value' as values\n",
    "    foo = foo.pivot(index=['mention_id', 'q_id', 'q_category'], columns='annotator', values='value').reset_index()\n",
    "    foo = foo[~np.logical_or(foo[5] == 'Unsure', foo[6] == 'Unsure')]\n",
    "    \n",
    "    ica[(q, i, label)] = compute_metrics(foo[5], foo[6])"
   ]
  },
  {
   "cell_type": "code",
   "execution_count": 30,
   "metadata": {},
   "outputs": [],
   "source": [
    "foo = tmp[tmp.q_id=='universal_attributes']\n",
    "\n",
    "# pivot wider: values in 'annotator' column to columns usin values in 'value' as values\n",
    "foo = foo.pivot(index=['mention_id', 'q_id', 'q_category'], columns='annotator', values='value').reset_index()\n",
    "foo = foo[~np.logical_or(foo[5] == 'Unsure', foo[6] == 'Unsure')]\n",
    "\n",
    "ica[('universal_attributes', None)] = compute_metrics(foo[5], foo[6])"
   ]
  },
  {
   "cell_type": "code",
   "execution_count": 31,
   "metadata": {},
   "outputs": [],
   "source": [
    "# econ/non-econ attributes\n",
    "for d in attributes.itertuples():\n",
    "     \n",
    "    foo = tmp[np.logical_and(tmp.q_id==d.q_id, tmp.q_category==str(d.q_category))]\n",
    "    if len(foo) == 0:\n",
    "        continue\n",
    "    # pivot wider: values in 'annotator' column to columns usin values in 'value' as values\n",
    "    foo = foo.pivot(index=['mention_id', 'q_id', 'q_category'], columns='annotator', values='value').reset_index()\n",
    "    foo = foo[~np.logical_or(foo[5] == 'Unsure', foo[6] == 'Unsure')]\n",
    "    \n",
    "    ica[(d.q_id, d.q_category, d.label)] = compute_metrics(foo[5], foo[6])"
   ]
  },
  {
   "cell_type": "code",
   "execution_count": 32,
   "metadata": {},
   "outputs": [],
   "source": [
    "foo = tmp[tmp.q_id=='economic_attributes']\n",
    "foo = foo.groupby(['mention_id', 'annotator']).agg({'value': lambda v: (v != 'No').any()}).reset_index()\n",
    "foo.value = foo.value.map({True: 'Yes', False: 'No'})\n",
    "foo = foo.pivot(index=['mention_id'], columns='annotator', values='value').reset_index()\n",
    "\n",
    "ica[('economic_attributes', 'overall')] = compute_metrics(foo[5], foo[6])"
   ]
  },
  {
   "cell_type": "code",
   "execution_count": 33,
   "metadata": {},
   "outputs": [],
   "source": [
    "foo = tmp[tmp.q_id=='non-economic_attributes']\n",
    "foo = foo.groupby(['mention_id', 'annotator']).agg({'value': lambda v: (v != 'No').any()}).reset_index()\n",
    "foo.value = foo.value.map({True: 'Yes', False: 'No'})\n",
    "foo = foo.pivot(index=['mention_id'], columns='annotator', values='value').reset_index()\n",
    "\n",
    "ica[('non-economic_attributes', 'overall')] = compute_metrics(foo[5], foo[6])"
   ]
  },
  {
   "cell_type": "code",
   "execution_count": 34,
   "metadata": {},
   "outputs": [],
   "source": [
    "cats = ['Positive', 'Neutral', 'Negative']\n",
    "foo = tmp[np.logical_and(tmp.q_id=='stance', tmp.q_category.isna())]\n",
    "foo = foo[~foo.value.isna()]\n",
    "foo.value.value_counts(dropna=False)\n",
    "foo = foo.pivot(index=['mention_id', 'q_id', 'q_category'], columns='annotator', values='value').reset_index()\n",
    "foo = foo[np.logical_and(foo[5].isin(cats), foo[6].isin(cats))]\n",
    "\n",
    "ica[('stance', None)] = compute_metrics(foo[5], foo[6], labels=cats)"
   ]
  },
  {
   "cell_type": "code",
   "execution_count": 35,
   "metadata": {},
   "outputs": [
    {
     "data": {
      "text/html": [
       "<div>\n",
       "<style scoped>\n",
       "    .dataframe tbody tr th:only-of-type {\n",
       "        vertical-align: middle;\n",
       "    }\n",
       "\n",
       "    .dataframe tbody tr th {\n",
       "        vertical-align: top;\n",
       "    }\n",
       "\n",
       "    .dataframe thead th {\n",
       "        text-align: right;\n",
       "    }\n",
       "</style>\n",
       "<table border=\"1\" class=\"dataframe\">\n",
       "  <thead>\n",
       "    <tr style=\"text-align: right;\">\n",
       "      <th></th>\n",
       "      <th>q_id</th>\n",
       "      <th>q_category</th>\n",
       "      <th>label</th>\n",
       "      <th>n</th>\n",
       "      <th>prop_yes</th>\n",
       "      <th>f1_score</th>\n",
       "      <th>cohens_kappa</th>\n",
       "      <th>krippendorff_alpha</th>\n",
       "      <th>f1_score_positive</th>\n",
       "      <th>f1_score_neutral</th>\n",
       "      <th>f1_score_negative</th>\n",
       "    </tr>\n",
       "  </thead>\n",
       "  <tbody>\n",
       "    <tr>\n",
       "      <th>0</th>\n",
       "      <td>data_quality</td>\n",
       "      <td>1</td>\n",
       "      <td>has_formatting_issue</td>\n",
       "      <td>299.0</td>\n",
       "      <td>0.016722</td>\n",
       "      <td>0.000000</td>\n",
       "      <td>-0.008092</td>\n",
       "      <td>-0.006745</td>\n",
       "      <td>NaN</td>\n",
       "      <td>NaN</td>\n",
       "      <td>NaN</td>\n",
       "    </tr>\n",
       "    <tr>\n",
       "      <th>1</th>\n",
       "      <td>data_quality</td>\n",
       "      <td>2</td>\n",
       "      <td>has_translation_issue</td>\n",
       "      <td>293.0</td>\n",
       "      <td>0.020478</td>\n",
       "      <td>0.000000</td>\n",
       "      <td>0.000000</td>\n",
       "      <td>-0.008621</td>\n",
       "      <td>NaN</td>\n",
       "      <td>NaN</td>\n",
       "      <td>NaN</td>\n",
       "    </tr>\n",
       "    <tr>\n",
       "      <th>2</th>\n",
       "      <td>universal_attributes</td>\n",
       "      <td>NaN</td>\n",
       "      <td>NaN</td>\n",
       "      <td>276.0</td>\n",
       "      <td>0.275362</td>\n",
       "      <td>0.764228</td>\n",
       "      <td>0.698690</td>\n",
       "      <td>0.697178</td>\n",
       "      <td>NaN</td>\n",
       "      <td>NaN</td>\n",
       "      <td>NaN</td>\n",
       "    </tr>\n",
       "    <tr>\n",
       "      <th>3</th>\n",
       "      <td>economic_attributes</td>\n",
       "      <td>1</td>\n",
       "      <td>class membership</td>\n",
       "      <td>298.0</td>\n",
       "      <td>0.016779</td>\n",
       "      <td>0.571429</td>\n",
       "      <td>0.566440</td>\n",
       "      <td>0.567063</td>\n",
       "      <td>NaN</td>\n",
       "      <td>NaN</td>\n",
       "      <td>NaN</td>\n",
       "    </tr>\n",
       "    <tr>\n",
       "      <th>4</th>\n",
       "      <td>economic_attributes</td>\n",
       "      <td>2</td>\n",
       "      <td>employment status</td>\n",
       "      <td>295.0</td>\n",
       "      <td>0.088136</td>\n",
       "      <td>0.555556</td>\n",
       "      <td>0.529036</td>\n",
       "      <td>0.527477</td>\n",
       "      <td>NaN</td>\n",
       "      <td>NaN</td>\n",
       "      <td>NaN</td>\n",
       "    </tr>\n",
       "    <tr>\n",
       "      <th>5</th>\n",
       "      <td>economic_attributes</td>\n",
       "      <td>3</td>\n",
       "      <td>education level</td>\n",
       "      <td>298.0</td>\n",
       "      <td>0.010067</td>\n",
       "      <td>0.800000</td>\n",
       "      <td>0.798376</td>\n",
       "      <td>0.798646</td>\n",
       "      <td>NaN</td>\n",
       "      <td>NaN</td>\n",
       "      <td>NaN</td>\n",
       "    </tr>\n",
       "    <tr>\n",
       "      <th>6</th>\n",
       "      <td>economic_attributes</td>\n",
       "      <td>4</td>\n",
       "      <td>income/wealth/economic status</td>\n",
       "      <td>289.0</td>\n",
       "      <td>0.069204</td>\n",
       "      <td>0.709677</td>\n",
       "      <td>0.693387</td>\n",
       "      <td>0.693755</td>\n",
       "      <td>NaN</td>\n",
       "      <td>NaN</td>\n",
       "      <td>NaN</td>\n",
       "    </tr>\n",
       "    <tr>\n",
       "      <th>7</th>\n",
       "      <td>economic_attributes</td>\n",
       "      <td>5</td>\n",
       "      <td>occupation/profession</td>\n",
       "      <td>284.0</td>\n",
       "      <td>0.186620</td>\n",
       "      <td>0.835165</td>\n",
       "      <td>0.804264</td>\n",
       "      <td>0.804064</td>\n",
       "      <td>NaN</td>\n",
       "      <td>NaN</td>\n",
       "      <td>NaN</td>\n",
       "    </tr>\n",
       "    <tr>\n",
       "      <th>8</th>\n",
       "      <td>economic_attributes</td>\n",
       "      <td>6</td>\n",
       "      <td>ecology of group</td>\n",
       "      <td>297.0</td>\n",
       "      <td>0.030303</td>\n",
       "      <td>0.800000</td>\n",
       "      <td>0.795031</td>\n",
       "      <td>0.795164</td>\n",
       "      <td>NaN</td>\n",
       "      <td>NaN</td>\n",
       "      <td>NaN</td>\n",
       "    </tr>\n",
       "    <tr>\n",
       "      <th>9</th>\n",
       "      <td>economic_attributes</td>\n",
       "      <td>7</td>\n",
       "      <td>other</td>\n",
       "      <td>296.0</td>\n",
       "      <td>0.006757</td>\n",
       "      <td>0.000000</td>\n",
       "      <td>0.000000</td>\n",
       "      <td>-0.001695</td>\n",
       "      <td>NaN</td>\n",
       "      <td>NaN</td>\n",
       "      <td>NaN</td>\n",
       "    </tr>\n",
       "    <tr>\n",
       "      <th>10</th>\n",
       "      <td>non-economic_attributes</td>\n",
       "      <td>1</td>\n",
       "      <td>age</td>\n",
       "      <td>297.0</td>\n",
       "      <td>0.175084</td>\n",
       "      <td>0.857143</td>\n",
       "      <td>0.831390</td>\n",
       "      <td>0.831582</td>\n",
       "      <td>NaN</td>\n",
       "      <td>NaN</td>\n",
       "      <td>NaN</td>\n",
       "    </tr>\n",
       "    <tr>\n",
       "      <th>11</th>\n",
       "      <td>non-economic_attributes</td>\n",
       "      <td>2</td>\n",
       "      <td>family</td>\n",
       "      <td>299.0</td>\n",
       "      <td>0.083612</td>\n",
       "      <td>0.780488</td>\n",
       "      <td>0.764423</td>\n",
       "      <td>0.764724</td>\n",
       "      <td>NaN</td>\n",
       "      <td>NaN</td>\n",
       "      <td>NaN</td>\n",
       "    </tr>\n",
       "    <tr>\n",
       "      <th>12</th>\n",
       "      <td>non-economic_attributes</td>\n",
       "      <td>3</td>\n",
       "      <td>gender/sexuality</td>\n",
       "      <td>297.0</td>\n",
       "      <td>0.023569</td>\n",
       "      <td>0.833333</td>\n",
       "      <td>0.829897</td>\n",
       "      <td>0.830183</td>\n",
       "      <td>NaN</td>\n",
       "      <td>NaN</td>\n",
       "      <td>NaN</td>\n",
       "    </tr>\n",
       "    <tr>\n",
       "      <th>13</th>\n",
       "      <td>non-economic_attributes</td>\n",
       "      <td>4</td>\n",
       "      <td>place/location</td>\n",
       "      <td>295.0</td>\n",
       "      <td>0.020339</td>\n",
       "      <td>0.666667</td>\n",
       "      <td>0.661568</td>\n",
       "      <td>0.662077</td>\n",
       "      <td>NaN</td>\n",
       "      <td>NaN</td>\n",
       "      <td>NaN</td>\n",
       "    </tr>\n",
       "    <tr>\n",
       "      <th>14</th>\n",
       "      <td>non-economic_attributes</td>\n",
       "      <td>5</td>\n",
       "      <td>nationality</td>\n",
       "      <td>287.0</td>\n",
       "      <td>0.128920</td>\n",
       "      <td>0.825397</td>\n",
       "      <td>0.803925</td>\n",
       "      <td>0.804212</td>\n",
       "      <td>NaN</td>\n",
       "      <td>NaN</td>\n",
       "      <td>NaN</td>\n",
       "    </tr>\n",
       "    <tr>\n",
       "      <th>15</th>\n",
       "      <td>non-economic_attributes</td>\n",
       "      <td>6</td>\n",
       "      <td>ethnicity</td>\n",
       "      <td>299.0</td>\n",
       "      <td>0.013378</td>\n",
       "      <td>0.666667</td>\n",
       "      <td>0.663667</td>\n",
       "      <td>0.663851</td>\n",
       "      <td>NaN</td>\n",
       "      <td>NaN</td>\n",
       "      <td>NaN</td>\n",
       "    </tr>\n",
       "    <tr>\n",
       "      <th>16</th>\n",
       "      <td>non-economic_attributes</td>\n",
       "      <td>7</td>\n",
       "      <td>religion</td>\n",
       "      <td>299.0</td>\n",
       "      <td>0.006689</td>\n",
       "      <td>0.666667</td>\n",
       "      <td>0.665174</td>\n",
       "      <td>0.665546</td>\n",
       "      <td>NaN</td>\n",
       "      <td>NaN</td>\n",
       "      <td>NaN</td>\n",
       "    </tr>\n",
       "    <tr>\n",
       "      <th>17</th>\n",
       "      <td>non-economic_attributes</td>\n",
       "      <td>8</td>\n",
       "      <td>health</td>\n",
       "      <td>298.0</td>\n",
       "      <td>0.040268</td>\n",
       "      <td>0.909091</td>\n",
       "      <td>0.905636</td>\n",
       "      <td>0.905765</td>\n",
       "      <td>NaN</td>\n",
       "      <td>NaN</td>\n",
       "      <td>NaN</td>\n",
       "    </tr>\n",
       "    <tr>\n",
       "      <th>18</th>\n",
       "      <td>non-economic_attributes</td>\n",
       "      <td>9</td>\n",
       "      <td>crime</td>\n",
       "      <td>297.0</td>\n",
       "      <td>0.033670</td>\n",
       "      <td>0.666667</td>\n",
       "      <td>0.658385</td>\n",
       "      <td>0.658607</td>\n",
       "      <td>NaN</td>\n",
       "      <td>NaN</td>\n",
       "      <td>NaN</td>\n",
       "    </tr>\n",
       "    <tr>\n",
       "      <th>19</th>\n",
       "      <td>non-economic_attributes</td>\n",
       "      <td>10</td>\n",
       "      <td>other</td>\n",
       "      <td>284.0</td>\n",
       "      <td>0.052817</td>\n",
       "      <td>0.500000</td>\n",
       "      <td>0.483449</td>\n",
       "      <td>0.482664</td>\n",
       "      <td>NaN</td>\n",
       "      <td>NaN</td>\n",
       "      <td>NaN</td>\n",
       "    </tr>\n",
       "    <tr>\n",
       "      <th>20</th>\n",
       "      <td>economic_attributes</td>\n",
       "      <td>overall</td>\n",
       "      <td>NaN</td>\n",
       "      <td>300.0</td>\n",
       "      <td>0.410000</td>\n",
       "      <td>0.866359</td>\n",
       "      <td>0.790765</td>\n",
       "      <td>0.790990</td>\n",
       "      <td>NaN</td>\n",
       "      <td>NaN</td>\n",
       "      <td>NaN</td>\n",
       "    </tr>\n",
       "    <tr>\n",
       "      <th>21</th>\n",
       "      <td>non-economic_attributes</td>\n",
       "      <td>overall</td>\n",
       "      <td>NaN</td>\n",
       "      <td>300.0</td>\n",
       "      <td>0.563333</td>\n",
       "      <td>0.877076</td>\n",
       "      <td>0.753355</td>\n",
       "      <td>0.753742</td>\n",
       "      <td>NaN</td>\n",
       "      <td>NaN</td>\n",
       "      <td>NaN</td>\n",
       "    </tr>\n",
       "    <tr>\n",
       "      <th>22</th>\n",
       "      <td>stance</td>\n",
       "      <td>NaN</td>\n",
       "      <td>NaN</td>\n",
       "      <td>266.0</td>\n",
       "      <td>0.000000</td>\n",
       "      <td>NaN</td>\n",
       "      <td>0.708227</td>\n",
       "      <td>0.708715</td>\n",
       "      <td>0.951945</td>\n",
       "      <td>0.55814</td>\n",
       "      <td>0.846154</td>\n",
       "    </tr>\n",
       "  </tbody>\n",
       "</table>\n",
       "</div>"
      ],
      "text/plain": [
       "                       q_id q_category                          label      n  \\\n",
       "0              data_quality          1           has_formatting_issue  299.0   \n",
       "1              data_quality          2          has_translation_issue  293.0   \n",
       "2      universal_attributes        NaN                            NaN  276.0   \n",
       "3       economic_attributes          1               class membership  298.0   \n",
       "4       economic_attributes          2              employment status  295.0   \n",
       "5       economic_attributes          3                education level  298.0   \n",
       "6       economic_attributes          4  income/wealth/economic status  289.0   \n",
       "7       economic_attributes          5          occupation/profession  284.0   \n",
       "8       economic_attributes          6               ecology of group  297.0   \n",
       "9       economic_attributes          7                          other  296.0   \n",
       "10  non-economic_attributes          1                            age  297.0   \n",
       "11  non-economic_attributes          2                         family  299.0   \n",
       "12  non-economic_attributes          3               gender/sexuality  297.0   \n",
       "13  non-economic_attributes          4                 place/location  295.0   \n",
       "14  non-economic_attributes          5                    nationality  287.0   \n",
       "15  non-economic_attributes          6                      ethnicity  299.0   \n",
       "16  non-economic_attributes          7                       religion  299.0   \n",
       "17  non-economic_attributes          8                         health  298.0   \n",
       "18  non-economic_attributes          9                          crime  297.0   \n",
       "19  non-economic_attributes         10                          other  284.0   \n",
       "20      economic_attributes    overall                            NaN  300.0   \n",
       "21  non-economic_attributes    overall                            NaN  300.0   \n",
       "22                   stance        NaN                            NaN  266.0   \n",
       "\n",
       "    prop_yes  f1_score  cohens_kappa  krippendorff_alpha  f1_score_positive  \\\n",
       "0   0.016722  0.000000     -0.008092           -0.006745                NaN   \n",
       "1   0.020478  0.000000      0.000000           -0.008621                NaN   \n",
       "2   0.275362  0.764228      0.698690            0.697178                NaN   \n",
       "3   0.016779  0.571429      0.566440            0.567063                NaN   \n",
       "4   0.088136  0.555556      0.529036            0.527477                NaN   \n",
       "5   0.010067  0.800000      0.798376            0.798646                NaN   \n",
       "6   0.069204  0.709677      0.693387            0.693755                NaN   \n",
       "7   0.186620  0.835165      0.804264            0.804064                NaN   \n",
       "8   0.030303  0.800000      0.795031            0.795164                NaN   \n",
       "9   0.006757  0.000000      0.000000           -0.001695                NaN   \n",
       "10  0.175084  0.857143      0.831390            0.831582                NaN   \n",
       "11  0.083612  0.780488      0.764423            0.764724                NaN   \n",
       "12  0.023569  0.833333      0.829897            0.830183                NaN   \n",
       "13  0.020339  0.666667      0.661568            0.662077                NaN   \n",
       "14  0.128920  0.825397      0.803925            0.804212                NaN   \n",
       "15  0.013378  0.666667      0.663667            0.663851                NaN   \n",
       "16  0.006689  0.666667      0.665174            0.665546                NaN   \n",
       "17  0.040268  0.909091      0.905636            0.905765                NaN   \n",
       "18  0.033670  0.666667      0.658385            0.658607                NaN   \n",
       "19  0.052817  0.500000      0.483449            0.482664                NaN   \n",
       "20  0.410000  0.866359      0.790765            0.790990                NaN   \n",
       "21  0.563333  0.877076      0.753355            0.753742                NaN   \n",
       "22  0.000000       NaN      0.708227            0.708715           0.951945   \n",
       "\n",
       "    f1_score_neutral  f1_score_negative  \n",
       "0                NaN                NaN  \n",
       "1                NaN                NaN  \n",
       "2                NaN                NaN  \n",
       "3                NaN                NaN  \n",
       "4                NaN                NaN  \n",
       "5                NaN                NaN  \n",
       "6                NaN                NaN  \n",
       "7                NaN                NaN  \n",
       "8                NaN                NaN  \n",
       "9                NaN                NaN  \n",
       "10               NaN                NaN  \n",
       "11               NaN                NaN  \n",
       "12               NaN                NaN  \n",
       "13               NaN                NaN  \n",
       "14               NaN                NaN  \n",
       "15               NaN                NaN  \n",
       "16               NaN                NaN  \n",
       "17               NaN                NaN  \n",
       "18               NaN                NaN  \n",
       "19               NaN                NaN  \n",
       "20               NaN                NaN  \n",
       "21               NaN                NaN  \n",
       "22           0.55814           0.846154  "
      ]
     },
     "execution_count": 35,
     "metadata": {},
     "output_type": "execute_result"
    }
   ],
   "source": [
    "pd.DataFrame(ica).T.reset_index().rename(columns={'level_0': 'q_id', 'level_1': 'q_category', 'level_2': 'label'})"
   ]
  },
  {
   "cell_type": "markdown",
   "metadata": {},
   "source": [
    "## Indentify easy and hard examples"
   ]
  },
  {
   "cell_type": "markdown",
   "metadata": {},
   "source": [
    "### Universal"
   ]
  },
  {
   "cell_type": "code",
   "execution_count": 36,
   "metadata": {},
   "outputs": [
    {
     "data": {
      "text/plain": [
       "value\n",
       "True     254\n",
       "False     46\n",
       "Name: count, dtype: int64"
      ]
     },
     "execution_count": 36,
     "metadata": {},
     "output_type": "execute_result"
    }
   ],
   "source": [
    "# NOTE: agreement rates at text-level within economic attribute categories \n",
    "foo = tmp[tmp.q_id=='universal_attributes']\n",
    "foo = foo.groupby(['mention_id']).agg({'value': lambda v: len(v.unique()) == 1}).reset_index()\n",
    "foo.value.value_counts()"
   ]
  },
  {
   "cell_type": "code",
   "execution_count": 37,
   "metadata": {},
   "outputs": [
    {
     "data": {
      "text/plain": [
       "value\n",
       "True     54\n",
       "False    46\n",
       "Name: count, dtype: int64"
      ]
     },
     "execution_count": 37,
     "metadata": {},
     "output_type": "execute_result"
    }
   ],
   "source": [
    "# NOTE: agreement rates at text-level within economic attribute categories in texts with min one positive label\n",
    "foo = tmp[tmp.q_id=='universal_attributes']\n",
    "# remove cases where all values across q_category and annotator are \"No\"\n",
    "idxs = foo.groupby('mention_id').agg({'value': lambda v: v.isin(['No']).all()})\n",
    "foo = foo[~foo.mention_id.isin(idxs[idxs.value].index.values)]\n",
    "# now compute agreement\n",
    "foo = foo.groupby(['mention_id']).agg({'value': lambda v: len(v.unique()) == 1}).reset_index()\n",
    "foo.value.value_counts()\n",
    "\n",
    "# NOTE: unsuprisingly, all disagreement cases are ones involving \"Yes\" labels"
   ]
  },
  {
   "cell_type": "markdown",
   "metadata": {},
   "source": [
    "#### Get examples"
   ]
  },
  {
   "cell_type": "code",
   "execution_count": 38,
   "metadata": {},
   "outputs": [],
   "source": [
    "# NOTE: agreement rates at text-level within economic attribute categories in texts with min one positive label\n",
    "foo = tmp[tmp.q_id=='universal_attributes']\n",
    "\n",
    "# cases where all values across annotator are \"No\"\n",
    "idxs = foo.groupby('mention_id').agg({'value': lambda v: v.isin(['No']).all()})\n",
    "\n",
    "neg_expls_univ = foo[foo.mention_id.isin(idxs[idxs.value].index.values)]\n",
    "neg_expls_univ_list = neg_expls_univ.mention_id.unique().tolist()\n",
    "neg_expls_univ_df = neg_expls_univ[['mention_id', 'q_id', 'value']].drop_duplicates()"
   ]
  },
  {
   "cell_type": "code",
   "execution_count": 39,
   "metadata": {},
   "outputs": [],
   "source": [
    "pos_expls_univ = foo[~foo.mention_id.isin(neg_expls_univ_list)]\n",
    "pos_expls_univ = pos_expls_univ.groupby(['mention_id']).agg({'value': lambda v: len(v.unique()) == 1}).reset_index()\n",
    "pos_expls_univ_list = pos_expls_univ[pos_expls_univ.value].mention_id.unique().tolist()\n",
    "pos_expls_univ_df = foo.loc[foo.mention_id.isin(pos_expls_univ_list), ['mention_id', 'q_id', 'value']].drop_duplicates()"
   ]
  },
  {
   "cell_type": "code",
   "execution_count": 40,
   "metadata": {},
   "outputs": [],
   "source": [
    "grey_expls_univ_list = pos_expls_univ[~pos_expls_univ.value].mention_id.unique().tolist()\n",
    "\n",
    "grey_expls_univ_df = foo.loc[foo.mention_id.isin(grey_expls_univ_list), :]\n",
    "grey_expls_univ_df = grey_expls_univ_df.groupby(['mention_id', 'q_id']).agg({'value': Counter}).reset_index()\n",
    "grey_expls_univ_df = grey_expls_univ_df[grey_expls_univ_df.value.apply(len) > 1]"
   ]
  },
  {
   "cell_type": "markdown",
   "metadata": {},
   "source": [
    "### Economic attributes"
   ]
  },
  {
   "cell_type": "code",
   "execution_count": 41,
   "metadata": {},
   "outputs": [
    {
     "data": {
      "text/plain": [
       "value\n",
       "1.000000    234\n",
       "0.857143     45\n",
       "0.714286     16\n",
       "0.571429      5\n",
       "Name: count, dtype: int64"
      ]
     },
     "execution_count": 41,
     "metadata": {},
     "output_type": "execute_result"
    }
   ],
   "source": [
    "# NOTE: agreement rates at text-level within economic attribute categories \n",
    "foo = tmp[tmp.q_id=='economic_attributes']\n",
    "foo = foo.groupby(['mention_id', 'q_category']).agg({'value': lambda v: len(v.unique()) == 1}).reset_index()\n",
    "foo = foo.groupby(['mention_id']).agg({'value': 'mean'}).reset_index()\n",
    "foo.value.value_counts()"
   ]
  },
  {
   "cell_type": "code",
   "execution_count": 42,
   "metadata": {},
   "outputs": [
    {
     "data": {
      "text/plain": [
       "value\n",
       "1.000000    57\n",
       "0.857143    45\n",
       "0.714286    16\n",
       "0.571429     5\n",
       "Name: count, dtype: int64"
      ]
     },
     "execution_count": 42,
     "metadata": {},
     "output_type": "execute_result"
    }
   ],
   "source": [
    "# NOTE: agreement rates at text-level within economic attribute categories in texts with min one positive label\n",
    "foo = tmp[tmp.q_id=='economic_attributes']\n",
    "# remove cases where all values across q_category and annotator are \"No\"\n",
    "idxs = foo.groupby('mention_id').agg({'value': lambda v: v.isin(['No']).all()})\n",
    "foo = foo[~foo.mention_id.isin(idxs[idxs.value].index.values)]\n",
    "# now comput agreement\n",
    "foo = foo.groupby(['mention_id', 'q_category']).agg({'value': lambda v: len(v.unique()) == 1}).reset_index()\n",
    "foo = foo.groupby(['mention_id']).agg({'value': 'mean'}).reset_index()\n",
    "foo.value.value_counts()"
   ]
  },
  {
   "cell_type": "markdown",
   "metadata": {},
   "source": [
    "#### Get examples"
   ]
  },
  {
   "cell_type": "code",
   "execution_count": 43,
   "metadata": {},
   "outputs": [],
   "source": [
    "# NOTE: agreement rates at text-level within economic attribute categories in texts with min one positive label\n",
    "foo = tmp[tmp.q_id=='economic_attributes']\n",
    "# cases where all values across q_category and annotator are \"No\"\n",
    "idxs = foo.groupby('mention_id').agg({'value': lambda v: v.isin(['No']).all()})"
   ]
  },
  {
   "cell_type": "code",
   "execution_count": 44,
   "metadata": {},
   "outputs": [],
   "source": [
    "neg_expls_econ = foo[foo.mention_id.isin(idxs[idxs.value].index.values)]\n",
    "neg_expls_econ_list = neg_expls_econ.mention_id.unique().tolist()\n",
    "neg_expls_econ_df = neg_expls_econ[['mention_id', 'q_id', 'q_category', 'value']].drop_duplicates()"
   ]
  },
  {
   "cell_type": "code",
   "execution_count": 45,
   "metadata": {},
   "outputs": [
    {
     "data": {
      "text/plain": [
       "q_category\n",
       "occupation_profession            31\n",
       "income_wealth_economic_status    10\n",
       "employment_status                 8\n",
       "ecology_of_group                  4\n",
       "class_membership                  2\n",
       "education_level                   2\n",
       "Name: count, dtype: int64"
      ]
     },
     "execution_count": 45,
     "metadata": {},
     "output_type": "execute_result"
    }
   ],
   "source": [
    "pos_expls_econ = foo[~foo.mention_id.isin(idxs[idxs.value].index.values)]\n",
    "pos_expls_econ = pos_expls_econ.groupby(['mention_id', 'q_category']).agg({'value': lambda v: len(v.unique()) == 1}).reset_index()\n",
    "pos_expls_econ = pos_expls_econ.groupby(['mention_id']).agg({'value': 'mean'}).reset_index()\n",
    "pos_expls_econ_list = pos_expls_econ[pos_expls_econ.value == 1.0].mention_id.unique().tolist()\n",
    "\n",
    "pos_expls_econ_df = foo.loc[foo.mention_id.isin(pos_expls_econ_list), ['mention_id', 'q_id', 'q_category', 'value']].drop_duplicates()\n",
    "pos_expls_econ_df[pos_expls_econ_df.value == 'Yes'].q_category.map(econ_attributes_map).value_counts()"
   ]
  },
  {
   "cell_type": "code",
   "execution_count": 46,
   "metadata": {},
   "outputs": [],
   "source": [
    "grey_expls_econ_list = pos_expls_econ[pos_expls_econ.value < 1.0].mention_id.unique().tolist()\n",
    "\n",
    "grey_expls_econ_df = foo.loc[foo.mention_id.isin(grey_expls_econ_list), :]\n",
    "grey_expls_econ_df = grey_expls_econ_df.groupby(['mention_id', 'q_id', 'q_category']).agg({'value': Counter}).reset_index()\n",
    "grey_expls_econ_df = grey_expls_econ_df[grey_expls_econ_df.value.apply(len) > 1]"
   ]
  },
  {
   "cell_type": "markdown",
   "metadata": {},
   "source": [
    "### Non-econ attributes"
   ]
  },
  {
   "cell_type": "code",
   "execution_count": 47,
   "metadata": {},
   "outputs": [
    {
     "data": {
      "text/plain": [
       "value\n",
       "1.0    220\n",
       "0.9     63\n",
       "0.8     15\n",
       "0.7      2\n",
       "Name: count, dtype: int64"
      ]
     },
     "execution_count": 47,
     "metadata": {},
     "output_type": "execute_result"
    }
   ],
   "source": [
    "foo = tmp[tmp.q_id=='non-economic_attributes']\n",
    "foo = foo.groupby(['mention_id', 'q_category']).agg({'value': lambda v: len(v.unique()) == 1}).reset_index()\n",
    "foo = foo.groupby(['mention_id']).agg({'value': 'mean'}).reset_index()\n",
    "foo.value.value_counts()"
   ]
  },
  {
   "cell_type": "code",
   "execution_count": 124,
   "metadata": {},
   "outputs": [
    {
     "data": {
      "text/plain": [
       "value\n",
       "1.0    89\n",
       "0.9    63\n",
       "0.8    15\n",
       "0.7     2\n",
       "Name: count, dtype: int64"
      ]
     },
     "execution_count": 124,
     "metadata": {},
     "output_type": "execute_result"
    }
   ],
   "source": [
    "# NOTE: agreement rates at text-level within economic attribute categories in texts with min one positive label\n",
    "foo = tmp[tmp.q_id=='non-economic_attributes']\n",
    "# remove cases where all values across q_category and annotator are \"No\"\n",
    "idxs = foo.groupby('mention_id').agg({'value': lambda v: v.isin(['No']).all()})\n",
    "foo = foo[~foo.mention_id.isin(idxs[idxs.value].index.values)]\n",
    "# now comput agreement\n",
    "foo = foo.groupby(['mention_id', 'q_category']).agg({'value': lambda v: len(v.unique()) == 1}).reset_index()\n",
    "foo = foo.groupby(['mention_id']).agg({'value': 'mean'}).reset_index()\n",
    "foo.value.value_counts()"
   ]
  },
  {
   "cell_type": "markdown",
   "metadata": {},
   "source": [
    "#### Get examples"
   ]
  },
  {
   "cell_type": "code",
   "execution_count": 48,
   "metadata": {},
   "outputs": [],
   "source": [
    "# NOTE: agreement rates at text-level within economic attribute categories in texts with min one positive label\n",
    "foo = tmp[tmp.q_id=='non-economic_attributes']\n",
    "# cases where all values across q_category and annotator are \"No\"\n",
    "idxs = foo.groupby('mention_id').agg({'value': lambda v: v.isin(['No']).all()})"
   ]
  },
  {
   "cell_type": "code",
   "execution_count": 49,
   "metadata": {},
   "outputs": [
    {
     "data": {
      "text/plain": [
       "value\n",
       "No    1310\n",
       "Name: count, dtype: int64"
      ]
     },
     "execution_count": 49,
     "metadata": {},
     "output_type": "execute_result"
    }
   ],
   "source": [
    "neg_expls_nonecon = foo[foo.mention_id.isin(idxs[idxs.value].index.values)]\n",
    "neg_expls_nonecon_list = neg_expls_nonecon.mention_id.unique().tolist()\n",
    "neg_expls_nonecon_df = neg_expls_nonecon[['mention_id', 'q_id', 'q_category', 'value']].drop_duplicates()\n",
    "neg_expls_nonecon_df.value.value_counts()"
   ]
  },
  {
   "cell_type": "code",
   "execution_count": 50,
   "metadata": {},
   "outputs": [],
   "source": [
    "pos_expls_nonecon = foo[~foo.mention_id.isin(idxs[idxs.value].index.values)]\n",
    "pos_expls_nonecon = pos_expls_nonecon.groupby(['mention_id', 'q_category']).agg({'value': lambda v: len(v.unique()) == 1}).reset_index()\n",
    "pos_expls_nonecon = pos_expls_nonecon.groupby(['mention_id']).agg({'value': 'mean'}).reset_index()\n",
    "pos_expls_nonecon_list = pos_expls_nonecon[pos_expls_nonecon.value == 1.0].mention_id.unique().tolist()\n",
    "\n",
    "pos_expls_nonecon_df = foo.loc[foo.mention_id.isin(pos_expls_nonecon_list), ['mention_id', 'q_id', 'q_category', 'value']].drop_duplicates()"
   ]
  },
  {
   "cell_type": "code",
   "execution_count": 51,
   "metadata": {},
   "outputs": [
    {
     "data": {
      "text/plain": [
       "value\n",
       "1    80\n",
       "2     5\n",
       "0     4\n",
       "Name: count, dtype: int64"
      ]
     },
     "execution_count": 51,
     "metadata": {},
     "output_type": "execute_result"
    }
   ],
   "source": [
    "pos_expls_nonecon_df.groupby('mention_id')['value'].agg(lambda v: (v == 'Yes').sum()).value_counts()"
   ]
  },
  {
   "cell_type": "code",
   "execution_count": 52,
   "metadata": {},
   "outputs": [
    {
     "data": {
      "text/plain": [
       "q_category\n",
       "age                 32\n",
       "nationality         24\n",
       "family              14\n",
       "health               8\n",
       "crime                4\n",
       "other_attribute      3\n",
       "place_location       3\n",
       "gender_sexuality     2\n",
       "Name: count, dtype: int64"
      ]
     },
     "execution_count": 52,
     "metadata": {},
     "output_type": "execute_result"
    }
   ],
   "source": [
    "pos_expls_nonecon_df[pos_expls_nonecon_df.value == 'Yes'].q_category.map(nonecon_attributes_map).value_counts()"
   ]
  },
  {
   "cell_type": "code",
   "execution_count": 53,
   "metadata": {},
   "outputs": [],
   "source": [
    "grey_expls_nonecon_list = pos_expls_nonecon[pos_expls_nonecon.value < 1.0].mention_id.unique().tolist()\n",
    "\n",
    "grey_expls_nonecon_df = foo.loc[foo.mention_id.isin(grey_expls_nonecon_list), :]\n",
    "grey_expls_nonecon_df = grey_expls_nonecon_df.groupby(['mention_id', 'q_id', 'q_category']).agg({'value': Counter}).reset_index()\n",
    "grey_expls_nonecon_df = grey_expls_nonecon_df[grey_expls_nonecon_df.value.apply(len) > 1]"
   ]
  },
  {
   "cell_type": "markdown",
   "metadata": {},
   "source": [
    "### Stance"
   ]
  },
  {
   "cell_type": "code",
   "execution_count": 54,
   "metadata": {},
   "outputs": [],
   "source": [
    "# NOTE: agreement rates at text-level within economic attribute categories \n",
    "foo = tmp[tmp.q_id=='stance']\n",
    "foo = foo[~foo.value.isna()]"
   ]
  },
  {
   "cell_type": "markdown",
   "metadata": {},
   "source": [
    "#### Get examples"
   ]
  },
  {
   "cell_type": "code",
   "execution_count": 55,
   "metadata": {},
   "outputs": [],
   "source": [
    "# cases where all annotators agree\n",
    "agreement_cases = foo.groupby(['mention_id']).agg({'value': lambda v: len(v.unique()) == 1}).reset_index()\n",
    "agreement_cases = agreement_cases.mention_id[agreement_cases.value].unique().tolist()"
   ]
  },
  {
   "cell_type": "code",
   "execution_count": 56,
   "metadata": {},
   "outputs": [
    {
     "data": {
      "text/plain": [
       "value\n",
       "Positive    215\n",
       "Negative     24\n",
       "Neutral      12\n",
       "Unsure        4\n",
       "Name: count, dtype: int64"
      ]
     },
     "execution_count": 56,
     "metadata": {},
     "output_type": "execute_result"
    }
   ],
   "source": [
    "gold_expls_stance_df = pd.concat([foo.loc[np.logical_and(foo.mention_id.isin(agreement_cases), foo.value==v), ['mention_id', 'q_id', 'value']] for v in foo.value.unique()])\n",
    "gold_expls_stance_df = gold_expls_stance_df.drop_duplicates()\n",
    "gold_expls_stance_df.value.value_counts()"
   ]
  },
  {
   "cell_type": "code",
   "execution_count": 57,
   "metadata": {},
   "outputs": [
    {
     "data": {
      "text/html": [
       "<div>\n",
       "<style scoped>\n",
       "    .dataframe tbody tr th:only-of-type {\n",
       "        vertical-align: middle;\n",
       "    }\n",
       "\n",
       "    .dataframe tbody tr th {\n",
       "        vertical-align: top;\n",
       "    }\n",
       "\n",
       "    .dataframe thead th {\n",
       "        text-align: right;\n",
       "    }\n",
       "</style>\n",
       "<table border=\"1\" class=\"dataframe\">\n",
       "  <thead>\n",
       "    <tr style=\"text-align: right;\">\n",
       "      <th></th>\n",
       "      <th>mention_id</th>\n",
       "      <th>q_id</th>\n",
       "      <th>value</th>\n",
       "    </tr>\n",
       "  </thead>\n",
       "  <tbody>\n",
       "    <tr>\n",
       "      <th>0</th>\n",
       "      <td>11110_200609-393948-1</td>\n",
       "      <td>stance</td>\n",
       "      <td>{'Unsure': 1, 'Neutral': 1}</td>\n",
       "    </tr>\n",
       "    <tr>\n",
       "      <th>1</th>\n",
       "      <td>11110_201809-399601-2</td>\n",
       "      <td>stance</td>\n",
       "      <td>{'Unsure': 1, 'Positive': 1}</td>\n",
       "    </tr>\n",
       "    <tr>\n",
       "      <th>2</th>\n",
       "      <td>11320_197009-389704-1</td>\n",
       "      <td>stance</td>\n",
       "      <td>{'Neutral': 1, 'Positive': 1}</td>\n",
       "    </tr>\n",
       "    <tr>\n",
       "      <th>3</th>\n",
       "      <td>11320_197909-390063-2</td>\n",
       "      <td>stance</td>\n",
       "      <td>{'Neutral': 1, 'Positive': 1}</td>\n",
       "    </tr>\n",
       "    <tr>\n",
       "      <th>4</th>\n",
       "      <td>11320_201009-395337-2</td>\n",
       "      <td>stance</td>\n",
       "      <td>{'Unsure': 1, 'Positive': 1}</td>\n",
       "    </tr>\n",
       "    <tr>\n",
       "      <th>5</th>\n",
       "      <td>11620_197309-389896-2</td>\n",
       "      <td>stance</td>\n",
       "      <td>{'Positive': 1, 'Neutral': 1}</td>\n",
       "    </tr>\n",
       "    <tr>\n",
       "      <th>6</th>\n",
       "      <td>11620_201809-400440-2</td>\n",
       "      <td>stance</td>\n",
       "      <td>{'Positive': 1, 'Negative': 1}</td>\n",
       "    </tr>\n",
       "    <tr>\n",
       "      <th>7</th>\n",
       "      <td>12951_200909-340654-5</td>\n",
       "      <td>stance</td>\n",
       "      <td>{'Positive': 1, 'Neutral': 1}</td>\n",
       "    </tr>\n",
       "    <tr>\n",
       "      <th>8</th>\n",
       "      <td>13230_198112-182709-1</td>\n",
       "      <td>stance</td>\n",
       "      <td>{'Negative': 1, 'Positive': 1}</td>\n",
       "    </tr>\n",
       "    <tr>\n",
       "      <th>9</th>\n",
       "      <td>13230_198709-183595-1</td>\n",
       "      <td>stance</td>\n",
       "      <td>{'Unsure': 1, 'Neutral': 1}</td>\n",
       "    </tr>\n",
       "    <tr>\n",
       "      <th>10</th>\n",
       "      <td>13230_201109-192881-2</td>\n",
       "      <td>stance</td>\n",
       "      <td>{'Unsure': 1, 'Positive': 1}</td>\n",
       "    </tr>\n",
       "    <tr>\n",
       "      <th>11</th>\n",
       "      <td>13951_197501-181574-2</td>\n",
       "      <td>stance</td>\n",
       "      <td>{'Unsure': 1, 'Positive': 1}</td>\n",
       "    </tr>\n",
       "    <tr>\n",
       "      <th>12</th>\n",
       "      <td>13951_197910-182233-1</td>\n",
       "      <td>stance</td>\n",
       "      <td>{'Positive': 1, 'Neutral': 1}</td>\n",
       "    </tr>\n",
       "    <tr>\n",
       "      <th>13</th>\n",
       "      <td>171101_200306-303319-1</td>\n",
       "      <td>stance</td>\n",
       "      <td>{'Negative': 1, 'Neutral': 1}</td>\n",
       "    </tr>\n",
       "    <tr>\n",
       "      <th>14</th>\n",
       "      <td>171101_201207-307846-2</td>\n",
       "      <td>stance</td>\n",
       "      <td>{'Unsure': 1, 'Neutral': 1}</td>\n",
       "    </tr>\n",
       "    <tr>\n",
       "      <th>15</th>\n",
       "      <td>21914_198510-27676-1</td>\n",
       "      <td>stance</td>\n",
       "      <td>{'Negative': 1, 'Positive': 1}</td>\n",
       "    </tr>\n",
       "    <tr>\n",
       "      <th>16</th>\n",
       "      <td>21914_199505-38158-1</td>\n",
       "      <td>stance</td>\n",
       "      <td>{'Positive': 1, 'Negative': 1}</td>\n",
       "    </tr>\n",
       "    <tr>\n",
       "      <th>17</th>\n",
       "      <td>21914_199906-51762-1</td>\n",
       "      <td>stance</td>\n",
       "      <td>{'Neutral': 1, 'Positive': 1}</td>\n",
       "    </tr>\n",
       "    <tr>\n",
       "      <th>18</th>\n",
       "      <td>22720_200205-319903-2</td>\n",
       "      <td>stance</td>\n",
       "      <td>{'Positive': 1, 'Unsure': 1}</td>\n",
       "    </tr>\n",
       "    <tr>\n",
       "      <th>19</th>\n",
       "      <td>23113_199406-295593-1</td>\n",
       "      <td>stance</td>\n",
       "      <td>{'Unsure': 1, 'Positive': 1}</td>\n",
       "    </tr>\n",
       "    <tr>\n",
       "      <th>20</th>\n",
       "      <td>23113_199406-295594-2</td>\n",
       "      <td>stance</td>\n",
       "      <td>{'Positive': 1, 'Neutral': 1}</td>\n",
       "    </tr>\n",
       "    <tr>\n",
       "      <th>21</th>\n",
       "      <td>23113_199406-295864-1</td>\n",
       "      <td>stance</td>\n",
       "      <td>{'Positive': 1, 'Neutral': 1}</td>\n",
       "    </tr>\n",
       "    <tr>\n",
       "      <th>22</th>\n",
       "      <td>35110_198707-372282-1</td>\n",
       "      <td>stance</td>\n",
       "      <td>{'Negative': 1, 'Unsure': 1}</td>\n",
       "    </tr>\n",
       "    <tr>\n",
       "      <th>23</th>\n",
       "      <td>42110_199410-07543-1</td>\n",
       "      <td>stance</td>\n",
       "      <td>{'Positive': 1, 'Neutral': 1}</td>\n",
       "    </tr>\n",
       "    <tr>\n",
       "      <th>24</th>\n",
       "      <td>42420_200211-11355-1</td>\n",
       "      <td>stance</td>\n",
       "      <td>{'Unsure': 1, 'Neutral': 1}</td>\n",
       "    </tr>\n",
       "    <tr>\n",
       "      <th>25</th>\n",
       "      <td>43110_201510-105403-1</td>\n",
       "      <td>stance</td>\n",
       "      <td>{'Neutral': 1, 'Negative': 1}</td>\n",
       "    </tr>\n",
       "    <tr>\n",
       "      <th>26</th>\n",
       "      <td>51320_197402-220020-1</td>\n",
       "      <td>stance</td>\n",
       "      <td>{'Neutral': 1, 'Positive': 1}</td>\n",
       "    </tr>\n",
       "    <tr>\n",
       "      <th>27</th>\n",
       "      <td>51320_201505-240028-1</td>\n",
       "      <td>stance</td>\n",
       "      <td>{'Positive': 1, 'Unsure': 1}</td>\n",
       "    </tr>\n",
       "    <tr>\n",
       "      <th>28</th>\n",
       "      <td>53110_198906-276156-1</td>\n",
       "      <td>stance</td>\n",
       "      <td>{'Unsure': 1, 'Positive': 1}</td>\n",
       "    </tr>\n",
       "    <tr>\n",
       "      <th>29</th>\n",
       "      <td>55110_201605-112293-1</td>\n",
       "      <td>stance</td>\n",
       "      <td>{'Neutral': 1, 'Positive': 1}</td>\n",
       "    </tr>\n",
       "    <tr>\n",
       "      <th>30</th>\n",
       "      <td>61320_200411-423135-1</td>\n",
       "      <td>stance</td>\n",
       "      <td>{'Unsure': 1, 'Positive': 1}</td>\n",
       "    </tr>\n",
       "    <tr>\n",
       "      <th>31</th>\n",
       "      <td>63110_200410-00030-2</td>\n",
       "      <td>stance</td>\n",
       "      <td>{'Negative': 1, 'Unsure': 1}</td>\n",
       "    </tr>\n",
       "    <tr>\n",
       "      <th>32</th>\n",
       "      <td>80710_201410-95162-1</td>\n",
       "      <td>stance</td>\n",
       "      <td>{'Positive': 1, 'Unsure': 1}</td>\n",
       "    </tr>\n",
       "    <tr>\n",
       "      <th>33</th>\n",
       "      <td>82710_199806-112838-1</td>\n",
       "      <td>stance</td>\n",
       "      <td>{'Unsure': 1, 'Positive': 1}</td>\n",
       "    </tr>\n",
       "    <tr>\n",
       "      <th>34</th>\n",
       "      <td>82710_199806-112855-1</td>\n",
       "      <td>stance</td>\n",
       "      <td>{'Unsure': 1, 'Neutral': 1}</td>\n",
       "    </tr>\n",
       "    <tr>\n",
       "      <th>35</th>\n",
       "      <td>86421_201804-274166-1</td>\n",
       "      <td>stance</td>\n",
       "      <td>{'Positive': 1, 'Neutral': 1}</td>\n",
       "    </tr>\n",
       "    <tr>\n",
       "      <th>36</th>\n",
       "      <td>86710_201804-275232-1</td>\n",
       "      <td>stance</td>\n",
       "      <td>{'Positive': 1, 'Negative': 1}</td>\n",
       "    </tr>\n",
       "    <tr>\n",
       "      <th>37</th>\n",
       "      <td>92436_200509-360932-4</td>\n",
       "      <td>stance</td>\n",
       "      <td>{'Neutral': 1, 'Unsure': 1}</td>\n",
       "    </tr>\n",
       "    <tr>\n",
       "      <th>38</th>\n",
       "      <td>92436_201910-370892-1</td>\n",
       "      <td>stance</td>\n",
       "      <td>{'Unsure': 1, 'Positive': 1}</td>\n",
       "    </tr>\n",
       "    <tr>\n",
       "      <th>39</th>\n",
       "      <td>93711_199611-377294-1</td>\n",
       "      <td>stance</td>\n",
       "      <td>{'Positive': 1, 'Neutral': 1}</td>\n",
       "    </tr>\n",
       "    <tr>\n",
       "      <th>40</th>\n",
       "      <td>93712_199209-377150-1</td>\n",
       "      <td>stance</td>\n",
       "      <td>{'Negative': 1, 'Neutral': 1}</td>\n",
       "    </tr>\n",
       "    <tr>\n",
       "      <th>41</th>\n",
       "      <td>96710_199006-377883-1</td>\n",
       "      <td>stance</td>\n",
       "      <td>{'Neutral': 1, 'Positive': 1}</td>\n",
       "    </tr>\n",
       "    <tr>\n",
       "      <th>42</th>\n",
       "      <td>96710_199809-379247-1</td>\n",
       "      <td>stance</td>\n",
       "      <td>{'Neutral': 1, 'Positive': 1}</td>\n",
       "    </tr>\n",
       "    <tr>\n",
       "      <th>43</th>\n",
       "      <td>96725_201603-381934-1</td>\n",
       "      <td>stance</td>\n",
       "      <td>{'Unsure': 1, 'Positive': 1}</td>\n",
       "    </tr>\n",
       "    <tr>\n",
       "      <th>44</th>\n",
       "      <td>97330_200809-386545-2</td>\n",
       "      <td>stance</td>\n",
       "      <td>{'Positive': 1, 'Neutral': 1}</td>\n",
       "    </tr>\n",
       "  </tbody>\n",
       "</table>\n",
       "</div>"
      ],
      "text/plain": [
       "                mention_id    q_id                           value\n",
       "0    11110_200609-393948-1  stance     {'Unsure': 1, 'Neutral': 1}\n",
       "1    11110_201809-399601-2  stance    {'Unsure': 1, 'Positive': 1}\n",
       "2    11320_197009-389704-1  stance   {'Neutral': 1, 'Positive': 1}\n",
       "3    11320_197909-390063-2  stance   {'Neutral': 1, 'Positive': 1}\n",
       "4    11320_201009-395337-2  stance    {'Unsure': 1, 'Positive': 1}\n",
       "5    11620_197309-389896-2  stance   {'Positive': 1, 'Neutral': 1}\n",
       "6    11620_201809-400440-2  stance  {'Positive': 1, 'Negative': 1}\n",
       "7    12951_200909-340654-5  stance   {'Positive': 1, 'Neutral': 1}\n",
       "8    13230_198112-182709-1  stance  {'Negative': 1, 'Positive': 1}\n",
       "9    13230_198709-183595-1  stance     {'Unsure': 1, 'Neutral': 1}\n",
       "10   13230_201109-192881-2  stance    {'Unsure': 1, 'Positive': 1}\n",
       "11   13951_197501-181574-2  stance    {'Unsure': 1, 'Positive': 1}\n",
       "12   13951_197910-182233-1  stance   {'Positive': 1, 'Neutral': 1}\n",
       "13  171101_200306-303319-1  stance   {'Negative': 1, 'Neutral': 1}\n",
       "14  171101_201207-307846-2  stance     {'Unsure': 1, 'Neutral': 1}\n",
       "15    21914_198510-27676-1  stance  {'Negative': 1, 'Positive': 1}\n",
       "16    21914_199505-38158-1  stance  {'Positive': 1, 'Negative': 1}\n",
       "17    21914_199906-51762-1  stance   {'Neutral': 1, 'Positive': 1}\n",
       "18   22720_200205-319903-2  stance    {'Positive': 1, 'Unsure': 1}\n",
       "19   23113_199406-295593-1  stance    {'Unsure': 1, 'Positive': 1}\n",
       "20   23113_199406-295594-2  stance   {'Positive': 1, 'Neutral': 1}\n",
       "21   23113_199406-295864-1  stance   {'Positive': 1, 'Neutral': 1}\n",
       "22   35110_198707-372282-1  stance    {'Negative': 1, 'Unsure': 1}\n",
       "23    42110_199410-07543-1  stance   {'Positive': 1, 'Neutral': 1}\n",
       "24    42420_200211-11355-1  stance     {'Unsure': 1, 'Neutral': 1}\n",
       "25   43110_201510-105403-1  stance   {'Neutral': 1, 'Negative': 1}\n",
       "26   51320_197402-220020-1  stance   {'Neutral': 1, 'Positive': 1}\n",
       "27   51320_201505-240028-1  stance    {'Positive': 1, 'Unsure': 1}\n",
       "28   53110_198906-276156-1  stance    {'Unsure': 1, 'Positive': 1}\n",
       "29   55110_201605-112293-1  stance   {'Neutral': 1, 'Positive': 1}\n",
       "30   61320_200411-423135-1  stance    {'Unsure': 1, 'Positive': 1}\n",
       "31    63110_200410-00030-2  stance    {'Negative': 1, 'Unsure': 1}\n",
       "32    80710_201410-95162-1  stance    {'Positive': 1, 'Unsure': 1}\n",
       "33   82710_199806-112838-1  stance    {'Unsure': 1, 'Positive': 1}\n",
       "34   82710_199806-112855-1  stance     {'Unsure': 1, 'Neutral': 1}\n",
       "35   86421_201804-274166-1  stance   {'Positive': 1, 'Neutral': 1}\n",
       "36   86710_201804-275232-1  stance  {'Positive': 1, 'Negative': 1}\n",
       "37   92436_200509-360932-4  stance     {'Neutral': 1, 'Unsure': 1}\n",
       "38   92436_201910-370892-1  stance    {'Unsure': 1, 'Positive': 1}\n",
       "39   93711_199611-377294-1  stance   {'Positive': 1, 'Neutral': 1}\n",
       "40   93712_199209-377150-1  stance   {'Negative': 1, 'Neutral': 1}\n",
       "41   96710_199006-377883-1  stance   {'Neutral': 1, 'Positive': 1}\n",
       "42   96710_199809-379247-1  stance   {'Neutral': 1, 'Positive': 1}\n",
       "43   96725_201603-381934-1  stance    {'Unsure': 1, 'Positive': 1}\n",
       "44   97330_200809-386545-2  stance   {'Positive': 1, 'Neutral': 1}"
      ]
     },
     "execution_count": 57,
     "metadata": {},
     "output_type": "execute_result"
    }
   ],
   "source": [
    "grey_expls_stance_df = foo[~foo.mention_id.isin(agreement_cases)]\n",
    "grey_expls_stance_df = grey_expls_stance_df.groupby(['mention_id', 'q_id']).agg({'value': Counter}).reset_index()\n",
    "grey_expls_stance_df = grey_expls_stance_df[grey_expls_stance_df.value.apply(len) > 1]\n",
    "grey_expls_stance_df"
   ]
  },
  {
   "cell_type": "markdown",
   "metadata": {},
   "source": [
    "## Export"
   ]
  },
  {
   "cell_type": "markdown",
   "metadata": {},
   "source": [
    "### Gold examples"
   ]
  },
  {
   "cell_type": "code",
   "execution_count": 58,
   "metadata": {},
   "outputs": [
    {
     "data": {
      "text/plain": [
       "q_id                     label   \n",
       "economic_attributes      No          1581\n",
       "                         Yes           57\n",
       "non-economic_attributes  No          2106\n",
       "                         Yes           90\n",
       "stance                   Negative      24\n",
       "                         Neutral       12\n",
       "                         Positive     215\n",
       "universal_attributes     No           200\n",
       "                         Yes           47\n",
       "Name: count, dtype: int64"
      ]
     },
     "execution_count": 58,
     "metadata": {},
     "output_type": "execute_result"
    }
   ],
   "source": [
    "gold_examples_df = pd.concat([\n",
    "    pos_expls_univ_df,\n",
    "    neg_expls_univ_df,\n",
    "    pos_expls_econ_df,\n",
    "    neg_expls_econ_df,\n",
    "    pos_expls_nonecon_df,\n",
    "    neg_expls_nonecon_df,\n",
    "    gold_expls_stance_df,\n",
    "])\n",
    "gold_examples_df = gold_examples_df[['mention_id', 'q_id', 'q_category', 'value']]\n",
    "unsure_gold = gold_examples_df[gold_examples_df.value == 'Unsure']\n",
    "gold_examples_df = gold_examples_df[gold_examples_df.value != 'Unsure']\n",
    "gold_examples_df.rename(columns={'value': 'label'}, inplace=True)\n",
    "\n",
    "gold_examples_df[['q_id', 'label', ]].value_counts(sort=False)"
   ]
  },
  {
   "cell_type": "code",
   "execution_count": 59,
   "metadata": {},
   "outputs": [],
   "source": [
    "gold_examples_df = gold_examples_df.\\\n",
    "    merge(attributes.rename(columns={'label': 'category'}), how='left').\\\n",
    "    merge(texts, on='mention_id', how='left')\n",
    "\n",
    "gold_examples_df = gold_examples_df[['mention_id', 'text', 'mention', 'q_id', 'category', 'label']]"
   ]
  },
  {
   "cell_type": "code",
   "execution_count": 60,
   "metadata": {},
   "outputs": [
    {
     "data": {
      "text/plain": [
       "q_id                     category                       label   \n",
       "economic_attributes      class membership               No          232\n",
       "                                                        Yes           2\n",
       "                         ecology of group               No          230\n",
       "                                                        Yes           4\n",
       "                         education level                No          232\n",
       "                                                        Yes           2\n",
       "                         employment status              No          226\n",
       "                                                        Yes           8\n",
       "                         income/wealth/economic status  No          224\n",
       "                                                        Yes          10\n",
       "                         occupation/profession          No          203\n",
       "                                                        Yes          31\n",
       "                         other                          No          234\n",
       "non-economic_attributes  age                            No          188\n",
       "                                                        Yes          32\n",
       "                         crime                          No          216\n",
       "                                                        Yes           4\n",
       "                         ethnicity                      No          220\n",
       "                         family                         No          206\n",
       "                                                        Yes          14\n",
       "                         gender/sexuality               No          218\n",
       "                                                        Yes           2\n",
       "                         health                         No          212\n",
       "                                                        Yes           8\n",
       "                         nationality                    No          196\n",
       "                                                        Yes          24\n",
       "                         other                          No          213\n",
       "                                                        Yes           3\n",
       "                         place/location                 No          217\n",
       "                                                        Yes           3\n",
       "                         religion                       No          220\n",
       "stance                   NaN                            Negative     24\n",
       "                                                        Neutral      12\n",
       "                                                        Positive    215\n",
       "universal_attributes     NaN                            No          200\n",
       "                                                        Yes          47\n",
       "Name: count, dtype: int64"
      ]
     },
     "execution_count": 60,
     "metadata": {},
     "output_type": "execute_result"
    }
   ],
   "source": [
    "gold_examples_df[['q_id', 'category', 'label', ]].value_counts(sort=False, dropna=False)"
   ]
  },
  {
   "cell_type": "code",
   "execution_count": 140,
   "metadata": {},
   "outputs": [],
   "source": [
    "os.makedirs(os.path.join(data_path, 'parsed'), exist_ok=True)\n",
    "fp = os.path.join(data_path, 'parsed', 'gold_examples.tsv')\n",
    "gold_examples_df.to_csv(fp, sep='\\t', index=False, na_rep='')"
   ]
  },
  {
   "cell_type": "markdown",
   "metadata": {},
   "source": [
    "### Need to review"
   ]
  },
  {
   "cell_type": "code",
   "execution_count": 61,
   "metadata": {},
   "outputs": [
    {
     "data": {
      "text/html": [
       "<div>\n",
       "<style scoped>\n",
       "    .dataframe tbody tr th:only-of-type {\n",
       "        vertical-align: middle;\n",
       "    }\n",
       "\n",
       "    .dataframe tbody tr th {\n",
       "        vertical-align: top;\n",
       "    }\n",
       "\n",
       "    .dataframe thead th {\n",
       "        text-align: right;\n",
       "    }\n",
       "</style>\n",
       "<table border=\"1\" class=\"dataframe\">\n",
       "  <thead>\n",
       "    <tr style=\"text-align: right;\">\n",
       "      <th></th>\n",
       "      <th>mention_id</th>\n",
       "      <th>q_id</th>\n",
       "      <th>q_category</th>\n",
       "      <th>value</th>\n",
       "    </tr>\n",
       "  </thead>\n",
       "  <tbody>\n",
       "    <tr>\n",
       "      <th>420</th>\n",
       "      <td>13229_199409-186604-1</td>\n",
       "      <td>universal_attributes</td>\n",
       "      <td>NaN</td>\n",
       "      <td>Unsure</td>\n",
       "    </tr>\n",
       "    <tr>\n",
       "      <th>530</th>\n",
       "      <td>11620_201809-400440-2</td>\n",
       "      <td>universal_attributes</td>\n",
       "      <td>NaN</td>\n",
       "      <td>Unsure</td>\n",
       "    </tr>\n",
       "    <tr>\n",
       "      <th>904</th>\n",
       "      <td>53110_199211-276429-1</td>\n",
       "      <td>universal_attributes</td>\n",
       "      <td>NaN</td>\n",
       "      <td>Unsure</td>\n",
       "    </tr>\n",
       "    <tr>\n",
       "      <th>992</th>\n",
       "      <td>11110_201809-399481-1</td>\n",
       "      <td>universal_attributes</td>\n",
       "      <td>NaN</td>\n",
       "      <td>Unsure</td>\n",
       "    </tr>\n",
       "    <tr>\n",
       "      <th>1212</th>\n",
       "      <td>14110_199903-198263-2</td>\n",
       "      <td>universal_attributes</td>\n",
       "      <td>NaN</td>\n",
       "      <td>Unsure</td>\n",
       "    </tr>\n",
       "    <tr>\n",
       "      <th>1520</th>\n",
       "      <td>13730_201906-195725-1</td>\n",
       "      <td>universal_attributes</td>\n",
       "      <td>NaN</td>\n",
       "      <td>Unsure</td>\n",
       "    </tr>\n",
       "    <tr>\n",
       "      <th>5436</th>\n",
       "      <td>97110_199212-382866-1</td>\n",
       "      <td>universal_attributes</td>\n",
       "      <td>NaN</td>\n",
       "      <td>Unsure</td>\n",
       "    </tr>\n",
       "    <tr>\n",
       "      <th>1009</th>\n",
       "      <td>11110_201809-399481-1</td>\n",
       "      <td>non-economic_attributes</td>\n",
       "      <td>10</td>\n",
       "      <td>Unsure</td>\n",
       "    </tr>\n",
       "    <tr>\n",
       "      <th>1537</th>\n",
       "      <td>13730_201906-195725-1</td>\n",
       "      <td>non-economic_attributes</td>\n",
       "      <td>10</td>\n",
       "      <td>Unsure</td>\n",
       "    </tr>\n",
       "    <tr>\n",
       "      <th>1867</th>\n",
       "      <td>41320_199012-128021-1</td>\n",
       "      <td>non-economic_attributes</td>\n",
       "      <td>10</td>\n",
       "      <td>Unsure</td>\n",
       "    </tr>\n",
       "    <tr>\n",
       "      <th>2175</th>\n",
       "      <td>41111_198701-123538-9</td>\n",
       "      <td>non-economic_attributes</td>\n",
       "      <td>10</td>\n",
       "      <td>Unsure</td>\n",
       "    </tr>\n",
       "    <tr>\n",
       "      <th>856</th>\n",
       "      <td>51620_197402-220147-1</td>\n",
       "      <td>stance</td>\n",
       "      <td>NaN</td>\n",
       "      <td>Unsure</td>\n",
       "    </tr>\n",
       "    <tr>\n",
       "      <th>1450</th>\n",
       "      <td>12951_198909-330603-1</td>\n",
       "      <td>stance</td>\n",
       "      <td>NaN</td>\n",
       "      <td>Unsure</td>\n",
       "    </tr>\n",
       "    <tr>\n",
       "      <th>2220</th>\n",
       "      <td>21111_198111-23163-2</td>\n",
       "      <td>stance</td>\n",
       "      <td>NaN</td>\n",
       "      <td>Unsure</td>\n",
       "    </tr>\n",
       "    <tr>\n",
       "      <th>7830</th>\n",
       "      <td>14110_199903-198263-2</td>\n",
       "      <td>stance</td>\n",
       "      <td>NaN</td>\n",
       "      <td>Unsure</td>\n",
       "    </tr>\n",
       "  </tbody>\n",
       "</table>\n",
       "</div>"
      ],
      "text/plain": [
       "                 mention_id                     q_id q_category   value\n",
       "420   13229_199409-186604-1     universal_attributes        NaN  Unsure\n",
       "530   11620_201809-400440-2     universal_attributes        NaN  Unsure\n",
       "904   53110_199211-276429-1     universal_attributes        NaN  Unsure\n",
       "992   11110_201809-399481-1     universal_attributes        NaN  Unsure\n",
       "1212  14110_199903-198263-2     universal_attributes        NaN  Unsure\n",
       "1520  13730_201906-195725-1     universal_attributes        NaN  Unsure\n",
       "5436  97110_199212-382866-1     universal_attributes        NaN  Unsure\n",
       "1009  11110_201809-399481-1  non-economic_attributes         10  Unsure\n",
       "1537  13730_201906-195725-1  non-economic_attributes         10  Unsure\n",
       "1867  41320_199012-128021-1  non-economic_attributes         10  Unsure\n",
       "2175  41111_198701-123538-9  non-economic_attributes         10  Unsure\n",
       "856   51620_197402-220147-1                   stance        NaN  Unsure\n",
       "1450  12951_198909-330603-1                   stance        NaN  Unsure\n",
       "2220   21111_198111-23163-2                   stance        NaN  Unsure\n",
       "7830  14110_199903-198263-2                   stance        NaN  Unsure"
      ]
     },
     "execution_count": 61,
     "metadata": {},
     "output_type": "execute_result"
    }
   ],
   "source": [
    "unsure_gold"
   ]
  },
  {
   "cell_type": "code",
   "execution_count": 81,
   "metadata": {},
   "outputs": [
    {
     "data": {
      "text/plain": [
       "value\n",
       "{'Yes': 1, 'No': 1}               136\n",
       "{'No': 1, 'Unsure': 1}             65\n",
       "{'Unsure': 1, 'Yes': 1}            36\n",
       "{'Neutral': 1, 'Positive': 1}      16\n",
       "Unsure                             15\n",
       "{'Unsure': 1, 'Positive': 1}       13\n",
       "{'Unsure': 1, 'Neutral': 1}         6\n",
       "{'Positive': 1, 'Negative': 1}      5\n",
       "{'Negative': 1, 'Neutral': 1}       3\n",
       "{'Negative': 1, 'Unsure': 1}        2\n",
       "Name: count, dtype: int64"
      ]
     },
     "execution_count": 81,
     "metadata": {},
     "output_type": "execute_result"
    }
   ],
   "source": [
    "need_to_review_df = pd.concat([\n",
    "    unsure_gold,\n",
    "    grey_expls_univ_df, \n",
    "    grey_expls_econ_df, \n",
    "    grey_expls_nonecon_df, \n",
    "    grey_expls_stance_df\n",
    "])\n",
    "need_to_review_df = need_to_review_df.sort_values(['q_id', 'q_category']).reset_index(drop=True)\n",
    "need_to_review_df.value.value_counts()"
   ]
  },
  {
   "cell_type": "code",
   "execution_count": 82,
   "metadata": {},
   "outputs": [
    {
     "data": {
      "text/plain": [
       "q_id\n",
       "non-economic_attributes    103\n",
       "economic_attributes         92\n",
       "universal_attributes        53\n",
       "stance                      49\n",
       "Name: count, dtype: int64"
      ]
     },
     "execution_count": 82,
     "metadata": {},
     "output_type": "execute_result"
    }
   ],
   "source": [
    "need_to_review_df.q_id.value_counts()"
   ]
  },
  {
   "cell_type": "code",
   "execution_count": 83,
   "metadata": {},
   "outputs": [
    {
     "data": {
      "text/plain": [
       "(297, 165)"
      ]
     },
     "execution_count": 83,
     "metadata": {},
     "output_type": "execute_result"
    }
   ],
   "source": [
    "len(need_to_review_df), need_to_review_df.mention_id.nunique()"
   ]
  },
  {
   "cell_type": "code",
   "execution_count": 84,
   "metadata": {},
   "outputs": [],
   "source": [
    "comments = tmp.loc[tmp.q_id=='comments', ['mention_id', 'value']]\n",
    "comments = comments[~comments.value.isna()]\n",
    "comments = comments.groupby('mention_id').agg({'value': lambda c: '\\n'.join(c)}).reset_index().rename(columns={'value': 'comments'})"
   ]
  },
  {
   "cell_type": "code",
   "execution_count": 85,
   "metadata": {},
   "outputs": [],
   "source": [
    "need_to_review_df = need_to_review_df.\\\n",
    "    merge(attributes.rename(columns={'label': 'category'}), how='left').\\\n",
    "    merge(texts, on='mention_id', how='left').\\\n",
    "    merge(comments, on='mention_id', how='left')"
   ]
  },
  {
   "cell_type": "code",
   "execution_count": 86,
   "metadata": {},
   "outputs": [
    {
     "data": {
      "text/plain": [
       "value\n",
       "{'Yes': 1, 'No': 1}               136\n",
       "{'No': 1, 'Unsure': 1}             65\n",
       "{'Unsure': 1, 'Yes': 1}            36\n",
       "{'Neutral': 1, 'Positive': 1}      16\n",
       "Unsure                             15\n",
       "{'Unsure': 1, 'Positive': 1}       13\n",
       "{'Unsure': 1, 'Neutral': 1}         6\n",
       "{'Positive': 1, 'Negative': 1}      5\n",
       "{'Negative': 1, 'Neutral': 1}       3\n",
       "{'Negative': 1, 'Unsure': 1}        2\n",
       "Name: count, dtype: int64"
      ]
     },
     "execution_count": 86,
     "metadata": {},
     "output_type": "execute_result"
    }
   ],
   "source": [
    "need_to_review_df = need_to_review_df[['mention_id', 'text', 'mention', 'q_id', 'category', 'value', 'comments']]\n",
    "need_to_review_df.value.value_counts()"
   ]
  },
  {
   "cell_type": "code",
   "execution_count": 87,
   "metadata": {},
   "outputs": [],
   "source": [
    "need_to_review_df.rename(columns={'value': 'annotations'}, inplace=True)"
   ]
  },
  {
   "cell_type": "code",
   "execution_count": 88,
   "metadata": {},
   "outputs": [],
   "source": [
    "os.makedirs(os.path.join(data_path, 'parsed'), exist_ok=True)\n",
    "fp = os.path.join(data_path, 'parsed', 'review_examples.tsv')\n",
    "need_to_review_df.to_csv(fp, sep='\\t', index=False, na_rep='')"
   ]
  },
  {
   "cell_type": "code",
   "execution_count": 89,
   "metadata": {},
   "outputs": [],
   "source": [
    "reviewed = pd.read_csv(os.path.join(data_path, 'parsed', 'reviewed_examples.tsv'), sep='\\t')"
   ]
  },
  {
   "cell_type": "code",
   "execution_count": 90,
   "metadata": {},
   "outputs": [],
   "source": [
    "# perform anti-join to remove cases in `reviewed` from `need_to_review_df` using columns ['mention_id', 'q_id', 'category']\n",
    "tmp = need_to_review_df.merge(reviewed[['mention_id', 'q_id', 'category']], on=['mention_id', 'q_id', 'category'], how='left', indicator=True)"
   ]
  },
  {
   "cell_type": "code",
   "execution_count": 94,
   "metadata": {},
   "outputs": [],
   "source": [
    "fp = os.path.join(data_path, 'parsed', 'review_examples-02.tsv')\n",
    "tmp[tmp._merge == 'left_only'].to_csv(fp, sep='\\t', index=False, na_rep='')"
   ]
  }
 ],
 "metadata": {
  "kernelspec": {
   "display_name": "galtan_group_appeals",
   "language": "python",
   "name": "python3"
  },
  "language_info": {
   "codemirror_mode": {
    "name": "ipython",
    "version": 3
   },
   "file_extension": ".py",
   "mimetype": "text/x-python",
   "name": "python",
   "nbconvert_exporter": "python",
   "pygments_lexer": "ipython3",
   "version": "3.11.10"
  }
 },
 "nbformat": 4,
 "nbformat_minor": 2
}
